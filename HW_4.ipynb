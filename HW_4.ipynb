{
  "cells": [
    {
      "cell_type": "markdown",
      "metadata": {
        "id": "view-in-github",
        "colab_type": "text"
      },
      "source": [
        "<a href=\"https://colab.research.google.com/github/OlegV12/NaturalLangProcessing/blob/Lesson_4/HW_4.ipynb\" target=\"_parent\"><img src=\"https://colab.research.google.com/assets/colab-badge.svg\" alt=\"Open In Colab\"/></a>"
      ]
    },
    {
      "cell_type": "markdown",
      "metadata": {
        "id": "BFe4TBFLf6Mm"
      },
      "source": [
        "1. объединить в одну выборку (это только для твитов), для роспотребнадзора сформировать датасет из вопросов\n",
        "2. провести исследование и выявить тематики о которых говорят в твитах (для твитов), а для роспотребнадзора так же выявить тематики о которых люди пишут проанализировать\n",
        "3. сделать визуализацию кластеров тематик\n",
        "4. проинтерпритировать получившиеся тематики\n",
        "\n"
      ]
    },
    {
      "cell_type": "code",
      "execution_count": 5,
      "metadata": {
        "id": "C5QN-lV11NhQ"
      },
      "outputs": [],
      "source": [
        "import pandas as pd\n"
      ]
    },
    {
      "cell_type": "code",
      "execution_count": 6,
      "metadata": {
        "colab": {
          "base_uri": "https://localhost:8080/"
        },
        "id": "0W9tIdP25Agd",
        "outputId": "1ca6f1f7-15ad-42b5-c5e8-f8e4de61ed19"
      },
      "outputs": [
        {
          "output_type": "stream",
          "name": "stdout",
          "text": [
            "Mounted at /gdrive\n"
          ]
        }
      ],
      "source": [
        "from google.colab import drive\n",
        "drive.mount('/gdrive')"
      ]
    },
    {
      "cell_type": "code",
      "execution_count": 7,
      "metadata": {
        "id": "PGv-v9kG5EKQ"
      },
      "outputs": [],
      "source": [
        "df = pd.read_csv('/gdrive/MyDrive/Colab Notebooks/NLP/positive.csv', on_bad_lines='skip', delimiter=';', header=None)"
      ]
    },
    {
      "cell_type": "code",
      "execution_count": 8,
      "metadata": {
        "id": "e2UuQ0BA5a50"
      },
      "outputs": [],
      "source": [
        "df_n = pd.read_csv('/gdrive/MyDrive/Colab Notebooks/NLP/negative.csv', on_bad_lines='skip', delimiter=';', header=None)"
      ]
    },
    {
      "cell_type": "code",
      "execution_count": 9,
      "metadata": {
        "id": "VoHvHa1L7hKO"
      },
      "outputs": [],
      "source": [
        "df = df[[0, 3]]\n",
        "df_n = df[[0, 3]]"
      ]
    },
    {
      "cell_type": "code",
      "execution_count": 10,
      "metadata": {
        "id": "BGGIHgNw6TPN"
      },
      "outputs": [],
      "source": [
        "df = pd.concat([df, df_n], ignore_index=True)"
      ]
    },
    {
      "cell_type": "code",
      "execution_count": 11,
      "metadata": {
        "colab": {
          "base_uri": "https://localhost:8080/"
        },
        "id": "GCcPptuCIHnf",
        "outputId": "b112a0f8-5bd7-4996-d6be-6e2f66570ea3"
      },
      "outputs": [
        {
          "output_type": "stream",
          "name": "stderr",
          "text": [
            "/usr/local/lib/python3.7/dist-packages/ipykernel_launcher.py:4: FutureWarning: Passing a negative integer is deprecated in version 1.0 and will not be supported in future version. Instead, use None to not limit the column width.\n",
            "  after removing the cwd from sys.path.\n"
          ]
        }
      ],
      "source": [
        "import pandas as pd\n",
        "pd.set_option('display.max_columns', None)  \n",
        "pd.set_option('display.expand_frame_repr', False)\n",
        "pd.set_option('max_colwidth', -1)"
      ]
    },
    {
      "cell_type": "code",
      "execution_count": 12,
      "metadata": {
        "id": "JVrWuN09f6Mp"
      },
      "outputs": [],
      "source": [
        "import re\n",
        "import numpy as np\n",
        "from nltk.corpus import stopwords\n",
        "from tqdm.notebook import tqdm\n",
        "from multiprocessing import Pool\n",
        "from pymystem3 import Mystem"
      ]
    },
    {
      "cell_type": "code",
      "execution_count": 13,
      "metadata": {
        "colab": {
          "base_uri": "https://localhost:8080/"
        },
        "id": "KabTrpuCJIPw",
        "outputId": "d4ae127c-430b-4a79-ff3d-65550aad80d8"
      },
      "outputs": [
        {
          "output_type": "stream",
          "name": "stderr",
          "text": [
            "[nltk_data] Downloading package stopwords to /root/nltk_data...\n",
            "[nltk_data]   Unzipping corpora/stopwords.zip.\n"
          ]
        },
        {
          "output_type": "execute_result",
          "data": {
            "text/plain": [
              "True"
            ]
          },
          "metadata": {},
          "execution_count": 13
        }
      ],
      "source": [
        "import nltk\n",
        "nltk.download('stopwords')"
      ]
    },
    {
      "cell_type": "code",
      "execution_count": 14,
      "metadata": {
        "colab": {
          "base_uri": "https://localhost:8080/"
        },
        "id": "nTW_QQmfKd0A",
        "outputId": "fed3ed53-cb16-45c1-e3b5-b36c9c8c27a0"
      },
      "outputs": [
        {
          "output_type": "stream",
          "name": "stdout",
          "text": [
            "Looking in indexes: https://pypi.org/simple, https://us-python.pkg.dev/colab-wheels/public/simple/\n",
            "Collecting pymorphy2\n",
            "  Downloading pymorphy2-0.9.1-py3-none-any.whl (55 kB)\n",
            "\u001b[K     |████████████████████████████████| 55 kB 2.1 MB/s \n",
            "\u001b[?25hRequirement already satisfied: docopt>=0.6 in /usr/local/lib/python3.7/dist-packages (from pymorphy2) (0.6.2)\n",
            "Collecting dawg-python>=0.7.1\n",
            "  Downloading DAWG_Python-0.7.2-py2.py3-none-any.whl (11 kB)\n",
            "Collecting pymorphy2-dicts-ru<3.0,>=2.4\n",
            "  Downloading pymorphy2_dicts_ru-2.4.417127.4579844-py2.py3-none-any.whl (8.2 MB)\n",
            "\u001b[K     |████████████████████████████████| 8.2 MB 6.8 MB/s \n",
            "\u001b[?25hInstalling collected packages: pymorphy2-dicts-ru, dawg-python, pymorphy2\n",
            "Successfully installed dawg-python-0.7.2 pymorphy2-0.9.1 pymorphy2-dicts-ru-2.4.417127.4579844\n"
          ]
        }
      ],
      "source": [
        "! pip install pymorphy2"
      ]
    },
    {
      "cell_type": "code",
      "execution_count": 15,
      "metadata": {
        "id": "XDBV03ENKhgu"
      },
      "outputs": [],
      "source": [
        "import pymorphy2\n",
        "morph = pymorphy2.MorphAnalyzer()"
      ]
    },
    {
      "cell_type": "code",
      "execution_count": 16,
      "metadata": {
        "id": "V3a8Btmff6Mp"
      },
      "outputs": [],
      "source": [
        "words_regex = re.compile('\\w+')\n",
        "\n",
        "def find_words(text, regex = words_regex):\n",
        "    text = re.sub(r'[a-zA-Z]+', '', text)\n",
        "    tokens =  regex.findall(text.lower())\n",
        "    return [w for w in tokens if w.isalpha() and len(w) >= 3]\n",
        "\n",
        "\n",
        "stopwords_list = stopwords.words('russian')\n",
        "\n",
        "# mystem = Mystem()\n",
        "# def lemmatize(words, lemmer = mystem, stopwords = stopwords_list):\n",
        "#     lemmas = lemmer.lemmatize(' '.join(words))\n",
        "#     return [w for w in lemmas if not w in stopwords \n",
        "#             and w.isalpha()]\n",
        "\n",
        "def lemmatize(words, lemmer = morph, stopwords = stopwords_list):\n",
        "    lemmas = [lemmer.parse(w)[0].normal_form for w in words]\n",
        "    return [w for w in lemmas if not w in stopwords \n",
        "            and w.isalpha()]\n",
        "\n",
        "def preprocess(text):\n",
        "    return (lemmatize(find_words(text)))"
      ]
    },
    {
      "cell_type": "code",
      "execution_count": 17,
      "metadata": {
        "colab": {
          "base_uri": "https://localhost:8080/",
          "height": 37
        },
        "id": "zkxfy_uXf6Mp",
        "outputId": "a008714f-23ee-4c5a-8d50-65851e553184"
      },
      "outputs": [
        {
          "output_type": "execute_result",
          "data": {
            "text/plain": [
              "'Люблю маму и папу!!!!а в остальное я так...-влюбляюсь, привязываюсь)))\\xa0'"
            ],
            "application/vnd.google.colaboratory.intrinsic+json": {
              "type": "string"
            }
          },
          "metadata": {},
          "execution_count": 17
        }
      ],
      "source": [
        "df.iloc[10][3]"
      ]
    },
    {
      "cell_type": "code",
      "execution_count": 18,
      "metadata": {
        "colab": {
          "base_uri": "https://localhost:8080/"
        },
        "id": "TLz9uO5Yf6Mp",
        "outputId": "e630daab-dde5-48ed-9e0b-78a9ef8bb948",
        "scrolled": true
      },
      "outputs": [
        {
          "output_type": "stream",
          "name": "stdout",
          "text": [
            "['любить', 'мама', 'папа', 'остальной', 'влюбляться', 'привязываться']\n"
          ]
        }
      ],
      "source": [
        "print(preprocess(df.iloc[10][3]))"
      ]
    },
    {
      "cell_type": "code",
      "execution_count": 19,
      "metadata": {
        "colab": {
          "base_uri": "https://localhost:8080/",
          "height": 49,
          "referenced_widgets": [
            "e263763171ce42f9a323c2fcca7624a5",
            "7372b004ba234313a89489ded76d7881",
            "1940b2a2ebcb4b5c94dc0193eeddafef",
            "73bea5a4f55346579b9a8e52b20776d9",
            "3e194224ca2f4084841f82c509b82f23",
            "35410b21a38f47e6a2121dc3b8ac2ea8",
            "edba0b45e7184f4a9c74cec4b2c256b7",
            "cca047d1016a449195b3fc3fbe66ef6d",
            "ef8bea0c27dd4cbfbd2aa229eb9a5b60",
            "843ad59c49454c51b2b703af110c3644",
            "c6b8c5b56a3d41de9a23fee7abe4f043"
          ]
        },
        "id": "S8PnTSmRf6Mp",
        "outputId": "aad4a90c-c099-4773-ff92-b7fa94e63e11"
      },
      "outputs": [
        {
          "output_type": "display_data",
          "data": {
            "text/plain": [
              "0it [00:00, ?it/s]"
            ],
            "application/vnd.jupyter.widget-view+json": {
              "version_major": 2,
              "version_minor": 0,
              "model_id": "e263763171ce42f9a323c2fcca7624a5"
            }
          },
          "metadata": {}
        }
      ],
      "source": [
        "preprocessed_text = list(tqdm(map(preprocess, df[3])))"
      ]
    },
    {
      "cell_type": "code",
      "execution_count": 20,
      "metadata": {
        "colab": {
          "base_uri": "https://localhost:8080/",
          "height": 142
        },
        "id": "DriM5_5_f6Mq",
        "outputId": "fa35104b-e5a8-462b-b3d3-9ce508284ea8"
      },
      "outputs": [
        {
          "output_type": "execute_result",
          "data": {
            "text/plain": [
              "                         0                                                                           3\n",
              "131555  409362770472083456  [наверняка, курс, взять, кредит, минимальный, пакет, документ, подсказать]\n",
              "96633   411028161640820736  [обычный, утро, мурманск]                                                 \n",
              "181054  410380881727987712  [конкурент, ещё, слизать]                                                 "
            ],
            "text/html": [
              "\n",
              "  <div id=\"df-c98b5cf0-a782-4041-90e5-242880de6627\">\n",
              "    <div class=\"colab-df-container\">\n",
              "      <div>\n",
              "<style scoped>\n",
              "    .dataframe tbody tr th:only-of-type {\n",
              "        vertical-align: middle;\n",
              "    }\n",
              "\n",
              "    .dataframe tbody tr th {\n",
              "        vertical-align: top;\n",
              "    }\n",
              "\n",
              "    .dataframe thead th {\n",
              "        text-align: right;\n",
              "    }\n",
              "</style>\n",
              "<table border=\"1\" class=\"dataframe\">\n",
              "  <thead>\n",
              "    <tr style=\"text-align: right;\">\n",
              "      <th></th>\n",
              "      <th>0</th>\n",
              "      <th>3</th>\n",
              "    </tr>\n",
              "  </thead>\n",
              "  <tbody>\n",
              "    <tr>\n",
              "      <th>131555</th>\n",
              "      <td>409362770472083456</td>\n",
              "      <td>[наверняка, курс, взять, кредит, минимальный, пакет, документ, подсказать]</td>\n",
              "    </tr>\n",
              "    <tr>\n",
              "      <th>96633</th>\n",
              "      <td>411028161640820736</td>\n",
              "      <td>[обычный, утро, мурманск]</td>\n",
              "    </tr>\n",
              "    <tr>\n",
              "      <th>181054</th>\n",
              "      <td>410380881727987712</td>\n",
              "      <td>[конкурент, ещё, слизать]</td>\n",
              "    </tr>\n",
              "  </tbody>\n",
              "</table>\n",
              "</div>\n",
              "      <button class=\"colab-df-convert\" onclick=\"convertToInteractive('df-c98b5cf0-a782-4041-90e5-242880de6627')\"\n",
              "              title=\"Convert this dataframe to an interactive table.\"\n",
              "              style=\"display:none;\">\n",
              "        \n",
              "  <svg xmlns=\"http://www.w3.org/2000/svg\" height=\"24px\"viewBox=\"0 0 24 24\"\n",
              "       width=\"24px\">\n",
              "    <path d=\"M0 0h24v24H0V0z\" fill=\"none\"/>\n",
              "    <path d=\"M18.56 5.44l.94 2.06.94-2.06 2.06-.94-2.06-.94-.94-2.06-.94 2.06-2.06.94zm-11 1L8.5 8.5l.94-2.06 2.06-.94-2.06-.94L8.5 2.5l-.94 2.06-2.06.94zm10 10l.94 2.06.94-2.06 2.06-.94-2.06-.94-.94-2.06-.94 2.06-2.06.94z\"/><path d=\"M17.41 7.96l-1.37-1.37c-.4-.4-.92-.59-1.43-.59-.52 0-1.04.2-1.43.59L10.3 9.45l-7.72 7.72c-.78.78-.78 2.05 0 2.83L4 21.41c.39.39.9.59 1.41.59.51 0 1.02-.2 1.41-.59l7.78-7.78 2.81-2.81c.8-.78.8-2.07 0-2.86zM5.41 20L4 18.59l7.72-7.72 1.47 1.35L5.41 20z\"/>\n",
              "  </svg>\n",
              "      </button>\n",
              "      \n",
              "  <style>\n",
              "    .colab-df-container {\n",
              "      display:flex;\n",
              "      flex-wrap:wrap;\n",
              "      gap: 12px;\n",
              "    }\n",
              "\n",
              "    .colab-df-convert {\n",
              "      background-color: #E8F0FE;\n",
              "      border: none;\n",
              "      border-radius: 50%;\n",
              "      cursor: pointer;\n",
              "      display: none;\n",
              "      fill: #1967D2;\n",
              "      height: 32px;\n",
              "      padding: 0 0 0 0;\n",
              "      width: 32px;\n",
              "    }\n",
              "\n",
              "    .colab-df-convert:hover {\n",
              "      background-color: #E2EBFA;\n",
              "      box-shadow: 0px 1px 2px rgba(60, 64, 67, 0.3), 0px 1px 3px 1px rgba(60, 64, 67, 0.15);\n",
              "      fill: #174EA6;\n",
              "    }\n",
              "\n",
              "    [theme=dark] .colab-df-convert {\n",
              "      background-color: #3B4455;\n",
              "      fill: #D2E3FC;\n",
              "    }\n",
              "\n",
              "    [theme=dark] .colab-df-convert:hover {\n",
              "      background-color: #434B5C;\n",
              "      box-shadow: 0px 1px 3px 1px rgba(0, 0, 0, 0.15);\n",
              "      filter: drop-shadow(0px 1px 2px rgba(0, 0, 0, 0.3));\n",
              "      fill: #FFFFFF;\n",
              "    }\n",
              "  </style>\n",
              "\n",
              "      <script>\n",
              "        const buttonEl =\n",
              "          document.querySelector('#df-c98b5cf0-a782-4041-90e5-242880de6627 button.colab-df-convert');\n",
              "        buttonEl.style.display =\n",
              "          google.colab.kernel.accessAllowed ? 'block' : 'none';\n",
              "\n",
              "        async function convertToInteractive(key) {\n",
              "          const element = document.querySelector('#df-c98b5cf0-a782-4041-90e5-242880de6627');\n",
              "          const dataTable =\n",
              "            await google.colab.kernel.invokeFunction('convertToInteractive',\n",
              "                                                     [key], {});\n",
              "          if (!dataTable) return;\n",
              "\n",
              "          const docLinkHtml = 'Like what you see? Visit the ' +\n",
              "            '<a target=\"_blank\" href=https://colab.research.google.com/notebooks/data_table.ipynb>data table notebook</a>'\n",
              "            + ' to learn more about interactive tables.';\n",
              "          element.innerHTML = '';\n",
              "          dataTable['output_type'] = 'display_data';\n",
              "          await google.colab.output.renderOutput(dataTable, element);\n",
              "          const docLink = document.createElement('div');\n",
              "          docLink.innerHTML = docLinkHtml;\n",
              "          element.appendChild(docLink);\n",
              "        }\n",
              "      </script>\n",
              "    </div>\n",
              "  </div>\n",
              "  "
            ]
          },
          "metadata": {},
          "execution_count": 20
        }
      ],
      "source": [
        "df[3] = preprocessed_text\n",
        "df.sample(3)"
      ]
    },
    {
      "cell_type": "markdown",
      "metadata": {
        "id": "FFmXozKkf6Mq"
      },
      "source": [
        "## Модель LDA\n",
        "\n",
        "\n",
        "Первая модель, которую мы рассмотрим, LDA - латентное размещение Дирихле. Воспользуемся реализацией из библиотеки gensim."
      ]
    },
    {
      "cell_type": "code",
      "execution_count": 21,
      "metadata": {
        "colab": {
          "base_uri": "https://localhost:8080/"
        },
        "id": "8Q0q12sDPl3m",
        "outputId": "2d73058b-fa2a-4d84-d9dc-2355278d1684"
      },
      "outputs": [
        {
          "output_type": "stream",
          "name": "stdout",
          "text": [
            "Looking in indexes: https://pypi.org/simple, https://us-python.pkg.dev/colab-wheels/public/simple/\n",
            "Requirement already satisfied: gensim in /usr/local/lib/python3.7/dist-packages (3.6.0)\n",
            "Collecting gensim\n",
            "  Downloading gensim-4.2.0-cp37-cp37m-manylinux_2_12_x86_64.manylinux2010_x86_64.whl (24.1 MB)\n",
            "\u001b[K     |████████████████████████████████| 24.1 MB 2.2 MB/s \n",
            "\u001b[?25hRequirement already satisfied: scipy>=0.18.1 in /usr/local/lib/python3.7/dist-packages (from gensim) (1.4.1)\n",
            "Requirement already satisfied: smart-open>=1.8.1 in /usr/local/lib/python3.7/dist-packages (from gensim) (5.2.1)\n",
            "Requirement already satisfied: numpy>=1.17.0 in /usr/local/lib/python3.7/dist-packages (from gensim) (1.21.6)\n",
            "Installing collected packages: gensim\n",
            "  Attempting uninstall: gensim\n",
            "    Found existing installation: gensim 3.6.0\n",
            "    Uninstalling gensim-3.6.0:\n",
            "      Successfully uninstalled gensim-3.6.0\n",
            "Successfully installed gensim-4.2.0\n"
          ]
        }
      ],
      "source": [
        "!pip install -U gensim"
      ]
    },
    {
      "cell_type": "code",
      "execution_count": 22,
      "metadata": {
        "id": "jITId1Axf6Mq"
      },
      "outputs": [],
      "source": [
        "from gensim.models import *\n",
        "from gensim import corpora"
      ]
    },
    {
      "cell_type": "markdown",
      "metadata": {
        "id": "b1usmvtHf6Mq"
      },
      "source": [
        "Модель использует векторное представление документов, например, мешок слов (bow), поэтому сперва создадим словарь:"
      ]
    },
    {
      "cell_type": "code",
      "execution_count": 23,
      "metadata": {
        "id": "l9-iZNVuf6Mq"
      },
      "outputs": [],
      "source": [
        "dictionary = corpora.Dictionary(df[3])\n",
        "\n",
        "dictionary.filter_extremes(no_below = 10, no_above = 0.9, keep_n=None) # игнорируем слова, которые встречаются реже 10 раз или составляют более 0.9 словаря \n",
        "dictionary.save('tweet.dict')"
      ]
    },
    {
      "cell_type": "markdown",
      "metadata": {
        "id": "gUZtBF3gf6Mq"
      },
      "source": [
        "Векторизуем документы:"
      ]
    },
    {
      "cell_type": "code",
      "execution_count": 24,
      "metadata": {
        "id": "Sn17WY1vf6Mq"
      },
      "outputs": [],
      "source": [
        "corpus = [dictionary.doc2bow(text) for text in df[3]]\n",
        "corpora.MmCorpus.serialize('tweet.model', corpus) "
      ]
    },
    {
      "cell_type": "markdown",
      "metadata": {
        "id": "cx4kZUtff6Mq"
      },
      "source": [
        "Теперь можем обучать модель:"
      ]
    },
    {
      "cell_type": "code",
      "execution_count": 25,
      "metadata": {
        "colab": {
          "base_uri": "https://localhost:8080/"
        },
        "id": "oOzLXIDQf6Mq",
        "outputId": "22e05406-f9d2-448e-ea75-868e62903265"
      },
      "outputs": [
        {
          "output_type": "stream",
          "name": "stdout",
          "text": [
            "CPU times: user 5min 57s, sys: 4.55 s, total: 6min 2s\n",
            "Wall time: 6min 9s\n"
          ]
        }
      ],
      "source": [
        "%time lda = ldamodel.LdaModel(corpus, id2word=dictionary, num_topics=20, chunksize=50, update_every=1, passes=2)"
      ]
    },
    {
      "cell_type": "markdown",
      "metadata": {
        "id": "BbQWg_jPf6Mq"
      },
      "source": [
        "Посмотрим на получившиеся темы:"
      ]
    },
    {
      "cell_type": "code",
      "execution_count": 26,
      "metadata": {
        "colab": {
          "base_uri": "https://localhost:8080/"
        },
        "id": "EqQzwFm2c1_B",
        "outputId": "c2e1e515-3d7e-4849-eedd-cba580b6af01"
      },
      "outputs": [
        {
          "output_type": "execute_result",
          "data": {
            "text/plain": [
              "[(4,\n",
              "  '0.262*\"спасибо\" + 0.249*\"хороший\" + 0.146*\"человек\" + 0.146*\"самый\" + 0.046*\"наверное\" + 0.043*\"главное\" + 0.038*\"слушать\" + 0.033*\"работать\" + 0.016*\"получаться\" + 0.003*\"наоборот\"'),\n",
              " (13,\n",
              "  '0.438*\"год\" + 0.342*\"новый\" + 0.089*\"тема\" + 0.085*\"ваш\" + 0.000*\"твиттер\" + 0.000*\"ждать\" + 0.000*\"давать\" + 0.000*\"последний\" + 0.000*\"назад\" + 0.000*\"скоро\"'),\n",
              " (18,\n",
              "  '0.659*\"фотка\" + 0.062*\"поздний\" + 0.049*\"поддержка\" + 0.000*\"послать\" + 0.000*\"прислать\" + 0.000*\"фотография\" + 0.000*\"скорость\" + 0.000*\"оплачивать\" + 0.000*\"гаи\" + 0.000*\"штраф\"'),\n",
              " (9,\n",
              "  '0.441*\"сегодня\" + 0.375*\"мочь\" + 0.076*\"место\" + 0.035*\"столько\" + 0.029*\"повод\" + 0.013*\"выпить\" + 0.000*\"пятница\" + 0.000*\"ахи\" + 0.000*\"ходить\" + 0.000*\"вечер\"'),\n",
              " (15,\n",
              "  '0.620*\"всё\" + 0.116*\"думать\" + 0.059*\"найти\" + 0.037*\"серия\" + 0.035*\"прям\" + 0.028*\"группа\" + 0.026*\"рада\" + 0.023*\"поэтому\" + 0.011*\"пиздец\" + 0.008*\"искренне\"'),\n",
              " (1,\n",
              "  '0.420*\"день\" + 0.122*\"ночь\" + 0.083*\"нравиться\" + 0.080*\"почему\" + 0.077*\"сон\" + 0.062*\"второй\" + 0.039*\"супер\" + 0.031*\"мужчина\" + 0.021*\"ум\" + 0.015*\"сойти\"'),\n",
              " (10,\n",
              "  '0.477*\"любить\" + 0.174*\"мама\" + 0.156*\"хотя\" + 0.076*\"папа\" + 0.049*\"рассказать\" + 0.025*\"остальной\" + 0.000*\"говорить\" + 0.000*\"большой\" + 0.000*\"твой\" + 0.000*\"делать\"'),\n",
              " (5,\n",
              "  '0.282*\"праздник\" + 0.260*\"свет\" + 0.193*\"гулять\" + 0.047*\"огонь\" + 0.000*\"пятница\" + 0.000*\"пойти\" + 0.000*\"спать\" + 0.000*\"конец\" + 0.000*\"выдать\" + 0.000*\"зарплата\"'),\n",
              " (16,\n",
              "  '0.525*\"весь\" + 0.358*\"просто\" + 0.047*\"равно\" + 0.026*\"сильно\" + 0.018*\"полный\" + 0.000*\"вечер\" + 0.000*\"большой\" + 0.000*\"лента\" + 0.000*\"читать\" + 0.000*\"жизнь\"'),\n",
              " (0,\n",
              "  '0.307*\"свой\" + 0.174*\"сказать\" + 0.096*\"понять\" + 0.090*\"ахах\" + 0.084*\"таки\" + 0.070*\"каждый\" + 0.060*\"немного\" + 0.028*\"мальчик\" + 0.026*\"радовать\" + 0.023*\"похожий\"')]"
            ]
          },
          "metadata": {},
          "execution_count": 26
        }
      ],
      "source": [
        "lda.show_topics(num_topics=10, num_words=10, formatted=True)"
      ]
    },
    {
      "cell_type": "markdown",
      "metadata": {
        "id": "j5PIsI6ef6Mq"
      },
      "source": [
        "На полученные темы можно посмотреть, изобразив их на плоскости с помощью библиотеки __pyLDAvis__. Чтобы спроецировать темы на плоскость, внутри применяется PCA-разложение."
      ]
    },
    {
      "cell_type": "code",
      "execution_count": 27,
      "metadata": {
        "colab": {
          "base_uri": "https://localhost:8080/"
        },
        "id": "y9I-oR4kf6Mq",
        "outputId": "0ea484e9-85bf-41a4-86a7-0bac059ba2d0"
      },
      "outputs": [
        {
          "output_type": "stream",
          "name": "stdout",
          "text": [
            "Looking in indexes: https://pypi.org/simple, https://us-python.pkg.dev/colab-wheels/public/simple/\n",
            "Collecting pyLDAvis\n",
            "  Downloading pyLDAvis-3.3.1.tar.gz (1.7 MB)\n",
            "\u001b[K     |████████████████████████████████| 1.7 MB 4.2 MB/s \n",
            "\u001b[?25h  Installing build dependencies ... \u001b[?25l\u001b[?25hdone\n",
            "  Getting requirements to build wheel ... \u001b[?25l\u001b[?25hdone\n",
            "  Installing backend dependencies ... \u001b[?25l\u001b[?25hdone\n",
            "    Preparing wheel metadata ... \u001b[?25l\u001b[?25hdone\n",
            "Requirement already satisfied: numexpr in /usr/local/lib/python3.7/dist-packages (from pyLDAvis) (2.8.1)\n",
            "Requirement already satisfied: sklearn in /usr/local/lib/python3.7/dist-packages (from pyLDAvis) (0.0)\n",
            "Requirement already satisfied: scipy in /usr/local/lib/python3.7/dist-packages (from pyLDAvis) (1.4.1)\n",
            "Requirement already satisfied: jinja2 in /usr/local/lib/python3.7/dist-packages (from pyLDAvis) (2.11.3)\n",
            "Requirement already satisfied: joblib in /usr/local/lib/python3.7/dist-packages (from pyLDAvis) (1.1.0)\n",
            "Requirement already satisfied: numpy>=1.20.0 in /usr/local/lib/python3.7/dist-packages (from pyLDAvis) (1.21.6)\n",
            "Requirement already satisfied: pandas>=1.2.0 in /usr/local/lib/python3.7/dist-packages (from pyLDAvis) (1.3.5)\n",
            "Collecting funcy\n",
            "  Downloading funcy-1.17-py2.py3-none-any.whl (33 kB)\n",
            "Requirement already satisfied: scikit-learn in /usr/local/lib/python3.7/dist-packages (from pyLDAvis) (1.0.2)\n",
            "Requirement already satisfied: gensim in /usr/local/lib/python3.7/dist-packages (from pyLDAvis) (4.2.0)\n",
            "Requirement already satisfied: setuptools in /usr/local/lib/python3.7/dist-packages (from pyLDAvis) (57.4.0)\n",
            "Requirement already satisfied: future in /usr/local/lib/python3.7/dist-packages (from pyLDAvis) (0.16.0)\n",
            "Requirement already satisfied: pytz>=2017.3 in /usr/local/lib/python3.7/dist-packages (from pandas>=1.2.0->pyLDAvis) (2022.1)\n",
            "Requirement already satisfied: python-dateutil>=2.7.3 in /usr/local/lib/python3.7/dist-packages (from pandas>=1.2.0->pyLDAvis) (2.8.2)\n",
            "Requirement already satisfied: six>=1.5 in /usr/local/lib/python3.7/dist-packages (from python-dateutil>=2.7.3->pandas>=1.2.0->pyLDAvis) (1.15.0)\n",
            "Requirement already satisfied: smart-open>=1.8.1 in /usr/local/lib/python3.7/dist-packages (from gensim->pyLDAvis) (5.2.1)\n",
            "Requirement already satisfied: MarkupSafe>=0.23 in /usr/local/lib/python3.7/dist-packages (from jinja2->pyLDAvis) (2.0.1)\n",
            "Requirement already satisfied: packaging in /usr/local/lib/python3.7/dist-packages (from numexpr->pyLDAvis) (21.3)\n",
            "Requirement already satisfied: pyparsing!=3.0.5,>=2.0.2 in /usr/local/lib/python3.7/dist-packages (from packaging->numexpr->pyLDAvis) (3.0.9)\n",
            "Requirement already satisfied: threadpoolctl>=2.0.0 in /usr/local/lib/python3.7/dist-packages (from scikit-learn->pyLDAvis) (3.1.0)\n",
            "Building wheels for collected packages: pyLDAvis\n",
            "  Building wheel for pyLDAvis (PEP 517) ... \u001b[?25l\u001b[?25hdone\n",
            "  Created wheel for pyLDAvis: filename=pyLDAvis-3.3.1-py2.py3-none-any.whl size=136898 sha256=dcceae2be96eea0f2d5da059e14bb2e93eff8d085c1900d8eedc11c51de2cca0\n",
            "  Stored in directory: /root/.cache/pip/wheels/c9/21/f6/17bcf2667e8a68532ba2fbf6d5c72fdf4c7f7d9abfa4852d2f\n",
            "Successfully built pyLDAvis\n",
            "Installing collected packages: funcy, pyLDAvis\n",
            "Successfully installed funcy-1.17 pyLDAvis-3.3.1\n"
          ]
        }
      ],
      "source": [
        "!pip install pyLDAvis"
      ]
    },
    {
      "cell_type": "code",
      "execution_count": 28,
      "metadata": {
        "colab": {
          "base_uri": "https://localhost:8080/"
        },
        "id": "1UNzvobF3p-j",
        "outputId": "f6e58042-85a8-475f-bc85-d6ff31d06fe8"
      },
      "outputs": [
        {
          "output_type": "stream",
          "name": "stdout",
          "text": [
            "Looking in indexes: https://pypi.org/simple, https://us-python.pkg.dev/colab-wheels/public/simple/\n",
            "Requirement already satisfied: pyLDAvis in /usr/local/lib/python3.7/dist-packages (3.3.1)\n",
            "Requirement already satisfied: jinja2 in /usr/local/lib/python3.7/dist-packages (from pyLDAvis) (2.11.3)\n",
            "Requirement already satisfied: future in /usr/local/lib/python3.7/dist-packages (from pyLDAvis) (0.16.0)\n",
            "Requirement already satisfied: scipy in /usr/local/lib/python3.7/dist-packages (from pyLDAvis) (1.4.1)\n",
            "Requirement already satisfied: funcy in /usr/local/lib/python3.7/dist-packages (from pyLDAvis) (1.17)\n",
            "Requirement already satisfied: numexpr in /usr/local/lib/python3.7/dist-packages (from pyLDAvis) (2.8.1)\n",
            "Requirement already satisfied: sklearn in /usr/local/lib/python3.7/dist-packages (from pyLDAvis) (0.0)\n",
            "Requirement already satisfied: joblib in /usr/local/lib/python3.7/dist-packages (from pyLDAvis) (1.1.0)\n",
            "Requirement already satisfied: setuptools in /usr/local/lib/python3.7/dist-packages (from pyLDAvis) (57.4.0)\n",
            "Requirement already satisfied: pandas>=1.2.0 in /usr/local/lib/python3.7/dist-packages (from pyLDAvis) (1.3.5)\n",
            "Requirement already satisfied: numpy>=1.20.0 in /usr/local/lib/python3.7/dist-packages (from pyLDAvis) (1.21.6)\n",
            "Requirement already satisfied: gensim in /usr/local/lib/python3.7/dist-packages (from pyLDAvis) (4.2.0)\n",
            "Requirement already satisfied: scikit-learn in /usr/local/lib/python3.7/dist-packages (from pyLDAvis) (1.0.2)\n",
            "Requirement already satisfied: pytz>=2017.3 in /usr/local/lib/python3.7/dist-packages (from pandas>=1.2.0->pyLDAvis) (2022.1)\n",
            "Requirement already satisfied: python-dateutil>=2.7.3 in /usr/local/lib/python3.7/dist-packages (from pandas>=1.2.0->pyLDAvis) (2.8.2)\n",
            "Requirement already satisfied: six>=1.5 in /usr/local/lib/python3.7/dist-packages (from python-dateutil>=2.7.3->pandas>=1.2.0->pyLDAvis) (1.15.0)\n",
            "Requirement already satisfied: smart-open>=1.8.1 in /usr/local/lib/python3.7/dist-packages (from gensim->pyLDAvis) (5.2.1)\n",
            "Requirement already satisfied: MarkupSafe>=0.23 in /usr/local/lib/python3.7/dist-packages (from jinja2->pyLDAvis) (2.0.1)\n",
            "Requirement already satisfied: packaging in /usr/local/lib/python3.7/dist-packages (from numexpr->pyLDAvis) (21.3)\n",
            "Requirement already satisfied: pyparsing!=3.0.5,>=2.0.2 in /usr/local/lib/python3.7/dist-packages (from packaging->numexpr->pyLDAvis) (3.0.9)\n",
            "Requirement already satisfied: threadpoolctl>=2.0.0 in /usr/local/lib/python3.7/dist-packages (from scikit-learn->pyLDAvis) (3.1.0)\n"
          ]
        }
      ],
      "source": [
        "!pip install pyLDAvis"
      ]
    },
    {
      "cell_type": "code",
      "execution_count": 29,
      "metadata": {
        "colab": {
          "base_uri": "https://localhost:8080/",
          "height": 1000
        },
        "id": "BlW0h05wf6Mq",
        "outputId": "088ee10c-2370-4dbc-aa68-0fcd0bd742f0"
      },
      "outputs": [
        {
          "output_type": "stream",
          "name": "stderr",
          "text": [
            "/usr/local/lib/python3.7/dist-packages/past/types/oldstr.py:5: DeprecationWarning: Using or importing the ABCs from 'collections' instead of from 'collections.abc' is deprecated since Python 3.3,and in 3.9 it will stop working\n",
            "  from collections import Iterable\n",
            "/usr/local/lib/python3.7/dist-packages/past/builtins/misc.py:4: DeprecationWarning: Using or importing the ABCs from 'collections' instead of from 'collections.abc' is deprecated since Python 3.3,and in 3.9 it will stop working\n",
            "  from collections import Mapping\n",
            "/usr/local/lib/python3.7/dist-packages/pyLDAvis/_prepare.py:247: FutureWarning: In a future version of pandas all arguments of DataFrame.drop except for the argument 'labels' will be keyword-only\n",
            "  by='saliency', ascending=False).head(R).drop('saliency', 1)\n"
          ]
        },
        {
          "output_type": "stream",
          "name": "stdout",
          "text": [
            "CPU times: user 24.7 s, sys: 328 ms, total: 25.1 s\n",
            "Wall time: 37.1 s\n"
          ]
        },
        {
          "output_type": "execute_result",
          "data": {
            "text/plain": [
              "<IPython.core.display.HTML object>"
            ],
            "text/html": [
              "\n",
              "<link rel=\"stylesheet\" type=\"text/css\" href=\"https://cdn.jsdelivr.net/gh/bmabey/pyLDAvis@3.3.1/pyLDAvis/js/ldavis.v1.0.0.css\">\n",
              "\n",
              "\n",
              "<div id=\"ldavis_el591404382272940328025377697\"></div>\n",
              "<script type=\"text/javascript\">\n",
              "\n",
              "var ldavis_el591404382272940328025377697_data = {\"mdsDat\": {\"x\": [-0.18757862088333999, -0.05320493912988486, 0.3416695446270037, -0.2681779357378086, -0.3659869026281159, 0.07238316037516249, 0.4898610085911248, -0.47419562230219886, 0.06083403351349609, -0.2499327497502539, -0.3727213869337501, 0.3433664011965892, -0.44922697421693547, 0.21133429814539456, 0.44319943052342037, 0.2996075913600154, 0.14304634222921528, 0.04625321320855114, -0.09182652039228129, 0.061296628204596276], \"y\": [0.4612277788138592, -0.5114550074972153, 0.37699546523930766, -0.40992570317519034, 0.3286365293094835, 0.5018244804968761, 0.13844327148638896, -0.0883906724675743, 0.3488732931274675, 0.15565734975715179, -0.24708520490598898, -0.29199699876173496, 0.10596310745242843, -0.43623327225421193, -0.1377643880692446, 0.017779393511760798, 0.11411076674122972, -0.26185692726593784, -0.11621019099148969, -0.048593070547365565], \"topics\": [1, 2, 3, 4, 5, 6, 7, 8, 9, 10, 11, 12, 13, 14, 15, 16, 17, 18, 19, 20], \"cluster\": [1, 1, 1, 1, 1, 1, 1, 1, 1, 1, 1, 1, 1, 1, 1, 1, 1, 1, 1, 1], \"Freq\": [9.126521223238157, 7.804886649640094, 7.228026772846735, 6.224332583976604, 6.130047726001895, 6.013094698455671, 5.738773254977468, 5.715405520220231, 5.549150903393051, 5.300976272479318, 4.932223090926722, 4.547564388954019, 4.398302014426829, 4.023116578258644, 3.53489141874865, 2.9851132748209626, 2.835653790043492, 2.8187909422155255, 2.707405489035801, 2.3857234073401297]}, \"tinfo\": {\"Term\": [\"\\u044d\\u0442\\u043e\", \"\\u0432\\u0441\\u0451\", \"\\u0445\\u043e\\u0442\\u0435\\u0442\\u044c\", \"\\u0432\\u0435\\u0441\\u044c\", \"\\u0435\\u0449\\u0451\", \"\\u043e\\u0447\\u0435\\u043d\\u044c\", \"\\u0434\\u0435\\u043d\\u044c\", \"\\u0441\\u0435\\u0433\\u043e\\u0434\\u043d\\u044f\", \"\\u043b\\u044e\\u0431\\u0438\\u0442\\u044c\", \"\\u0444\\u043e\\u0442\\u043a\\u0430\", \"\\u0433\\u043e\\u0434\", \"\\u043f\\u0440\\u043e\\u0441\\u0442\\u043e\", \"\\u043c\\u043e\\u0447\\u044c\", \"\\u0437\\u043d\\u0430\\u0442\\u044c\", \"\\u0441\\u0432\\u043e\\u0439\", \"\\u0441\\u043f\\u0430\\u0441\\u0438\\u0431\\u043e\", \"\\u043d\\u043e\\u0432\\u044b\\u0439\", \"\\u0437\\u0430\\u0432\\u0442\\u0440\\u0430\", \"\\u0445\\u043e\\u0440\\u043e\\u0448\\u0438\\u0439\", \"\\u043d\\u0435\\u0434\\u0435\\u043b\\u044f\", \"\\u0441\\u043c\\u043e\\u0442\\u0440\\u0435\\u0442\\u044c\", \"\\u0440\\u043e\\u0434\\u043d\\u044b\\u0439\", \"\\u043f\\u0438\\u0441\\u0430\\u0442\\u044c\", \"\\u0441\\u043a\\u0430\\u0437\\u0430\\u0442\\u044c\", \"\\u043f\\u0440\\u0430\\u0437\\u0434\\u043d\\u0438\\u043a\", \"\\u0447\\u0435\\u043b\\u043e\\u0432\\u0435\\u043a\", \"\\u0441\\u0430\\u043c\\u044b\\u0439\", \"\\u043f\\u0435\\u0440\\u0432\\u044b\\u0439\", \"\\u0441\\u0432\\u0435\\u0442\", \"\\u0434\\u0435\\u043b\\u043e\", \"\\u044d\\u0442\\u043e\", \"\\u043a\\u043e\\u0442\\u043e\\u0440\\u044b\\u0439\", \"\\u0434\\u0440\\u0443\\u0433\", \"\\u0432\\u0440\\u0435\\u043c\\u044f\", \"\\u0440\\u0430\\u0431\\u043e\\u0442\\u0430\", \"\\u0440\\u0443\\u0441\\u0441\\u043a\\u0438\\u0439\", \"\\u0437\\u0440\\u044f\", \"\\u0448\\u0443\\u0442\\u0438\\u0442\\u044c\", \"\\u043d\\u0430\\u0431\\u043b\\u044e\\u0434\\u0430\\u0442\\u044c\", \"\\u0433\\u043e\\u0432\\u043e\\u0440\\u0438\\u0442\\u044c\", \"\\u0434\\u0435\\u043b\\u0430\\u0442\\u044c\", \"\\u0432\\u043e\\u043e\\u0431\\u0449\\u0435\", \"\\u043f\\u043e\\u043d\\u0438\\u043c\\u0430\\u0442\\u044c\", \"\\u0441\\u0434\\u0435\\u043b\\u0430\\u0442\\u044c\", \"\\u0447\\u0438\\u0442\\u0430\\u0442\\u044c\", \"\\u043f\\u0435\\u0441\\u043d\\u044f\", \"\\u0441\\u043b\\u043e\\u0432\\u043e\", \"\\u043a\\u0440\\u0443\\u0442\\u043e\", \"\\u043c\\u0438\\u043b\\u043e\", \"\\u0434\\u0430\\u0432\\u043d\\u043e\", \"\\u043d\\u0443\\u0436\\u043d\\u043e\", \"\\u043f\\u0440\\u0438\\u044f\\u0442\\u043d\\u043e\", \"\\u0431\\u043e\\u043b\\u044c\\u0448\\u043e\\u0439\", \"\\u0430\\u0445\\u0438\", \"\\u0438\\u0433\\u0440\\u0430\\u0442\\u044c\", \"\\u0430\\u0445\\u0430\\u0445\\u0438\", \"\\u043c\\u0438\\u043b\\u044b\\u0439\", \"\\u0441\\u0442\\u043e\\u0438\\u0442\\u044c\", \"\\u0447\\u0430\\u0441\", \"\\u0444\\u043e\\u0442\\u043e\", \"\\u0432\\u043c\\u0435\\u0441\\u0442\\u0435\", \"\\u043f\\u043e\\u0441\\u043b\\u0435\\u0434\\u043d\\u0438\\u0439\", \"\\u0442\\u0432\\u043e\\u0439\", \"\\u0432\\u0438\\u0434\\u0435\\u0442\\u044c\", \"\\u0432\\u0435\\u0447\\u0435\\u0440\", \"\\u0432\\u0441\\u0451\", \"\\u0434\\u0443\\u043c\\u0430\\u0442\\u044c\", \"\\u043d\\u0430\\u0439\\u0442\\u0438\", \"\\u0441\\u0435\\u0440\\u0438\\u044f\", \"\\u043f\\u0440\\u044f\\u043c\", \"\\u0433\\u0440\\u0443\\u043f\\u043f\\u0430\", \"\\u0440\\u0430\\u0434\\u0430\", \"\\u043f\\u043e\\u044d\\u0442\\u043e\\u043c\\u0443\", \"\\u043f\\u0438\\u0437\\u0434\\u0435\\u0446\", \"\\u0438\\u0441\\u043a\\u0440\\u0435\\u043d\\u043d\\u0435\", \"\\u0432\\u0435\\u0447\\u0435\\u0440\\u043e\\u043c\", \"\\u0437\\u0430\\u0435\\u0431\\u0438\\u0441\\u044c\", \"\\u0433\\u043b\\u044f\\u043d\\u0443\\u0442\\u044c\", \"\\u043a\\u0430\\u0447\\u0430\\u0442\\u044c\", \"\\u043c\\u043e\\u043b\\u043e\\u0434\\u0451\\u0436\\u043a\\u0430\", \"\\u0441\\u0435\\u0437\\u043e\\u043d\", \"\\u0433\\u043e\\u0432\\u043e\\u0440\\u0438\\u0442\\u044c\", \"\\u043b\\u044e\\u0431\\u0438\\u043c\\u044b\\u0439\", \"\\u0436\\u0438\\u0432\\u043e\\u0439\", \"\\u0432\\u043e\\u043e\\u0431\\u0449\\u0435\", \"\\u0431\\u043e\\u0433\", \"\\u043e\\u0441\\u0442\\u0430\\u0442\\u044c\\u0441\\u044f\", \"\\u0438\\u0433\\u0440\\u0430\\u0442\\u044c\", \"\\u0432\\u044b\\u0439\\u0442\\u0438\", \"\\u043f\\u0443\\u0442\\u0430\\u0442\\u044c\", \"\\u043f\\u0440\\u0438\\u0434\\u0443\\u0440\\u043e\\u043a\", \"\\u0431\\u0440\\u0430\\u0442\\u044c\", \"\\u0441\\u043b\\u0430\\u0432\\u0430\", \"\\u043d\\u0435\\u043b\\u044c\\u0441\\u043e\\u043d\", \"\\u043c\\u0430\\u043d\\u0434\\u0435\\u043b\\u044b\\u0439\", \"\\u0436\\u0434\\u0430\\u0442\\u044c\", \"\\u0430\\u0445\\u0438\", \"\\u043d\\u0443\\u0436\\u043d\\u043e\", \"\\u0436\\u0438\\u0437\\u043d\\u044c\", \"\\u0431\\u043e\\u043b\\u044c\\u0448\\u043e\\u0439\", \"\\u043d\\u043e\\u0440\\u043c\\u0430\", \"\\u0434\\u0435\\u043b\\u0430\\u0442\\u044c\", \"\\u043f\\u043e\\u0441\\u043b\\u0435\\u0434\\u043d\\u0438\\u0439\", \"\\u043d\\u0430\\u043f\\u0438\\u0441\\u0430\\u0442\\u044c\", \"\\u0441\\u0434\\u0435\\u043b\\u0430\\u0442\\u044c\", \"\\u0442\\u0432\\u043e\\u0439\", \"\\u043f\\u044f\\u0442\\u043d\\u0438\\u0446\\u0430\", \"\\u0441\\u043f\\u0430\\u0441\\u0438\\u0431\\u043e\", \"\\u0445\\u043e\\u0440\\u043e\\u0448\\u0438\\u0439\", \"\\u0447\\u0435\\u043b\\u043e\\u0432\\u0435\\u043a\", \"\\u0441\\u0430\\u043c\\u044b\\u0439\", \"\\u043d\\u0430\\u0432\\u0435\\u0440\\u043d\\u043e\\u0435\", \"\\u0433\\u043b\\u0430\\u0432\\u043d\\u043e\\u0435\", \"\\u0441\\u043b\\u0443\\u0448\\u0430\\u0442\\u044c\", \"\\u0440\\u0430\\u0431\\u043e\\u0442\\u0430\\u0442\\u044c\", \"\\u043f\\u043e\\u043b\\u0443\\u0447\\u0430\\u0442\\u044c\\u0441\\u044f\", \"\\u043d\\u0430\\u043e\\u0431\\u043e\\u0440\\u043e\\u0442\", \"\\u043d\\u0430\\u0441\\u0442\\u0440\\u043e\\u0435\\u043d\\u0438\\u0435\", \"\\u043f\\u0440\\u0438\\u044f\\u0442\\u043d\\u043e\", \"\\u0432\\u0435\\u0447\\u0435\\u0440\", \"\\u0431\\u043e\\u043b\\u044c\\u0448\\u043e\\u0439\", \"\\u0434\\u0435\\u043b\\u0430\\u0442\\u044c\", \"\\u043b\\u044e\\u0431\\u0438\\u043c\\u044b\\u0439\", \"\\u0440\\u0435\\u0431\\u044f\\u0442\\u0430\", \"\\u043f\\u0443\\u0442\\u0430\\u0442\\u044c\", \"\\u043f\\u0440\\u0435\\u0434\\u043d\\u043e\\u0432\\u043e\\u0433\\u043e\\u0434\\u043d\\u0438\\u0435\\u043e\\u0431\\u043d\\u0438\\u043c\\u0430\\u0448\\u043a\\u0430\", \"\\u0436\\u0438\\u0432\\u043e\\u0439\", \"\\u043c\\u0443\\u0437\\u044b\\u043a\\u0430\", \"\\u043f\\u0440\\u0438\\u0434\\u0443\\u0440\\u043e\\u043a\", \"\\u0436\\u0438\\u0437\\u043d\\u044c\", \"\\u043e\\u0442\\u043b\\u0438\\u0447\\u043d\\u043e\", \"\\u043f\\u0435\\u0440\\u0435\\u0441\\u0442\\u0430\\u0442\\u044c\", \"\\u0438\\u043e\\u0441\\u0438\\u0444\", \"\\u043d\\u0443\\u0436\\u043d\\u043e\", \"\\u0443\\u043c\\u0435\\u0442\\u044c\", \"\\u043d\\u0435\\u043b\\u044c\\u0441\\u043e\\u043d\", \"\\u043c\\u0430\\u043d\\u0434\\u0435\\u043b\\u044b\\u0439\", \"\\u0432\\u043e\\u043e\\u0431\\u0449\\u0435\", \"\\u043f\\u044f\\u0442\\u043d\\u0438\\u0446\\u0430\", \"\\u0433\\u043e\\u0432\\u043e\\u0440\\u0438\\u0442\\u044c\", \"\\u043a\\u043b\\u0430\\u0441\\u0441\", \"\\u043f\\u0430\\u0440\\u0435\\u043d\\u044c\", \"\\u0434\\u0435\\u043d\\u044c\", \"\\u043d\\u043e\\u0447\\u044c\", \"\\u043d\\u0440\\u0430\\u0432\\u0438\\u0442\\u044c\\u0441\\u044f\", \"\\u043f\\u043e\\u0447\\u0435\\u043c\\u0443\", \"\\u0441\\u043e\\u043d\", \"\\u0432\\u0442\\u043e\\u0440\\u043e\\u0439\", \"\\u0441\\u0443\\u043f\\u0435\\u0440\", \"\\u043c\\u0443\\u0436\\u0447\\u0438\\u043d\\u0430\", \"\\u0443\\u043c\", \"\\u0441\\u043e\\u0439\\u0442\\u0438\", \"\\u0432\\u0441\\u0442\\u0440\\u0435\\u0447\\u0430\\u0442\\u044c\", \"\\u043a\\u043e\\u0441\\u0442\\u044e\\u043c\", \"\\u043f\\u043e\\u0434\\u0440\\u044f\\u0434\", \"\\u0440\\u043e\\u0436\\u0434\\u0435\\u043d\\u0438\\u0435\", \"\\u0441\\u043f\\u043e\\u043a\\u043e\\u0439\\u043d\\u044b\\u0439\", \"\\u043f\\u044f\\u0442\\u043d\\u0438\\u0446\\u0430\", \"\\u0441\\u043b\\u0430\\u0434\\u043a\\u0438\\u0439\", \"\\u043e\\u0444\\u0438\\u0433\\u0435\\u043d\\u043d\\u044b\\u0439\", \"\\u0441\\u043f\\u0430\\u0442\\u044c\", \"\\u0446\\u0435\\u043b\\u044b\\u0439\", \"\\u0442\\u0432\\u043e\\u0439\", \"\\u0434\\u0435\\u043a\\u0430\\u0431\\u0440\\u044c\", \"\\u043b\\u0435\\u043d\\u0442\\u0430\", \"\\u0431\\u043e\\u043b\\u044c\\u0448\\u043e\\u0439\", \"\\u043f\\u043e\\u043a\\u0430\", \"\\u0442\\u0430\\u043d\\u0435\\u0446\", \"\\u0447\\u0430\\u0441\", \"\\u043f\\u043b\\u043e\\u0445\\u043e\\u0439\", \"\\u043f\\u0440\\u043e\\u0439\\u0442\\u0438\", \"\\u0432\\u043e\\u043e\\u0431\\u0449\\u0435\", \"\\u0434\\u0435\\u043b\\u0430\\u0442\\u044c\", \"\\u0441\\u0434\\u0435\\u043b\\u0430\\u0442\\u044c\", \"\\u043f\\u043e\\u0441\\u043b\\u0435\\u0434\\u043d\\u0438\\u0439\", \"\\u0441\\u0432\\u043e\\u0439\", \"\\u0441\\u043a\\u0430\\u0437\\u0430\\u0442\\u044c\", \"\\u043f\\u043e\\u043d\\u044f\\u0442\\u044c\", \"\\u0430\\u0445\\u0430\\u0445\", \"\\u0442\\u0430\\u043a\\u0438\", \"\\u043a\\u0430\\u0436\\u0434\\u044b\\u0439\", \"\\u043d\\u0435\\u043c\\u043d\\u043e\\u0433\\u043e\", \"\\u043c\\u0430\\u043b\\u044c\\u0447\\u0438\\u043a\", \"\\u0440\\u0430\\u0434\\u043e\\u0432\\u0430\\u0442\\u044c\", \"\\u043f\\u043e\\u0445\\u043e\\u0436\\u0438\\u0439\", \"\\u0444\\u0430\\u043a\\u0442\", \"\\u0441\\u0442\\u0440\\u0430\\u0448\\u043d\\u043e\", \"\\u043f\\u043e\\u043b\\u0443\\u0447\\u0438\\u0442\\u044c\", \"\\u0437\\u0432\\u0435\\u0437\\u0434\\u0430\", \"\\u043a\\u0440\\u043e\\u0432\\u0430\\u0442\\u044c\", \"\\u0433\\u043e\\u0432\\u043e\\u0440\\u0438\\u0442\\u044c\", \"\\u0436\\u0438\\u0437\\u043d\\u044c\", \"\\u0430\\u043b\\u043b\\u0435\\u044f\", \"\\u0441\\u043b\\u0430\\u0432\\u0430\", \"\\u0432\\u043e\\u043e\\u0431\\u0449\\u0435\", \"\\u0434\\u0435\\u043b\\u0430\\u0442\\u044c\", \"\\u043f\\u043e\\u0441\\u043b\\u0430\\u043d\\u0438\\u0435\", \"\\u0434\\u0435\\u0432\\u043e\\u0447\\u043a\\u0430\", \"\\u043b\\u0435\\u043d\\u0442\\u0430\", \"\\u0434\\u0430\\u0432\\u0430\\u0442\\u044c\", \"\\u043f\\u043e\\u043c\\u043e\\u0447\\u044c\", \"\\u043b\\u0435\\u0436\\u0430\\u0442\\u044c\", \"\\u0430\\u0445\\u0430\\u0445\\u0438\", \"\\u043f\\u0440\\u043e\\u0441\\u043d\\u0443\\u0442\\u044c\\u0441\\u044f\", \"\\u0441\\u0435\\u0442\\u044c\", \"\\u043d\\u0430\\u043f\\u0438\\u0441\\u0430\\u0442\\u044c\", \"\\u0440\\u043e\\u0434\\u0438\\u0442\\u0435\\u043b\\u044c\", \"\\u043d\\u0443\\u0436\\u043d\\u043e\", \"\\u0432\\u0438\\u0434\\u0435\\u0442\\u044c\", \"\\u0441\\u0434\\u0435\\u043b\\u0430\\u0442\\u044c\", \"\\u0431\\u043e\\u043b\\u044c\\u0448\\u043e\\u0439\", \"\\u0434\\u043e\\u043c\", \"\\u0432\\u0435\\u0441\\u044c\", \"\\u043f\\u0440\\u043e\\u0441\\u0442\\u043e\", \"\\u0440\\u0430\\u0432\\u043d\\u043e\", \"\\u0441\\u0438\\u043b\\u044c\\u043d\\u043e\", \"\\u043f\\u043e\\u043b\\u043d\\u044b\\u0439\", \"\\u043b\\u0435\\u043d\\u0442\\u0430\", \"\\u0447\\u0438\\u0442\\u0430\\u0442\\u044c\", \"\\u0432\\u0435\\u0447\\u0435\\u0440\", \"\\u0443\\u0434\\u0430\\u0447\\u0430\", \"\\u0447\\u0430\\u0439\", \"\\u043f\\u0440\\u0438\\u0432\\u0435\\u0442\", \"\\u0442\\u0432\\u0438\\u0442\", \"\\u0431\\u043e\\u043b\\u0435\\u0442\\u044c\", \"\\u043b\\u0430\\u0434\\u043d\\u044b\\u0439\", \"\\u0436\\u0438\\u0437\\u043d\\u044c\", \"\\u0431\\u043e\\u043b\\u044c\\u0448\\u043e\\u0439\", \"\\u0441\\u0447\\u0430\\u0441\\u0442\\u0438\\u0435\", \"\\u043d\\u0443\\u0436\\u043d\\u043e\", \"\\u043f\\u0440\\u0435\\u0434\\u043d\\u043e\\u0432\\u043e\\u0433\\u043e\\u0434\\u043d\\u0438\\u0435\\u043e\\u0431\\u043d\\u0438\\u043c\\u0430\\u0448\\u043a\\u0430\", \"\\u0442\\u0435\\u043b\\u0435\\u0444\\u043e\\u043d\", \"\\u0432\\u043e\\u043e\\u0431\\u0449\\u0435\", \"\\u043f\\u0435\\u0441\\u043d\\u044f\", \"\\u0441\\u0447\\u0430\\u0441\\u0442\\u043b\\u0438\\u0432\\u044b\\u0439\", \"\\u043f\\u043e\\u0437\\u0434\\u0440\\u0430\\u0432\\u043b\\u044f\\u0442\\u044c\", \"\\u0432\\u0438\\u0434\\u0435\\u0442\\u044c\", \"\\u0441\\u0442\\u043e\\u043b\", \"\\u0443\\u0432\\u0438\\u0434\\u0435\\u0442\\u044c\", \"\\u0441\\u0440\\u0430\\u0437\\u0443\", \"\\u043d\\u0443\\u0436\\u043d\\u044b\\u0439\", \"\\u0440\\u0443\\u043a\\u0430\", \"\\u0430\\u0445\\u0430\\u0445\\u0438\", \"\\u0434\\u0435\\u043b\\u0430\\u0442\\u044c\", \"\\u0433\\u043e\\u0432\\u043e\\u0440\\u0438\\u0442\\u044c\", \"\\u043f\\u044f\\u0442\\u043d\\u0438\\u0446\\u0430\", \"\\u043d\\u0430\\u043f\\u0438\\u0441\\u0430\\u0442\\u044c\", \"\\u0441\\u043f\\u0430\\u0442\\u044c\", \"\\u0441\\u0434\\u0435\\u043b\\u0430\\u0442\\u044c\", \"\\u0436\\u0434\\u0430\\u0442\\u044c\", \"\\u0435\\u0449\\u0451\", \"\\u043f\\u043e\\u0441\\u043c\\u043e\\u0442\\u0440\\u0435\\u0442\\u044c\", \"\\u0441\\u0438\\u0434\\u0435\\u0442\\u044c\", \"\\u0437\\u043d\\u0430\\u0447\\u0438\\u0442\", \"\\u0432\\u0437\\u044f\\u0442\\u044c\", \"\\u0447\\u0430\\u0441\\u0442\\u044c\", \"\\u0436\\u0440\\u0430\\u0442\\u044c\", \"\\u043a\\u0443\\u0440\\u0438\\u0442\\u044c\", \"\\u043e\\u0449\\u0443\\u0449\\u0435\\u043d\\u0438\\u0435\", \"\\u0433\\u043e\\u0432\\u043e\\u0440\\u0438\\u0442\\u044c\", \"\\u043f\\u043e\\u043a\\u0430\", \"\\u043f\\u0435\\u0440\\u0435\\u0441\\u0442\\u0430\\u0442\\u044c\", \"\\u0436\\u0438\\u0432\\u043e\\u0439\", \"\\u043d\\u0435\\u043b\\u044c\\u0441\\u043e\\u043d\", \"\\u043c\\u0430\\u043d\\u0434\\u0435\\u043b\\u044b\\u0439\", \"\\u043f\\u0440\\u0438\\u0434\\u0443\\u0440\\u043e\\u043a\", \"\\u043f\\u0443\\u0442\\u0430\\u0442\\u044c\", \"\\u0434\\u0435\\u043b\\u0430\\u0442\\u044c\", \"\\u0441\\u043d\\u0435\\u0433\", \"\\u0434\\u043e\\u043c\", \"\\u043c\\u043e\\u043b\\u043e\\u0434\\u0451\\u0436\\u043a\\u0430\", \"\\u0440\\u0443\\u043a\\u0430\", \"\\u0438\\u0433\\u0440\\u0430\\u0442\\u044c\", \"\\u043f\\u043e\\u043d\\u0447\\u0438\\u043a\", \"\\u043c\\u0435\\u0441\\u044f\\u0446\", \"\\u043d\\u0430\\u0447\\u0430\\u0442\\u044c\", \"\\u0441\\u043f\\u0440\\u043e\\u0441\\u0438\\u0442\\u044c\", \"\\u0430\\u0445\\u0438\", \"\\u0434\\u0430\\u0432\\u043d\\u043e\", \"\\u0441\\u0434\\u0430\\u0442\\u044c\", \"\\u043f\\u043e\\u0439\\u0442\\u0438\", \"\\u043c\\u0430\\u043b\\u0435\\u043d\\u044c\\u043a\\u0438\\u0439\", \"\\u043d\\u0438\\u0431\\u044b\\u0442\\u044c\", \"\\u0441\\u043f\\u0430\\u0442\\u044c\", \"\\u0436\\u0434\\u0430\\u0442\\u044c\", \"\\u0431\\u043e\\u043b\\u044c\\u0448\\u043e\\u0439\", \"\\u0432\\u043e\\u043e\\u0431\\u0449\\u0435\", \"\\u0437\\u043d\\u0430\\u0442\\u044c\", \"\\u043d\\u0430\\u0448\", \"\\u0434\\u043e\\u0431\\u0440\\u044b\\u0439\", \"\\u043f\\u0440\\u0438\\u0439\\u0442\\u0438\", \"\\u0437\\u0430\\u0431\\u044b\\u0442\\u044c\", \"\\u0432\\u0447\\u0435\\u0440\\u0430\", \"\\u0431\\u043b\\u044f\", \"\\u0443\\u0442\\u0440\\u043e\\u043c\", \"\\u043e\\u0431\\u0449\\u0430\\u0442\\u044c\\u0441\\u044f\", \"\\u0443\\u0442\\u0440\\u043e\", \"\\u0442\\u0432\\u0438\\u0442\", \"\\u0432\\u0435\\u0447\\u0435\\u0440\", \"\\u043f\\u043b\\u043e\\u0445\\u043e\\u0439\", \"\\u0433\\u043e\\u0432\\u043e\\u0440\\u0438\\u0442\\u044c\", \"\\u0436\\u0434\\u0430\\u0442\\u044c\", \"\\u0441\\u0447\\u0451\\u0442\", \"\\u0434\\u0435\\u043b\\u0430\\u0442\\u044c\", \"\\u043f\\u043e\\u043a\\u0430\", \"\\u043a\\u0443\\u0447\\u0430\", \"\\u0434\\u0430\\u0432\\u043d\\u043e\", \"\\u043e\\u0442\\u0432\\u0435\\u0442\", \"\\u0442\\u0432\\u043e\\u0439\", \"\\u043d\\u043e\\u0447\\u043d\\u043e\\u0439\", \"\\u0431\\u043e\\u043b\\u044c\\u0448\\u043e\\u0439\", \"\\u043f\\u043e\\u043c\\u043d\\u0438\\u0442\\u044c\", \"\\u0441\\u0435\\u043c\\u044c\\u044f\", \"\\u0431\\u0440\\u0430\\u0442\", \"\\u0443\\u0440\\u043e\\u043a\", \"\\u0441\\u0440\\u0430\\u0437\\u0443\", \"\\u043a\\u043b\\u0430\\u0441\\u0441\", \"\\u043d\\u0430\\u0434\\u0435\\u044f\\u0442\\u044c\\u0441\\u044f\", \"\\u0445\\u043e\\u0434\\u0438\\u0442\\u044c\", \"\\u0447\\u0430\\u0441\", \"\\u0441\\u043f\\u0430\\u0442\\u044c\", \"\\u043f\\u0430\\u0440\\u0435\\u043d\\u044c\", \"\\u0434\\u0430\\u0432\\u0430\\u0442\\u044c\", \"\\u0441\\u0435\\u0433\\u043e\\u0434\\u043d\\u044f\", \"\\u043c\\u043e\\u0447\\u044c\", \"\\u043c\\u0435\\u0441\\u0442\\u043e\", \"\\u0441\\u0442\\u043e\\u043b\\u044c\\u043a\\u043e\", \"\\u043f\\u043e\\u0432\\u043e\\u0434\", \"\\u0432\\u044b\\u043f\\u0438\\u0442\\u044c\", \"\\u043f\\u044f\\u0442\\u043d\\u0438\\u0446\\u0430\", \"\\u0430\\u0445\\u0438\", \"\\u0445\\u043e\\u0434\\u0438\\u0442\\u044c\", \"\\u043f\\u0440\\u0435\\u0434\\u0441\\u0442\\u0430\\u0432\\u0438\\u0442\\u044c\", \"\\u043f\\u043e\\u043c\\u043d\\u0438\\u0442\\u044c\", \"\\u0437\\u0430\\u043a\\u0440\\u044b\\u0432\\u0430\\u0442\\u044c\", \"\\u043f\\u0440\\u0430\\u0432\\u0438\\u043b\\u043e\", \"\\u043f\\u043e\\u0437\\u0434\\u0440\\u0430\\u0432\\u043b\\u044f\\u0442\\u044c\", \"\\u0441\\u0447\\u0430\\u0441\\u0442\\u0438\\u0435\", \"\\u0434\\u043e\\u043c\", \"\\u043c\\u0443\\u0436\", \"\\u0432\\u0435\\u0447\\u0435\\u0440\", \"\\u0430\\u043d\\u0434\\u0440\\u0435\\u0439\", \"\\u0441\\u0438\\u043b\\u0430\", \"\\u0441\\u0438\\u0441\\u044c\\u043a\\u0430\", \"\\u043c\\u0443\\u0437\\u044b\\u043a\\u0430\", \"\\u0437\\u0438\\u043c\\u043e\\u0439\", \"\\u0432\\u0435\\u0441\\u0435\\u043b\\u043e\", \"\\u0430\\u043d\\u0433\\u0435\\u043b\\u0430\", \"\\u0443\\u0437\\u043d\\u0430\\u0442\\u044c\", \"\\u043f\\u043e\\u043b\\u0443\\u0447\\u0438\\u0442\\u044c\", \"\\u0430\\u043d\\u0433\\u0435\\u043b\", \"\\u0447\\u0438\\u0442\\u0430\\u0442\\u044c\", \"\\u0430\\u0445\\u0430\\u0445\\u0445\\u0430\", \"\\u043d\\u0430\\u0434\\u0435\\u044f\\u0442\\u044c\\u0441\\u044f\", \"\\u043f\\u0430\\u0440\\u0430\", \"\\u043a\\u0441\\u0442\\u0430\\u0442\\u0438\", \"\\u043d\\u0430\\u043f\\u0438\\u0441\\u0430\\u0442\\u044c\", \"\\u0433\\u043e\\u0432\\u043e\\u0440\\u0438\\u0442\\u044c\", \"\\u0432\\u043e\\u043e\\u0431\\u0449\\u0435\", \"\\u043f\\u043e\\u0439\\u0442\\u0438\", \"\\u0443\\u0442\\u0440\\u043e\", \"\\u0441\\u043f\\u0430\\u0442\\u044c\", \"\\u0436\\u0434\\u0430\\u0442\\u044c\", \"\\u0442\\u0432\\u0438\", \"\\u0437\\u0430\\u0432\\u0442\\u0440\\u0430\", \"\\u043f\\u0435\\u0440\\u0432\\u044b\\u0439\", \"\\u0438\\u0434\\u0442\\u0438\", \"\\u0444\\u0438\\u043b\\u044c\\u043c\", \"\\u0448\\u043a\\u043e\\u043b\\u0430\", \"\\u0441\\u0435\\u0440\\u0438\\u0430\\u043b\", \"\\u043a\\u043d\\u0438\\u0433\\u0430\", \"\\u043a\\u043e\\u0444\\u0435\", \"\\u0447\\u0438\\u0442\\u0430\\u0442\\u0435\\u043b\\u044c\", \"\\u043f\\u044f\\u0442\\u043d\\u0438\\u0446\\u0430\", \"\\u0441\\u043f\\u0430\\u0442\\u044c\", \"\\u0443\\u0440\\u043e\\u043a\", \"\\u043f\\u043e\\u0439\\u0442\\u0438\", \"\\u0434\\u0435\\u043b\\u0430\\u0442\\u044c\", \"\\u0436\\u0438\\u0437\\u043d\\u044c\", \"\\u043f\\u0430\\u0440\\u0430\", \"\\u043f\\u043e\\u0440\\u0430\", \"\\u0436\\u0435\\u043b\\u0430\\u043d\\u0438\\u0435\", \"\\u0434\\u0430\\u0432\\u0430\\u0442\\u044c\", \"\\u043c\\u043e\\u043b\\u043e\\u0434\\u0451\\u0436\\u043a\\u0430\", \"\\u0434\\u043e\\u043c\\u043e\\u0439\", \"\\u0445\\u0430\\u0445\", \"\\u043a\\u0443\\u043f\\u0438\\u0442\\u044c\", \"\\u043f\\u043e\\u043b\\u0443\\u0447\\u0438\\u0442\\u044c\", \"\\u0438\\u043d\\u0442\\u0435\\u0440\\u0435\\u0441\\u043d\\u043e\", \"\\u0441\\u0435\\u0437\\u043e\\u043d\", \"\\u043d\\u0443\\u0436\\u043d\\u043e\", \"\\u0431\\u043e\\u043b\\u044c\\u043d\\u0438\\u0447\\u043a\\u0430\", \"\\u0433\\u043e\\u043b\\u043e\\u0432\\u0430\", \"\\u043e\\u0442\\u043b\\u0438\\u0447\\u043d\\u044b\\u0439\", \"\\u043f\\u043e\\u0441\\u043b\\u0435\\u0434\\u043d\\u0438\\u0439\", \"\\u0441\\u043d\\u043e\\u0432\\u0430\", \"\\u043d\\u0430\\u043f\\u0438\\u0441\\u0430\\u0442\\u044c\", \"\\u0436\\u0434\\u0430\\u0442\\u044c\", \"\\u043b\\u044e\\u0431\\u0438\\u043c\\u044b\\u0439\", \"\\u0432\\u0435\\u0447\\u0435\\u0440\", \"\\u0441\\u043c\\u043e\\u0442\\u0440\\u0435\\u0442\\u044c\", \"\\u043f\\u0438\\u0441\\u0430\\u0442\\u044c\", \"\\u043d\\u0438\\u043a\\u0442\\u043e\", \"\\u0431\\u043b\\u0438\\u043d\", \"\\u0445\\u043e\\u0442\\u0435\\u0442\\u044c\\u0441\\u044f\", \"\\u0432\\u0441\\u044f\\u043a\\u0438\\u0439\", \"\\u0434\\u043e\\u0431\\u0440\\u043e\", \"\\u043f\\u043e\\u043f\\u0430\\u0441\\u0442\\u044c\", \"\\u043a\\u043e\\u043d\\u0442\\u0440\\u043e\\u043b\\u044c\\u043d\\u044b\\u0439\", \"\\u0441\\u043b\\u0443\\u0447\\u0430\\u0439\\u043d\\u043e\", \"\\u0445\\u0443\\u0439\\u043d\\u044f\", \"\\u0443\\u0445\\u043e\", \"\\u043c\\u043e\\u043b\\u043e\\u0434\\u0451\\u0436\\u043a\\u0430\", \"\\u043b\\u0438\\u0446\\u043e\", \"\\u043d\\u0438\\u0431\\u044b\\u0442\\u044c\", \"\\u043d\\u0430\\u043f\\u0438\\u0441\\u0430\\u0442\\u044c\", \"\\u0432\\u043e\\u043e\\u0431\\u0449\\u0435\", \"\\u0433\\u043b\\u0430\\u0437\", \"\\u043f\\u043e\\u043d\\u0438\\u043c\\u0430\\u0442\\u044c\", \"\\u043f\\u043e\\u0439\\u0442\\u0438\", \"\\u0441\\u043e\\u043b\\u043d\\u0446\\u0435\", \"\\u0440\\u043e\\u0441\\u0441\\u0438\\u0439\\u0441\\u043a\\u0438\\u0439\", \"\\u0432\\u043e\\u043f\\u0440\\u043e\\u0441\", \"\\u0433\\u043e\\u043b\\u043e\\u0432\\u0430\", \"\\u044d\\u043a\\u043e\\u043d\\u043e\\u043c\\u0438\\u043a\\u0430\", \"\\u043a\\u0440\\u043e\\u043c\\u0435\", \"\\u0436\\u0430\\u043b\\u0435\\u0442\\u044c\", \"\\u0438\\u043d\\u0442\\u0435\\u0440\\u0435\\u0441\\u043d\\u044b\\u0439\", \"\\u043d\\u0430\\u0447\\u0430\\u043b\\u043e\", \"\\u0434\\u0435\\u043b\\u0430\\u0442\\u044c\", \"\\u0434\\u043e\\u043c\", \"\\u043d\\u0430\\u0434\\u0435\\u044f\\u0442\\u044c\\u0441\\u044f\", \"\\u0441\\u043f\\u0430\\u0442\\u044c\", \"\\u0430\\u0445\\u0438\", \"\\u0442\\u0432\\u043e\\u0439\", \"\\u0434\\u0430\\u0432\\u0430\\u0442\\u044c\", \"\\u0436\\u0434\\u0430\\u0442\\u044c\", \"\\u0433\\u043e\\u0434\", \"\\u043d\\u043e\\u0432\\u044b\\u0439\", \"\\u0442\\u0435\\u043c\\u0430\", \"\\u0432\\u0430\\u0448\", \"\\u0442\\u0432\\u0438\\u0442\\u0442\\u0435\\u0440\", \"\\u043d\\u0430\\u0437\\u0430\\u0434\", \"\\u0434\\u0430\\u0432\\u0430\\u0442\\u044c\", \"\\u043f\\u043e\\u0441\\u043b\\u0435\\u0434\\u043d\\u0438\\u0439\", \"\\u0441\\u043a\\u043e\\u043b\\u044c\\u043a\\u043e\", \"\\u0441\\u043a\\u043e\\u0440\\u043e\", \"\\u0436\\u0434\\u0430\\u0442\\u044c\", \"\\u043e\\u0442\\u0432\\u0435\\u0442\", \"\\u043d\\u043e\\u0432\\u043e\\u0433\\u043e\\u0434\\u043d\\u0438\\u0439\", \"\\u0441\\u043b\\u0435\\u0434\\u0443\\u044e\\u0449\\u0438\\u0439\", \"\\u0442\\u0440\\u0430\\u0434\\u0438\\u0446\\u0438\\u044f\", \"\\u043f\\u043e\\u044f\\u0432\\u0438\\u0442\\u044c\\u0441\\u044f\", \"\\u0432\\u0435\\u0441\\u0435\\u043b\\u043e\", \"\\u043f\\u0438\\u0442\\u0435\\u0440\", \"\\u0441\\u0447\\u0430\\u0441\\u0442\\u043b\\u0438\\u0432\\u044b\\u0439\", \"\\u043f\\u043e\\u0441\\u0442\", \"\\u043b\\u0435\\u0440\\u0430\", \"\\u043a\\u0443\\u043f\\u0438\\u0442\\u044c\", \"\\u0442\\u0440\\u0438\\u043d\\u0430\\u0434\\u0446\\u0430\\u0442\\u044b\\u0439\", \"\\u0447\\u0438\\u0442\\u0430\\u0442\\u044c\", \"\\u043f\\u0440\\u0438\\u0447\\u0451\\u0441\\u043a\\u0430\", \"\\u043f\\u0440\\u043e\\u0442\\u0438\\u0432\", \"\\u0432\\u043e\\u043b\\u043e\\u0441\", \"\\u0442\\u044b\\u0441\\u044f\\u0447\\u0430\", \"\\u0441\\u0434\\u0430\\u0442\\u044c\", \"\\u0441\\u0434\\u0435\\u043b\\u0430\\u0442\\u044c\", \"\\u043f\\u0440\\u0438\\u0432\\u0435\\u0442\", \"\\u043d\\u0430\\u0441\\u0442\\u0440\\u043e\\u0435\\u043d\\u0438\\u0435\", \"\\u043f\\u043e\\u043a\\u0430\", \"\\u043f\\u0435\\u0441\\u043d\\u044f\", \"\\u0431\\u043e\\u043b\\u044c\\u0448\\u043e\\u0439\", \"\\u0433\\u043e\\u0432\\u043e\\u0440\\u0438\\u0442\\u044c\", \"\\u043b\\u044e\\u0431\\u0438\\u0442\\u044c\", \"\\u043c\\u0430\\u043c\\u0430\", \"\\u0445\\u043e\\u0442\\u044f\", \"\\u043f\\u0430\\u043f\\u0430\", \"\\u0440\\u0430\\u0441\\u0441\\u043a\\u0430\\u0437\\u0430\\u0442\\u044c\", \"\\u043e\\u0441\\u0442\\u0430\\u043b\\u044c\\u043d\\u043e\\u0439\", \"\\u0433\\u043e\\u0432\\u043e\\u0440\\u0438\\u0442\\u044c\", \"\\u0431\\u043e\\u043b\\u044c\\u0448\\u043e\\u0439\", \"\\u043f\\u0440\\u0435\\u0434\\u043d\\u043e\\u0432\\u043e\\u0433\\u043e\\u0434\\u043d\\u0438\\u0435\\u043e\\u0431\\u043d\\u0438\\u043c\\u0430\\u0448\\u043a\\u0430\", \"\\u0442\\u0432\\u043e\\u0439\", \"\\u0444\\u0443\\u0442\\u0431\\u043e\\u043b\", \"\\u0434\\u0435\\u043b\\u0430\\u0442\\u044c\", \"\\u043d\\u0430\\u043f\\u0438\\u0441\\u0430\\u0442\\u044c\", \"\\u043c\\u043e\\u043b\\u043e\\u0434\\u0435\\u0446\", \"\\u0430\\u0445\\u0430\\u0445\\u0438\", \"\\u043d\\u043e\\u0436\\u043a\\u0430\", \"\\u0434\\u043e\\u0441\\u0442\\u0430\\u0442\\u044c\\u0441\\u044f\", \"\\u0442\\u0451\\u043c\\u0430\", \"\\u0443\\u0436\\u0430\\u0441\\u043d\\u043e\", \"\\u0447\\u0430\\u0441\", \"\\u043f\\u0435\\u0441\\u0435\\u043d\\u043a\\u0430\", \"\\u0432\\u0435\\u0440\\u0438\\u0442\\u044c\", \"\\u043d\\u0430\\u0441\\u0442\\u0440\\u043e\\u0435\\u043d\\u0438\\u0435\", \"\\u0441\\u043c\\u0435\\u0448\\u043d\\u043e\", \"\\u0443\\u0433\\u0430\\u0434\\u0430\\u0442\\u044c\", \"\\u043f\\u043e\\u0437\\u0432\\u043e\\u043d\\u0438\\u0442\\u044c\", \"\\u043f\\u043e\\u043b\", \"\\u0442\\u0438\\u0431\\u0438\\u0442\\u044c\", \"\\u043f\\u043e\\u0434\\u0434\\u0435\\u0440\\u0436\\u0438\\u0432\\u0430\\u0442\\u044c\", \"\\u0434\\u0438\\u0441\\u043a\", \"\\u0432\\u043e\\u043e\\u0431\\u0449\\u0435\", \"\\u043b\\u044e\\u0431\\u0438\\u043c\\u044b\\u0439\", \"\\u043c\\u0438\\u043b\\u044b\\u0439\", \"\\u0436\\u0434\\u0430\\u0442\\u044c\", \"\\u0434\\u043e\\u043c\", \"\\u043d\\u0430\\u0434\\u0435\\u044f\\u0442\\u044c\\u0441\\u044f\", \"\\u0431\\u0435\\u0437\\u0443\\u043c\\u043d\\u043e\", \"\\u043a\\u0430\\u0437\\u0430\\u0442\\u044c\\u0441\\u044f\", \"\\u043e\\u0447\\u0435\\u043d\\u044c\", \"\\u0434\\u0435\\u043b\\u043e\", \"\\u0437\\u0430\\u043c\\u0435\\u0442\\u0438\\u0442\\u044c\", \"\\u0441\\u0443\\u0447\\u043a\\u0430\", \"\\u043e\\u043b\\u044f\", \"\\u043f\\u0440\\u0438\\u044f\\u0442\\u043d\\u043e\", \"\\u0432\\u043c\\u0435\\u0441\\u0442\\u0435\", \"\\u0436\\u0434\\u0430\\u0442\\u044c\", \"\\u0431\\u043e\\u043b\\u044c\\u0448\\u043e\\u0439\", \"\\u0441\\u0442\\u0430\\u0442\\u044c\", \"\\u0434\\u043e\\u043b\\u0433\\u043e\", \"\\u043c\\u043e\\u043b\\u043e\\u0434\\u0451\\u0436\\u043a\\u0430\", \"\\u043f\\u043e\\u0440\\u0430\\u0434\\u043e\\u0432\\u0430\\u0442\\u044c\", \"\\u043f\\u0440\\u0438\\u0432\\u0435\\u0442\", \"\\u0440\\u0430\\u0434\", \"\\u0438\\u043d\\u0442\\u0435\\u0440\\u0435\\u0441\\u043d\\u044b\\u0439\", \"\\u043a\\u0440\\u0443\\u0442\\u043e\\u0439\", \"\\u0431\\u0435\\u0437\\u0443\\u043c\\u043d\\u043e\", \"\\u043a\\u043e\\u043d\\u043a\\u0440\\u0435\\u0442\\u043d\\u044b\\u0439\", \"\\u043f\\u043e\\u043d\\u0440\\u0430\\u0432\\u0438\\u0442\\u044c\\u0441\\u044f\", \"\\u043c\\u0438\\u043b\\u044b\\u0439\", \"\\u0441\\u0440\\u043e\\u043a\", \"\\u043a\\u0440\\u0443\\u0442\\u043e\", \"\\u043d\\u0430\\u0434\\u0435\\u044f\\u0442\\u044c\\u0441\\u044f\", \"\\u0442\\u0435\\u043f\\u043b\\u043e\", \"\\u0437\\u0440\\u0435\\u043d\\u0438\\u0435\", \"\\u043a\\u043b\\u0430\\u0441\\u0441\\u043d\\u044b\\u0439\", \"\\u0445\\u043e\\u043b\\u043e\\u0434\\u043d\\u043e\", \"\\u043f\\u043e\\u0441\\u043b\\u0435\\u0434\\u043d\\u0438\\u0439\", \"\\u043f\\u0430\\u043b\\u0435\\u0445\\u0447\", \"\\u043e\\u0444\\u0438\\u0433\\u0435\\u043d\\u043d\\u044b\\u0439\", \"\\u0441\\u0447\\u0430\\u0441\\u0442\\u043b\\u0438\\u0432\\u044b\\u0439\", \"\\u0442\\u0432\\u043e\\u0439\", \"\\u0432\\u043e\\u043e\\u0431\\u0449\\u0435\", \"\\u043f\\u044f\\u0442\\u043d\\u0438\\u0446\\u0430\", \"\\u0445\\u043e\\u0442\\u0435\\u0442\\u044c\", \"\\u0441\\u043f\\u0430\\u0442\\u044c\", \"\\u043d\\u0430\\u043f\\u0438\\u0441\\u0430\\u0442\\u044c\", \"\\u043b\\u0438\\u0431\\u043e\", \"\\u0432\\u044b\\u0441\\u043f\\u0430\\u0442\\u044c\\u0441\\u044f\", \"\\u0434\\u0435\\u043b\\u0430\\u0442\\u044c\", \"\\u0430\\u0433\\u0430\", \"\\u0437\\u0430\\u044f\\u0446\", \"\\u043f\\u0438\\u0434\\u0440\\u0430\", \"\\u043f\\u044c\\u044f\\u043d\\u044b\\u0439\", \"\\u0443\\u0432\\u0438\\u0434\\u0435\\u0442\\u044c\", \"\\u043a\\u0443\\u043f\\u0438\\u0442\\u044c\", \"\\u043f\\u0430\\u0440\\u0435\\u043d\\u044c\", \"\\u043c\\u043d\\u0435\\u043d\\u0438\\u0435\", \"\\u043c\\u0435\\u0441\\u044f\\u0446\", \"\\u0434\\u043e\\u043c\", \"\\u043d\\u0438\\u0431\\u044b\\u0442\\u044c\", \"\\u043c\\u043e\\u043b\\u043e\\u0434\\u043e\\u0439\", \"\\u0434\\u0435\\u043d\\u044c\\u0433\\u0430\", \"\\u0443\\u0445\\u043e\\u0434\\u0438\\u0442\\u044c\", \"\\u043e\\u0431\\u044b\\u0447\\u043d\\u043e\", \"\\u043f\\u043e\\u0432\\u0435\\u0437\\u0442\\u0438\", \"\\u0441\\u043d\\u0430\\u0447\\u0430\\u043b\\u0430\", \"\\u0432\\u044b\\u0443\\u0447\\u0438\\u0442\\u044c\", \"\\u043f\\u043e\\u0434\\u0430\\u0440\\u0438\\u0442\\u044c\", \"\\u0442\\u0430\\u043a\\u0441\\u0438\\u0441\\u0442\", \"\\u0441\\u0432\\u0430\\u0434\\u044c\\u0431\\u0430\", \"\\u043e\\u0431\\u044a\\u044f\\u0432\\u0438\\u0442\\u044c\\u0441\\u044f\", \"\\u0441\\u043d\\u043e\\u0432\\u0430\", \"\\u043f\\u0440\\u043e\\u043f\\u0430\\u0434\\u0430\\u0442\\u044c\", \"\\u0441\\u0443\\u0431\\u0431\\u043e\\u0442\\u0430\", \"\\u0434\\u0430\\u0432\\u0430\\u0442\\u044c\", \"\\u0441\\u0434\\u0435\\u043b\\u0430\\u0442\\u044c\", \"\\u0440\\u0430\\u043d\\u043d\\u0438\\u0439\", \"\\u0436\\u0438\\u0437\\u043d\\u044c\", \"\\u043d\\u0435\\u0434\\u0435\\u043b\\u044f\", \"\\u043f\\u0440\\u0435\\u043a\\u0440\\u0430\\u0441\\u043d\\u044b\\u0439\", \"\\u0438\\u0441\\u0442\\u043e\\u0440\\u0438\\u044f\", \"\\u043a\\u043e\\u043d\\u0435\\u0446\", \"\\u0440\\u0430\\u0431\\u043e\\u0447\\u0438\\u0439\", \"\\u043d\\u0430\\u0441\\u0442\\u0440\\u043e\\u0435\\u043d\\u0438\\u0435\", \"\\u0441\\u0434\\u0435\\u043b\\u0430\\u0442\\u044c\", \"\\u0441\\u043b\\u0435\\u0434\\u0443\\u044e\\u0449\\u0438\\u0439\", \"\\u043d\\u0430\\u0434\\u0435\\u044f\\u0442\\u044c\\u0441\\u044f\", \"\\u043f\\u043e\\u0434\\u043e\\u0439\\u0442\\u0438\", \"\\u043a\\u0430\\u043d\\u0438\\u043a\\u0443\\u043b\\u044b\", \"\\u0432\\u044b\\u0445\\u043e\\u0434\\u043d\\u043e\\u0439\", \"\\u0445\\u0430\\u0431\\u0440\\u0430\", \"\\u0431\\u043b\\u0430\\u0433\\u043e\\u0434\\u0430\\u0440\\u0438\\u0442\\u044c\", \"\\u0432\\u043e\\u0439\\u043d\\u0430\", \"\\u0434\\u043e\\u043b\\u0433\\u0438\\u0439\", \"\\u043f\\u043e\\u0441\\u0442\", \"\\u043f\\u0440\\u043e\\u0448\\u043b\\u044b\\u0439\", \"\\u0441\\u0440\\u043e\\u0447\\u043d\\u043e\", \"\\u043d\\u0435\\u0437\\u0430\\u043c\\u0435\\u0442\\u043d\\u043e\", \"\\u0430\\u043d\\u0430\\u043b\\u043e\\u0433\\u0438\\u0447\\u043d\\u043e\", \"\\u0432\\u0435\\u0447\\u0435\\u0440\", \"\\u043f\\u0440\\u043e\\u043b\\u0435\\u0442\\u0435\\u0442\\u044c\", \"\\u0436\\u0435\\u043b\\u0430\\u0442\\u044c\", \"\\u043f\\u043e\\u0441\\u043b\\u0435\\u0434\\u043d\\u0438\\u0439\", \"\\u0431\\u0435\\u0441\\u043f\\u043b\\u0430\\u0442\\u043d\\u043e\", \"\\u0437\\u0430\\u0431\\u0438\\u0440\\u0430\\u0442\\u044c\", \"\\u0436\\u0438\\u0442\\u044c\", \"\\u0441\\u043a\\u043e\\u0440\\u043e\", \"\\u043f\\u0440\\u0438\\u043b\\u043e\\u0436\\u0435\\u043d\\u0438\\u0435\", \"\\u043d\\u0430\\u043f\\u0438\\u0441\\u0430\\u0442\\u044c\", \"\\u043f\\u044f\\u0442\\u043d\\u0438\\u0446\\u0430\", \"\\u043f\\u043e\\u043a\\u0430\", \"\\u043f\\u0440\\u0430\\u0437\\u0434\\u043d\\u0438\\u043a\", \"\\u0441\\u0432\\u0435\\u0442\", \"\\u0433\\u0443\\u043b\\u044f\\u0442\\u044c\", \"\\u043e\\u0433\\u043e\\u043d\\u044c\", \"\\u043f\\u043e\\u0439\\u0442\\u0438\", \"\\u043f\\u044f\\u0442\\u043d\\u0438\\u0446\\u0430\", \"\\u0437\\u0430\\u0440\\u043f\\u043b\\u0430\\u0442\\u0430\", \"\\u0432\\u044b\\u0434\\u0430\\u0432\\u0430\\u0442\\u044c\", \"\\u0432\\u044b\\u0434\\u0430\\u0442\\u044c\", \"\\u0441\\u043f\\u0430\\u0442\\u044c\", \"\\u043a\\u043e\\u043d\\u0435\\u0446\", \"\\u043e\\u0436\\u0438\\u0434\\u0430\\u0442\\u044c\\u0441\\u044f\", \"\\u0447\\u0435\\u0442\\u044b\\u0440\\u0435\", \"\\u0445\\u043e\\u0434\\u0438\\u0442\\u044c\", \"\\u0443\\u0442\\u0440\\u043e\", \"\\u043a\\u0441\\u0442\\u0430\\u0442\\u0438\", \"\\u0442\\u0432\\u0438\", \"\\u043c\\u0430\\u043a\\u0441\\u0438\\u043c\", \"\\u0432\\u043b\\u044e\\u0431\\u0438\\u0442\\u044c\", \"\\u043f\\u043e\\u0440\\u0430\", \"\\u0440\\u0443\\u0433\\u0430\\u0442\\u044c\\u0441\\u044f\", \"\\u0441\\u0435\\u0439\", \"\\u0431\\u0443\\u0434\\u0438\\u0442\\u044c\", \"\\u043e\\u0440\\u0430\\u0442\\u044c\", \"\\u043f\\u0440\\u0438\\u0445\\u043e\\u0434\\u0438\\u0442\\u044c\", \"\\u043f\\u0430\\u0440\\u0430\", \"\\u0443\\u043b\\u0438\\u0446\\u0430\", \"\\u043f\\u043e\\u0433\\u043e\\u0434\\u0430\", \"\\u043f\\u043b\\u0430\\u0442\\u044c\\u0435\", \"\\u0441\\u0432\\u0435\\u043a\\u0440\\u043e\\u0432\\u044c\", \"\\u0430\\u0433\\u0430\", \"\\u0440\\u043e\\u0434\\u043d\\u044b\\u0439\", \"\\u043f\\u0440\\u0438\\u0435\\u0445\\u0430\\u0442\\u044c\", \"\\u043c\\u043e\\u0441\\u043a\\u0432\\u0430\", \"\\u0441\\u043a\\u0443\\u0447\\u0430\\u0442\\u044c\", \"\\u0441\\u043b\\u0435\\u0434\\u0443\\u044e\\u0449\\u0438\\u0439\", \"\\u0436\\u0438\\u0442\\u044c\", \"\\u0437\\u0430\\u043a\\u0443\\u0440\\u0438\\u0442\\u044c\", \"\\u043e\\u0431\\u044f\\u0437\\u0430\\u0442\\u0435\\u043b\\u044c\\u043d\\u043e\\u0440\\u0435\\u0442\\u0432\\u0438\\u0442\\u043d\\u044f\", \"\\u0443\\u043b\\u044b\\u0431\\u043d\\u0443\\u0442\\u044c\", \"\\u043e\\u0441\\u0442\\u0430\\u043d\\u043e\\u0432\\u043a\\u0430\", \"\\u043a\\u043e\\u0442\", \"\\u043c\\u0435\\u0442\\u0440\\u043e\", \"\\u043e\\u043a\\u043d\\u043e\", \"\\u043e\\u0431\\u0440\\u0430\\u0442\\u043d\\u043e\", \"\\u043f\\u0440\\u043e\\u0431\\u043a\\u0430\", \"\\u0436\\u0434\\u0430\\u0442\\u044c\", \"\\u0441\\u0442\\u043e\\u044f\\u0442\\u044c\", \"\\u0437\\u0430\\u043a\\u043e\\u043f\\u0430\\u0442\\u044c\", \"\\u0442\\u0435\\u0440\\u0440\\u0438\\u0442\\u043e\\u0440\\u0438\\u044f\", \"\\u0443\\u043d\\u0438\\u0432\\u0435\\u0440\\u0441\\u0438\\u0442\\u0435\\u0442\", \"\\u043a\\u0430\\u0440\\u0442\\u043e\\u0447\\u043a\\u0430\", \"\\u0440\\u044f\\u0434\\u043e\\u043c\", \"\\u0447\\u0443\\u0432\\u0441\\u0442\\u0432\\u043e\\u0432\\u0430\\u0442\\u044c\", \"\\u0441\\u0435\\u0441\\u0441\\u0438\\u044f\", \"\\u0431\\u0435\\u0437\\u0443\\u043c\\u043d\\u043e\", \"\\u0441\\u043c\\u0430\\u0440\\u0442\", \"\\u0431\\u0443\\u0440\\u0443\\u043d\\u0434\\u0443\\u043a\", \"\\u043f\\u043e\\u043a\\u0430\\u0442\\u0430\\u0442\\u044c\", \"\\u0441\\u043a\\u043e\\u0440\\u0435\\u0435\", \"\\u0434\\u043d\\u044e\\u0448\\u043a\\u0430\", \"\\u0432\\u043e\\u043e\\u0431\\u0449\\u0435\", \"\\u043d\\u043e\\u0447\\u043d\\u043e\\u0439\", \"\\u0444\\u043e\\u0442\\u043a\\u0430\", \"\\u043f\\u043e\\u0437\\u0434\\u043d\\u0438\\u0439\", \"\\u043f\\u043e\\u0434\\u0434\\u0435\\u0440\\u0436\\u043a\\u0430\", \"\\u043f\\u043e\\u0441\\u043b\\u0430\\u0442\\u044c\", \"\\u043f\\u0440\\u0438\\u0441\\u043b\\u0430\\u0442\\u044c\", \"\\u0444\\u043e\\u0442\\u043e\\u0433\\u0440\\u0430\\u0444\\u0438\\u044f\", \"\\u043f\\u0440\\u0435\\u0432\\u044b\\u0448\\u0430\\u0442\\u044c\", \"\\u0433\\u0430\\u0438\", \"\\u043e\\u043f\\u043b\\u0430\\u0447\\u0438\\u0432\\u0430\\u0442\\u044c\", \"\\u0448\\u0442\\u0440\\u0430\\u0444\", \"\\u0441\\u043a\\u043e\\u0440\\u043e\\u0441\\u0442\\u044c\", \"\\u043a\\u0438\\u043d\\u0443\\u0442\\u044c\", \"\\u0441\\u043a\\u0438\\u043d\\u0443\\u0442\\u044c\", \"\\u043d\\u043e\\u0440\\u043c\\u0430\", \"\\u043b\\u044e\\u0431\\u0438\\u043c\\u044b\\u0439\", \"\\u0445\\u0430\", \"\\u0443\\u0439\\u0442\\u0438\", \"\\u0445\\u0430\\u0445\", \"\\u043a\\u0441\\u0442\\u0430\\u0442\\u0438\", \"\\u043f\\u0440\\u0438\\u043a\\u043e\\u043b\\u044c\\u043d\\u044b\\u0439\", \"\\u0431\\u043e\\u043b\\u044c\\u0448\\u043e\\u0439\", \"\\u043e\\u0431\\u043d\\u043e\\u0432\\u0438\\u0442\\u044c\", \"\\u044e\\u0440\\u0438\\u0441\\u0442\", \"\\u0441\\u043e\\u043b\", \"\\u043d\\u0443\\u0430\\u0448\\u0442\\u044b\\u0439\", \"\\u043f\\u0440\\u043e\\u0444\\u0435\\u0441\\u0441\\u0438\\u044f\", \"\\u043f\\u0440\\u043e\\u0435\\u043a\\u0442\", \"\\u0438\\u0442\\u043e\\u0433\", \"\\u0441\\u0442\\u0430\\u0440\\u044b\\u0439\", \"\\u043a\\u043e\\u043c\\u043c\\u0435\\u043d\\u0442\", \"\\u043a\\u0440\\u0443\\u0442\\u043e\\u0439\", \"\\u0442\\u0432\\u043e\\u0439\", \"\\u0432\\u0438\\u0434\\u0435\\u0442\\u044c\", \"\\u043f\\u043e\\u043f\\u0435\\u0446\", \"\\u0441\\u0442\\u0440\\u043e\\u0433\\u0438\\u0439\", \"\\u043c\\u0438\\u0441\\u043a\\u0430\", \"\\u0434\\u044b\\u044b\", \"\\u0440\\u0438\\u0433\\u0430\", \"\\u0434\\u0438\\u043b\", \"\\u043f\\u0440\\u043e\\u0441\\u0438\\u0442\\u044c\\u0441\\u044f\", \"\\u043a\\u0440\\u043e\\u0445\\u0430\", \"\\u043a\\u0438\\u043d\\u043e\\u043f\\u043e\\u0438\\u0441\\u043a\", \"\\u0437\\u0430\\u0433\\u043e\\u0440\\u0430\\u0442\\u044c\", \"\\u0445\\u043e\\u043c\\u0430\", \"\\u043f\\u043e\\u0440\\u0442\\u0444\\u0435\\u043b\\u044c\", \"\\u0440\\u0430\\u0441\\u0441\\u0442\\u0440\\u043e\\u0438\\u0442\\u044c\", \"\\u043a\\u043e\\u0442\\u043b\\u0435\\u0442\\u043a\\u0430\", \"\\u043e\\u0441\\u0442\\u043e\\u0440\\u043e\\u0436\\u043d\\u043e\", \"\\u043d\\u0435\\u0432\\u043e\\u0437\\u043c\\u043e\\u0436\\u043d\\u043e\\u0441\\u0442\\u044c\", \"\\u0443\\u0433\\u043e\\u043c\\u043e\\u043d\\u0438\\u0442\\u044c\\u0441\\u044f\", \"\\u043a\\u0430\\u043c\\u0430\", \"\\u043a\\u0430\\u043c\\u044b\\u0437\\u044f\\u043a\", \"\\u0441\\u043e\\u043a\\u043e\\u043b\\u043e\\u0432\\u0441\\u043a\\u0438\\u0439\\u044f\\u0445\\u043e\\u0447\\u0443\\u0442\\u0435\\u0441\\u0442\\u0438\", \"\\u0442\\u043e\\u043f\\u0438\\u043a\\u0430\", \"\\u043f\\u043e\\u0434\\u0441\\u0442\\u0440\\u0430\\u0438\\u0432\\u0430\\u0442\\u044c\\u0441\\u044f\", \"\\u043a\\u0443\\u043b\\u0430\\u0447\\u043e\\u043a\", \"\\u0441\\u043f\\u043e\\u043a\\u043e\\u0439\\u0441\\u0442\\u0432\\u0438\\u0435\", \"\\u043f\\u043e\\u0437\\u043e\\u0440\\u043d\\u044b\\u0439\", \"\\u043e\\u0442\\u043f\\u0440\\u0430\\u0437\\u0434\\u043d\\u043e\\u0432\\u0430\\u0442\\u044c\", \"\\u043f\\u043d\\u0443\\u0442\\u044c\", \"\\u043a\\u0440\\u0430\\u0441\\u043e\\u0442\\u0435\\u043d\\u044c\", \"\\u043c\\u0430\\u043a\\u0441\\u0438\\u043c\\u0430\\u043b\\u044c\\u043d\\u043e\", \"\\u043a\\u043e\\u043f\\u0447\\u0451\\u043d\\u044b\\u0439\", \"\\u043e\\u0431\\u0449\\u0435\\u0441\\u0442\\u0432\\u043e\", \"\\u043f\\u043e\\u0432\\u0435\\u0440\\u044c\", \"\\u043f\\u0440\\u0435\\u0434\\u043c\\u0435\\u0442\", \"\\u0441\\u0430\\u043c\\u044b\\u0439\", \"\\u0442\\u0438\\u043f\", \"\\u0448\\u043a\\u043e\\u043b\\u043e\\u0442\\u044b\\u0439\", \"\\u0432\\u0441\\u0451\", \"\\u043c\\u0430\\u043b\\u044c\\u0447\\u0438\\u043a\", \"\\u043d\\u0435\\u043c\\u043d\\u043e\\u0433\\u043e\", \"\\u043f\\u043e\\u0445\\u043e\\u0436\\u0438\\u0439\", \"\\u0440\\u0430\\u0432\\u043d\\u043e\", \"\\u0442\\u0430\\u043a\\u0438\", \"\\u0445\\u043e\\u0440\\u043e\\u0448\\u0438\\u0439\", \"\\u0438\\u0434\\u0438\\u043e\\u0442\\u043a\\u0430\", \"\\u0438\\u0441\\u043f\\u0443\\u0433\\u0430\\u0442\\u044c\\u0441\\u044f\", \"\\u0432\\u0437\\u044f\\u0442\\u044c\", \"\\u0433\\u043e\\u043b\\u043e\\u0434\", \"\\u0435\\u0449\\u0451\", \"\\u0436\\u0440\\u0430\\u0442\\u044c\", \"\\u043f\\u043e\\u0440\\u0446\\u0438\\u044f\", \"\\u0441\\u0438\\u0434\\u0435\\u0442\\u044c\", \"\\u0443\\u0433\\u043e\\u043b\", \"\\u0445\\u043e\\u0442\\u0435\\u0442\\u044c\", \"\\u0445\\u043e\\u0442\\u044f\", \"\\u0430\\u0432\\u0442\\u043e\\u0440\", \"\\u0431\\u043b\\u0438\\u043d\", \"\\u0437\\u043d\\u0430\\u0447\\u0438\\u0442\", \"\\u043a\\u0443\\u0440\\u0438\\u0442\\u044c\", \"\\u043e\\u0449\\u0443\\u0449\\u0435\\u043d\\u0438\\u0435\", \"\\u043f\\u043e\\u0441\\u043c\\u043e\\u0442\\u0440\\u0435\\u0442\\u044c\"], \"Freq\": [77528.0, 64109.0, 42730.0, 41857.0, 41095.0, 34823.0, 34624.0, 32445.0, 27818.0, 23649.0, 26379.0, 28534.0, 27537.0, 27590.0, 24929.0, 25122.0, 20631.0, 21597.0, 23844.0, 17389.0, 20272.0, 12316.0, 13380.0, 14118.0, 10581.0, 13988.0, 13942.0, 11965.0, 9770.0, 10776.0, 77520.95578787883, 11902.42678593707, 11010.576356692965, 7524.299028889442, 5378.919314989575, 3825.9425343974685, 884.3481659290165, 696.6110667185134, 294.1053776368349, 0.1438764788109518, 0.14386229681709806, 0.14380651705638842, 0.1437722851313015, 0.14380706674607266, 0.14376157992470065, 0.14375597308992127, 0.1437542965363843, 0.1437530047656263, 0.14373258379385626, 0.14374129637535168, 0.14374287673319391, 0.14374906074214178, 0.1437856700751131, 0.14375352697082633, 0.14371669776198132, 0.14373483752156171, 0.14374037564513056, 0.14371131080307564, 0.1437255065391715, 0.14370221343880124, 0.14371283619194944, 0.14373551089142492, 0.14375466757692115, 0.14373372439995108, 0.1437309209825614, 64102.054426272676, 12036.03975839378, 6064.99271830489, 3786.601107056595, 3607.9755423867887, 2904.900426048097, 2644.9100727335917, 2416.6102214177845, 1167.874087716611, 853.1488066358278, 712.8161645432037, 589.5448580748841, 415.8644057639292, 349.3111504572324, 0.13453996728504491, 0.13450922354726322, 0.13453552495596177, 0.13454577286855568, 0.1344809007613099, 0.13452121078447166, 0.13447637616687336, 0.13448020738190275, 0.13447033553949578, 0.13446897228506816, 0.1344592532211746, 0.13445832479790062, 0.13445947651284812, 0.1344646944866918, 0.1344550459359583, 0.1344550459359583, 0.13453293947342662, 0.13449729507102146, 0.13447480137296558, 0.1344904435423033, 0.13451888385019004, 0.13448218175038412, 0.1345130077535192, 0.1344903025159832, 0.13450078547244393, 0.13449381642179234, 0.1344864360443738, 0.1344829103863713, 25114.791702109287, 23837.104041598388, 13980.708341381282, 13935.558552839917, 4360.242397563653, 4079.1970894292867, 3632.2819432159304, 3171.3022455751984, 1558.9649586724868, 274.9709943144044, 0.13979484043643844, 0.13977566355496227, 0.13980849933896544, 0.13980794427599422, 0.1398046900832806, 0.13978681923232497, 0.13970509437250403, 0.13969674666076046, 0.13970040354621788, 0.13969119603104826, 0.13970051238209458, 0.1396833598479252, 0.13971841588381323, 0.13969340539934547, 0.13968324012846084, 0.13967193208087075, 0.13969498351955775, 0.1396745332583241, 0.13967188854652007, 0.13967188854652007, 0.1397025258458137, 0.1397252507768706, 0.13969910839928504, 0.13967814660943084, 0.13968011653879928, 34617.300418554296, 10045.591576849796, 6824.016755159947, 6562.736121912612, 6338.569211488925, 5073.456167492348, 3199.471137948404, 2558.9410989231856, 1736.4685026890654, 1263.3869278909713, 1039.2934937199775, 757.6808987867512, 277.6582174120018, 0.16799770980293502, 0.16785086496626578, 0.16788921632391515, 0.16775335579593728, 0.16773142466766272, 0.16780700270971663, 0.1677008335554028, 0.1677701696609478, 0.16769560382481424, 0.1676939917931633, 0.16775847305920136, 0.16768969929027877, 0.16764877992872032, 0.1676784525578303, 0.1676504669385876, 0.16766195735023914, 0.16769541637927343, 0.16770523852561178, 0.16769610992777442, 0.1676644503759319, 24921.6867884758, 14111.013438183672, 7794.183517532507, 7329.3298625468215, 6840.2184128364, 5699.195289513941, 4891.472305776809, 2246.9345693163245, 2080.3545187186787, 1891.982770616917, 846.2349776755867, 524.5239222417987, 0.15744846737031556, 0.1574115276785261, 0.15740425419598483, 0.15744804277615707, 0.15742880681471547, 0.15736519153340284, 0.1573745879867366, 0.15741309683085097, 0.15742498546728897, 0.15733890361680702, 0.1573571796262381, 0.15734381414055315, 0.15736161017397896, 0.1573344176872194, 0.1573256304342, 0.15735815803886422, 0.1573232120935581, 0.15732162448061762, 0.1573891534124347, 0.1573373713857133, 0.15733858978634205, 0.15735269369665048, 0.15736609610356658, 0.15736613302479777, 0.1573501276710839, 41850.00037119994, 28527.075726428193, 3715.919106281455, 2051.3857361476353, 1404.9876950091832, 0.16348969703957575, 0.16348310557761286, 0.16350537892435563, 0.16343535369520584, 0.1634257562368533, 0.16345112612204563, 0.16344462520214267, 0.16342106615814891, 0.16342106615814891, 0.1634542769857312, 0.16349060246017505, 0.1634033923480506, 0.1634134968419388, 0.16340129177226023, 0.16340002418342123, 0.1634399532318503, 0.16339977066565342, 0.16339363191399017, 0.16337579512818398, 0.1634207039899092, 0.1633673566081985, 0.16338242280697085, 0.16338463203323314, 0.16338345498645404, 0.16338215118079105, 0.16339422949158572, 0.16342964954543027, 0.16341213871103982, 0.16344630928445736, 0.16341159545868025, 0.16341970802724998, 0.16340668807903205, 0.16339623952531615, 41088.197533440536, 9645.697726344784, 8258.988241321567, 5189.5791373105, 4461.746256992288, 1529.5828786458171, 1319.0401402713524, 1268.423266526721, 882.8520555831527, 0.18491346000015083, 0.18484583438375052, 0.18479808340544382, 0.18476144494217558, 0.1847454761025247, 0.1847454761025247, 0.1847454761025247, 0.1847454761025247, 0.18481272150845712, 0.1847283493491762, 0.18476873807024125, 0.18472510027790523, 0.18470066311419708, 0.18468956788145263, 0.1846691056453632, 0.18468989624503854, 0.18468649163312162, 0.18468740759470334, 0.1847292653107579, 0.18469136524002805, 0.18468448688701827, 0.1847528902066483, 0.18470325545829624, 0.1847130718012851, 0.18474357505018532, 0.18472038221164475, 0.18470786983079276, 0.1846940612778912, 27582.67886359846, 10165.708848312894, 9012.124702306535, 8553.049354612034, 4956.02430056588, 4246.311183110342, 3740.1361732862747, 2636.9702669687013, 2484.9279215322845, 0.18163032313116476, 0.18141240298483066, 0.1814513363527327, 0.18135006140280535, 0.18139513942691476, 0.1814230743765633, 0.18130988877650855, 0.1814032634541693, 0.18134992370742817, 0.1813118165117893, 0.18132193712201317, 0.18130658408745587, 0.18138420985634987, 0.1813074274716412, 0.18138660231352863, 0.18131235008137592, 0.18129214328477247, 0.18130260813343935, 0.18132276329427635, 0.18130947569037698, 0.18130415720643278, 0.18136307361595033, 0.18132739330133454, 0.1813163432473146, 0.18135739368164103, 0.18131214353831013, 0.18131222959792087, 32438.21967491886, 27529.986628122, 5564.21030652146, 2560.5222790322387, 2096.167785959898, 952.654935712492, 0.18423404494178322, 0.1840365681360025, 0.18402299860343976, 0.18396686552477196, 0.183955719123024, 0.1839309029212313, 0.1839243521124079, 0.18393117030118328, 0.18393671843518675, 0.18398123719719062, 0.1839244356686429, 0.18400413160557852, 0.18391738352240955, 0.18391758405737352, 0.1839080920690784, 0.18393282471463612, 0.18390962950380227, 0.18392796174175957, 0.18390197575267697, 0.18391709943121057, 0.18392390090873895, 0.18390199246392397, 0.18393140425864124, 0.18389468964898564, 0.1839793321150328, 0.18396566231498807, 0.18398623386004317, 0.18397222983505845, 0.1839470961195728, 0.1839406455782314, 0.18394946911664656, 0.18394104664815936, 0.18395510080688504, 0.1839319891522862, 0.18392478660482986, 21589.65257396558, 11958.099938584792, 11258.761030066444, 8264.132903438222, 6483.508017170409, 3809.9263965771456, 2520.9147371767813, 1342.0830544083772, 997.3092659702274, 0.15555108756498373, 0.15542375973759037, 0.1552839960554403, 0.15526416892885772, 0.155230293596645, 0.155166948960349, 0.1551782194525932, 0.1551454296635428, 0.1551194883747371, 0.15514916520913083, 0.15514768056921763, 0.15513580344991212, 0.15513973056194055, 0.15513021609540015, 0.15512015885727853, 0.15510903203986465, 0.15511723746906228, 0.15511233656096174, 0.15508596424766513, 0.1551003955861761, 0.15510665342322955, 0.1551327543507356, 0.1551093353533953, 0.15513495736480032, 0.1551323392901147, 0.15512240976295338, 0.155122234160383, 20265.01513130002, 13373.51825355169, 6247.8018208939975, 6016.436851032259, 4946.506251974653, 2818.715105793977, 2615.4934728817407, 2099.881189202246, 1419.4942501076666, 1176.4635670203968, 901.7127981569013, 895.2905293544213, 0.19939900767616578, 0.19926866934371018, 0.19931052614380818, 0.19933724735863298, 0.19931807165638793, 0.19926127236484262, 0.19925833139734106, 0.19933343004222942, 0.19922642635596047, 0.19922150989008666, 0.19924578029866016, 0.19922890686895423, 0.19920814185598865, 0.19921118679708874, 0.19920888452454966, 0.19923397186854025, 0.19921236021341512, 0.19930204486884154, 0.1992585096377957, 0.19927790814060903, 0.1992934150601627, 0.19924806771782802, 0.19926532733518568, 0.19923373421460072, 0.1992365266483901, 26372.558388482696, 20624.01692563388, 5390.420462673029, 5099.368870002827, 0.2146175919953682, 0.21454703549451834, 0.21455511552858306, 0.2145478845828438, 0.21449656951904636, 0.21451787889702043, 0.21458658657651647, 0.21444807561968507, 0.21443846174864536, 0.21448114897945844, 0.21437705348975353, 0.21438648932614437, 0.2143991571761611, 0.2143832162275995, 0.21439670577599568, 0.2143822986644091, 0.21435077283658374, 0.21439428176577627, 0.21435063588685382, 0.21438602369706267, 0.21434215869857237, 0.21434355558581744, 0.21434043313197548, 0.2143344621237514, 0.2143493074744737, 0.21442914916701147, 0.21436345438157345, 0.21438561284787294, 0.21436835718190422, 0.21435241623334267, 0.21437598528186025, 0.21435866114102659, 27811.525855923148, 10137.790876493109, 9108.544869587837, 4401.160967140445, 2841.5842824400856, 1432.1964323236512, 0.197245458282537, 0.19717825076819542, 0.19703531890235784, 0.19710916239712611, 0.19696923725295892, 0.19705753155540295, 0.19703772957788213, 0.19693972634599144, 0.196961104534432, 0.19691442749845647, 0.19691436127110692, 0.19691436127110692, 0.19691546064510973, 0.19695583283740636, 0.19691126183114713, 0.1969245735284103, 0.1969791316189844, 0.19692001708676002, 0.19690399006816456, 0.19691094393986922, 0.19692065286931587, 0.19689200291789277, 0.19689176449943432, 0.19688779085846025, 0.1969626939908216, 0.196971369773615, 0.19693359369342145, 0.19696164759869844, 0.19693624278740418, 0.1969257523752326, 0.1969162951097143, 0.19691440100751664, 34816.31648018235, 10768.846073942903, 2366.269453270318, 1385.3708437180785, 1086.7429510113097, 0.22393739130218446, 0.22376195740855415, 0.2238121402253647, 0.22368419948525858, 0.22360491499631407, 0.22356839857674213, 0.22359863911531264, 0.2235580033916085, 0.22358400347004292, 0.22354404621996055, 0.22356301925016947, 0.22357750950823452, 0.22355579835233771, 0.2235069967139715, 0.22351942731997043, 0.2235575672299945, 0.2235069967139715, 0.22352851402026208, 0.22358940702781635, 0.22349347570393757, 0.22347416343691776, 0.2235004785209623, 0.22347045606319876, 0.22353709186533738, 0.22346015780286826, 0.22347428459292165, 0.22348778137175482, 0.22352962865549783, 0.2235023200922214, 0.2234905194974427, 42723.31816722446, 0.32054870177436073, 0.3203855304295119, 0.3199917603325678, 0.3198918860138457, 0.3200386209967135, 0.31994577258401957, 0.319864761758452, 0.3198577145617995, 0.3198535841806799, 0.31984913444019536, 0.31988090005169256, 0.3198716386301099, 0.3198236708534992, 0.3198269283190214, 0.31988347621723623, 0.3198712128176234, 0.3197696565395794, 0.3197786624736701, 0.31976778296463854, 0.31976654810842753, 0.31975213435575756, 0.3197807489548542, 0.3197700610614416, 0.3197851561140901, 0.3197426600279316, 0.31974451231224815, 0.31973388829070853, 0.31979041489829907, 0.31973397345320587, 0.3197889884264691, 0.31978189864856793, 0.3198103642132943, 0.31976618616781394, 0.31975826605556396, 17381.99582345681, 8684.853117022321, 7126.175567825362, 0.4964250607373269, 0.4961398009300168, 0.4960870496206352, 0.4960535361780015, 0.49592861589934334, 0.4959486088973094, 0.49575331758084634, 0.495753785043029, 0.4957410916468384, 0.49569258345573014, 0.49569258345573014, 0.4956926913316185, 0.49567971026639235, 0.49569258345573014, 0.4956964669877092, 0.4956653987318771, 0.4956509433628441, 0.4956509433628441, 0.4958620924348881, 0.4956509433628441, 0.4956928351661362, 0.495767413363585, 0.49559894718468067, 0.4956009968265585, 0.49573519443161096, 0.49567809212806774, 0.49559894718468067, 0.49571272028821395, 0.49572742736765296, 0.49562138536944833, 10574.648528531894, 9763.163583930962, 7250.097702642757, 1777.5739477925408, 0.6417659526832128, 0.6418619373453077, 0.6413044065073317, 0.6413044065073317, 0.6413044065073317, 0.6415600467959858, 0.6413445082843066, 0.6410609265530924, 0.6410609265530924, 0.6408550889823509, 0.6408766769917615, 0.6408627404287243, 0.640682453223551, 0.6405900893351865, 0.640592617045149, 0.6406028645179705, 0.640570824086282, 0.6405689112246886, 0.640406044723312, 0.6403964804153452, 0.640247140578093, 0.6404070011541086, 0.6401920091743132, 0.6401592172612843, 0.6400858453558823, 0.6400627543837911, 0.640133803528687, 12309.625219458578, 9077.8243784743, 8809.26229058355, 0.5591165054155502, 0.5584292539258381, 0.5579885505125488, 0.5577626471449076, 0.5577626471449076, 0.5577626471449076, 0.5577489971894302, 0.5577626471449076, 0.5577489971894302, 0.5577503893490685, 0.5577025805497842, 0.5576717493070639, 0.5579525920477462, 0.5576558583141199, 0.557634398682623, 0.557634398682623, 0.557634398682623, 0.557634398682623, 0.5576262494554722, 0.5576213938742949, 0.557634398682623, 0.5576493049772862, 0.5575713779926572, 0.5575713779926572, 0.5575713779926572, 0.5576093398091344, 0.5575713779926572, 0.5575836018333834, 0.5575713779926572, 23642.439310326215, 2227.0280414967815, 1740.4657642197076, 0.6486407065590576, 0.6483488821633027, 0.648220059369021, 0.6481887505380058, 0.6481887505380058, 0.6481887505380058, 0.6481887505380058, 0.6481887505380058, 0.645188190445579, 0.6451645783688549, 0.6449899011824821, 0.6450730000381352, 0.6447537804152419, 0.6447755009167587, 0.6447541717756297, 0.6449374588905316, 0.6446121731816291, 0.644866492206897, 0.6446047373342629, 0.6445849736346846, 0.6445849736346846, 0.6445849736346846, 0.6445849736346846, 0.6445849736346846, 0.6446258055684669, 0.6445804729902261, 0.6445019400057628, 0.6445963230859276, 0.644749149317321, 0.6446286755446434, 2.465141919776338, 2.465141919776338, 2.465141919776338, 2.465141919776338, 2.465141919776338, 2.465141919776338, 2.465141919776338, 2.465141919776338, 2.465141919776338, 2.465141919776338, 2.465141919776338, 2.465141919776338, 2.465141919776338, 2.465141919776338, 2.465141919776338, 2.465141919776338, 2.465141919776338, 2.465141919776338, 2.465141919776338, 2.465141919776338, 2.465141919776338, 2.465141919776338, 2.465141919776338, 2.465141919776338, 2.465141919776338, 2.465141919776338, 2.465141919776338, 2.465141919776338, 2.465141919776338, 2.465141919776338, 2.465141919776338, 2.465141919776338, 2.465141919776338, 2.465141919776338, 2.465141919776338, 2.465141919776338, 2.465141919776338, 2.465141919776338, 2.465141919776338, 2.465141919776338, 2.465141919776338, 2.465141919776338, 2.465141919776338, 2.465141919776338, 2.465141919776338, 2.465141919776338, 2.465141919776338, 2.465141919776338, 2.465141919776338, 2.465141919776338, 2.465141919776338, 2.465141919776338, 2.465141919776338, 2.465141919776338, 2.465141919776338, 2.465141919776338, 2.465141919776338, 2.465141919776338, 2.465141919776338, 2.465141919776338], \"Total\": [77528.0, 64109.0, 42730.0, 41857.0, 41095.0, 34823.0, 34624.0, 32445.0, 27818.0, 23649.0, 26379.0, 28534.0, 27537.0, 27590.0, 24929.0, 25122.0, 20631.0, 21597.0, 23844.0, 17389.0, 20272.0, 12316.0, 13380.0, 14118.0, 10581.0, 13988.0, 13942.0, 11965.0, 9770.0, 10776.0, 77528.37535666977, 11909.846354728066, 11017.995925483961, 7531.718597680434, 5386.338883780567, 3833.362103188462, 891.7677347200091, 704.0306355095059, 301.5249464278275, 7.566382799998543, 7.567423723136052, 7.56634406250244, 7.5646692844808054, 7.567095028546205, 7.5648470133830426, 7.564574652911519, 7.564507850457821, 7.564666288460832, 7.5636964336682775, 7.564448941177615, 7.5646401050522645, 7.565128610148901, 7.56732159115113, 7.565902463635531, 7.564046902604376, 7.565093656178367, 7.565479098711948, 7.564045395669474, 7.565154991958034, 7.563935560541025, 7.564497977110805, 7.565925237282389, 7.567169717935577, 7.565845650185926, 7.567096551574165, 64109.4832420107, 12043.4685741318, 6072.421534042908, 3794.029922794614, 3615.4043581248075, 2912.3292417861157, 2652.3388884716105, 2424.0390371558033, 1175.3029034546294, 860.577622808295, 720.244980281222, 596.9736738129023, 423.29322150194736, 356.73996619525053, 7.565152602204038, 7.56480599543291, 7.566382799998543, 7.567088462226359, 7.563746825147716, 7.56634406250244, 7.5640736485141575, 7.564563224215692, 7.564046902604376, 7.563978646297562, 7.563612138050819, 7.5636047162726205, 7.563686520219216, 7.564055702826717, 7.56352354430429, 7.563523643682191, 7.567915289259773, 7.565902463635531, 7.5646401050522645, 7.565562258986473, 7.56732159115113, 7.565170427122874, 7.567423723136052, 7.565925237282389, 7.566929819137896, 7.567095028546205, 7.567169717935577, 7.568907208250468, 25122.215311992637, 23844.527651481738, 13988.131951264631, 13942.982162723267, 4367.666007447, 4086.6206993126348, 3639.7055530992784, 3178.7258554585464, 1566.3885685558344, 282.3946041977518, 7.566138921948333, 7.565128610148901, 7.567096551574165, 7.56732159115113, 7.567423723136052, 7.567088462226359, 7.564031308551305, 7.563612138050819, 7.564187640054553, 7.563746825147716, 7.564484479206739, 7.5636047162726205, 7.565562258986473, 7.564237775406121, 7.563773420693904, 7.563281815428339, 7.5646401050522645, 7.563633978747075, 7.56352354430429, 7.563523643682191, 7.56634406250244, 7.568907208250468, 7.566382799998543, 7.564257340023621, 7.5648388658417325, 34624.69612197267, 10052.987280268178, 6831.4124585783275, 6570.131825330993, 6345.964914907306, 5080.851870910728, 3206.8668413667847, 2566.3368023415665, 1743.8642061074463, 1270.7826313093522, 1046.6891971383584, 765.0766022051317, 285.05392083038237, 7.5646503780811365, 7.5645931192527, 7.568907208250468, 7.564029642083405, 7.563840630086785, 7.568698967177509, 7.564021054134748, 7.567169717935577, 7.5640466385083, 7.564086068865537, 7.56732159115113, 7.5655167071273794, 7.563686405918709, 7.565154991958034, 7.564233244184074, 7.564768244500132, 7.56634406250244, 7.567423723136052, 7.567095028546205, 7.565925237282389, 24929.092760867734, 14118.419410575605, 7801.589489924437, 7336.735834938751, 6847.62438522833, 5706.601261905871, 4898.878278168739, 2254.340541708256, 2087.76049111061, 1899.3887430088478, 853.6409500675173, 531.9298946337293, 7.564489477617303, 7.563602079139412, 7.563593921920506, 7.566382799998543, 7.565562258986473, 7.563337583464065, 7.564055702826717, 7.56634406250244, 7.567423723136052, 7.563388632326782, 7.564297874471062, 7.564086068865537, 7.565174086565112, 7.563914863914152, 7.563515443910018, 7.565093656178367, 7.563574365481381, 7.563558553039656, 7.566929819137896, 7.56454054018523, 7.5646401050522645, 7.565845650185926, 7.567095028546205, 7.56732159115113, 7.56599185563334, 41857.400282608505, 28534.47563783677, 3723.3190176900316, 2058.785647556212, 1412.3876064177598, 7.564086068865537, 7.5648470133830426, 7.567096551574165, 7.563962449291478, 7.563741674929376, 7.564932036320037, 7.564911030488902, 7.563828960865401, 7.564006767560399, 7.565562258986473, 7.56732159115113, 7.564130952059396, 7.5646401050522645, 7.564187640054553, 7.5642952046467125, 7.56634406250244, 7.564574652911519, 7.564504190646935, 7.563766330864277, 7.565845650185926, 7.563500163410257, 7.5642127865091116, 7.564400188476469, 7.564412699042365, 7.5644330656871785, 7.565093656178367, 7.567423723136052, 7.566382799998543, 7.568907208250468, 7.566929819137896, 7.568698967177509, 7.567095028546205, 7.567915289259773, 41095.57616413584, 9653.076357040096, 8266.366872016879, 5196.95776800581, 4469.124887687598, 1536.9615093411278, 1326.418770966663, 1275.8018972220316, 890.2306862784634, 7.566382799998543, 7.5655167071273794, 7.563773420693904, 7.563746825147716, 7.56352354430429, 7.563523643682191, 7.5636047162726205, 7.563612138050819, 7.567423723136052, 7.564066382695711, 7.56599185563334, 7.565152602204038, 7.5644330656871785, 7.564046902604376, 7.563325952664419, 7.564178744490302, 7.564094323795303, 7.564136303408987, 7.565902463635531, 7.564448941177615, 7.5642479090847745, 7.567539832833528, 7.565168914846154, 7.565711867694759, 7.568698967177509, 7.567915289259773, 7.56732159115113, 7.56634406250244, 27590.0608757489, 10173.090860463331, 9019.506714456973, 8560.431366762472, 4963.406312716317, 4253.693195260779, 3747.518185436713, 2644.3522791191394, 2492.3099336827227, 7.566609274874173, 7.564911030488902, 7.567096551574165, 7.564233244184074, 7.566382799998543, 7.567915289259773, 7.563499127064129, 7.567423723136052, 7.5655167071273794, 7.563959086983228, 7.564448941177615, 7.563845573023286, 7.567169717935577, 7.563998091228964, 7.56732159115113, 7.564334093843919, 7.563528128170669, 7.563998178757369, 7.564870154558631, 7.564400188476469, 7.564257340023621, 7.566915902746992, 7.565808031099414, 7.565154991958034, 7.568698967177509, 7.5648388658417325, 7.565174086565112, 32445.599062215824, 27537.366015418964, 5571.589693818422, 2567.901666329203, 2103.5471732568626, 960.0343230094561, 7.568907208250468, 7.565902463635531, 7.565808031099414, 7.563525949187959, 7.564334093843919, 7.563385920505589, 7.5634695960995755, 7.563766330864277, 7.564130952059396, 7.56599185563334, 7.563694093663936, 7.567096551574165, 7.563541782089511, 7.563666609586818, 7.563328574111691, 7.564484479206739, 7.563666414543036, 7.564471155353926, 7.563410058754212, 7.564123864191937, 7.564489477617303, 7.563599758332924, 7.5648470133830426, 7.563394947195527, 7.566915902746992, 7.566508621188449, 7.567629125182674, 7.566929819137896, 7.566382799998543, 7.56634406250244, 7.567539832833528, 7.566609274874173, 7.568698967177509, 7.567915289259773, 7.565535263010021, 21597.060773641348, 11965.508138260559, 11266.16922974221, 8271.541103113988, 6490.916216846175, 3817.3345962529133, 2528.322936852549, 1349.4912540841444, 1004.7174656459946, 7.568907208250468, 7.568698967177509, 7.564870154558631, 7.567539832833528, 7.567423723136052, 7.565562258986473, 7.566508621188449, 7.564944768732654, 7.563699378400646, 7.565174086565112, 7.565152602204038, 7.564649911633544, 7.565021923553204, 7.564970014161608, 7.564489477617303, 7.564350835823429, 7.56480599543291, 7.5646401050522645, 7.563388465274045, 7.5641491789818796, 7.564482736487042, 7.565925237282389, 7.564786416168253, 7.566929819137896, 7.567915289259773, 7.567088462226359, 7.567096551574165, 20272.379251657967, 13380.882373909633, 6255.165941251941, 6023.800971390203, 4953.870372332597, 2826.0792261519214, 2622.8575932396852, 2107.2453095601904, 1426.8583704656112, 1183.8276873783414, 909.0769185148455, 902.6546497123655, 7.565152602204038, 7.563664703356022, 7.565711867694759, 7.566929819137896, 7.56634406250244, 7.56469207289593, 7.5646692844808054, 7.567539832833528, 7.563527313066499, 7.563565089462527, 7.564756694383913, 7.5641491789818796, 7.563387148495181, 7.563562562567401, 7.563480735850957, 7.564447021294109, 7.5640062464849205, 7.567423723136052, 7.56599185563334, 7.566915902746992, 7.568698967177509, 7.565902463635531, 7.567169717935577, 7.565174086565112, 7.567915289259773, 26379.90739300469, 20631.365930155876, 5397.769467195021, 5106.717874524819, 7.564335782830646, 7.56421790712607, 7.565174086565112, 7.565925237282389, 7.564214292242206, 7.5651460964204675, 7.567915289259773, 7.563845573023286, 7.564504509397606, 7.566424097024394, 7.563456508482765, 7.564014696367189, 7.564471155353926, 7.56398195457232, 7.564504190646935, 7.5641942942248255, 7.563383450307903, 7.564970014161608, 7.563451579814517, 7.5648470133830426, 7.5634158465956665, 7.563550841294275, 7.563609229079312, 7.563499921698278, 7.5642479090847745, 7.567095028546205, 7.564932036320037, 7.566138921948333, 7.5655167071273794, 7.564574652911519, 7.56732159115113, 7.566382799998543, 27818.892262403213, 10145.157282973174, 9115.911276067902, 4408.527373620511, 2848.950688920152, 1439.562838803718, 7.566382799998543, 7.56732159115113, 7.564187640054553, 7.567169717935577, 7.5636424816033445, 7.567423723136052, 7.566929819137896, 7.563947448023039, 7.565093656178367, 7.563322298861719, 7.563321728218738, 7.563323326740202, 7.563438749183893, 7.565154991958034, 7.5634975728085765, 7.564037599782124, 7.566138921948333, 7.563956593068634, 7.563405294128863, 7.563806887594858, 7.564324116738635, 7.563301344550492, 7.563404590625975, 7.563342971524932, 7.56634406250244, 7.567088462226359, 7.565479098711948, 7.567915289259773, 7.56599185563334, 7.566915902746992, 7.564803068568807, 7.564502163446835, 34823.656363523805, 10776.185957284353, 2373.609336611769, 1392.7107270595295, 1094.0828343527608, 7.565128610148901, 7.564497977110805, 7.567915289259773, 7.56732159115113, 7.564714646969675, 7.564094849272731, 7.565152602204038, 7.5638872185014865, 7.564932036320037, 7.563729300236113, 7.564447021294109, 7.56525856128114, 7.564803068568807, 7.563518794988083, 7.563985902432157, 7.565479098711948, 7.5638191249515465, 7.564666288460832, 7.566915902746992, 7.563781035753681, 7.56347762549945, 7.564388326406477, 7.563526228643002, 7.565925237282389, 7.5633518643215885, 7.563840630086785, 7.564504190646935, 7.567169717935577, 7.56634406250244, 7.568907208250468, 42730.561856087814, 7.568698967177509, 7.566929819137896, 7.563840999782639, 7.563887347407315, 7.567423723136052, 7.565273550499464, 7.563581182857978, 7.563599133046155, 7.563826127051464, 7.5642127865091116, 7.564970014161608, 7.5648388658417325, 7.563975954109945, 7.564178744490302, 7.56599185563334, 7.565711867694759, 7.563553876428133, 7.563806716790374, 7.563757127777271, 7.563855099711601, 7.563610711767083, 7.564305974997274, 7.564073680174484, 7.564452075693909, 7.563461809222223, 7.563553447951006, 7.563424983955399, 7.564786416168253, 7.5634615572671855, 7.564804804922093, 7.565174086565112, 7.567095028546205, 7.564784366923986, 7.565562258986473, 17389.063995096007, 8691.921288661517, 7133.243739464558, 7.5672725577327045, 7.564687878124495, 7.566138921948333, 7.567095028546205, 7.566424097024394, 7.566915902746992, 7.564239359525926, 7.564382571857722, 7.564479918973193, 7.563873703708819, 7.5639024477954635, 7.5639592411590675, 7.563907667263937, 7.5641942942248255, 7.564278030039214, 7.563962608764369, 7.563845807421243, 7.563870178728632, 7.567096551574165, 7.563878497937548, 7.564637686848081, 7.565925237282389, 7.563780933515888, 7.563860471108663, 7.565938885369135, 7.5651460964204675, 7.56430927974877, 7.566929819137896, 7.568907208250468, 7.5655167071273794, 10581.57244632076, 9770.087501719829, 7257.021620431623, 1784.4978655814066, 7.567539832833528, 7.568907208250468, 7.565241484931251, 7.565327795693356, 7.565511212780683, 7.568698967177509, 7.5672725577327045, 7.565103403768012, 7.565156953853417, 7.565808031099414, 7.566609274874173, 7.567629125182674, 7.565535263010021, 7.56460202564779, 7.564643055575707, 7.564944768732654, 7.564585595428687, 7.564701573448942, 7.564465760096475, 7.564452079123772, 7.56437958721423, 7.566508621188449, 7.56454790251887, 7.564648694996362, 7.564262308242887, 7.5640101649676295, 7.565273550499464, 12316.631477821405, 9084.830636837129, 8816.268548946378, 7.566091632090266, 7.566424097024394, 7.565938885369135, 7.564021910134533, 7.564022025306215, 7.564022770954618, 7.5640973965661855, 7.564512734734609, 7.564400191049807, 7.5644902088370065, 7.564154578081635, 7.564063286708639, 7.567915289259773, 7.564120020961957, 7.563892974114182, 7.563894760087056, 7.563969223363837, 7.56410656583021, 7.564239222462467, 7.564235989379197, 7.564595624006246, 7.564803068568807, 7.563829740820108, 7.563829740820108, 7.563830770276055, 7.564346270421928, 7.563831605120722, 7.56634406250244, 7.563998091228964, 23649.358837892003, 2233.9475690625673, 1747.3852917854936, 7.568797989105335, 7.568036105757672, 7.567912424230195, 7.567717305765375, 7.567721558304306, 7.567725329542855, 7.56773258534386, 7.567777063774538, 7.565009907374598, 7.564826073664204, 7.565170427122874, 7.567088462226359, 7.564281346201179, 7.5649276032989485, 7.565021923553204, 7.567629125182674, 7.564224720455875, 7.56732159115113, 7.564312923160193, 7.564114406263627, 7.564120035314926, 7.56412043269532, 7.564152359572595, 7.564191691962737, 7.564804266715788, 7.5646054318414615, 7.564093667918638, 7.56525856128114, 7.567169717935577, 7.565845650185926, 7.563202691745971, 7.563202691745971, 7.563202691745971, 7.563202691745971, 7.563202691745971, 7.563202691745971, 7.563202691745971, 7.563202691745971, 7.563202691745971, 7.563202691745971, 7.563202691745971, 7.563202691745971, 7.563202691745971, 7.563202691745971, 7.563202691745971, 7.563202691745971, 7.563202691745971, 7.563202691745971, 7.563202691745971, 7.563202691745971, 7.563202691745971, 7.563202691745971, 7.563202691745971, 7.563202691745971, 7.563202691745971, 7.563202691745971, 7.563202691745971, 7.563202691745971, 7.563202691745971, 7.563202691745971, 7.563340538333888, 7.5632230531160465, 7.563293616176885, 13942.982162723267, 7.564491645012646, 7.563280465263523, 64109.4832420107, 2254.340541708256, 4898.878278168739, 1899.3887430088478, 3723.3190176900316, 6847.62438522833, 23844.527651481738, 7.563202742964884, 7.5632277399373695, 4469.124887687598, 7.563221145294941, 41095.57616413584, 1326.418770966663, 7.563205733443265, 8266.366872016879, 7.563258124493372, 42730.561856087814, 9115.911276067902, 7.563487394878978, 6023.800971390203, 5196.95776800581, 1275.8018972220316, 890.2306862784634, 9653.076357040096], \"Category\": [\"Default\", \"Default\", \"Default\", \"Default\", \"Default\", \"Default\", \"Default\", \"Default\", \"Default\", \"Default\", \"Default\", \"Default\", \"Default\", \"Default\", \"Default\", \"Default\", \"Default\", \"Default\", \"Default\", \"Default\", \"Default\", \"Default\", \"Default\", \"Default\", \"Default\", \"Default\", \"Default\", \"Default\", \"Default\", \"Default\", \"Topic1\", \"Topic1\", \"Topic1\", \"Topic1\", \"Topic1\", \"Topic1\", \"Topic1\", \"Topic1\", \"Topic1\", \"Topic1\", \"Topic1\", \"Topic1\", \"Topic1\", \"Topic1\", \"Topic1\", \"Topic1\", \"Topic1\", \"Topic1\", \"Topic1\", \"Topic1\", \"Topic1\", \"Topic1\", \"Topic1\", \"Topic1\", \"Topic1\", \"Topic1\", \"Topic1\", \"Topic1\", \"Topic1\", \"Topic1\", \"Topic1\", \"Topic1\", \"Topic1\", \"Topic1\", \"Topic1\", \"Topic2\", \"Topic2\", \"Topic2\", \"Topic2\", \"Topic2\", \"Topic2\", \"Topic2\", \"Topic2\", \"Topic2\", \"Topic2\", \"Topic2\", \"Topic2\", \"Topic2\", \"Topic2\", \"Topic2\", \"Topic2\", \"Topic2\", \"Topic2\", \"Topic2\", \"Topic2\", \"Topic2\", \"Topic2\", \"Topic2\", \"Topic2\", \"Topic2\", \"Topic2\", \"Topic2\", \"Topic2\", \"Topic2\", \"Topic2\", \"Topic2\", \"Topic2\", \"Topic2\", \"Topic2\", \"Topic2\", \"Topic2\", \"Topic2\", \"Topic2\", \"Topic2\", \"Topic2\", \"Topic2\", \"Topic2\", \"Topic3\", \"Topic3\", \"Topic3\", \"Topic3\", \"Topic3\", \"Topic3\", \"Topic3\", \"Topic3\", \"Topic3\", \"Topic3\", \"Topic3\", \"Topic3\", \"Topic3\", \"Topic3\", \"Topic3\", \"Topic3\", \"Topic3\", \"Topic3\", \"Topic3\", \"Topic3\", \"Topic3\", \"Topic3\", \"Topic3\", \"Topic3\", \"Topic3\", \"Topic3\", \"Topic3\", \"Topic3\", \"Topic3\", \"Topic3\", \"Topic3\", \"Topic3\", \"Topic3\", \"Topic3\", \"Topic3\", \"Topic4\", \"Topic4\", \"Topic4\", \"Topic4\", \"Topic4\", \"Topic4\", \"Topic4\", \"Topic4\", \"Topic4\", \"Topic4\", \"Topic4\", \"Topic4\", \"Topic4\", \"Topic4\", \"Topic4\", \"Topic4\", \"Topic4\", \"Topic4\", \"Topic4\", \"Topic4\", \"Topic4\", \"Topic4\", \"Topic4\", \"Topic4\", \"Topic4\", \"Topic4\", \"Topic4\", \"Topic4\", \"Topic4\", \"Topic4\", \"Topic4\", \"Topic4\", \"Topic4\", \"Topic5\", \"Topic5\", \"Topic5\", \"Topic5\", \"Topic5\", \"Topic5\", \"Topic5\", \"Topic5\", \"Topic5\", \"Topic5\", \"Topic5\", \"Topic5\", \"Topic5\", \"Topic5\", \"Topic5\", \"Topic5\", \"Topic5\", \"Topic5\", \"Topic5\", \"Topic5\", \"Topic5\", \"Topic5\", \"Topic5\", \"Topic5\", \"Topic5\", \"Topic5\", \"Topic5\", \"Topic5\", \"Topic5\", \"Topic5\", \"Topic5\", \"Topic5\", \"Topic5\", \"Topic5\", \"Topic5\", \"Topic5\", \"Topic5\", \"Topic6\", \"Topic6\", \"Topic6\", \"Topic6\", \"Topic6\", \"Topic6\", \"Topic6\", \"Topic6\", \"Topic6\", \"Topic6\", \"Topic6\", \"Topic6\", \"Topic6\", \"Topic6\", \"Topic6\", \"Topic6\", \"Topic6\", \"Topic6\", \"Topic6\", \"Topic6\", \"Topic6\", \"Topic6\", \"Topic6\", \"Topic6\", \"Topic6\", \"Topic6\", \"Topic6\", \"Topic6\", \"Topic6\", \"Topic6\", \"Topic6\", \"Topic6\", \"Topic6\", \"Topic6\", \"Topic6\", \"Topic6\", \"Topic6\", \"Topic6\", \"Topic7\", \"Topic7\", \"Topic7\", \"Topic7\", \"Topic7\", \"Topic7\", \"Topic7\", \"Topic7\", \"Topic7\", \"Topic7\", \"Topic7\", \"Topic7\", \"Topic7\", \"Topic7\", \"Topic7\", \"Topic7\", \"Topic7\", \"Topic7\", \"Topic7\", \"Topic7\", \"Topic7\", \"Topic7\", \"Topic7\", \"Topic7\", \"Topic7\", \"Topic7\", \"Topic7\", \"Topic7\", \"Topic7\", \"Topic7\", \"Topic7\", \"Topic7\", \"Topic7\", \"Topic7\", \"Topic7\", \"Topic7\", \"Topic7\", \"Topic8\", \"Topic8\", \"Topic8\", \"Topic8\", \"Topic8\", \"Topic8\", \"Topic8\", \"Topic8\", \"Topic8\", \"Topic8\", \"Topic8\", \"Topic8\", \"Topic8\", \"Topic8\", \"Topic8\", \"Topic8\", \"Topic8\", \"Topic8\", \"Topic8\", \"Topic8\", \"Topic8\", \"Topic8\", \"Topic8\", \"Topic8\", \"Topic8\", \"Topic8\", \"Topic8\", \"Topic8\", \"Topic8\", \"Topic8\", \"Topic8\", \"Topic8\", \"Topic8\", \"Topic8\", \"Topic8\", \"Topic8\", \"Topic9\", \"Topic9\", \"Topic9\", \"Topic9\", \"Topic9\", \"Topic9\", \"Topic9\", \"Topic9\", \"Topic9\", \"Topic9\", \"Topic9\", \"Topic9\", \"Topic9\", \"Topic9\", \"Topic9\", \"Topic9\", \"Topic9\", \"Topic9\", \"Topic9\", \"Topic9\", \"Topic9\", \"Topic9\", \"Topic9\", \"Topic9\", \"Topic9\", \"Topic9\", \"Topic9\", \"Topic9\", \"Topic9\", \"Topic9\", \"Topic9\", \"Topic9\", \"Topic9\", \"Topic9\", \"Topic9\", \"Topic9\", \"Topic9\", \"Topic9\", \"Topic9\", \"Topic9\", \"Topic9\", \"Topic10\", \"Topic10\", \"Topic10\", \"Topic10\", \"Topic10\", \"Topic10\", \"Topic10\", \"Topic10\", \"Topic10\", \"Topic10\", \"Topic10\", \"Topic10\", \"Topic10\", \"Topic10\", \"Topic10\", \"Topic10\", \"Topic10\", \"Topic10\", \"Topic10\", \"Topic10\", \"Topic10\", \"Topic10\", \"Topic10\", \"Topic10\", \"Topic10\", \"Topic10\", \"Topic10\", \"Topic10\", \"Topic10\", \"Topic10\", \"Topic10\", \"Topic10\", \"Topic10\", \"Topic10\", \"Topic10\", \"Topic10\", \"Topic11\", \"Topic11\", \"Topic11\", \"Topic11\", \"Topic11\", \"Topic11\", \"Topic11\", \"Topic11\", \"Topic11\", \"Topic11\", \"Topic11\", \"Topic11\", \"Topic11\", \"Topic11\", \"Topic11\", \"Topic11\", \"Topic11\", \"Topic11\", \"Topic11\", \"Topic11\", \"Topic11\", \"Topic11\", \"Topic11\", \"Topic11\", \"Topic11\", \"Topic11\", \"Topic11\", \"Topic11\", \"Topic11\", \"Topic11\", \"Topic11\", \"Topic11\", \"Topic11\", \"Topic11\", \"Topic11\", \"Topic11\", \"Topic11\", \"Topic12\", \"Topic12\", \"Topic12\", \"Topic12\", \"Topic12\", \"Topic12\", \"Topic12\", \"Topic12\", \"Topic12\", \"Topic12\", \"Topic12\", \"Topic12\", \"Topic12\", \"Topic12\", \"Topic12\", \"Topic12\", \"Topic12\", \"Topic12\", \"Topic12\", \"Topic12\", \"Topic12\", \"Topic12\", \"Topic12\", \"Topic12\", \"Topic12\", \"Topic12\", \"Topic12\", \"Topic12\", \"Topic12\", \"Topic12\", \"Topic12\", \"Topic12\", \"Topic12\", \"Topic12\", \"Topic12\", \"Topic12\", \"Topic13\", \"Topic13\", \"Topic13\", \"Topic13\", \"Topic13\", \"Topic13\", \"Topic13\", \"Topic13\", \"Topic13\", \"Topic13\", \"Topic13\", \"Topic13\", \"Topic13\", \"Topic13\", \"Topic13\", \"Topic13\", \"Topic13\", \"Topic13\", \"Topic13\", \"Topic13\", \"Topic13\", \"Topic13\", \"Topic13\", \"Topic13\", \"Topic13\", \"Topic13\", \"Topic13\", \"Topic13\", \"Topic13\", \"Topic13\", \"Topic13\", \"Topic13\", \"Topic13\", \"Topic13\", \"Topic13\", \"Topic13\", \"Topic13\", \"Topic13\", \"Topic14\", \"Topic14\", \"Topic14\", \"Topic14\", \"Topic14\", \"Topic14\", \"Topic14\", \"Topic14\", \"Topic14\", \"Topic14\", \"Topic14\", \"Topic14\", \"Topic14\", \"Topic14\", \"Topic14\", \"Topic14\", \"Topic14\", \"Topic14\", \"Topic14\", \"Topic14\", \"Topic14\", \"Topic14\", \"Topic14\", \"Topic14\", \"Topic14\", \"Topic14\", \"Topic14\", \"Topic14\", \"Topic14\", \"Topic14\", \"Topic14\", \"Topic14\", \"Topic14\", \"Topic14\", \"Topic14\", \"Topic15\", \"Topic15\", \"Topic15\", \"Topic15\", \"Topic15\", \"Topic15\", \"Topic15\", \"Topic15\", \"Topic15\", \"Topic15\", \"Topic15\", \"Topic15\", \"Topic15\", \"Topic15\", \"Topic15\", \"Topic15\", \"Topic15\", \"Topic15\", \"Topic15\", \"Topic15\", \"Topic15\", \"Topic15\", \"Topic15\", \"Topic15\", \"Topic15\", \"Topic15\", \"Topic15\", \"Topic15\", \"Topic15\", \"Topic15\", \"Topic15\", \"Topic15\", \"Topic15\", \"Topic15\", \"Topic15\", \"Topic16\", \"Topic16\", \"Topic16\", \"Topic16\", \"Topic16\", \"Topic16\", \"Topic16\", \"Topic16\", \"Topic16\", \"Topic16\", \"Topic16\", \"Topic16\", \"Topic16\", \"Topic16\", \"Topic16\", \"Topic16\", \"Topic16\", \"Topic16\", \"Topic16\", \"Topic16\", \"Topic16\", \"Topic16\", \"Topic16\", \"Topic16\", \"Topic16\", \"Topic16\", \"Topic16\", \"Topic16\", \"Topic16\", \"Topic16\", \"Topic16\", \"Topic16\", \"Topic16\", \"Topic17\", \"Topic17\", \"Topic17\", \"Topic17\", \"Topic17\", \"Topic17\", \"Topic17\", \"Topic17\", \"Topic17\", \"Topic17\", \"Topic17\", \"Topic17\", \"Topic17\", \"Topic17\", \"Topic17\", \"Topic17\", \"Topic17\", \"Topic17\", \"Topic17\", \"Topic17\", \"Topic17\", \"Topic17\", \"Topic17\", \"Topic17\", \"Topic17\", \"Topic17\", \"Topic17\", \"Topic17\", \"Topic17\", \"Topic17\", \"Topic17\", \"Topic18\", \"Topic18\", \"Topic18\", \"Topic18\", \"Topic18\", \"Topic18\", \"Topic18\", \"Topic18\", \"Topic18\", \"Topic18\", \"Topic18\", \"Topic18\", \"Topic18\", \"Topic18\", \"Topic18\", \"Topic18\", \"Topic18\", \"Topic18\", \"Topic18\", \"Topic18\", \"Topic18\", \"Topic18\", \"Topic18\", \"Topic18\", \"Topic18\", \"Topic18\", \"Topic18\", \"Topic18\", \"Topic18\", \"Topic18\", \"Topic18\", \"Topic18\", \"Topic19\", \"Topic19\", \"Topic19\", \"Topic19\", \"Topic19\", \"Topic19\", \"Topic19\", \"Topic19\", \"Topic19\", \"Topic19\", \"Topic19\", \"Topic19\", \"Topic19\", \"Topic19\", \"Topic19\", \"Topic19\", \"Topic19\", \"Topic19\", \"Topic19\", \"Topic19\", \"Topic19\", \"Topic19\", \"Topic19\", \"Topic19\", \"Topic19\", \"Topic19\", \"Topic19\", \"Topic19\", \"Topic19\", \"Topic19\", \"Topic19\", \"Topic19\", \"Topic19\", \"Topic20\", \"Topic20\", \"Topic20\", \"Topic20\", \"Topic20\", \"Topic20\", \"Topic20\", \"Topic20\", \"Topic20\", \"Topic20\", \"Topic20\", \"Topic20\", \"Topic20\", \"Topic20\", \"Topic20\", \"Topic20\", \"Topic20\", \"Topic20\", \"Topic20\", \"Topic20\", \"Topic20\", \"Topic20\", \"Topic20\", \"Topic20\", \"Topic20\", \"Topic20\", \"Topic20\", \"Topic20\", \"Topic20\", \"Topic20\", \"Topic20\", \"Topic20\", \"Topic20\", \"Topic20\", \"Topic20\", \"Topic20\", \"Topic20\", \"Topic20\", \"Topic20\", \"Topic20\", \"Topic20\", \"Topic20\", \"Topic20\", \"Topic20\", \"Topic20\", \"Topic20\", \"Topic20\", \"Topic20\", \"Topic20\", \"Topic20\", \"Topic20\", \"Topic20\", \"Topic20\", \"Topic20\", \"Topic20\", \"Topic20\", \"Topic20\", \"Topic20\", \"Topic20\", \"Topic20\"], \"logprob\": [30.0, 29.0, 28.0, 27.0, 26.0, 25.0, 24.0, 23.0, 22.0, 21.0, 20.0, 19.0, 18.0, 17.0, 16.0, 15.0, 14.0, 13.0, 12.0, 11.0, 10.0, 9.0, 8.0, 7.0, 6.0, 5.0, 4.0, 3.0, 2.0, 1.0, -0.4442, -2.318, -2.3959, -2.7766, -3.1123, -3.453, -4.9177, -5.1563, -6.0186, -13.6413, -13.6414, -13.6418, -13.6421, -13.6418, -13.6421, -13.6422, -13.6422, -13.6422, -13.6423, -13.6423, -13.6423, -13.6422, -13.642, -13.6422, -13.6424, -13.6423, -13.6423, -13.6425, -13.6424, -13.6425, -13.6425, -13.6423, -13.6422, -13.6423, -13.6423, -0.4779, -2.1504, -2.8358, -3.3069, -3.3552, -3.5719, -3.6657, -3.756, -4.4832, -4.7972, -4.9769, -5.1668, -5.5157, -5.6901, -13.552, -13.5522, -13.552, -13.552, -13.5524, -13.5521, -13.5525, -13.5524, -13.5525, -13.5525, -13.5526, -13.5526, -13.5526, -13.5526, -13.5526, -13.5526, -13.552, -13.5523, -13.5525, -13.5524, -13.5522, -13.5524, -13.5522, -13.5524, -13.5523, -13.5523, -13.5524, -13.5524, -1.3381, -1.3903, -1.9239, -1.9271, -3.089, -3.1557, -3.2717, -3.4074, -4.1175, -5.8527, -13.4369, -13.437, -13.4368, -13.4368, -13.4368, -13.437, -13.4375, -13.4376, -13.4376, -13.4376, -13.4376, -13.4377, -13.4374, -13.4376, -13.4377, -13.4378, -13.4376, -13.4378, -13.4378, -13.4378, -13.4376, -13.4374, -13.4376, -13.4377, -13.4377, -0.8677, -2.1049, -2.4916, -2.5307, -2.5654, -2.788, -3.2491, -3.4725, -3.8602, -4.1783, -4.3735, -4.6896, -5.6934, -13.1036, -13.1045, -13.1043, -13.1051, -13.1052, -13.1048, -13.1054, -13.105, -13.1054, -13.1054, -13.105, -13.1055, -13.1057, -13.1055, -13.1057, -13.1056, -13.1054, -13.1054, -13.1054, -13.1056, -1.1811, -1.7498, -2.3434, -2.4049, -2.474, -2.6565, -2.8093, -3.5872, -3.6643, -3.7592, -4.5638, -5.0421, -13.1532, -13.1534, -13.1535, -13.1532, -13.1533, -13.1537, -13.1537, -13.1534, -13.1534, -13.1539, -13.1538, -13.1539, -13.1538, -13.1539, -13.154, -13.1538, -13.154, -13.154, -13.1536, -13.1539, -13.1539, -13.1538, -13.1537, -13.1537, -13.1538, -0.6434, -1.0267, -3.0649, -3.659, -4.0375, -13.0963, -13.0963, -13.0962, -13.0966, -13.0967, -13.0965, -13.0966, -13.0967, -13.0967, -13.0965, -13.0963, -13.0968, -13.0968, -13.0968, -13.0968, -13.0966, -13.0968, -13.0969, -13.097, -13.0967, -13.097, -13.097, -13.0969, -13.0969, -13.097, -13.0969, -13.0967, -13.0968, -13.0966, -13.0968, -13.0967, -13.0968, -13.0969, -0.6151, -2.0643, -2.2195, -2.6842, -2.8353, -3.9058, -4.0539, -4.0931, -4.4554, -12.9265, -12.9268, -12.9271, -12.9273, -12.9274, -12.9274, -12.9274, -12.9274, -12.927, -12.9275, -12.9272, -12.9275, -12.9276, -12.9277, -12.9278, -12.9277, -12.9277, -12.9277, -12.9275, -12.9277, -12.9277, -12.9273, -12.9276, -12.9275, -12.9274, -12.9275, -12.9276, -12.9277, -1.0096, -2.0077, -2.1282, -2.1805, -2.7262, -2.8807, -3.0076, -3.3571, -3.4165, -12.9403, -12.9415, -12.9413, -12.9418, -12.9416, -12.9414, -12.9421, -12.9416, -12.9418, -12.9421, -12.942, -12.9421, -12.9417, -12.9421, -12.9416, -12.9421, -12.9422, -12.9421, -12.942, -12.9421, -12.9421, -12.9418, -12.942, -12.942, -12.9418, -12.9421, -12.9421, -0.8179, -0.982, -2.5809, -3.357, -3.5571, -4.3457, -12.8965, -12.8976, -12.8977, -12.898, -12.8981, -12.8982, -12.8982, -12.8982, -12.8982, -12.8979, -12.8982, -12.8978, -12.8983, -12.8983, -12.8983, -12.8982, -12.8983, -12.8982, -12.8984, -12.8983, -12.8982, -12.8984, -12.8982, -12.8984, -12.8979, -12.898, -12.8979, -12.898, -12.8981, -12.8981, -12.8981, -12.8981, -12.8981, -12.8982, -12.8982, -1.1793, -1.7701, -1.8303, -2.1396, -2.3822, -2.9139, -3.3269, -3.9573, -4.2542, -13.02, -13.0208, -13.0217, -13.0219, -13.0221, -13.0225, -13.0224, -13.0226, -13.0228, -13.0226, -13.0226, -13.0227, -13.0227, -13.0227, -13.0228, -13.0229, -13.0228, -13.0228, -13.023, -13.0229, -13.0229, -13.0227, -13.0229, -13.0227, -13.0227, -13.0228, -13.0228, -1.1705, -1.5861, -2.3472, -2.3849, -2.5807, -3.1431, -3.2179, -3.4375, -3.8291, -4.0169, -4.2828, -4.29, -12.6996, -12.7002, -12.7, -12.6999, -12.7, -12.7003, -12.7003, -12.6999, -12.7005, -12.7005, -12.7004, -12.7004, -12.7005, -12.7005, -12.7005, -12.7004, -12.7005, -12.7001, -12.7003, -12.7002, -12.7001, -12.7003, -12.7003, -12.7004, -12.7004, -0.8259, -1.0717, -2.4136, -2.4691, -12.5448, -12.5452, -12.5451, -12.5452, -12.5454, -12.5453, -12.545, -12.5456, -12.5457, -12.5455, -12.546, -12.5459, -12.5459, -12.5459, -12.5459, -12.5459, -12.5461, -12.5459, -12.5461, -12.5459, -12.5461, -12.5461, -12.5461, -12.5462, -12.5461, -12.5457, -12.546, -12.5459, -12.546, -12.5461, -12.546, -12.546, -0.7394, -1.7485, -1.8556, -2.5829, -3.0205, -3.7056, -12.5959, -12.5962, -12.5969, -12.5966, -12.5973, -12.5968, -12.5969, -12.5974, -12.5973, -12.5976, -12.5976, -12.5976, -12.5976, -12.5973, -12.5976, -12.5975, -12.5972, -12.5975, -12.5976, -12.5976, -12.5975, -12.5977, -12.5977, -12.5977, -12.5973, -12.5973, -12.5975, -12.5973, -12.5974, -12.5975, -12.5975, -12.5976, -0.4256, -1.599, -3.1143, -3.6497, -3.8925, -12.3798, -12.3806, -12.3804, -12.3809, -12.3813, -12.3814, -12.3813, -12.3815, -12.3814, -12.3816, -12.3815, -12.3814, -12.3815, -12.3817, -12.3817, -12.3815, -12.3817, -12.3816, -12.3814, -12.3818, -12.3819, -12.3818, -12.3819, -12.3816, -12.3819, -12.3819, -12.3818, -12.3816, -12.3817, -12.3818, -0.0915, -11.8918, -11.8923, -11.8935, -11.8938, -11.8933, -11.8936, -11.8939, -11.8939, -11.8939, -11.8939, -11.8938, -11.8939, -11.894, -11.894, -11.8938, -11.8939, -11.8942, -11.8942, -11.8942, -11.8942, -11.8942, -11.8942, -11.8942, -11.8941, -11.8943, -11.8943, -11.8943, -11.8941, -11.8943, -11.8941, -11.8942, -11.8941, -11.8942, -11.8942, -0.8218, -1.5157, -1.7135, -11.2853, -11.2859, -11.286, -11.2861, -11.2863, -11.2863, -11.2867, -11.2867, -11.2867, -11.2868, -11.2868, -11.2868, -11.2868, -11.2868, -11.2868, -11.2868, -11.2869, -11.2869, -11.2864, -11.2869, -11.2868, -11.2866, -11.287, -11.287, -11.2867, -11.2868, -11.287, -11.2867, -11.2867, -11.2869, -1.2674, -1.3473, -1.6449, -3.0506, -10.9772, -10.977, -10.9779, -10.9779, -10.9779, -10.9775, -10.9778, -10.9783, -10.9783, -10.9786, -10.9785, -10.9786, -10.9788, -10.979, -10.979, -10.979, -10.979, -10.979, -10.9793, -10.9793, -10.9795, -10.9793, -10.9796, -10.9797, -10.9798, -10.9798, -10.9797, -1.1095, -1.4141, -1.4441, -11.1091, -11.1103, -11.1111, -11.1115, -11.1115, -11.1115, -11.1115, -11.1115, -11.1115, -11.1115, -11.1116, -11.1116, -11.1111, -11.1117, -11.1117, -11.1117, -11.1117, -11.1117, -11.1117, -11.1117, -11.1117, -11.1117, -11.1118, -11.1118, -11.1118, -11.1118, -11.1118, -11.1118, -11.1118, -0.4165, -2.7789, -3.0254, -10.9202, -10.9207, -10.9209, -10.9209, -10.9209, -10.9209, -10.9209, -10.9209, -10.9256, -10.9256, -10.9259, -10.9257, -10.9262, -10.9262, -10.9262, -10.9259, -10.9265, -10.9261, -10.9265, -10.9265, -10.9265, -10.9265, -10.9265, -10.9265, -10.9264, -10.9265, -10.9266, -10.9265, -10.9262, -10.9264, -9.4586, -9.4586, -9.4586, -9.4586, -9.4586, -9.4586, -9.4586, -9.4586, -9.4586, -9.4586, -9.4586, -9.4586, -9.4586, -9.4586, -9.4586, -9.4586, -9.4586, -9.4586, -9.4586, -9.4586, -9.4586, -9.4586, -9.4586, -9.4586, -9.4586, -9.4586, -9.4586, -9.4586, -9.4586, -9.4586, -9.4586, -9.4586, -9.4586, -9.4586, -9.4586, -9.4586, -9.4586, -9.4586, -9.4586, -9.4586, -9.4586, -9.4586, -9.4586, -9.4586, -9.4586, -9.4586, -9.4586, -9.4586, -9.4586, -9.4586, -9.4586, -9.4586, -9.4586, -9.4586, -9.4586, -9.4586, -9.4586, -9.4586, -9.4586, -9.4586], \"loglift\": [30.0, 29.0, 28.0, 27.0, 26.0, 25.0, 24.0, 23.0, 22.0, 21.0, 20.0, 19.0, 18.0, 17.0, 16.0, 15.0, 14.0, 13.0, 12.0, 11.0, 10.0, 9.0, 8.0, 7.0, 6.0, 5.0, 4.0, 3.0, 2.0, 1.0, 2.3939, 2.3934, 2.3933, 2.393, 2.3926, 2.392, 2.3856, 2.3834, 2.3691, -1.5685, -1.5688, -1.569, -1.569, -1.5691, -1.5691, -1.5691, -1.5691, -1.5692, -1.5692, -1.5692, -1.5692, -1.5692, -1.5693, -1.5693, -1.5693, -1.5693, -1.5694, -1.5694, -1.5694, -1.5694, -1.5694, -1.5694, -1.5695, -1.5695, -1.5696, 2.5503, 2.5498, 2.5492, 2.5485, 2.5484, 2.5479, 2.5476, 2.5474, 2.5441, 2.5418, 2.5401, 2.5379, 2.5327, 2.5294, -1.479, -1.4792, -1.4792, -1.4792, -1.4793, -1.4793, -1.4794, -1.4794, -1.4794, -1.4794, -1.4794, -1.4794, -1.4794, -1.4794, -1.4794, -1.4794, -1.4794, -1.4794, -1.4794, -1.4794, -1.4795, -1.4795, -1.4795, -1.4795, -1.4796, -1.4796, -1.4797, -1.4799, 2.6269, 2.6269, 2.6267, 2.6267, 2.6255, 2.6254, 2.6252, 2.6249, 2.6225, 2.6006, -1.3641, -1.3641, -1.3641, -1.3641, -1.3642, -1.3642, -1.3644, -1.3644, -1.3645, -1.3645, -1.3645, -1.3645, -1.3645, -1.3645, -1.3645, -1.3646, -1.3646, -1.3646, -1.3646, -1.3646, -1.3647, -1.3649, -1.3648, -1.3646, -1.3647, 2.7765, 2.776, 2.7756, 2.7756, 2.7755, 2.7752, 2.7744, 2.7738, 2.7725, 2.7709, 2.7696, 2.767, 2.7504, -1.0306, -1.0315, -1.0318, -1.032, -1.0321, -1.0323, -1.0323, -1.0323, -1.0323, -1.0323, -1.0324, -1.0325, -1.0325, -1.0326, -1.0326, -1.0326, -1.0326, -1.0327, -1.0327, -1.0327, 2.7917, 2.7914, 2.791, 2.791, 2.7909, 2.7907, 2.7905, 2.7887, 2.7884, 2.7881, 2.7833, 2.7779, -1.0802, -1.0803, -1.0803, -1.0804, -1.0804, -1.0805, -1.0806, -1.0806, -1.0807, -1.0807, -1.0807, -1.0808, -1.0808, -1.0808, -1.0808, -1.0808, -1.0808, -1.0808, -1.0809, -1.0809, -1.0809, -1.0809, -1.081, -1.0811, -1.081, 2.8111, 2.811, 2.8092, 2.8076, 2.806, -1.0232, -1.0233, -1.0235, -1.0235, -1.0235, -1.0235, -1.0236, -1.0236, -1.0236, -1.0236, -1.0236, -1.0237, -1.0237, -1.0237, -1.0238, -1.0238, -1.0238, -1.0238, -1.0238, -1.0238, -1.0239, -1.0239, -1.0239, -1.0239, -1.0239, -1.0239, -1.024, -1.024, -1.0241, -1.024, -1.0242, -1.0241, -1.0243, 2.8577, 2.8572, 2.857, 2.8565, 2.8563, 2.8531, 2.8523, 2.8521, 2.8496, -0.8537, -0.8539, -0.8539, -0.8541, -0.8542, -0.8542, -0.8542, -0.8542, -0.8543, -0.8544, -0.8544, -0.8545, -0.8546, -0.8546, -0.8546, -0.8546, -0.8546, -0.8546, -0.8546, -0.8546, -0.8546, -0.8547, -0.8546, -0.8547, -0.8549, -0.8549, -0.8549, -0.8548, 2.8617, 2.8613, 2.8612, 2.8611, 2.8605, 2.8603, 2.86, 2.8592, 2.859, -0.8675, -0.8685, -0.8686, -0.8688, -0.8688, -0.8688, -0.8689, -0.8689, -0.8689, -0.8689, -0.8689, -0.8689, -0.869, -0.869, -0.869, -0.869, -0.869, -0.869, -0.869, -0.869, -0.869, -0.869, -0.8691, -0.8691, -0.8693, -0.869, -0.8691, 2.8913, 2.8913, 2.8902, 2.8886, 2.888, 2.8838, -0.8241, -0.8247, -0.8248, -0.8248, -0.825, -0.825, -0.825, -0.825, -0.8251, -0.8251, -0.8251, -0.8251, -0.8251, -0.8251, -0.8251, -0.8251, -0.8251, -0.8251, -0.8251, -0.8252, -0.8252, -0.8252, -0.8252, -0.8252, -0.8252, -0.8252, -0.8252, -0.8252, -0.8253, -0.8253, -0.8254, -0.8254, -0.8256, -0.8256, -0.8253, 2.9369, 2.9367, 2.9366, 2.9364, 2.9361, 2.9353, 2.9343, 2.9318, 2.9299, -0.9476, -0.9483, -0.9487, -0.9492, -0.9494, -0.9496, -0.9496, -0.9496, -0.9496, -0.9496, -0.9497, -0.9497, -0.9497, -0.9497, -0.9497, -0.9498, -0.9498, -0.9498, -0.9498, -0.9498, -0.9498, -0.9498, -0.9498, -0.95, -0.9501, -0.9501, -0.9501, 3.009, 3.0088, 3.0082, 3.0082, 3.0079, 3.0068, 3.0066, 3.0059, 3.0042, 3.0031, 3.0012, 3.0012, -0.6266, -0.6271, -0.6271, -0.6272, -0.6272, -0.6272, -0.6273, -0.6273, -0.6273, -0.6273, -0.6273, -0.6273, -0.6273, -0.6274, -0.6274, -0.6274, -0.6274, -0.6274, -0.6274, -0.6275, -0.6276, -0.6275, -0.6276, -0.6275, -0.6278, 3.0903, 3.0902, 3.0892, 3.0891, -0.4718, -0.4721, -0.4722, -0.4723, -0.4723, -0.4723, -0.4724, -0.4725, -0.4726, -0.4727, -0.4728, -0.4728, -0.4728, -0.4728, -0.4728, -0.4728, -0.4729, -0.4729, -0.4729, -0.4729, -0.4729, -0.4729, -0.473, -0.473, -0.473, -0.473, -0.473, -0.4731, -0.4731, -0.473, -0.4733, -0.4732, 3.1237, 3.1232, 3.1231, 3.1223, 3.1214, 3.1188, -0.5231, -0.5235, -0.5238, -0.5239, -0.5241, -0.5242, -0.5242, -0.5243, -0.5243, -0.5243, -0.5243, -0.5243, -0.5244, -0.5244, -0.5244, -0.5244, -0.5244, -0.5244, -0.5244, -0.5244, -0.5244, -0.5245, -0.5245, -0.5245, -0.5245, -0.5246, -0.5245, -0.5247, -0.5246, -0.5248, -0.5245, -0.5245, 3.2129, 3.2124, 3.21, 3.2078, 3.2064, -0.3068, -0.3075, -0.3078, -0.3082, -0.3083, -0.3083, -0.3083, -0.3084, -0.3084, -0.3084, -0.3084, -0.3085, -0.3085, -0.3085, -0.3085, -0.3086, -0.3086, -0.3086, -0.3086, -0.3086, -0.3087, -0.3087, -0.3087, -0.3087, -0.3087, -0.3087, -0.3088, -0.3089, -0.3089, -0.3093, 3.3423, 0.1807, 0.1805, 0.1796, 0.1793, 0.1793, 0.1793, 0.1793, 0.1793, 0.1792, 0.1792, 0.1792, 0.1791, 0.1791, 0.1791, 0.179, 0.179, 0.179, 0.179, 0.179, 0.1789, 0.1789, 0.1789, 0.1789, 0.1789, 0.1789, 0.1789, 0.1789, 0.1789, 0.1789, 0.1789, 0.1788, 0.1787, 0.1788, 0.1787, 3.5111, 3.5107, 3.5105, 0.7874, 0.7871, 0.7868, 0.7867, 0.7865, 0.7865, 0.7864, 0.7864, 0.7864, 0.7863, 0.7863, 0.7863, 0.7863, 0.7863, 0.7863, 0.7863, 0.7863, 0.7863, 0.7863, 0.7863, 0.7862, 0.7862, 0.7862, 0.7862, 0.7862, 0.7862, 0.7861, 0.786, 0.7858, 0.786, 3.5622, 3.5622, 3.5619, 3.559, 1.0955, 1.0955, 1.0951, 1.0951, 1.095, 1.095, 1.0949, 1.0947, 1.0947, 1.0943, 1.0942, 1.0941, 1.0941, 1.0941, 1.0941, 1.094, 1.094, 1.094, 1.0938, 1.0938, 1.0935, 1.0935, 1.0934, 1.0934, 1.0933, 1.0933, 1.0933, 3.5683, 3.5681, 3.5681, 0.9638, 0.9625, 0.9618, 0.9616, 0.9616, 0.9616, 0.9616, 0.9616, 0.9616, 0.9616, 0.9615, 0.9615, 0.9615, 0.9614, 0.9614, 0.9614, 0.9614, 0.9614, 0.9614, 0.9614, 0.9613, 0.9613, 0.9613, 0.9613, 0.9613, 0.9613, 0.9613, 0.961, 0.9613, 3.6089, 3.6061, 3.6052, 1.1523, 1.1519, 1.1517, 1.1517, 1.1517, 1.1517, 1.1517, 1.1517, 1.1474, 1.1474, 1.1471, 1.147, 1.1469, 1.1468, 1.1468, 1.1467, 1.1466, 1.1466, 1.1466, 1.1466, 1.1466, 1.1466, 1.1466, 1.1466, 1.1466, 1.1465, 1.1465, 1.1465, 1.1465, 1.1465, 2.6146, 2.6146, 2.6146, 2.6146, 2.6146, 2.6146, 2.6146, 2.6146, 2.6146, 2.6146, 2.6146, 2.6146, 2.6146, 2.6146, 2.6146, 2.6146, 2.6146, 2.6146, 2.6146, 2.6146, 2.6146, 2.6146, 2.6146, 2.6146, 2.6146, 2.6146, 2.6146, 2.6146, 2.6146, 2.6146, 2.6146, 2.6146, 2.6146, -4.9048, 2.6145, 2.6146, -6.4304, -3.0827, -3.8588, -2.9114, -3.5845, -4.1937, -5.4414, 2.6146, 2.6146, -3.767, 2.6146, -5.9857, -2.5523, 2.6146, -4.382, 2.6146, -6.0248, -4.4799, 2.6146, -4.0656, -3.9179, -2.5134, -2.1536, -4.5371]}, \"token.table\": {\"Topic\": [17, 18, 19, 20, 17, 18, 19, 20, 17, 18, 19, 20, 17, 18, 19, 20, 17, 18, 19, 20, 17, 18, 19, 20, 17, 18, 19, 20, 5, 17, 18, 19, 20, 17, 18, 19, 20, 17, 18, 19, 20, 17, 18, 19, 20, 17, 18, 19, 20, 17, 18, 19, 20, 17, 18, 19, 20, 11, 17, 18, 19, 20, 8, 17, 18, 19, 20, 17, 18, 19, 20, 17, 18, 19, 20, 17, 18, 19, 20, 17, 18, 19, 20, 17, 18, 19, 20, 17, 18, 19, 20, 17, 18, 19, 20, 17, 18, 19, 20, 12, 17, 18, 19, 20, 17, 18, 19, 20, 17, 18, 19, 20, 6, 17, 18, 19, 20, 17, 18, 19, 20, 2, 17, 18, 19, 20, 7, 17, 18, 19, 20, 17, 18, 19, 20, 17, 18, 19, 20, 17, 18, 19, 20, 17, 18, 19, 20, 17, 18, 19, 20, 17, 18, 19, 20, 17, 18, 19, 20, 1, 17, 18, 19, 20, 4, 17, 18, 19, 20, 11, 17, 18, 19, 20, 2, 17, 18, 19, 20, 4, 17, 18, 19, 20, 8, 17, 18, 19, 20, 17, 18, 19, 20, 17, 18, 19, 20, 17, 18, 19, 20, 9, 17, 18, 19, 20, 17, 18, 19, 20, 17, 18, 19, 20, 17, 18, 19, 20, 17, 18, 19, 20, 3, 17, 18, 19, 20, 17, 18, 19, 20, 2, 17, 18, 19, 20, 17, 18, 19, 20, 12, 17, 18, 19, 20, 17, 18, 19, 20, 17, 18, 19, 20, 2, 17, 18, 19, 20, 17, 18, 19, 20, 17, 18, 19, 20, 17, 18, 19, 20, 17, 18, 19, 20, 17, 18, 19, 20, 17, 18, 19, 20, 14, 17, 18, 19, 20, 4, 17, 18, 19, 20, 17, 18, 19, 20, 17, 18, 19, 20, 17, 18, 19, 20, 17, 18, 19, 20, 11, 17, 18, 19, 20, 8, 17, 18, 19, 20, 17, 18, 19, 20, 17, 18, 19, 20, 17, 18, 19, 20, 17, 18, 19, 20, 17, 18, 19, 20, 1, 17, 18, 19, 20, 2, 17, 18, 19, 20, 17, 18, 19, 20, 7, 17, 18, 19, 20, 17, 18, 19, 20, 17, 18, 19, 20, 17, 18, 19, 20, 17, 18, 19, 20, 17, 18, 19, 20, 17, 18, 19, 20, 17, 18, 19, 20, 7, 17, 18, 19, 20, 17, 18, 19, 20, 8, 17, 18, 19, 20, 10, 17, 18, 19, 20, 17, 18, 19, 20, 2, 17, 18, 19, 20, 17, 18, 19, 20, 17, 18, 19, 20, 17, 18, 19, 20, 14, 17, 18, 19, 20, 17, 18, 19, 20, 17, 18, 19, 20, 17, 18, 19, 20, 17, 18, 19, 20, 8, 17, 18, 19, 20, 7, 17, 18, 19, 20, 17, 18, 19, 20, 1, 17, 18, 19, 20, 17, 18, 19, 20, 17, 18, 19, 20, 10, 17, 18, 19, 20, 17, 18, 19, 20, 17, 18, 19, 20, 17, 18, 19, 20, 2, 17, 18, 19, 20, 17, 18, 19, 20, 16, 17, 18, 19, 20, 17, 18, 19, 20, 5, 17, 18, 19, 20, 17, 18, 19, 20, 17, 18, 19, 20, 17, 18, 19, 20, 17, 18, 19, 20, 17, 18, 19, 20, 2, 17, 18, 19, 20, 17, 18, 19, 20, 17, 18, 19, 20, 17, 18, 19, 20, 17, 18, 19, 20, 10, 17, 18, 19, 20, 17, 18, 19, 20, 17, 18, 19, 20, 17, 18, 19, 20, 11, 17, 18, 19, 20, 17, 18, 19, 20, 4, 17, 18, 19, 20, 17, 18, 19, 20, 17, 18, 19, 20, 1, 17, 18, 19, 20, 10, 17, 18, 19, 20, 17, 18, 19, 20, 17, 18, 19, 20, 17, 18, 19, 20, 17, 18, 19, 20, 17, 18, 19, 20, 17, 18, 19, 20, 17, 18, 19, 20, 17, 18, 19, 20, 17, 18, 19, 20, 7, 17, 18, 19, 20, 17, 18, 19, 20, 17, 18, 19, 20, 17, 18, 19, 20, 17, 18, 19, 20, 17, 18, 19, 20, 17, 18, 19, 20, 17, 18, 19, 20, 17, 18, 19, 20, 13, 17, 18, 19, 20, 17, 18, 19, 20, 17, 18, 19, 20, 17, 18, 19, 20, 5, 17, 18, 19, 20, 13, 17, 18, 19, 20, 17, 18, 19, 20, 9, 17, 18, 19, 20, 17, 18, 19, 20, 17, 18, 19, 20, 17, 18, 19, 20, 17, 18, 19, 20, 17, 18, 19, 20, 17, 18, 19, 20, 17, 18, 19, 20, 17, 18, 19, 20, 17, 18, 19, 20, 17, 18, 19, 20, 9, 17, 18, 19, 20, 17, 18, 19, 20, 4, 17, 18, 19, 20, 17, 18, 19, 20, 1, 17, 18, 19, 20, 3, 17, 18, 19, 20, 17, 18, 19, 20, 17, 18, 19, 20, 2, 17, 18, 19, 20, 3, 17, 18, 19, 20, 17, 18, 19, 20, 17, 18, 19, 20, 17, 18, 19, 20, 17, 18, 19, 20, 8, 17, 18, 19, 20, 17, 18, 19, 20, 16, 17, 18, 19, 20, 17, 18, 19, 20, 17, 18, 19, 20, 5, 17, 18, 19, 20, 17, 18, 19, 20, 11, 17, 18, 19, 20, 17, 18, 19, 20, 12, 17, 18, 19, 20, 17, 18, 19, 20, 17, 18, 19, 20, 17, 18, 19, 20, 4, 17, 18, 19, 20, 4, 17, 18, 19, 20, 17, 18, 19, 20, 17, 18, 19, 20, 17, 18, 19, 20, 17, 18, 19, 20, 17, 18, 19, 20, 8, 17, 18, 19, 20, 17, 18, 19, 20, 17, 18, 19, 20, 17, 18, 19, 20, 17, 18, 19, 20, 17, 18, 19, 20, 17, 18, 19, 20, 17, 18, 19, 20, 14, 17, 18, 19, 20, 17, 18, 19, 20, 17, 18, 19, 20, 13, 17, 18, 19, 20, 17, 18, 19, 20, 17, 18, 19, 20, 17, 18, 19, 20, 17, 18, 19, 20, 17, 18, 19, 20, 17, 18, 19, 20, 17, 18, 19, 20, 17, 18, 19, 20, 14, 17, 18, 19, 20, 7, 17, 18, 19, 20, 17, 18, 19, 20, 13, 17, 18, 19, 20, 17, 18, 19, 20, 17, 18, 19, 20, 10, 17, 18, 19, 20, 17, 18, 19, 20, 17, 18, 19, 20, 17, 18, 19, 20, 17, 18, 19, 20, 2, 17, 18, 19, 20, 11, 17, 18, 19, 20, 17, 18, 19, 20, 17, 18, 19, 20, 17, 18, 19, 20, 17, 18, 19, 20, 17, 18, 19, 20, 17, 18, 19, 20, 9, 17, 18, 19, 20, 17, 18, 19, 20, 17, 18, 19, 20, 17, 18, 19, 20, 17, 18, 19, 20, 17, 18, 19, 20, 4, 17, 18, 19, 20, 17, 18, 19, 20, 17, 18, 19, 20, 17, 18, 19, 20, 17, 18, 19, 20, 17, 18, 19, 20, 17, 18, 19, 20, 17, 18, 19, 20, 17, 18, 19, 20, 17, 18, 19, 20, 6, 17, 18, 19, 20, 3, 17, 18, 19, 20, 17, 18, 19, 20, 17, 18, 19, 20, 17, 18, 19, 20, 17, 18, 19, 20, 17, 18, 19, 20, 17, 18, 19, 20, 5, 17, 18, 19, 20, 11, 17, 18, 19, 20, 17, 18, 19, 20, 17, 18, 19, 20, 17, 18, 19, 20, 17, 18, 19, 20, 17, 18, 19, 20, 17, 18, 19, 20, 17, 18, 19, 20, 17, 18, 19, 20, 7, 17, 18, 19, 20, 17, 18, 19, 20, 5, 17, 18, 19, 20, 4, 17, 18, 19, 20, 2, 17, 18, 19, 20, 17, 18, 19, 20, 17, 18, 19, 20, 17, 18, 19, 20, 17, 18, 19, 20, 17, 18, 19, 20, 17, 18, 19, 20, 17, 18, 19, 20, 16, 17, 18, 19, 20, 17, 18, 19, 20, 17, 18, 19, 20, 17, 18, 19, 20, 8, 17, 18, 19, 20, 17, 18, 19, 20, 17, 18, 19, 20, 17, 18, 19, 20, 17, 18, 19, 20, 17, 18, 19, 20, 17, 18, 19, 20, 17, 18, 19, 20, 17, 18, 19, 20, 17, 18, 19, 20, 17, 18, 19, 20, 17, 18, 19, 20, 17, 18, 19, 20, 17, 18, 19, 20, 6, 17, 18, 19, 20, 17, 18, 19, 20, 17, 18, 19, 20, 17, 18, 19, 20, 2, 17, 18, 19, 20, 17, 18, 19, 20, 17, 18, 19, 20, 17, 18, 19, 20, 1, 17, 18, 19, 20, 3, 17, 18, 19, 20, 17, 18, 19, 20, 6, 17, 18, 19, 20, 17, 18, 19, 20, 2, 17, 18, 19, 20, 5, 17, 18, 19, 20, 17, 18, 19, 20, 13, 17, 18, 19, 20, 17, 18, 19, 20, 17, 18, 19, 20, 17, 18, 19, 20, 17, 18, 19, 20, 17, 18, 19, 20, 17, 18, 19, 20, 17, 18, 19, 20, 17, 18, 19, 20, 17, 18, 19, 20, 1, 17, 18, 19, 20, 17, 18, 19, 20, 3, 17, 18, 19, 20, 17, 18, 19, 20, 17, 18, 19, 20, 17, 18, 19, 20, 5, 17, 18, 19, 20, 17, 18, 19, 20, 17, 18, 19, 20, 9, 17, 18, 19, 20, 17, 18, 19, 20, 17, 18, 19, 20, 17, 18, 19, 20, 10, 17, 18, 19, 20, 2, 17, 18, 19, 20, 17, 18, 19, 20, 17, 18, 19, 20, 7, 17, 18, 19, 20, 17, 18, 19, 20, 6, 17, 18, 19, 20, 17, 18, 19, 20, 5, 17, 18, 19, 20, 17, 18, 19, 20, 17, 18, 19, 20, 17, 18, 19, 20, 17, 18, 19, 20, 17, 18, 19, 20, 17, 18, 19, 20, 17, 18, 19, 20, 17, 18, 19, 20, 17, 18, 19, 20, 17, 18, 19, 20, 11, 17, 18, 19, 20, 3, 17, 18, 19, 20, 17, 18, 19, 20, 17, 18, 19, 20, 11, 17, 18, 19, 20, 17, 18, 19, 20, 17, 18, 19, 20, 17, 18, 19, 20, 4, 17, 18, 19, 20, 17, 18, 19, 20, 17, 18, 19, 20, 17, 18, 19, 20, 4, 17, 18, 19, 20, 3, 17, 18, 19, 20, 17, 18, 19, 20, 17, 18, 19, 20, 17, 18, 19, 20, 17, 18, 19, 20, 17, 18, 19, 20, 17, 18, 19, 20, 17, 18, 19, 20, 17, 18, 19, 20, 17, 18, 19, 20, 17, 18, 19, 20, 17, 18, 19, 20, 9, 17, 18, 19, 20, 17, 18, 19, 20, 5, 17, 18, 19, 20, 17, 18, 19, 20, 17, 18, 19, 20, 4, 17, 18, 19, 20, 14, 17, 18, 19, 20, 17, 18, 19, 20, 17, 18, 19, 20, 17, 18, 19, 20, 5, 17, 18, 19, 20, 17, 18, 19, 20, 17, 18, 19, 20, 17, 18, 19, 20, 17, 18, 19, 20, 17, 18, 19, 20, 17, 18, 19, 20, 17, 18, 19, 20, 12, 17, 18, 19, 20, 17, 18, 19, 20, 17, 18, 19, 20, 17, 18, 19, 20, 17, 18, 19, 20, 17, 18, 19, 20, 17, 18, 19, 20, 17, 18, 19, 20, 17, 18, 19, 20, 17, 18, 19, 20, 17, 18, 19, 20, 17, 18, 19, 20, 17, 18, 19, 20, 17, 18, 19, 20, 17, 18, 19, 20, 17, 18, 19, 20, 17, 18, 19, 20, 17, 18, 19, 20, 17, 18, 19, 20, 17, 18, 19, 20, 4, 17, 18, 19, 20, 17, 18, 19, 20, 17, 18, 19, 20, 17, 18, 19, 20, 17, 18, 19, 20, 8, 17, 18, 19, 20, 11, 17, 18, 19, 20, 17, 18, 19, 20, 5, 17, 18, 19, 20, 10, 17, 18, 19, 20, 17, 18, 19, 20, 17, 18, 19, 20, 17, 18, 19, 20, 17, 18, 19, 20, 17, 18, 19, 20, 17, 18, 19, 20, 17, 18, 19, 20, 17, 18, 19, 20, 17, 18, 19, 20, 17, 18, 19, 20, 3, 17, 18, 19, 20, 15, 17, 18, 19, 20, 11, 17, 18, 19, 20, 13, 17, 18, 19, 20, 11, 17, 18, 19, 20, 17, 18, 19, 20, 17, 18, 19, 20, 17, 18, 19, 20, 7, 17, 18, 19, 20, 3, 17, 18, 19, 20, 17, 18, 19, 20, 10, 17, 18, 19, 20, 17, 18, 19, 20, 17, 18, 19, 20, 10, 17, 18, 19, 20, 17, 18, 19, 20, 17, 18, 19, 20, 1, 17, 18, 19, 20, 17, 18, 19, 20, 1, 17, 18, 19, 20, 17, 18, 19, 20], \"Freq\": [0.1322141424704524, 0.1322141424704524, 0.1322141424704524, 0.2644282849409048, 0.1321829268069202, 0.1321829268069202, 0.1321829268069202, 0.2643658536138404, 0.13221676131266807, 0.13221676131266807, 0.13221676131266807, 0.26443352262533615, 0.13220745152557395, 0.13220745152557395, 0.13220745152557395, 0.2644149030511479, 0.1322121783213457, 0.1322121783213457, 0.1322121783213457, 0.2644243566426914, 0.1322154943645502, 0.1322154943645502, 0.1322154943645502, 0.2644309887291004, 0.1322131917573329, 0.1322131917573329, 0.1322131917573329, 0.2644263835146658, 0.998945602634088, 0.0001363003960477675, 0.0001363003960477675, 0.0001363003960477675, 0.000272600792095535, 0.13218607005391214, 0.13218607005391214, 0.13218607005391214, 0.2643721401078243, 0.1322157585292826, 0.1322157585292826, 0.1322157585292826, 0.2644315170585652, 0.1321719391449153, 0.1321719391449153, 0.1321719391449153, 0.2643438782898306, 0.13219114773191196, 0.13219114773191196, 0.13219114773191196, 0.2643822954638239, 0.13220901144411754, 0.13220901144411754, 0.13220901144411754, 0.26441802288823507, 0.13220688750308446, 0.13220688750308446, 0.13220688750308446, 0.2644137750061689, 0.998704975242832, 0.00016600814083158778, 0.00016600814083158778, 0.00016600814083158778, 0.00033201628166317556, 0.9979938228276171, 0.0002668432681357265, 0.0002668432681357265, 0.0002668432681357265, 0.000533686536271453, 0.13220389521146905, 0.13220389521146905, 0.13220389521146905, 0.2644077904229381, 0.13220817196870974, 0.13220817196870974, 0.13220817196870974, 0.2644163439374195, 0.13221587183989325, 0.13221587183989325, 0.13221587183989325, 0.2644317436797865, 0.13214715245739694, 0.13214715245739694, 0.13214715245739694, 0.2642943049147939, 0.13220521427522108, 0.13220521427522108, 0.13220521427522108, 0.26441042855044217, 0.132210661735756, 0.132210661735756, 0.132210661735756, 0.264421323471512, 0.13219704229148976, 0.13219704229148976, 0.13219704229148976, 0.2643940845829795, 0.13220815833588226, 0.13220815833588226, 0.13220815833588226, 0.2644163166717645, 0.9984886820234734, 0.00019582049068905146, 0.00019582049068905146, 0.00019582049068905146, 0.0003916409813781029, 0.13220452526952062, 0.13220452526952062, 0.13220452526952062, 0.26440905053904123, 0.13219694800372492, 0.13219694800372492, 0.13219694800372492, 0.26439389600744984, 0.9998232025267088, 2.3890638053206898e-05, 2.3890638053206898e-05, 2.3890638053206898e-05, 4.7781276106413797e-05, 0.13215108241112272, 0.13215108241112272, 0.13215108241112272, 0.26430216482224544, 0.989940949982889, 0.0013884164796393954, 0.0013884164796393954, 0.0013884164796393954, 0.002776832959278791, 0.9984057532813131, 0.0002237574525507201, 0.0002237574525507201, 0.0002237574525507201, 0.0004475149051014402, 0.132172931650466, 0.132172931650466, 0.132172931650466, 0.264345863300932, 0.13219394393803224, 0.13219394393803224, 0.13219394393803224, 0.2643878878760645, 0.13219647926747696, 0.13219647926747696, 0.13219647926747696, 0.2643929585349539, 0.1322058948385825, 0.1322058948385825, 0.1322058948385825, 0.264411789677165, 0.132212012772337, 0.132212012772337, 0.132212012772337, 0.264424025544674, 0.13216422511842094, 0.13216422511842094, 0.13216422511842094, 0.26432845023684187, 0.13219195810255227, 0.13219195810255227, 0.13219195810255227, 0.26438391620510454, 0.9989751877237141, 0.00013277182186652233, 0.00013277182186652233, 0.00013277182186652233, 0.00026554364373304465, 0.9926537914412601, 0.0009553934470079501, 0.0009553934470079501, 0.0009553934470079501, 0.0019107868940159002, 0.9974950362019537, 0.0003538471217459928, 0.0003538471217459928, 0.0003538471217459928, 0.0007076942434919856, 0.9998832740238687, 1.5598316339956145e-05, 1.5598316339956145e-05, 1.5598316339956145e-05, 3.119663267991229e-05, 0.9984546152672384, 0.00019681738917154317, 0.00019681738917154317, 0.00019681738917154317, 0.00039363477834308635, 0.9981914080523366, 0.00023508982761477547, 0.00023508982761477547, 0.00023508982761477547, 0.00047017965522955094, 0.13218197902399692, 0.13218197902399692, 0.13218197902399692, 0.26436395804799384, 0.13217877442447842, 0.13217877442447842, 0.13217877442447842, 0.26435754884895685, 0.13220555566870656, 0.13220555566870656, 0.13220555566870656, 0.26441111133741313, 0.9926728421673453, 0.0010416294251493654, 0.0010416294251493654, 0.0010416294251493654, 0.002083258850298731, 0.13220715143817835, 0.13220715143817835, 0.13220715143817835, 0.2644143028763567, 0.13220389465811397, 0.13220389465811397, 0.13220389465811397, 0.26440778931622794, 0.13219679485060232, 0.13219679485060232, 0.13219679485060232, 0.26439358970120463, 0.13214016825218255, 0.13214016825218255, 0.13214016825218255, 0.2642803365043651, 0.9981352075777631, 0.00024470095797444547, 0.00024470095797444547, 0.00024470095797444547, 0.0004894019159488909, 0.13219308735420582, 0.13219308735420582, 0.13219308735420582, 0.26438617470841164, 0.9827702851558331, 0.002362428570086137, 0.002362428570086137, 0.002362428570086137, 0.004724857140172274, 0.13216354847922743, 0.13216354847922743, 0.13216354847922743, 0.26432709695845485, 0.9997381570411986, 3.790763876089935e-05, 3.790763876089935e-05, 3.790763876089935e-05, 7.58152775217987e-05, 0.13220257511296177, 0.13220257511296177, 0.13220257511296177, 0.26440515022592354, 0.1322187968313074, 0.1322187968313074, 0.1322187968313074, 0.2644375936626148, 0.9974833745852097, 0.0003433677709415524, 0.0003433677709415524, 0.0003433677709415524, 0.0006867355418831049, 0.9990324377135856, 0.000137797577615667, 0.000137797577615667, 0.000275595155231334, 0.13218466469606907, 0.13218466469606907, 0.13218466469606907, 0.26436932939213814, 0.13219733622054464, 0.13219733622054464, 0.13219733622054464, 0.2643946724410893, 0.1321999763355334, 0.1321999763355334, 0.1321999763355334, 0.2643999526710668, 0.13220436729052337, 0.13220436729052337, 0.13220436729052337, 0.26440873458104674, 0.1321453689639022, 0.1321453689639022, 0.1321453689639022, 0.2642907379278044, 0.9993331632070162, 9.279721080945455e-05, 9.279721080945455e-05, 9.279721080945455e-05, 0.0001855944216189091, 0.9997777273785866, 2.888111989423077e-05, 2.888111989423077e-05, 2.888111989423077e-05, 5.776223978846154e-05, 0.1322085607740569, 0.1322085607740569, 0.1322085607740569, 0.2644171215481138, 0.1322191194335358, 0.1322191194335358, 0.1322191194335358, 0.2644382388670716, 0.13221666712257776, 0.13221666712257776, 0.13221666712257776, 0.2644333342451555, 0.1322081257497852, 0.1322081257497852, 0.1322081257497852, 0.2644162514995704, 0.9970041860984227, 0.00038126355108926294, 0.00038126355108926294, 0.00038126355108926294, 0.0007625271021785259, 0.9991677245003941, 0.00011087080831118444, 0.00011087080831118444, 0.00011087080831118444, 0.00022174161662236888, 0.13220679627382684, 0.13220679627382684, 0.13220679627382684, 0.2644135925476537, 0.1322035246684073, 0.1322035246684073, 0.1322035246684073, 0.2644070493368146, 0.13217037753687766, 0.13217037753687766, 0.13217037753687766, 0.2643407550737553, 0.13219382412689282, 0.13219382412689282, 0.13219382412689282, 0.26438764825378563, 0.13221703848310484, 0.13221703848310484, 0.13221703848310484, 0.2644340769662097, 0.9993650455553554, 9.0760607170589e-05, 9.0760607170589e-05, 9.0760607170589e-05, 0.000181521214341178, 0.999379865187024, 8.303255775897507e-05, 8.303255775897507e-05, 8.303255775897507e-05, 0.00016606511551795015, 0.1322191194335358, 0.1322191194335358, 0.1322191194335358, 0.2644382388670716, 0.9998156452629943, 2.433351940379172e-05, 2.433351940379172e-05, 2.433351940379172e-05, 4.866703880758344e-05, 0.1322142588742234, 0.1322142588742234, 0.1322142588742234, 0.2644285177484468, 0.1321367855979016, 0.1321367855979016, 0.1321367855979016, 0.2642735711958032, 0.13221043697951032, 0.13221043697951032, 0.13221043697951032, 0.26442087395902064, 0.13219403775789623, 0.13219403775789623, 0.13219403775789623, 0.26438807551579246, 0.13220960763456946, 0.13220960763456946, 0.13220960763456946, 0.2644192152691389, 0.13217788259057509, 0.13217788259057509, 0.13217788259057509, 0.26435576518115017, 0.13217130288136222, 0.13217130288136222, 0.13217130288136222, 0.26434260576272445, 0.9944069164813942, 0.0007539097168168265, 0.0007539097168168265, 0.0007539097168168265, 0.001507819433633653, 0.132207621203439, 0.132207621203439, 0.132207621203439, 0.264415242406878, 0.9985078165578865, 0.00020147453925703924, 0.00020147453925703924, 0.00020147453925703924, 0.0004029490785140785, 0.9996730678440298, 4.630259693580499e-05, 4.630259693580499e-05, 4.630259693580499e-05, 9.260519387160998e-05, 0.1322191194335358, 0.1322191194335358, 0.1322191194335358, 0.2644382388670716, 0.9883182891996541, 0.0016751157444061934, 0.0016751157444061934, 0.0016751157444061934, 0.003350231488812387, 0.13220705309055636, 0.13220705309055636, 0.13220705309055636, 0.2644141061811127, 0.13221591632509916, 0.13221591632509916, 0.13221591632509916, 0.2644318326501983, 0.13220479949432273, 0.13220479949432273, 0.13220479949432273, 0.26440959898864547, 0.9967941916580801, 0.00042129932022742187, 0.00042129932022742187, 0.00042129932022742187, 0.0008425986404548437, 0.13218348706936053, 0.13218348706936053, 0.13218348706936053, 0.26436697413872107, 0.13221250302256154, 0.13221250302256154, 0.13221250302256154, 0.2644250060451231, 0.1322121377535213, 0.1322121377535213, 0.1322121377535213, 0.2644242755070426, 0.1322110131770553, 0.1322110131770553, 0.1322110131770553, 0.2644220263541106, 0.9997440790079914, 3.6244936337888965e-05, 3.6244936337888965e-05, 3.6244936337888965e-05, 7.248987267577793e-05, 0.9986611844243484, 0.00019242026674842937, 0.00019242026674842937, 0.00019242026674842937, 0.00038484053349685873, 0.13221431324508817, 0.13221431324508817, 0.13221431324508817, 0.26442862649017634, 0.99128950912039, 0.0011213682229868666, 0.0011213682229868666, 0.0011213682229868666, 0.002242736445973733, 0.1322043626746537, 0.1322043626746537, 0.1322043626746537, 0.2644087253493074, 0.13221911853813212, 0.13221911853813212, 0.13221911853813212, 0.26443823707626424, 0.9993636497378999, 8.876131536885157e-05, 8.876131536885157e-05, 8.876131536885157e-05, 0.00017752263073770314, 0.13219905074526378, 0.13219905074526378, 0.13219905074526378, 0.26439810149052756, 0.13219736977269783, 0.13219736977269783, 0.13219736977269783, 0.26439473954539566, 0.13221773621605637, 0.13221773621605637, 0.13221773621605637, 0.26443547243211274, 0.9911947247901157, 0.0011620102283588696, 0.0011620102283588696, 0.0011620102283588696, 0.002324020456717739, 0.13221868154512043, 0.13221868154512043, 0.13221868154512043, 0.26443736309024085, 0.9989845097505247, 0.00014018867664194844, 0.00014018867664194844, 0.00014018867664194844, 0.0002803773532838969, 0.1321911267948964, 0.1321911267948964, 0.1321911267948964, 0.2643822535897928, 0.9986679879043568, 0.0001752356532557215, 0.0001752356532557215, 0.0001752356532557215, 0.000350471306511443, 0.13219640610748942, 0.13219640610748942, 0.13219640610748942, 0.26439281221497885, 0.1322191194335358, 0.1322191194335358, 0.1322191194335358, 0.2644382388670716, 0.1322191194335358, 0.1322191194335358, 0.1322191194335358, 0.2644382388670716, 0.13219849610996234, 0.13219849610996234, 0.13219849610996234, 0.2643969922199247, 0.132203319889405, 0.132203319889405, 0.132203319889405, 0.26440663977881, 0.9783036190819889, 0.002803162232326616, 0.002803162232326616, 0.002803162232326616, 0.005606324464653232, 0.1322191194335358, 0.1322191194335358, 0.1322191194335358, 0.2644382388670716, 0.13218753342611886, 0.13218753342611886, 0.13218753342611886, 0.2643750668522377, 0.13220068475312835, 0.13220068475312835, 0.13220068475312835, 0.2644013695062567, 0.13219839554099913, 0.13219839554099913, 0.13219839554099913, 0.26439679108199826, 0.9971036386429081, 0.0003955190950586704, 0.0003955190950586704, 0.0003955190950586704, 0.0007910381901173408, 0.1322035453158479, 0.1322035453158479, 0.1322035453158479, 0.2644070906316958, 0.1321480087271521, 0.1321480087271521, 0.1321480087271521, 0.2642960174543042, 0.1322135935806286, 0.1322135935806286, 0.1322135935806286, 0.2644271871612572, 0.994492536450519, 0.0007008404062371522, 0.0007008404062371522, 0.0007008404062371522, 0.0014016808124743044, 0.1322191194335358, 0.1322191194335358, 0.1322191194335358, 0.2644382388670716, 0.9907504657903075, 0.00130705866199249, 0.00130705866199249, 0.00130705866199249, 0.00261411732398498, 0.13219622136508752, 0.13219622136508752, 0.13219622136508752, 0.26439244273017504, 0.1322191194335358, 0.1322191194335358, 0.1322191194335358, 0.2644382388670716, 0.9993411875775415, 8.396413943686284e-05, 8.396413943686284e-05, 8.396413943686284e-05, 0.00016792827887372568, 0.9944488309490909, 0.0007410199932556564, 0.0007410199932556564, 0.0007410199932556564, 0.0014820399865113128, 0.1322191194335358, 0.1322191194335358, 0.1322191194335358, 0.2644382388670716, 0.13221228034226426, 0.13221228034226426, 0.13221228034226426, 0.2644245606845285, 0.13221282850875984, 0.13221282850875984, 0.13221282850875984, 0.2644256570175197, 0.1322191194335358, 0.1322191194335358, 0.1322191194335358, 0.2644382388670716, 0.13219353793906327, 0.13219353793906327, 0.13219353793906327, 0.26438707587812654, 0.13218318870395024, 0.13218318870395024, 0.13218318870395024, 0.2643663774079005, 0.1321417822488574, 0.1321417822488574, 0.1321417822488574, 0.2642835644977148, 0.1322191194335358, 0.1322191194335358, 0.1322191194335358, 0.2644382388670716, 0.13218823050560705, 0.13218823050560705, 0.13218823050560705, 0.2643764610112141, 0.9938847110675885, 0.0007838207500533032, 0.0007838207500533032, 0.0007838207500533032, 0.0015676415001066063, 0.13220589753332934, 0.13220589753332934, 0.13220589753332934, 0.2644117950666587, 0.13220506415841396, 0.13220506415841396, 0.13220506415841396, 0.2644101283168279, 0.1322136521589546, 0.1322136521589546, 0.1322136521589546, 0.2644273043179092, 0.13220367813053985, 0.13220367813053985, 0.13220367813053985, 0.2644073562610797, 0.13221595950675888, 0.13221595950675888, 0.13221595950675888, 0.26443191901351776, 0.13220796154080142, 0.13220796154080142, 0.13220796154080142, 0.26441592308160283, 0.1322110430881867, 0.1322110430881867, 0.1322110430881867, 0.2644220861763734, 0.13215122368290433, 0.13215122368290433, 0.13215122368290433, 0.26430244736580866, 0.9997522452605876, 3.594679437870659e-05, 3.594679437870659e-05, 3.594679437870659e-05, 7.189358875741318e-05, 0.1321946609497101, 0.1321946609497101, 0.1321946609497101, 0.2643893218994202, 0.1322191194335358, 0.1322191194335358, 0.1322191194335358, 0.2644382388670716, 0.13218475506046728, 0.13218475506046728, 0.13218475506046728, 0.26436951012093457, 0.9967438186146031, 0.0004435887043233659, 0.0004435887043233659, 0.0004435887043233659, 0.0008871774086467317, 0.9992945123694449, 9.856919632762328e-05, 9.856919632762328e-05, 9.856919632762328e-05, 0.00019713839265524656, 0.132213508823404, 0.132213508823404, 0.132213508823404, 0.264427017646808, 0.9986377866577572, 0.00017948198897515405, 0.00017948198897515405, 0.00017948198897515405, 0.0003589639779503081, 0.13220205838319107, 0.13220205838319107, 0.13220205838319107, 0.26440411676638215, 0.1321981881898844, 0.1321981881898844, 0.1321981881898844, 0.2643963763797688, 0.13221048845227323, 0.13221048845227323, 0.13221048845227323, 0.26442097690454647, 0.13217933549909006, 0.13217933549909006, 0.13217933549909006, 0.2643586709981801, 0.1322191194335358, 0.1322191194335358, 0.1322191194335358, 0.2644382388670716, 0.13220560272361023, 0.13220560272361023, 0.13220560272361023, 0.26441120544722047, 0.13220610096403648, 0.13220610096403648, 0.13220610096403648, 0.26441220192807297, 0.132212980344664, 0.132212980344664, 0.132212980344664, 0.264425960689328, 0.13218504008876955, 0.13218504008876955, 0.13218504008876955, 0.2643700801775391, 0.00011342667189051413, 0.999175552683539, 0.00011342667189051413, 0.00022685334378102825, 0.9997325083519303, 3.6314293801377776e-05, 3.6314293801377776e-05, 3.6314293801377776e-05, 7.262858760275555e-05, 0.1322105293546568, 0.1322105293546568, 0.1322105293546568, 0.2644210587093136, 0.997141138164378, 0.000389660468215857, 0.000389660468215857, 0.000389660468215857, 0.000779320936431714, 0.13219671515604278, 0.13219671515604278, 0.13219671515604278, 0.26439343031208556, 0.9750437019657057, 0.0033164751767541007, 0.0033164751767541007, 0.0033164751767541007, 0.006632950353508201, 0.9982448274584345, 0.00022895523565560425, 0.00022895523565560425, 0.00022895523565560425, 0.0004579104713112085, 0.13215423732104298, 0.13215423732104298, 0.13215423732104298, 0.26430847464208596, 0.1322013739263016, 0.1322013739263016, 0.1322013739263016, 0.2644027478526032, 0.9987778295690933, 0.0001646789496404111, 0.0001646789496404111, 0.0001646789496404111, 0.0003293578992808222, 0.9738146406204929, 0.0035411441477108834, 0.0035411441477108834, 0.0035411441477108834, 0.007082288295421767, 0.13215399427530708, 0.13215399427530708, 0.13215399427530708, 0.26430798855061416, 0.13216780848407858, 0.13216780848407858, 0.13216780848407858, 0.26433561696815716, 0.1322050732658651, 0.1322050732658651, 0.1322050732658651, 0.2644101465317302, 0.13220353385258257, 0.13220353385258257, 0.13220353385258257, 0.26440706770516514, 0.9993029787543833, 9.829854207696079e-05, 9.829854207696079e-05, 9.829854207696079e-05, 0.00019659708415392159, 0.1322191194335358, 0.1322191194335358, 0.1322191194335358, 0.2644382388670716, 0.9995937679510525, 5.750740812053e-05, 5.750740812053e-05, 5.750740812053e-05, 0.00011501481624106, 0.13220787750840363, 0.13220787750840363, 0.13220787750840363, 0.26441575501680725, 0.13221351056057065, 0.13221351056057065, 0.13221351056057065, 0.2644270211211413, 0.9983918199797192, 0.00020412836229395198, 0.00020412836229395198, 0.00020412836229395198, 0.00040825672458790396, 0.13217526882961983, 0.13217526882961983, 0.13217526882961983, 0.26435053765923966, 0.9988543962991161, 0.00015986786112341808, 0.00015986786112341808, 0.00015986786112341808, 0.00031973572224683615, 0.132196365109925, 0.132196365109925, 0.132196365109925, 0.26439273021985, 0.9996429741888728, 4.846988819767614e-05, 4.846988819767614e-05, 4.846988819767614e-05, 9.693977639535228e-05, 0.13221702850749864, 0.13221702850749864, 0.13221702850749864, 0.2644340570149973, 0.13218472863674957, 0.13218472863674957, 0.13218472863674957, 0.26436945727349914, 0.1322052158050617, 0.1322052158050617, 0.1322052158050617, 0.2644104316101234, 0.9993049548285122, 9.947292005061837e-05, 9.947292005061837e-05, 9.947292005061837e-05, 0.00019894584010123675, 0.9989149449512422, 0.0001463826120971926, 0.0001463826120971926, 0.0001463826120971926, 0.0002927652241943852, 0.13220307752869428, 0.13220307752869428, 0.13220307752869428, 0.26440615505738857, 0.13219399549915414, 0.13219399549915414, 0.13219399549915414, 0.2643879909983083, 0.132197969596053, 0.132197969596053, 0.132197969596053, 0.264395939192106, 0.13219971333261862, 0.13219971333261862, 0.13219971333261862, 0.26439942666523725, 0.13220248075015048, 0.13220248075015048, 0.13220248075015048, 0.26440496150030096, 0.9970670045551192, 0.00040123420706443427, 0.00040123420706443427, 0.00040123420706443427, 0.0008024684141288685, 0.13221670965780524, 0.13221670965780524, 0.13221670965780524, 0.2644334193156105, 0.13221523345856415, 0.13221523345856415, 0.13221523345856415, 0.2644304669171283, 0.13220771508937665, 0.13220771508937665, 0.13220771508937665, 0.2644154301787533, 0.13220479748133954, 0.13220479748133954, 0.13220479748133954, 0.2644095949626791, 0.9963587148481741, 0.0005603817293859247, 0.0005603817293859247, 0.0011207634587718494, 0.13218589973296624, 0.13218589973296624, 0.13218589973296624, 0.2643717994659325, 0.1321966150252634, 0.1321966150252634, 0.1321966150252634, 0.2643932300505268, 0.993526235737945, 0.0009140075765758463, 0.0009140075765758463, 0.0009140075765758463, 0.0018280151531516926, 0.1321401024025283, 0.1321401024025283, 0.1321401024025283, 0.2642802048050566, 0.13219728138139453, 0.13219728138139453, 0.13219728138139453, 0.26439456276278905, 0.9947464337089982, 0.0006946553308023731, 0.0006946553308023731, 0.0006946553308023731, 0.0013893106616047462, 0.13220348014740824, 0.13220348014740824, 0.13220348014740824, 0.2644069602948165, 0.13219533902483602, 0.13219533902483602, 0.13219533902483602, 0.26439067804967203, 0.1322191194335358, 0.1322191194335358, 0.1322191194335358, 0.2644382388670716, 0.13220788160542757, 0.13220788160542757, 0.13220788160542757, 0.26441576321085514, 0.1322010266852446, 0.1322010266852446, 0.1322010266852446, 0.2644020533704892, 0.13219674561176956, 0.13219674561176956, 0.13219674561176956, 0.2643934912235391, 0.1322191194335358, 0.1322191194335358, 0.1322191194335358, 0.2644382388670716, 0.13220796800269524, 0.13220796800269524, 0.13220796800269524, 0.2644159360053905, 0.99978013901114, 2.8716111529501953e-05, 2.8716111529501953e-05, 2.8716111529501953e-05, 5.743222305900391e-05, 0.9918777386694109, 0.001123304347303976, 0.001123304347303976, 0.001123304347303976, 0.002246608694607952, 0.1322165116655851, 0.1322165116655851, 0.1322165116655851, 0.2644330233311702, 0.9982925423882921, 0.000226833115743761, 0.000226833115743761, 0.000226833115743761, 0.000453666231487522, 0.13216135077143848, 0.13216135077143848, 0.13216135077143848, 0.26432270154287696, 0.1321905221954428, 0.1321905221954428, 0.1321905221954428, 0.2643810443908856, 0.9993725182270738, 8.357355061273406e-05, 8.357355061273406e-05, 8.357355061273406e-05, 0.00016714710122546812, 0.1322091427625366, 0.1322091427625366, 0.1322091427625366, 0.2644182855250732, 0.13221396455458462, 0.13221396455458462, 0.13221396455458462, 0.26442792910916924, 0.13219513930173343, 0.13219513930173343, 0.13219513930173343, 0.26439027860346687, 0.1322121892513969, 0.1322121892513969, 0.1322121892513969, 0.2644243785027938, 0.9937863648314289, 0.0008508444904378672, 0.0008508444904378672, 0.0008508444904378672, 0.0017016889808757344, 0.9994856561983496, 7.473348707928441e-05, 7.473348707928441e-05, 7.473348707928441e-05, 0.00014946697415856882, 0.13220549784568353, 0.13220549784568353, 0.13220549784568353, 0.26441099569136706, 0.1322005979235127, 0.1322005979235127, 0.1322005979235127, 0.2644011958470254, 0.13220110587796483, 0.13220110587796483, 0.13220110587796483, 0.26440221175592965, 0.1322191194335358, 0.1322191194335358, 0.1322191194335358, 0.2644382388670716, 0.13221198685493563, 0.13221198685493563, 0.13221198685493563, 0.26442397370987125, 0.1322187634791493, 0.1322187634791493, 0.1322187634791493, 0.2644375269582986, 0.9964121682875419, 0.00047538748487001043, 0.00047538748487001043, 0.00047538748487001043, 0.0009507749697400209, 0.132193845387883, 0.132193845387883, 0.132193845387883, 0.264387690775766, 0.13219728144133522, 0.13219728144133522, 0.13219728144133522, 0.26439456288267044, 0.13221558995262428, 0.13221558995262428, 0.13221558995262428, 0.26443117990524856, 0.0005722836312638247, 0.0005722836312638247, 0.9957735183990548, 0.0011445672625276493, 0.132200998999412, 0.132200998999412, 0.132200998999412, 0.264401997998824, 0.9752540824212002, 0.003508108210148202, 0.003508108210148202, 0.003508108210148202, 0.007016216420296404, 0.1322191194335358, 0.1322191194335358, 0.1322191194335358, 0.2644382388670716, 0.13220855778854773, 0.13220855778854773, 0.13220855778854773, 0.26441711557709546, 0.00044763807971537605, 0.00044763807971537605, 0.9968900035261424, 0.0008952761594307521, 0.13220926668760993, 0.13220926668760993, 0.13220926668760993, 0.26441853337521987, 0.1322191194335358, 0.1322191194335358, 0.1322191194335358, 0.2644382388670716, 0.13214334144119966, 0.13214334144119966, 0.13214334144119966, 0.2642866828823993, 0.13217867843156203, 0.13217867843156203, 0.13217867843156203, 0.26435735686312406, 0.13220814034202716, 0.13220814034202716, 0.13220814034202716, 0.2644162806840543, 0.13219951770537708, 0.13219951770537708, 0.13219951770537708, 0.26439903541075416, 0.9947694199636197, 0.0007080209394758858, 0.0007080209394758858, 0.0007080209394758858, 0.0014160418789517717, 0.9952830551089591, 0.0006384111963495568, 0.0006384111963495568, 0.0006384111963495568, 0.0012768223926991136, 0.13219662780401997, 0.13219662780401997, 0.13219662780401997, 0.26439325560803995, 0.1321993433386066, 0.1321993433386066, 0.1321993433386066, 0.2643986866772132, 0.1322066704863099, 0.1322066704863099, 0.1322066704863099, 0.2644133409726198, 0.1321934855832411, 0.1321934855832411, 0.1321934855832411, 0.2643869711664822, 0.132205428843866, 0.132205428843866, 0.132205428843866, 0.264410857687732, 0.13221696463415258, 0.13221696463415258, 0.13221696463415258, 0.26443392926830517, 0.9990271867118569, 0.00012817900778956337, 0.00012817900778956337, 0.00012817900778956337, 0.00025635801557912673, 0.9965617151798513, 0.00047455319770469106, 0.00047455319770469106, 0.00047455319770469106, 0.0009491063954093821, 0.1322191194335358, 0.1322191194335358, 0.1322191194335358, 0.2644382388670716, 0.13218867163884512, 0.13218867163884512, 0.13218867163884512, 0.26437734327769025, 0.13220715369128866, 0.13220715369128866, 0.13220715369128866, 0.2644143073825773, 0.1322191194335358, 0.1322191194335358, 0.1322191194335358, 0.2644382388670716, 0.13221906625892282, 0.13221906625892282, 0.13221906625892282, 0.26443813251784565, 0.13221586891963827, 0.13221586891963827, 0.13221586891963827, 0.26443173783927654, 0.13212137534115959, 0.13212137534115959, 0.13212137534115959, 0.26424275068231917, 0.1321715413036768, 0.1321715413036768, 0.1321715413036768, 0.2643430826073536, 0.999266932449474, 0.00010359391794002425, 0.00010359391794002425, 0.00010359391794002425, 0.0002071878358800485, 0.13220178661506465, 0.13220178661506465, 0.13220178661506465, 0.2644035732301293, 0.9961099364013587, 0.0005264851672311621, 0.0005264851672311621, 0.0005264851672311621, 0.0010529703344623242, 0.9989145080311028, 0.00015220394758968503, 0.00015220394758968503, 0.00015220394758968503, 0.00030440789517937006, 0.9970961535487224, 0.00041253461048767993, 0.00041253461048767993, 0.00041253461048767993, 0.0008250692209753599, 0.13220492557745497, 0.13220492557745497, 0.13220492557745497, 0.26440985115490995, 0.13221445360416237, 0.13221445360416237, 0.13221445360416237, 0.26442890720832474, 0.9993788781058673, 9.450391282324986e-05, 9.450391282324986e-05, 0.00018900782564649972, 0.1321402425059089, 0.1321402425059089, 0.1321402425059089, 0.2642804850118178, 0.13221752992124122, 0.13221752992124122, 0.13221752992124122, 0.26443505984248245, 0.13220190291217948, 0.13220190291217948, 0.13220190291217948, 0.26440380582435896, 0.13221346852222576, 0.13221346852222576, 0.13221346852222576, 0.2644269370444515, 0.9992037101543308, 0.00011504936213636509, 0.00011504936213636509, 0.00011504936213636509, 0.00023009872427273017, 0.13218889412342297, 0.13218889412342297, 0.13218889412342297, 0.26437778824684594, 0.1322120916563187, 0.1322120916563187, 0.1322120916563187, 0.2644241833126374, 0.00011007359850443492, 0.9992481272232603, 0.00011007359850443492, 0.00022014719700886985, 0.9991318934240481, 0.00011681654313387677, 0.00011681654313387677, 0.00011681654313387677, 0.00023363308626775354, 0.1322012548484589, 0.1322012548484589, 0.1322012548484589, 0.2644025096969178, 0.13219977700769164, 0.13219977700769164, 0.13219977700769164, 0.2643995540153833, 0.13213467615980476, 0.13213467615980476, 0.13213467615980476, 0.2642693523196095, 0.13219854827093291, 0.13219854827093291, 0.13219854827093291, 0.26439709654186583, 0.13221539318773612, 0.13221539318773612, 0.13221539318773612, 0.26443078637547224, 0.13218545930051512, 0.13218545930051512, 0.13218545930051512, 0.26437091860103024, 0.132204076314006, 0.132204076314006, 0.132204076314006, 0.264408152628012, 0.13220183209562772, 0.13220183209562772, 0.13220183209562772, 0.26440366419125544, 0.1321917562678853, 0.1321917562678853, 0.1321917562678853, 0.2643835125357706, 0.1322073061158599, 0.1322073061158599, 0.1322073061158599, 0.2644146122317198, 0.13221459412842154, 0.13221459412842154, 0.13221459412842154, 0.2644291882568431, 0.1322191194335358, 0.1322191194335358, 0.1322191194335358, 0.2644382388670716, 0.1322126221914069, 0.1322126221914069, 0.1322126221914069, 0.2644252443828138, 0.9997380138352058, 3.50453259661095e-05, 3.50453259661095e-05, 3.50453259661095e-05, 7.0090651932219e-05, 0.1322130333996512, 0.1322130333996512, 0.1322130333996512, 0.2644260667993024, 0.13220251952414455, 0.13220251952414455, 0.13220251952414455, 0.2644050390482891, 0.1322003231542794, 0.1322003231542794, 0.1322003231542794, 0.2644006463085588, 0.9979519972342326, 0.00027659423426669417, 0.00027659423426669417, 0.00027659423426669417, 0.0005531884685333883, 0.13221196192348714, 0.13221196192348714, 0.13221196192348714, 0.2644239238469743, 0.13220822150096417, 0.13220822150096417, 0.13220822150096417, 0.26441644300192835, 0.13211946883295816, 0.13211946883295816, 0.13211946883295816, 0.26423893766591633, 0.998637500547419, 0.00018565486160018944, 0.00018565486160018944, 0.00018565486160018944, 0.0003713097232003789, 0.9975695118705252, 0.00031459145754352734, 0.00031459145754352734, 0.00031459145754352734, 0.0006291829150870547, 0.13219316065792908, 0.13219316065792908, 0.13219316065792908, 0.26438632131585815, 0.9980342759631238, 0.0002685775769545543, 0.0002685775769545543, 0.0002685775769545543, 0.0005371551539091086, 0.13220991395987475, 0.13220991395987475, 0.13220991395987475, 0.2644198279197495, 0.9972330502321898, 0.0003770257278760642, 0.0003770257278760642, 0.0003770257278760642, 0.0007540514557521284, 0.9962828633151872, 0.00047898214582460925, 0.00047898214582460925, 0.00047898214582460925, 0.0009579642916492185, 0.13219147453460367, 0.13219147453460367, 0.13219147453460367, 0.26438294906920734, 0.99756026352187, 0.00035100642629200214, 0.00035100642629200214, 0.00035100642629200214, 0.0007020128525840043, 0.1322191194335358, 0.1322191194335358, 0.1322191194335358, 0.2644382388670716, 0.132204635227974, 0.132204635227974, 0.132204635227974, 0.264409270455948, 0.1322191194335358, 0.1322191194335358, 0.1322191194335358, 0.2644382388670716, 0.13219573544324126, 0.13219573544324126, 0.13219573544324126, 0.2643914708864825, 8.11910303398054e-05, 0.9994615834830045, 8.11910303398054e-05, 0.0001623820606796108, 0.13219381597562502, 0.13219381597562502, 0.13219381597562502, 0.26438763195125004, 0.13221278433806152, 0.13221278433806152, 0.13221278433806152, 0.26442556867612305, 0.132194948075451, 0.132194948075451, 0.132194948075451, 0.264389896150902, 0.13219761366335214, 0.13219761366335214, 0.13219761366335214, 0.2643952273267043, 0.9980794657560949, 0.00026086760735914656, 0.00026086760735914656, 0.00026086760735914656, 0.0005217352147182931, 0.13220100139488442, 0.13220100139488442, 0.13220100139488442, 0.26440200278976883, 0.9994992346227098, 7.17206683856709e-05, 7.17206683856709e-05, 7.17206683856709e-05, 0.0001434413367713418, 0.13221298783456123, 0.13221298783456123, 0.13221298783456123, 0.26442597566912246, 0.13220500477794897, 0.13220500477794897, 0.13220500477794897, 0.26441000955589794, 0.9992745713159088, 0.00010235322865061034, 0.00010235322865061034, 0.00020470645730122068, 0.9997154825915339, 4.011377427941312e-05, 4.011377427941312e-05, 4.011377427941312e-05, 8.022754855882624e-05, 0.1322008495780506, 0.1322008495780506, 0.1322008495780506, 0.2644016991561012, 0.13215110900914914, 0.13215110900914914, 0.13215110900914914, 0.2643022180182983, 0.999765790663897, 3.082082097120343e-05, 3.082082097120343e-05, 3.082082097120343e-05, 6.164164194240687e-05, 0.13219109658644632, 0.13219109658644632, 0.13219109658644632, 0.26438219317289263, 0.13219292133213317, 0.13219292133213317, 0.13219292133213317, 0.26438584266426635, 0.13221343043274464, 0.13221343043274464, 0.13221343043274464, 0.2644268608654893, 0.998078607974236, 0.00026196288923208296, 0.00026196288923208296, 0.00026196288923208296, 0.0005239257784641659, 0.9981471092907365, 0.0002635719855534028, 0.0002635719855534028, 0.0002635719855534028, 0.0005271439711068056, 0.13219477282123313, 0.13219477282123313, 0.13219477282123313, 0.26438954564246625, 0.13221289859627228, 0.13221289859627228, 0.13221289859627228, 0.26442579719254455, 0.9991088138076938, 0.0001209721290480317, 0.0001209721290480317, 0.0001209721290480317, 0.0002419442580960634, 0.13221100976773845, 0.13221100976773845, 0.13221100976773845, 0.2644220195354769, 0.9962183301766001, 0.0004857232229042419, 0.0004857232229042419, 0.0004857232229042419, 0.0009714464458084838, 0.13221691880779482, 0.13221691880779482, 0.13221691880779482, 0.26443383761558964, 0.9994744871674482, 7.082945837768041e-05, 7.082945837768041e-05, 7.082945837768041e-05, 0.00014165891675536082, 0.13219074573060557, 0.13219074573060557, 0.13219074573060557, 0.26438149146121115, 0.13220143710439186, 0.13220143710439186, 0.13220143710439186, 0.2644028742087837, 0.13219913053295768, 0.13219913053295768, 0.13219913053295768, 0.26439826106591535, 0.13218515376367432, 0.13218515376367432, 0.13218515376367432, 0.26437030752734864, 0.13213919907693944, 0.13213919907693944, 0.13213919907693944, 0.2642783981538789, 0.13216863456406916, 0.13216863456406916, 0.13216863456406916, 0.2643372691281383, 0.1322042088646037, 0.1322042088646037, 0.1322042088646037, 0.2644084177292074, 0.13220466435461564, 0.13220466435461564, 0.13220466435461564, 0.2644093287092313, 0.13216282713960806, 0.13216282713960806, 0.13216282713960806, 0.2643256542792161, 0.1321963067219869, 0.1321963067219869, 0.1321963067219869, 0.2643926134439738, 0.9933878152523394, 0.0008447175299764791, 0.0008447175299764791, 0.0008447175299764791, 0.0016894350599529582, 0.9978829185529261, 0.00027474749960157657, 0.00027474749960157657, 0.00027474749960157657, 0.0005494949992031531, 0.13220815833588226, 0.13220815833588226, 0.13220815833588226, 0.2644163166717645, 0.1322059411229789, 0.1322059411229789, 0.1322059411229789, 0.2644118822459578, 0.9996359947904307, 4.9328201075274154e-05, 4.9328201075274154e-05, 4.9328201075274154e-05, 9.865640215054831e-05, 0.13219983476413516, 0.13219983476413516, 0.13219983476413516, 0.2643996695282703, 0.13220402220262062, 0.13220402220262062, 0.13220402220262062, 0.26440804440524124, 0.13219143872491831, 0.13219143872491831, 0.13219143872491831, 0.26438287744983663, 0.9938757179098888, 0.0007869166412588194, 0.0007869166412588194, 0.0007869166412588194, 0.0015738332825176388, 0.1322191194335358, 0.1322191194335358, 0.1322191194335358, 0.2644382388670716, 0.13220308447397158, 0.13220308447397158, 0.13220308447397158, 0.26440616894794317, 0.13221344468108592, 0.13221344468108592, 0.13221344468108592, 0.26442688936217185, 0.9989024655823507, 0.0001575804489008283, 0.0001575804489008283, 0.0001575804489008283, 0.0003151608978016566, 0.9997127915710048, 3.9805406791598835e-05, 3.9805406791598835e-05, 3.9805406791598835e-05, 7.961081358319767e-05, 0.1321231038962719, 0.1321231038962719, 0.1321231038962719, 0.2642462077925438, 0.13219481659296292, 0.13219481659296292, 0.13219481659296292, 0.26438963318592584, 0.1322191194335358, 0.1322191194335358, 0.1322191194335358, 0.2644382388670716, 0.1322028001464387, 0.1322028001464387, 0.1322028001464387, 0.2644056002928774, 0.132198188234857, 0.132198188234857, 0.132198188234857, 0.264396376469714, 0.1322083438908788, 0.1322083438908788, 0.1322083438908788, 0.2644166877817576, 0.13220583597826083, 0.13220583597826083, 0.13220583597826083, 0.26441167195652165, 0.13219460142504336, 0.13219460142504336, 0.13219460142504336, 0.2643892028500867, 0.13219269287316565, 0.13219269287316565, 0.13219269287316565, 0.2643853857463313, 0.1322043890128574, 0.1322043890128574, 0.1322043890128574, 0.2644087780257148, 0.13221391926950346, 0.13221391926950346, 0.13221391926950346, 0.2644278385390069, 0.9973123323140839, 0.0003894230114463428, 0.0003894230114463428, 0.0003894230114463428, 0.0007788460228926856, 0.13220308472482784, 0.13220308472482784, 0.13220308472482784, 0.26440616944965567, 0.9869721654984234, 0.0018799469819017589, 0.0018799469819017589, 0.0018799469819017589, 0.0037598939638035177, 0.1322191194335358, 0.1322191194335358, 0.1322191194335358, 0.2644382388670716, 0.1321911173900142, 0.1321911173900142, 0.1321911173900142, 0.2643822347800284, 0.9975468762016224, 0.00031183084595236716, 0.00031183084595236716, 0.00031183084595236716, 0.0006236616919047343, 0.9944635114028242, 0.0007180241959587178, 0.0007180241959587178, 0.0007180241959587178, 0.0014360483919174357, 0.13220289367514743, 0.13220289367514743, 0.13220289367514743, 0.26440578735029485, 0.13219637068037338, 0.13219637068037338, 0.13219637068037338, 0.26439274136074675, 0.13221393738537562, 0.13221393738537562, 0.13221393738537562, 0.26442787477075125, 0.9988865649166189, 0.00014603604750242967, 0.00014603604750242967, 0.00014603604750242967, 0.00029207209500485933, 0.13221458972407155, 0.13221458972407155, 0.13221458972407155, 0.2644291794481431, 0.1322106637336899, 0.1322106637336899, 0.1322106637336899, 0.2644213274673798, 0.13217835423876412, 0.13217835423876412, 0.13217835423876412, 0.26435670847752823, 0.13218926117831323, 0.13218926117831323, 0.13218926117831323, 0.26437852235662646, 0.13219931382075564, 0.13219931382075564, 0.13219931382075564, 0.2643986276415113, 0.13214980465283038, 0.13214980465283038, 0.13214980465283038, 0.26429960930566077, 0.13220002299562614, 0.13220002299562614, 0.13220002299562614, 0.2644000459912523, 0.9985606152240772, 0.00018526170968906813, 0.00018526170968906813, 0.00018526170968906813, 0.00037052341937813627, 0.13220900965708038, 0.13220900965708038, 0.13220900965708038, 0.26441801931416076, 0.13220702187407093, 0.13220702187407093, 0.13220702187407093, 0.26441404374814187, 0.13221739481800757, 0.13221739481800757, 0.13221739481800757, 0.26443478963601513, 0.13219658992674163, 0.13219658992674163, 0.13219658992674163, 0.26439317985348326, 0.1322191194335358, 0.1322191194335358, 0.1322191194335358, 0.2644382388670716, 0.13221468238476072, 0.13221468238476072, 0.13221468238476072, 0.26442936476952145, 0.1322147685414975, 0.1322147685414975, 0.1322147685414975, 0.264429537082995, 0.1322139234947548, 0.1322139234947548, 0.1322139234947548, 0.2644278469895096, 0.13221701053880514, 0.13221701053880514, 0.13221701053880514, 0.26443402107761027, 0.1322014634204256, 0.1322014634204256, 0.1322014634204256, 0.2644029268408512, 0.132215577654718, 0.132215577654718, 0.132215577654718, 0.264431155309436, 0.13221815037113854, 0.13221815037113854, 0.13221815037113854, 0.2644363007422771, 0.1322191194335358, 0.1322191194335358, 0.1322191194335358, 0.2644382388670716, 0.13220583876558917, 0.13220583876558917, 0.13220583876558917, 0.26441167753117834, 0.13221499283086038, 0.13221499283086038, 0.13221499283086038, 0.26442998566172077, 0.13220301755421193, 0.13220301755421193, 0.13220301755421193, 0.26440603510842386, 0.1321889715856521, 0.1321889715856521, 0.1321889715856521, 0.2643779431713042, 0.13219560678134068, 0.13219560678134068, 0.13219560678134068, 0.26439121356268136, 0.13220478444881717, 0.13220478444881717, 0.13220478444881717, 0.26440956889763434, 0.9954903563706945, 0.0005734391453748241, 0.0005734391453748241, 0.0005734391453748241, 0.0011468782907496481, 0.13221158014915618, 0.13221158014915618, 0.13221158014915618, 0.26442316029831237, 0.1322057203658586, 0.1322057203658586, 0.1322057203658586, 0.2644114407317172, 0.13218997544820973, 0.13218997544820973, 0.13218997544820973, 0.26437995089641947, 0.13215959271487945, 0.13215959271487945, 0.13215959271487945, 0.2643191854297589, 0.9972196294808389, 0.00037816444045538067, 0.00037816444045538067, 0.00037816444045538067, 0.0007563288809107613, 0.9915198468043069, 0.0011078434042506222, 0.0011078434042506222, 0.0011078434042506222, 0.0022156868085012444, 0.13220942755123413, 0.13220942755123413, 0.13220942755123413, 0.26441885510246826, 0.9910489883751324, 0.0011714527049351447, 0.0011714527049351447, 0.0011714527049351447, 0.0023429054098702893, 0.9990883073637693, 0.00012089645539251806, 0.00012089645539251806, 0.00012089645539251806, 0.00024179291078503613, 4.228444444750687e-05, 4.228444444750687e-05, 0.9996888356279574, 8.456888889501374e-05, 0.13220630873916026, 0.13220630873916026, 0.13220630873916026, 0.2644126174783205, 0.13213683562170972, 0.13213683562170972, 0.13213683562170972, 0.26427367124341944, 0.1322114315202296, 0.1322114315202296, 0.1322114315202296, 0.2644228630404592, 0.1322002651979894, 0.1322002651979894, 0.1322002651979894, 0.2644005303959788, 0.13220738991314288, 0.13220738991314288, 0.13220738991314288, 0.26441477982628575, 0.13218732346122686, 0.13218732346122686, 0.13218732346122686, 0.2643746469224537, 0.13217358884728225, 0.13217358884728225, 0.13217358884728225, 0.2643471776945645, 0.13221346363723968, 0.13221346363723968, 0.13221346363723968, 0.26442692727447936, 0.1322191194335358, 0.1322191194335358, 0.1322191194335358, 0.2644382388670716, 0.9996843027636461, 4.1938343867250325e-05, 4.1938343867250325e-05, 4.1938343867250325e-05, 8.387668773450065e-05, 0.999823034012207, 2.340245380736856e-05, 2.340245380736856e-05, 2.340245380736856e-05, 4.680490761473712e-05, 0.9986131303776199, 0.00020186236716749947, 0.00020186236716749947, 0.00020186236716749947, 0.00040372473433499895, 0.999241844741727, 0.00010969830329802689, 0.00010969830329802689, 0.00010969830329802689, 0.00021939660659605378, 0.9922152698295245, 0.0011000169288575658, 0.0011000169288575658, 0.0011000169288575658, 0.0022000338577151317, 0.132204814455582, 0.132204814455582, 0.132204814455582, 0.264409628911164, 0.13220969765725601, 0.13220969765725601, 0.13220969765725601, 0.26441939531451203, 0.1321849983328864, 0.1321849983328864, 0.1321849983328864, 0.2643699966657728, 0.9954706026801464, 0.000650634380836697, 0.000650634380836697, 0.000650634380836697, 0.001301268761673394, 0.9994901426945728, 7.148917407156662e-05, 7.148917407156662e-05, 7.148917407156662e-05, 0.00014297834814313323, 0.1321849640529449, 0.1321849640529449, 0.1321849640529449, 0.2643699281058898, 0.9923187702912754, 0.0009953046843443082, 0.0009953046843443082, 0.0009953046843443082, 0.0019906093686886165, 0.13219037982273674, 0.13219037982273674, 0.13219037982273674, 0.2643807596454735, 0.1322010578998436, 0.1322010578998436, 0.1322010578998436, 0.2644021157996872, 0.9989344775660136, 0.0001540614555160416, 0.0001540614555160416, 0.0001540614555160416, 0.0003081229110320832, 0.13221775981900702, 0.13221775981900702, 0.13221775981900702, 0.26443551963801404, 0.13213997570906008, 0.13213997570906008, 0.13213997570906008, 0.26427995141812016, 0.9900137363988175, 0.001420392735148949, 0.001420392735148949, 0.001420392735148949, 0.002840785470297898, 0.13221589485855698, 0.13221589485855698, 0.13221589485855698, 0.26443178971711395, 0.9999048689381682, 1.2898503230584852e-05, 1.2898503230584852e-05, 1.2898503230584852e-05, 2.5797006461169704e-05, 0.13220318285666444, 0.13220318285666444, 0.13220318285666444, 0.2644063657133289], \"Term\": [\"\\u0430\\u0432\\u0442\\u043e\\u0440\", \"\\u0430\\u0432\\u0442\\u043e\\u0440\", \"\\u0430\\u0432\\u0442\\u043e\\u0440\", \"\\u0430\\u0432\\u0442\\u043e\\u0440\", \"\\u0430\\u0433\\u0430\", \"\\u0430\\u0433\\u0430\", \"\\u0430\\u0433\\u0430\", \"\\u0430\\u0433\\u0430\", \"\\u0430\\u043b\\u043b\\u0435\\u044f\", \"\\u0430\\u043b\\u043b\\u0435\\u044f\", \"\\u0430\\u043b\\u043b\\u0435\\u044f\", \"\\u0430\\u043b\\u043b\\u0435\\u044f\", \"\\u0430\\u043d\\u0430\\u043b\\u043e\\u0433\\u0438\\u0447\\u043d\\u043e\", \"\\u0430\\u043d\\u0430\\u043b\\u043e\\u0433\\u0438\\u0447\\u043d\\u043e\", \"\\u0430\\u043d\\u0430\\u043b\\u043e\\u0433\\u0438\\u0447\\u043d\\u043e\", \"\\u0430\\u043d\\u0430\\u043b\\u043e\\u0433\\u0438\\u0447\\u043d\\u043e\", \"\\u0430\\u043d\\u0433\\u0435\\u043b\", \"\\u0430\\u043d\\u0433\\u0435\\u043b\", \"\\u0430\\u043d\\u0433\\u0435\\u043b\", \"\\u0430\\u043d\\u0433\\u0435\\u043b\", \"\\u0430\\u043d\\u0433\\u0435\\u043b\\u0430\", \"\\u0430\\u043d\\u0433\\u0435\\u043b\\u0430\", \"\\u0430\\u043d\\u0433\\u0435\\u043b\\u0430\", \"\\u0430\\u043d\\u0433\\u0435\\u043b\\u0430\", \"\\u0430\\u043d\\u0434\\u0440\\u0435\\u0439\", \"\\u0430\\u043d\\u0434\\u0440\\u0435\\u0439\", \"\\u0430\\u043d\\u0434\\u0440\\u0435\\u0439\", \"\\u0430\\u043d\\u0434\\u0440\\u0435\\u0439\", \"\\u0430\\u0445\\u0430\\u0445\", \"\\u0430\\u0445\\u0430\\u0445\", \"\\u0430\\u0445\\u0430\\u0445\", \"\\u0430\\u0445\\u0430\\u0445\", \"\\u0430\\u0445\\u0430\\u0445\", \"\\u0430\\u0445\\u0430\\u0445\\u0438\", \"\\u0430\\u0445\\u0430\\u0445\\u0438\", \"\\u0430\\u0445\\u0430\\u0445\\u0438\", \"\\u0430\\u0445\\u0430\\u0445\\u0438\", \"\\u0430\\u0445\\u0430\\u0445\\u0445\\u0430\", \"\\u0430\\u0445\\u0430\\u0445\\u0445\\u0430\", \"\\u0430\\u0445\\u0430\\u0445\\u0445\\u0430\", \"\\u0430\\u0445\\u0430\\u0445\\u0445\\u0430\", \"\\u0430\\u0445\\u0438\", \"\\u0430\\u0445\\u0438\", \"\\u0430\\u0445\\u0438\", \"\\u0430\\u0445\\u0438\", \"\\u0431\\u0435\\u0437\\u0443\\u043c\\u043d\\u043e\", \"\\u0431\\u0435\\u0437\\u0443\\u043c\\u043d\\u043e\", \"\\u0431\\u0435\\u0437\\u0443\\u043c\\u043d\\u043e\", \"\\u0431\\u0435\\u0437\\u0443\\u043c\\u043d\\u043e\", \"\\u0431\\u0435\\u0441\\u043f\\u043b\\u0430\\u0442\\u043d\\u043e\", \"\\u0431\\u0435\\u0441\\u043f\\u043b\\u0430\\u0442\\u043d\\u043e\", \"\\u0431\\u0435\\u0441\\u043f\\u043b\\u0430\\u0442\\u043d\\u043e\", \"\\u0431\\u0435\\u0441\\u043f\\u043b\\u0430\\u0442\\u043d\\u043e\", \"\\u0431\\u043b\\u0430\\u0433\\u043e\\u0434\\u0430\\u0440\\u0438\\u0442\\u044c\", \"\\u0431\\u043b\\u0430\\u0433\\u043e\\u0434\\u0430\\u0440\\u0438\\u0442\\u044c\", \"\\u0431\\u043b\\u0430\\u0433\\u043e\\u0434\\u0430\\u0440\\u0438\\u0442\\u044c\", \"\\u0431\\u043b\\u0430\\u0433\\u043e\\u0434\\u0430\\u0440\\u0438\\u0442\\u044c\", \"\\u0431\\u043b\\u0438\\u043d\", \"\\u0431\\u043b\\u0438\\u043d\", \"\\u0431\\u043b\\u0438\\u043d\", \"\\u0431\\u043b\\u0438\\u043d\", \"\\u0431\\u043b\\u0438\\u043d\", \"\\u0431\\u043b\\u044f\", \"\\u0431\\u043b\\u044f\", \"\\u0431\\u043b\\u044f\", \"\\u0431\\u043b\\u044f\", \"\\u0431\\u043b\\u044f\", \"\\u0431\\u043e\\u0433\", \"\\u0431\\u043e\\u0433\", \"\\u0431\\u043e\\u0433\", \"\\u0431\\u043e\\u0433\", \"\\u0431\\u043e\\u043b\\u0435\\u0442\\u044c\", \"\\u0431\\u043e\\u043b\\u0435\\u0442\\u044c\", \"\\u0431\\u043e\\u043b\\u0435\\u0442\\u044c\", \"\\u0431\\u043e\\u043b\\u0435\\u0442\\u044c\", \"\\u0431\\u043e\\u043b\\u044c\\u043d\\u0438\\u0447\\u043a\\u0430\", \"\\u0431\\u043e\\u043b\\u044c\\u043d\\u0438\\u0447\\u043a\\u0430\", \"\\u0431\\u043e\\u043b\\u044c\\u043d\\u0438\\u0447\\u043a\\u0430\", \"\\u0431\\u043e\\u043b\\u044c\\u043d\\u0438\\u0447\\u043a\\u0430\", \"\\u0431\\u043e\\u043b\\u044c\\u0448\\u043e\\u0439\", \"\\u0431\\u043e\\u043b\\u044c\\u0448\\u043e\\u0439\", \"\\u0431\\u043e\\u043b\\u044c\\u0448\\u043e\\u0439\", \"\\u0431\\u043e\\u043b\\u044c\\u0448\\u043e\\u0439\", \"\\u0431\\u0440\\u0430\\u0442\", \"\\u0431\\u0440\\u0430\\u0442\", \"\\u0431\\u0440\\u0430\\u0442\", \"\\u0431\\u0440\\u0430\\u0442\", \"\\u0431\\u0440\\u0430\\u0442\\u044c\", \"\\u0431\\u0440\\u0430\\u0442\\u044c\", \"\\u0431\\u0440\\u0430\\u0442\\u044c\", \"\\u0431\\u0440\\u0430\\u0442\\u044c\", \"\\u0431\\u0443\\u0434\\u0438\\u0442\\u044c\", \"\\u0431\\u0443\\u0434\\u0438\\u0442\\u044c\", \"\\u0431\\u0443\\u0434\\u0438\\u0442\\u044c\", \"\\u0431\\u0443\\u0434\\u0438\\u0442\\u044c\", \"\\u0431\\u0443\\u0440\\u0443\\u043d\\u0434\\u0443\\u043a\", \"\\u0431\\u0443\\u0440\\u0443\\u043d\\u0434\\u0443\\u043a\", \"\\u0431\\u0443\\u0440\\u0443\\u043d\\u0434\\u0443\\u043a\", \"\\u0431\\u0443\\u0440\\u0443\\u043d\\u0434\\u0443\\u043a\", \"\\u0432\\u0430\\u0448\", \"\\u0432\\u0430\\u0448\", \"\\u0432\\u0430\\u0448\", \"\\u0432\\u0430\\u0448\", \"\\u0432\\u0430\\u0448\", \"\\u0432\\u0435\\u0440\\u0438\\u0442\\u044c\", \"\\u0432\\u0435\\u0440\\u0438\\u0442\\u044c\", \"\\u0432\\u0435\\u0440\\u0438\\u0442\\u044c\", \"\\u0432\\u0435\\u0440\\u0438\\u0442\\u044c\", \"\\u0432\\u0435\\u0441\\u0435\\u043b\\u043e\", \"\\u0432\\u0435\\u0441\\u0435\\u043b\\u043e\", \"\\u0432\\u0435\\u0441\\u0435\\u043b\\u043e\", \"\\u0432\\u0435\\u0441\\u0435\\u043b\\u043e\", \"\\u0432\\u0435\\u0441\\u044c\", \"\\u0432\\u0435\\u0441\\u044c\", \"\\u0432\\u0435\\u0441\\u044c\", \"\\u0432\\u0435\\u0441\\u044c\", \"\\u0432\\u0435\\u0441\\u044c\", \"\\u0432\\u0435\\u0447\\u0435\\u0440\", \"\\u0432\\u0435\\u0447\\u0435\\u0440\", \"\\u0432\\u0435\\u0447\\u0435\\u0440\", \"\\u0432\\u0435\\u0447\\u0435\\u0440\", \"\\u0432\\u0435\\u0447\\u0435\\u0440\\u043e\\u043c\", \"\\u0432\\u0435\\u0447\\u0435\\u0440\\u043e\\u043c\", \"\\u0432\\u0435\\u0447\\u0435\\u0440\\u043e\\u043c\", \"\\u0432\\u0435\\u0447\\u0435\\u0440\\u043e\\u043c\", \"\\u0432\\u0435\\u0447\\u0435\\u0440\\u043e\\u043c\", \"\\u0432\\u0437\\u044f\\u0442\\u044c\", \"\\u0432\\u0437\\u044f\\u0442\\u044c\", \"\\u0432\\u0437\\u044f\\u0442\\u044c\", \"\\u0432\\u0437\\u044f\\u0442\\u044c\", \"\\u0432\\u0437\\u044f\\u0442\\u044c\", \"\\u0432\\u0438\\u0434\\u0435\\u0442\\u044c\", \"\\u0432\\u0438\\u0434\\u0435\\u0442\\u044c\", \"\\u0432\\u0438\\u0434\\u0435\\u0442\\u044c\", \"\\u0432\\u0438\\u0434\\u0435\\u0442\\u044c\", \"\\u0432\\u043b\\u044e\\u0431\\u0438\\u0442\\u044c\", \"\\u0432\\u043b\\u044e\\u0431\\u0438\\u0442\\u044c\", \"\\u0432\\u043b\\u044e\\u0431\\u0438\\u0442\\u044c\", \"\\u0432\\u043b\\u044e\\u0431\\u0438\\u0442\\u044c\", \"\\u0432\\u043c\\u0435\\u0441\\u0442\\u0435\", \"\\u0432\\u043c\\u0435\\u0441\\u0442\\u0435\", \"\\u0432\\u043c\\u0435\\u0441\\u0442\\u0435\", \"\\u0432\\u043c\\u0435\\u0441\\u0442\\u0435\", \"\\u0432\\u043e\\u0439\\u043d\\u0430\", \"\\u0432\\u043e\\u0439\\u043d\\u0430\", \"\\u0432\\u043e\\u0439\\u043d\\u0430\", \"\\u0432\\u043e\\u0439\\u043d\\u0430\", \"\\u0432\\u043e\\u043b\\u043e\\u0441\", \"\\u0432\\u043e\\u043b\\u043e\\u0441\", \"\\u0432\\u043e\\u043b\\u043e\\u0441\", \"\\u0432\\u043e\\u043b\\u043e\\u0441\", \"\\u0432\\u043e\\u043e\\u0431\\u0449\\u0435\", \"\\u0432\\u043e\\u043e\\u0431\\u0449\\u0435\", \"\\u0432\\u043e\\u043e\\u0431\\u0449\\u0435\", \"\\u0432\\u043e\\u043e\\u0431\\u0449\\u0435\", \"\\u0432\\u043e\\u043f\\u0440\\u043e\\u0441\", \"\\u0432\\u043e\\u043f\\u0440\\u043e\\u0441\", \"\\u0432\\u043e\\u043f\\u0440\\u043e\\u0441\", \"\\u0432\\u043e\\u043f\\u0440\\u043e\\u0441\", \"\\u0432\\u0440\\u0435\\u043c\\u044f\", \"\\u0432\\u0440\\u0435\\u043c\\u044f\", \"\\u0432\\u0440\\u0435\\u043c\\u044f\", \"\\u0432\\u0440\\u0435\\u043c\\u044f\", \"\\u0432\\u0440\\u0435\\u043c\\u044f\", \"\\u0432\\u0441\\u0442\\u0440\\u0435\\u0447\\u0430\\u0442\\u044c\", \"\\u0432\\u0441\\u0442\\u0440\\u0435\\u0447\\u0430\\u0442\\u044c\", \"\\u0432\\u0441\\u0442\\u0440\\u0435\\u0447\\u0430\\u0442\\u044c\", \"\\u0432\\u0441\\u0442\\u0440\\u0435\\u0447\\u0430\\u0442\\u044c\", \"\\u0432\\u0441\\u0442\\u0440\\u0435\\u0447\\u0430\\u0442\\u044c\", \"\\u0432\\u0441\\u044f\\u043a\\u0438\\u0439\", \"\\u0432\\u0441\\u044f\\u043a\\u0438\\u0439\", \"\\u0432\\u0441\\u044f\\u043a\\u0438\\u0439\", \"\\u0432\\u0441\\u044f\\u043a\\u0438\\u0439\", \"\\u0432\\u0441\\u044f\\u043a\\u0438\\u0439\", \"\\u0432\\u0441\\u0451\", \"\\u0432\\u0441\\u0451\", \"\\u0432\\u0441\\u0451\", \"\\u0432\\u0441\\u0451\", \"\\u0432\\u0441\\u0451\", \"\\u0432\\u0442\\u043e\\u0440\\u043e\\u0439\", \"\\u0432\\u0442\\u043e\\u0440\\u043e\\u0439\", \"\\u0432\\u0442\\u043e\\u0440\\u043e\\u0439\", \"\\u0432\\u0442\\u043e\\u0440\\u043e\\u0439\", \"\\u0432\\u0442\\u043e\\u0440\\u043e\\u0439\", \"\\u0432\\u0447\\u0435\\u0440\\u0430\", \"\\u0432\\u0447\\u0435\\u0440\\u0430\", \"\\u0432\\u0447\\u0435\\u0440\\u0430\", \"\\u0432\\u0447\\u0435\\u0440\\u0430\", \"\\u0432\\u0447\\u0435\\u0440\\u0430\", \"\\u0432\\u044b\\u0434\\u0430\\u0432\\u0430\\u0442\\u044c\", \"\\u0432\\u044b\\u0434\\u0430\\u0432\\u0430\\u0442\\u044c\", \"\\u0432\\u044b\\u0434\\u0430\\u0432\\u0430\\u0442\\u044c\", \"\\u0432\\u044b\\u0434\\u0430\\u0432\\u0430\\u0442\\u044c\", \"\\u0432\\u044b\\u0434\\u0430\\u0442\\u044c\", \"\\u0432\\u044b\\u0434\\u0430\\u0442\\u044c\", \"\\u0432\\u044b\\u0434\\u0430\\u0442\\u044c\", \"\\u0432\\u044b\\u0434\\u0430\\u0442\\u044c\", \"\\u0432\\u044b\\u0439\\u0442\\u0438\", \"\\u0432\\u044b\\u0439\\u0442\\u0438\", \"\\u0432\\u044b\\u0439\\u0442\\u0438\", \"\\u0432\\u044b\\u0439\\u0442\\u0438\", \"\\u0432\\u044b\\u043f\\u0438\\u0442\\u044c\", \"\\u0432\\u044b\\u043f\\u0438\\u0442\\u044c\", \"\\u0432\\u044b\\u043f\\u0438\\u0442\\u044c\", \"\\u0432\\u044b\\u043f\\u0438\\u0442\\u044c\", \"\\u0432\\u044b\\u043f\\u0438\\u0442\\u044c\", \"\\u0432\\u044b\\u0441\\u043f\\u0430\\u0442\\u044c\\u0441\\u044f\", \"\\u0432\\u044b\\u0441\\u043f\\u0430\\u0442\\u044c\\u0441\\u044f\", \"\\u0432\\u044b\\u0441\\u043f\\u0430\\u0442\\u044c\\u0441\\u044f\", \"\\u0432\\u044b\\u0441\\u043f\\u0430\\u0442\\u044c\\u0441\\u044f\", \"\\u0432\\u044b\\u0443\\u0447\\u0438\\u0442\\u044c\", \"\\u0432\\u044b\\u0443\\u0447\\u0438\\u0442\\u044c\", \"\\u0432\\u044b\\u0443\\u0447\\u0438\\u0442\\u044c\", \"\\u0432\\u044b\\u0443\\u0447\\u0438\\u0442\\u044c\", \"\\u0432\\u044b\\u0445\\u043e\\u0434\\u043d\\u043e\\u0439\", \"\\u0432\\u044b\\u0445\\u043e\\u0434\\u043d\\u043e\\u0439\", \"\\u0432\\u044b\\u0445\\u043e\\u0434\\u043d\\u043e\\u0439\", \"\\u0432\\u044b\\u0445\\u043e\\u0434\\u043d\\u043e\\u0439\", \"\\u0433\\u0430\\u0438\", \"\\u0433\\u0430\\u0438\", \"\\u0433\\u0430\\u0438\", \"\\u0433\\u0430\\u0438\", \"\\u0433\\u043b\\u0430\\u0432\\u043d\\u043e\\u0435\", \"\\u0433\\u043b\\u0430\\u0432\\u043d\\u043e\\u0435\", \"\\u0433\\u043b\\u0430\\u0432\\u043d\\u043e\\u0435\", \"\\u0433\\u043b\\u0430\\u0432\\u043d\\u043e\\u0435\", \"\\u0433\\u043b\\u0430\\u0432\\u043d\\u043e\\u0435\", \"\\u0433\\u043b\\u0430\\u0437\", \"\\u0433\\u043b\\u0430\\u0437\", \"\\u0433\\u043b\\u0430\\u0437\", \"\\u0433\\u043b\\u0430\\u0437\", \"\\u0433\\u043b\\u044f\\u043d\\u0443\\u0442\\u044c\", \"\\u0433\\u043b\\u044f\\u043d\\u0443\\u0442\\u044c\", \"\\u0433\\u043b\\u044f\\u043d\\u0443\\u0442\\u044c\", \"\\u0433\\u043b\\u044f\\u043d\\u0443\\u0442\\u044c\", \"\\u0433\\u043b\\u044f\\u043d\\u0443\\u0442\\u044c\", \"\\u0433\\u043e\\u0432\\u043e\\u0440\\u0438\\u0442\\u044c\", \"\\u0433\\u043e\\u0432\\u043e\\u0440\\u0438\\u0442\\u044c\", \"\\u0433\\u043e\\u0432\\u043e\\u0440\\u0438\\u0442\\u044c\", \"\\u0433\\u043e\\u0432\\u043e\\u0440\\u0438\\u0442\\u044c\", \"\\u0433\\u043e\\u0434\", \"\\u0433\\u043e\\u0434\", \"\\u0433\\u043e\\u0434\", \"\\u0433\\u043e\\u0434\", \"\\u0433\\u043e\\u0434\", \"\\u0433\\u043e\\u043b\\u043e\\u0432\\u0430\", \"\\u0433\\u043e\\u043b\\u043e\\u0432\\u0430\", \"\\u0433\\u043e\\u043b\\u043e\\u0432\\u0430\", \"\\u0433\\u043e\\u043b\\u043e\\u0432\\u0430\", \"\\u0433\\u043e\\u043b\\u043e\\u0434\", \"\\u0433\\u043e\\u043b\\u043e\\u0434\", \"\\u0433\\u043e\\u043b\\u043e\\u0434\", \"\\u0433\\u043e\\u043b\\u043e\\u0434\", \"\\u0433\\u0440\\u0443\\u043f\\u043f\\u0430\", \"\\u0433\\u0440\\u0443\\u043f\\u043f\\u0430\", \"\\u0433\\u0440\\u0443\\u043f\\u043f\\u0430\", \"\\u0433\\u0440\\u0443\\u043f\\u043f\\u0430\", \"\\u0433\\u0440\\u0443\\u043f\\u043f\\u0430\", \"\\u0433\\u0443\\u043b\\u044f\\u0442\\u044c\", \"\\u0433\\u0443\\u043b\\u044f\\u0442\\u044c\", \"\\u0433\\u0443\\u043b\\u044f\\u0442\\u044c\", \"\\u0433\\u0443\\u043b\\u044f\\u0442\\u044c\", \"\\u0434\\u0430\\u0432\\u0430\\u0442\\u044c\", \"\\u0434\\u0430\\u0432\\u0430\\u0442\\u044c\", \"\\u0434\\u0430\\u0432\\u0430\\u0442\\u044c\", \"\\u0434\\u0430\\u0432\\u0430\\u0442\\u044c\", \"\\u0434\\u0430\\u0432\\u043d\\u043e\", \"\\u0434\\u0430\\u0432\\u043d\\u043e\", \"\\u0434\\u0430\\u0432\\u043d\\u043e\", \"\\u0434\\u0430\\u0432\\u043d\\u043e\", \"\\u0434\\u0435\\u0432\\u043e\\u0447\\u043a\\u0430\", \"\\u0434\\u0435\\u0432\\u043e\\u0447\\u043a\\u0430\", \"\\u0434\\u0435\\u0432\\u043e\\u0447\\u043a\\u0430\", \"\\u0434\\u0435\\u0432\\u043e\\u0447\\u043a\\u0430\", \"\\u0434\\u0435\\u043a\\u0430\\u0431\\u0440\\u044c\", \"\\u0434\\u0435\\u043a\\u0430\\u0431\\u0440\\u044c\", \"\\u0434\\u0435\\u043a\\u0430\\u0431\\u0440\\u044c\", \"\\u0434\\u0435\\u043a\\u0430\\u0431\\u0440\\u044c\", \"\\u0434\\u0435\\u043b\\u0430\\u0442\\u044c\", \"\\u0434\\u0435\\u043b\\u0430\\u0442\\u044c\", \"\\u0434\\u0435\\u043b\\u0430\\u0442\\u044c\", \"\\u0434\\u0435\\u043b\\u0430\\u0442\\u044c\", \"\\u0434\\u0435\\u043b\\u043e\", \"\\u0434\\u0435\\u043b\\u043e\", \"\\u0434\\u0435\\u043b\\u043e\", \"\\u0434\\u0435\\u043b\\u043e\", \"\\u0434\\u0435\\u043b\\u043e\", \"\\u0434\\u0435\\u043d\\u044c\", \"\\u0434\\u0435\\u043d\\u044c\", \"\\u0434\\u0435\\u043d\\u044c\", \"\\u0434\\u0435\\u043d\\u044c\", \"\\u0434\\u0435\\u043d\\u044c\", \"\\u0434\\u0435\\u043d\\u044c\\u0433\\u0430\", \"\\u0434\\u0435\\u043d\\u044c\\u0433\\u0430\", \"\\u0434\\u0435\\u043d\\u044c\\u0433\\u0430\", \"\\u0434\\u0435\\u043d\\u044c\\u0433\\u0430\", \"\\u0434\\u0438\\u043b\", \"\\u0434\\u0438\\u043b\", \"\\u0434\\u0438\\u043b\", \"\\u0434\\u0438\\u043b\", \"\\u0434\\u0438\\u0441\\u043a\", \"\\u0434\\u0438\\u0441\\u043a\", \"\\u0434\\u0438\\u0441\\u043a\", \"\\u0434\\u0438\\u0441\\u043a\", \"\\u0434\\u043d\\u044e\\u0448\\u043a\\u0430\", \"\\u0434\\u043d\\u044e\\u0448\\u043a\\u0430\", \"\\u0434\\u043d\\u044e\\u0448\\u043a\\u0430\", \"\\u0434\\u043d\\u044e\\u0448\\u043a\\u0430\", \"\\u0434\\u043e\\u0431\\u0440\\u043e\", \"\\u0434\\u043e\\u0431\\u0440\\u043e\", \"\\u0434\\u043e\\u0431\\u0440\\u043e\", \"\\u0434\\u043e\\u0431\\u0440\\u043e\", \"\\u0434\\u043e\\u0431\\u0440\\u043e\", \"\\u0434\\u043e\\u0431\\u0440\\u044b\\u0439\", \"\\u0434\\u043e\\u0431\\u0440\\u044b\\u0439\", \"\\u0434\\u043e\\u0431\\u0440\\u044b\\u0439\", \"\\u0434\\u043e\\u0431\\u0440\\u044b\\u0439\", \"\\u0434\\u043e\\u0431\\u0440\\u044b\\u0439\", \"\\u0434\\u043e\\u043b\\u0433\\u0438\\u0439\", \"\\u0434\\u043e\\u043b\\u0433\\u0438\\u0439\", \"\\u0434\\u043e\\u043b\\u0433\\u0438\\u0439\", \"\\u0434\\u043e\\u043b\\u0433\\u0438\\u0439\", \"\\u0434\\u043e\\u043b\\u0433\\u043e\", \"\\u0434\\u043e\\u043b\\u0433\\u043e\", \"\\u0434\\u043e\\u043b\\u0433\\u043e\", \"\\u0434\\u043e\\u043b\\u0433\\u043e\", \"\\u0434\\u043e\\u043c\", \"\\u0434\\u043e\\u043c\", \"\\u0434\\u043e\\u043c\", \"\\u0434\\u043e\\u043c\", \"\\u0434\\u043e\\u043c\\u043e\\u0439\", \"\\u0434\\u043e\\u043c\\u043e\\u0439\", \"\\u0434\\u043e\\u043c\\u043e\\u0439\", \"\\u0434\\u043e\\u043c\\u043e\\u0439\", \"\\u0434\\u043e\\u0441\\u0442\\u0430\\u0442\\u044c\\u0441\\u044f\", \"\\u0434\\u043e\\u0441\\u0442\\u0430\\u0442\\u044c\\u0441\\u044f\", \"\\u0434\\u043e\\u0441\\u0442\\u0430\\u0442\\u044c\\u0441\\u044f\", \"\\u0434\\u043e\\u0441\\u0442\\u0430\\u0442\\u044c\\u0441\\u044f\", \"\\u0434\\u0440\\u0443\\u0433\", \"\\u0434\\u0440\\u0443\\u0433\", \"\\u0434\\u0440\\u0443\\u0433\", \"\\u0434\\u0440\\u0443\\u0433\", \"\\u0434\\u0440\\u0443\\u0433\", \"\\u0434\\u0443\\u043c\\u0430\\u0442\\u044c\", \"\\u0434\\u0443\\u043c\\u0430\\u0442\\u044c\", \"\\u0434\\u0443\\u043c\\u0430\\u0442\\u044c\", \"\\u0434\\u0443\\u043c\\u0430\\u0442\\u044c\", \"\\u0434\\u0443\\u043c\\u0430\\u0442\\u044c\", \"\\u0434\\u044b\\u044b\", \"\\u0434\\u044b\\u044b\", \"\\u0434\\u044b\\u044b\", \"\\u0434\\u044b\\u044b\", \"\\u0435\\u0449\\u0451\", \"\\u0435\\u0449\\u0451\", \"\\u0435\\u0449\\u0451\", \"\\u0435\\u0449\\u0451\", \"\\u0435\\u0449\\u0451\", \"\\u0436\\u0430\\u043b\\u0435\\u0442\\u044c\", \"\\u0436\\u0430\\u043b\\u0435\\u0442\\u044c\", \"\\u0436\\u0430\\u043b\\u0435\\u0442\\u044c\", \"\\u0436\\u0430\\u043b\\u0435\\u0442\\u044c\", \"\\u0436\\u0434\\u0430\\u0442\\u044c\", \"\\u0436\\u0434\\u0430\\u0442\\u044c\", \"\\u0436\\u0434\\u0430\\u0442\\u044c\", \"\\u0436\\u0434\\u0430\\u0442\\u044c\", \"\\u0436\\u0435\\u043b\\u0430\\u043d\\u0438\\u0435\", \"\\u0436\\u0435\\u043b\\u0430\\u043d\\u0438\\u0435\", \"\\u0436\\u0435\\u043b\\u0430\\u043d\\u0438\\u0435\", \"\\u0436\\u0435\\u043b\\u0430\\u043d\\u0438\\u0435\", \"\\u0436\\u0435\\u043b\\u0430\\u0442\\u044c\", \"\\u0436\\u0435\\u043b\\u0430\\u0442\\u044c\", \"\\u0436\\u0435\\u043b\\u0430\\u0442\\u044c\", \"\\u0436\\u0435\\u043b\\u0430\\u0442\\u044c\", \"\\u0436\\u0438\\u0432\\u043e\\u0439\", \"\\u0436\\u0438\\u0432\\u043e\\u0439\", \"\\u0436\\u0438\\u0432\\u043e\\u0439\", \"\\u0436\\u0438\\u0432\\u043e\\u0439\", \"\\u0436\\u0438\\u0437\\u043d\\u044c\", \"\\u0436\\u0438\\u0437\\u043d\\u044c\", \"\\u0436\\u0438\\u0437\\u043d\\u044c\", \"\\u0436\\u0438\\u0437\\u043d\\u044c\", \"\\u0436\\u0438\\u0442\\u044c\", \"\\u0436\\u0438\\u0442\\u044c\", \"\\u0436\\u0438\\u0442\\u044c\", \"\\u0436\\u0438\\u0442\\u044c\", \"\\u0436\\u0440\\u0430\\u0442\\u044c\", \"\\u0436\\u0440\\u0430\\u0442\\u044c\", \"\\u0436\\u0440\\u0430\\u0442\\u044c\", \"\\u0436\\u0440\\u0430\\u0442\\u044c\", \"\\u0436\\u0440\\u0430\\u0442\\u044c\", \"\\u0437\\u0430\\u0431\\u0438\\u0440\\u0430\\u0442\\u044c\", \"\\u0437\\u0430\\u0431\\u0438\\u0440\\u0430\\u0442\\u044c\", \"\\u0437\\u0430\\u0431\\u0438\\u0440\\u0430\\u0442\\u044c\", \"\\u0437\\u0430\\u0431\\u0438\\u0440\\u0430\\u0442\\u044c\", \"\\u0437\\u0430\\u0431\\u044b\\u0442\\u044c\", \"\\u0437\\u0430\\u0431\\u044b\\u0442\\u044c\", \"\\u0437\\u0430\\u0431\\u044b\\u0442\\u044c\", \"\\u0437\\u0430\\u0431\\u044b\\u0442\\u044c\", \"\\u0437\\u0430\\u0431\\u044b\\u0442\\u044c\", \"\\u0437\\u0430\\u0432\\u0442\\u0440\\u0430\", \"\\u0437\\u0430\\u0432\\u0442\\u0440\\u0430\", \"\\u0437\\u0430\\u0432\\u0442\\u0440\\u0430\", \"\\u0437\\u0430\\u0432\\u0442\\u0440\\u0430\", \"\\u0437\\u0430\\u0432\\u0442\\u0440\\u0430\", \"\\u0437\\u0430\\u0433\\u043e\\u0440\\u0430\\u0442\\u044c\", \"\\u0437\\u0430\\u0433\\u043e\\u0440\\u0430\\u0442\\u044c\", \"\\u0437\\u0430\\u0433\\u043e\\u0440\\u0430\\u0442\\u044c\", \"\\u0437\\u0430\\u0433\\u043e\\u0440\\u0430\\u0442\\u044c\", \"\\u0437\\u0430\\u0435\\u0431\\u0438\\u0441\\u044c\", \"\\u0437\\u0430\\u0435\\u0431\\u0438\\u0441\\u044c\", \"\\u0437\\u0430\\u0435\\u0431\\u0438\\u0441\\u044c\", \"\\u0437\\u0430\\u0435\\u0431\\u0438\\u0441\\u044c\", \"\\u0437\\u0430\\u0435\\u0431\\u0438\\u0441\\u044c\", \"\\u0437\\u0430\\u043a\\u043e\\u043f\\u0430\\u0442\\u044c\", \"\\u0437\\u0430\\u043a\\u043e\\u043f\\u0430\\u0442\\u044c\", \"\\u0437\\u0430\\u043a\\u043e\\u043f\\u0430\\u0442\\u044c\", \"\\u0437\\u0430\\u043a\\u043e\\u043f\\u0430\\u0442\\u044c\", \"\\u0437\\u0430\\u043a\\u0440\\u044b\\u0432\\u0430\\u0442\\u044c\", \"\\u0437\\u0430\\u043a\\u0440\\u044b\\u0432\\u0430\\u0442\\u044c\", \"\\u0437\\u0430\\u043a\\u0440\\u044b\\u0432\\u0430\\u0442\\u044c\", \"\\u0437\\u0430\\u043a\\u0440\\u044b\\u0432\\u0430\\u0442\\u044c\", \"\\u0437\\u0430\\u043a\\u0443\\u0440\\u0438\\u0442\\u044c\", \"\\u0437\\u0430\\u043a\\u0443\\u0440\\u0438\\u0442\\u044c\", \"\\u0437\\u0430\\u043a\\u0443\\u0440\\u0438\\u0442\\u044c\", \"\\u0437\\u0430\\u043a\\u0443\\u0440\\u0438\\u0442\\u044c\", \"\\u0437\\u0430\\u043c\\u0435\\u0442\\u0438\\u0442\\u044c\", \"\\u0437\\u0430\\u043c\\u0435\\u0442\\u0438\\u0442\\u044c\", \"\\u0437\\u0430\\u043c\\u0435\\u0442\\u0438\\u0442\\u044c\", \"\\u0437\\u0430\\u043c\\u0435\\u0442\\u0438\\u0442\\u044c\", \"\\u0437\\u0430\\u043c\\u0435\\u0442\\u0438\\u0442\\u044c\", \"\\u0437\\u0430\\u0440\\u043f\\u043b\\u0430\\u0442\\u0430\", \"\\u0437\\u0430\\u0440\\u043f\\u043b\\u0430\\u0442\\u0430\", \"\\u0437\\u0430\\u0440\\u043f\\u043b\\u0430\\u0442\\u0430\", \"\\u0437\\u0430\\u0440\\u043f\\u043b\\u0430\\u0442\\u0430\", \"\\u0437\\u0430\\u044f\\u0446\", \"\\u0437\\u0430\\u044f\\u0446\", \"\\u0437\\u0430\\u044f\\u0446\", \"\\u0437\\u0430\\u044f\\u0446\", \"\\u0437\\u0432\\u0435\\u0437\\u0434\\u0430\", \"\\u0437\\u0432\\u0435\\u0437\\u0434\\u0430\", \"\\u0437\\u0432\\u0435\\u0437\\u0434\\u0430\", \"\\u0437\\u0432\\u0435\\u0437\\u0434\\u0430\", \"\\u0437\\u0438\\u043c\\u043e\\u0439\", \"\\u0437\\u0438\\u043c\\u043e\\u0439\", \"\\u0437\\u0438\\u043c\\u043e\\u0439\", \"\\u0437\\u0438\\u043c\\u043e\\u0439\", \"\\u0437\\u043d\\u0430\\u0442\\u044c\", \"\\u0437\\u043d\\u0430\\u0442\\u044c\", \"\\u0437\\u043d\\u0430\\u0442\\u044c\", \"\\u0437\\u043d\\u0430\\u0442\\u044c\", \"\\u0437\\u043d\\u0430\\u0442\\u044c\", \"\\u0437\\u043d\\u0430\\u0447\\u0438\\u0442\", \"\\u0437\\u043d\\u0430\\u0447\\u0438\\u0442\", \"\\u0437\\u043d\\u0430\\u0447\\u0438\\u0442\", \"\\u0437\\u043d\\u0430\\u0447\\u0438\\u0442\", \"\\u0437\\u043d\\u0430\\u0447\\u0438\\u0442\", \"\\u0437\\u0440\\u0435\\u043d\\u0438\\u0435\", \"\\u0437\\u0440\\u0435\\u043d\\u0438\\u0435\", \"\\u0437\\u0440\\u0435\\u043d\\u0438\\u0435\", \"\\u0437\\u0440\\u0435\\u043d\\u0438\\u0435\", \"\\u0437\\u0440\\u044f\", \"\\u0437\\u0440\\u044f\", \"\\u0437\\u0440\\u044f\", \"\\u0437\\u0440\\u044f\", \"\\u0437\\u0440\\u044f\", \"\\u0438\\u0433\\u0440\\u0430\\u0442\\u044c\", \"\\u0438\\u0433\\u0440\\u0430\\u0442\\u044c\", \"\\u0438\\u0433\\u0440\\u0430\\u0442\\u044c\", \"\\u0438\\u0433\\u0440\\u0430\\u0442\\u044c\", \"\\u0438\\u0434\\u0438\\u043e\\u0442\\u043a\\u0430\", \"\\u0438\\u0434\\u0438\\u043e\\u0442\\u043a\\u0430\", \"\\u0438\\u0434\\u0438\\u043e\\u0442\\u043a\\u0430\", \"\\u0438\\u0434\\u0438\\u043e\\u0442\\u043a\\u0430\", \"\\u0438\\u0434\\u0442\\u0438\", \"\\u0438\\u0434\\u0442\\u0438\", \"\\u0438\\u0434\\u0442\\u0438\", \"\\u0438\\u0434\\u0442\\u0438\", \"\\u0438\\u0434\\u0442\\u0438\", \"\\u0438\\u043d\\u0442\\u0435\\u0440\\u0435\\u0441\\u043d\\u043e\", \"\\u0438\\u043d\\u0442\\u0435\\u0440\\u0435\\u0441\\u043d\\u043e\", \"\\u0438\\u043d\\u0442\\u0435\\u0440\\u0435\\u0441\\u043d\\u043e\", \"\\u0438\\u043d\\u0442\\u0435\\u0440\\u0435\\u0441\\u043d\\u043e\", \"\\u0438\\u043d\\u0442\\u0435\\u0440\\u0435\\u0441\\u043d\\u044b\\u0439\", \"\\u0438\\u043d\\u0442\\u0435\\u0440\\u0435\\u0441\\u043d\\u044b\\u0439\", \"\\u0438\\u043d\\u0442\\u0435\\u0440\\u0435\\u0441\\u043d\\u044b\\u0439\", \"\\u0438\\u043d\\u0442\\u0435\\u0440\\u0435\\u0441\\u043d\\u044b\\u0439\", \"\\u0438\\u043e\\u0441\\u0438\\u0444\", \"\\u0438\\u043e\\u0441\\u0438\\u0444\", \"\\u0438\\u043e\\u0441\\u0438\\u0444\", \"\\u0438\\u043e\\u0441\\u0438\\u0444\", \"\\u0438\\u0441\\u043a\\u0440\\u0435\\u043d\\u043d\\u0435\", \"\\u0438\\u0441\\u043a\\u0440\\u0435\\u043d\\u043d\\u0435\", \"\\u0438\\u0441\\u043a\\u0440\\u0435\\u043d\\u043d\\u0435\", \"\\u0438\\u0441\\u043a\\u0440\\u0435\\u043d\\u043d\\u0435\", \"\\u0438\\u0441\\u043a\\u0440\\u0435\\u043d\\u043d\\u0435\", \"\\u0438\\u0441\\u043f\\u0443\\u0433\\u0430\\u0442\\u044c\\u0441\\u044f\", \"\\u0438\\u0441\\u043f\\u0443\\u0433\\u0430\\u0442\\u044c\\u0441\\u044f\", \"\\u0438\\u0441\\u043f\\u0443\\u0433\\u0430\\u0442\\u044c\\u0441\\u044f\", \"\\u0438\\u0441\\u043f\\u0443\\u0433\\u0430\\u0442\\u044c\\u0441\\u044f\", \"\\u0438\\u0441\\u0442\\u043e\\u0440\\u0438\\u044f\", \"\\u0438\\u0441\\u0442\\u043e\\u0440\\u0438\\u044f\", \"\\u0438\\u0441\\u0442\\u043e\\u0440\\u0438\\u044f\", \"\\u0438\\u0441\\u0442\\u043e\\u0440\\u0438\\u044f\", \"\\u0438\\u0441\\u0442\\u043e\\u0440\\u0438\\u044f\", \"\\u0438\\u0442\\u043e\\u0433\", \"\\u0438\\u0442\\u043e\\u0433\", \"\\u0438\\u0442\\u043e\\u0433\", \"\\u0438\\u0442\\u043e\\u0433\", \"\\u043a\\u0430\\u0436\\u0434\\u044b\\u0439\", \"\\u043a\\u0430\\u0436\\u0434\\u044b\\u0439\", \"\\u043a\\u0430\\u0436\\u0434\\u044b\\u0439\", \"\\u043a\\u0430\\u0436\\u0434\\u044b\\u0439\", \"\\u043a\\u0430\\u0436\\u0434\\u044b\\u0439\", \"\\u043a\\u0430\\u0437\\u0430\\u0442\\u044c\\u0441\\u044f\", \"\\u043a\\u0430\\u0437\\u0430\\u0442\\u044c\\u0441\\u044f\", \"\\u043a\\u0430\\u0437\\u0430\\u0442\\u044c\\u0441\\u044f\", \"\\u043a\\u0430\\u0437\\u0430\\u0442\\u044c\\u0441\\u044f\", \"\\u043a\\u0430\\u043c\\u0430\", \"\\u043a\\u0430\\u043c\\u0430\", \"\\u043a\\u0430\\u043c\\u0430\", \"\\u043a\\u0430\\u043c\\u0430\", \"\\u043a\\u0430\\u043c\\u044b\\u0437\\u044f\\u043a\", \"\\u043a\\u0430\\u043c\\u044b\\u0437\\u044f\\u043a\", \"\\u043a\\u0430\\u043c\\u044b\\u0437\\u044f\\u043a\", \"\\u043a\\u0430\\u043c\\u044b\\u0437\\u044f\\u043a\", \"\\u043a\\u0430\\u043d\\u0438\\u043a\\u0443\\u043b\\u044b\", \"\\u043a\\u0430\\u043d\\u0438\\u043a\\u0443\\u043b\\u044b\", \"\\u043a\\u0430\\u043d\\u0438\\u043a\\u0443\\u043b\\u044b\", \"\\u043a\\u0430\\u043d\\u0438\\u043a\\u0443\\u043b\\u044b\", \"\\u043a\\u0430\\u0440\\u0442\\u043e\\u0447\\u043a\\u0430\", \"\\u043a\\u0430\\u0440\\u0442\\u043e\\u0447\\u043a\\u0430\", \"\\u043a\\u0430\\u0440\\u0442\\u043e\\u0447\\u043a\\u0430\", \"\\u043a\\u0430\\u0440\\u0442\\u043e\\u0447\\u043a\\u0430\", \"\\u043a\\u0430\\u0447\\u0430\\u0442\\u044c\", \"\\u043a\\u0430\\u0447\\u0430\\u0442\\u044c\", \"\\u043a\\u0430\\u0447\\u0430\\u0442\\u044c\", \"\\u043a\\u0430\\u0447\\u0430\\u0442\\u044c\", \"\\u043a\\u0430\\u0447\\u0430\\u0442\\u044c\", \"\\u043a\\u0438\\u043d\\u043e\\u043f\\u043e\\u0438\\u0441\\u043a\", \"\\u043a\\u0438\\u043d\\u043e\\u043f\\u043e\\u0438\\u0441\\u043a\", \"\\u043a\\u0438\\u043d\\u043e\\u043f\\u043e\\u0438\\u0441\\u043a\", \"\\u043a\\u0438\\u043d\\u043e\\u043f\\u043e\\u0438\\u0441\\u043a\", \"\\u043a\\u0438\\u043d\\u0443\\u0442\\u044c\", \"\\u043a\\u0438\\u043d\\u0443\\u0442\\u044c\", \"\\u043a\\u0438\\u043d\\u0443\\u0442\\u044c\", \"\\u043a\\u0438\\u043d\\u0443\\u0442\\u044c\", \"\\u043a\\u043b\\u0430\\u0441\\u0441\", \"\\u043a\\u043b\\u0430\\u0441\\u0441\", \"\\u043a\\u043b\\u0430\\u0441\\u0441\", \"\\u043a\\u043b\\u0430\\u0441\\u0441\", \"\\u043a\\u043b\\u0430\\u0441\\u0441\\u043d\\u044b\\u0439\", \"\\u043a\\u043b\\u0430\\u0441\\u0441\\u043d\\u044b\\u0439\", \"\\u043a\\u043b\\u0430\\u0441\\u0441\\u043d\\u044b\\u0439\", \"\\u043a\\u043b\\u0430\\u0441\\u0441\\u043d\\u044b\\u0439\", \"\\u043a\\u043d\\u0438\\u0433\\u0430\", \"\\u043a\\u043d\\u0438\\u0433\\u0430\", \"\\u043a\\u043d\\u0438\\u0433\\u0430\", \"\\u043a\\u043d\\u0438\\u0433\\u0430\", \"\\u043a\\u043d\\u0438\\u0433\\u0430\", \"\\u043a\\u043e\\u043c\\u043c\\u0435\\u043d\\u0442\", \"\\u043a\\u043e\\u043c\\u043c\\u0435\\u043d\\u0442\", \"\\u043a\\u043e\\u043c\\u043c\\u0435\\u043d\\u0442\", \"\\u043a\\u043e\\u043c\\u043c\\u0435\\u043d\\u0442\", \"\\u043a\\u043e\\u043d\\u0435\\u0446\", \"\\u043a\\u043e\\u043d\\u0435\\u0446\", \"\\u043a\\u043e\\u043d\\u0435\\u0446\", \"\\u043a\\u043e\\u043d\\u0435\\u0446\", \"\\u043a\\u043e\\u043d\\u043a\\u0440\\u0435\\u0442\\u043d\\u044b\\u0439\", \"\\u043a\\u043e\\u043d\\u043a\\u0440\\u0435\\u0442\\u043d\\u044b\\u0439\", \"\\u043a\\u043e\\u043d\\u043a\\u0440\\u0435\\u0442\\u043d\\u044b\\u0439\", \"\\u043a\\u043e\\u043d\\u043a\\u0440\\u0435\\u0442\\u043d\\u044b\\u0439\", \"\\u043a\\u043e\\u043d\\u0442\\u0440\\u043e\\u043b\\u044c\\u043d\\u044b\\u0439\", \"\\u043a\\u043e\\u043d\\u0442\\u0440\\u043e\\u043b\\u044c\\u043d\\u044b\\u0439\", \"\\u043a\\u043e\\u043d\\u0442\\u0440\\u043e\\u043b\\u044c\\u043d\\u044b\\u0439\", \"\\u043a\\u043e\\u043d\\u0442\\u0440\\u043e\\u043b\\u044c\\u043d\\u044b\\u0439\", \"\\u043a\\u043e\\u043d\\u0442\\u0440\\u043e\\u043b\\u044c\\u043d\\u044b\\u0439\", \"\\u043a\\u043e\\u043f\\u0447\\u0451\\u043d\\u044b\\u0439\", \"\\u043a\\u043e\\u043f\\u0447\\u0451\\u043d\\u044b\\u0439\", \"\\u043a\\u043e\\u043f\\u0447\\u0451\\u043d\\u044b\\u0439\", \"\\u043a\\u043e\\u043f\\u0447\\u0451\\u043d\\u044b\\u0439\", \"\\u043a\\u043e\\u0441\\u0442\\u044e\\u043c\", \"\\u043a\\u043e\\u0441\\u0442\\u044e\\u043c\", \"\\u043a\\u043e\\u0441\\u0442\\u044e\\u043c\", \"\\u043a\\u043e\\u0441\\u0442\\u044e\\u043c\", \"\\u043a\\u043e\\u0441\\u0442\\u044e\\u043c\", \"\\u043a\\u043e\\u0442\", \"\\u043a\\u043e\\u0442\", \"\\u043a\\u043e\\u0442\", \"\\u043a\\u043e\\u0442\", \"\\u043a\\u043e\\u0442\\u043b\\u0435\\u0442\\u043a\\u0430\", \"\\u043a\\u043e\\u0442\\u043b\\u0435\\u0442\\u043a\\u0430\", \"\\u043a\\u043e\\u0442\\u043b\\u0435\\u0442\\u043a\\u0430\", \"\\u043a\\u043e\\u0442\\u043b\\u0435\\u0442\\u043a\\u0430\", \"\\u043a\\u043e\\u0442\\u043e\\u0440\\u044b\\u0439\", \"\\u043a\\u043e\\u0442\\u043e\\u0440\\u044b\\u0439\", \"\\u043a\\u043e\\u0442\\u043e\\u0440\\u044b\\u0439\", \"\\u043a\\u043e\\u0442\\u043e\\u0440\\u044b\\u0439\", \"\\u043a\\u043e\\u0442\\u043e\\u0440\\u044b\\u0439\", \"\\u043a\\u043e\\u0444\\u0435\", \"\\u043a\\u043e\\u0444\\u0435\", \"\\u043a\\u043e\\u0444\\u0435\", \"\\u043a\\u043e\\u0444\\u0435\", \"\\u043a\\u043e\\u0444\\u0435\", \"\\u043a\\u0440\\u0430\\u0441\\u043e\\u0442\\u0435\\u043d\\u044c\", \"\\u043a\\u0440\\u0430\\u0441\\u043e\\u0442\\u0435\\u043d\\u044c\", \"\\u043a\\u0440\\u0430\\u0441\\u043e\\u0442\\u0435\\u043d\\u044c\", \"\\u043a\\u0440\\u0430\\u0441\\u043e\\u0442\\u0435\\u043d\\u044c\", \"\\u043a\\u0440\\u043e\\u0432\\u0430\\u0442\\u044c\", \"\\u043a\\u0440\\u043e\\u0432\\u0430\\u0442\\u044c\", \"\\u043a\\u0440\\u043e\\u0432\\u0430\\u0442\\u044c\", \"\\u043a\\u0440\\u043e\\u0432\\u0430\\u0442\\u044c\", \"\\u043a\\u0440\\u043e\\u043c\\u0435\", \"\\u043a\\u0440\\u043e\\u043c\\u0435\", \"\\u043a\\u0440\\u043e\\u043c\\u0435\", \"\\u043a\\u0440\\u043e\\u043c\\u0435\", \"\\u043a\\u0440\\u043e\\u0445\\u0430\", \"\\u043a\\u0440\\u043e\\u0445\\u0430\", \"\\u043a\\u0440\\u043e\\u0445\\u0430\", \"\\u043a\\u0440\\u043e\\u0445\\u0430\", \"\\u043a\\u0440\\u0443\\u0442\\u043e\", \"\\u043a\\u0440\\u0443\\u0442\\u043e\", \"\\u043a\\u0440\\u0443\\u0442\\u043e\", \"\\u043a\\u0440\\u0443\\u0442\\u043e\", \"\\u043a\\u0440\\u0443\\u0442\\u043e\\u0439\", \"\\u043a\\u0440\\u0443\\u0442\\u043e\\u0439\", \"\\u043a\\u0440\\u0443\\u0442\\u043e\\u0439\", \"\\u043a\\u0440\\u0443\\u0442\\u043e\\u0439\", \"\\u043a\\u0441\\u0442\\u0430\\u0442\\u0438\", \"\\u043a\\u0441\\u0442\\u0430\\u0442\\u0438\", \"\\u043a\\u0441\\u0442\\u0430\\u0442\\u0438\", \"\\u043a\\u0441\\u0442\\u0430\\u0442\\u0438\", \"\\u043a\\u0443\\u043b\\u0430\\u0447\\u043e\\u043a\", \"\\u043a\\u0443\\u043b\\u0430\\u0447\\u043e\\u043a\", \"\\u043a\\u0443\\u043b\\u0430\\u0447\\u043e\\u043a\", \"\\u043a\\u0443\\u043b\\u0430\\u0447\\u043e\\u043a\", \"\\u043a\\u0443\\u043f\\u0438\\u0442\\u044c\", \"\\u043a\\u0443\\u043f\\u0438\\u0442\\u044c\", \"\\u043a\\u0443\\u043f\\u0438\\u0442\\u044c\", \"\\u043a\\u0443\\u043f\\u0438\\u0442\\u044c\", \"\\u043a\\u0443\\u0440\\u0438\\u0442\\u044c\", \"\\u043a\\u0443\\u0440\\u0438\\u0442\\u044c\", \"\\u043a\\u0443\\u0440\\u0438\\u0442\\u044c\", \"\\u043a\\u0443\\u0440\\u0438\\u0442\\u044c\", \"\\u043a\\u0443\\u0440\\u0438\\u0442\\u044c\", \"\\u043a\\u0443\\u0447\\u0430\", \"\\u043a\\u0443\\u0447\\u0430\", \"\\u043a\\u0443\\u0447\\u0430\", \"\\u043a\\u0443\\u0447\\u0430\", \"\\u043b\\u0430\\u0434\\u043d\\u044b\\u0439\", \"\\u043b\\u0430\\u0434\\u043d\\u044b\\u0439\", \"\\u043b\\u0430\\u0434\\u043d\\u044b\\u0439\", \"\\u043b\\u0430\\u0434\\u043d\\u044b\\u0439\", \"\\u043b\\u0435\\u0436\\u0430\\u0442\\u044c\", \"\\u043b\\u0435\\u0436\\u0430\\u0442\\u044c\", \"\\u043b\\u0435\\u0436\\u0430\\u0442\\u044c\", \"\\u043b\\u0435\\u0436\\u0430\\u0442\\u044c\", \"\\u043b\\u0435\\u043d\\u0442\\u0430\", \"\\u043b\\u0435\\u043d\\u0442\\u0430\", \"\\u043b\\u0435\\u043d\\u0442\\u0430\", \"\\u043b\\u0435\\u043d\\u0442\\u0430\", \"\\u043b\\u0435\\u0440\\u0430\", \"\\u043b\\u0435\\u0440\\u0430\", \"\\u043b\\u0435\\u0440\\u0430\", \"\\u043b\\u0435\\u0440\\u0430\", \"\\u043b\\u0438\\u0431\\u043e\", \"\\u043b\\u0438\\u0431\\u043e\", \"\\u043b\\u0438\\u0431\\u043e\", \"\\u043b\\u0438\\u0431\\u043e\", \"\\u043b\\u0438\\u0446\\u043e\", \"\\u043b\\u0438\\u0446\\u043e\", \"\\u043b\\u0438\\u0446\\u043e\", \"\\u043b\\u0438\\u0446\\u043e\", \"\\u043b\\u044e\\u0431\\u0438\\u043c\\u044b\\u0439\", \"\\u043b\\u044e\\u0431\\u0438\\u043c\\u044b\\u0439\", \"\\u043b\\u044e\\u0431\\u0438\\u043c\\u044b\\u0439\", \"\\u043b\\u044e\\u0431\\u0438\\u043c\\u044b\\u0439\", \"\\u043b\\u044e\\u0431\\u0438\\u0442\\u044c\", \"\\u043b\\u044e\\u0431\\u0438\\u0442\\u044c\", \"\\u043b\\u044e\\u0431\\u0438\\u0442\\u044c\", \"\\u043b\\u044e\\u0431\\u0438\\u0442\\u044c\", \"\\u043b\\u044e\\u0431\\u0438\\u0442\\u044c\", \"\\u043c\\u0430\\u043a\\u0441\\u0438\\u043c\", \"\\u043c\\u0430\\u043a\\u0441\\u0438\\u043c\", \"\\u043c\\u0430\\u043a\\u0441\\u0438\\u043c\", \"\\u043c\\u0430\\u043a\\u0441\\u0438\\u043c\", \"\\u043c\\u0430\\u043a\\u0441\\u0438\\u043c\\u0430\\u043b\\u044c\\u043d\\u043e\", \"\\u043c\\u0430\\u043a\\u0441\\u0438\\u043c\\u0430\\u043b\\u044c\\u043d\\u043e\", \"\\u043c\\u0430\\u043a\\u0441\\u0438\\u043c\\u0430\\u043b\\u044c\\u043d\\u043e\", \"\\u043c\\u0430\\u043a\\u0441\\u0438\\u043c\\u0430\\u043b\\u044c\\u043d\\u043e\", \"\\u043c\\u0430\\u043b\\u0435\\u043d\\u044c\\u043a\\u0438\\u0439\", \"\\u043c\\u0430\\u043b\\u0435\\u043d\\u044c\\u043a\\u0438\\u0439\", \"\\u043c\\u0430\\u043b\\u0435\\u043d\\u044c\\u043a\\u0438\\u0439\", \"\\u043c\\u0430\\u043b\\u0435\\u043d\\u044c\\u043a\\u0438\\u0439\", \"\\u043c\\u0430\\u043b\\u044c\\u0447\\u0438\\u043a\", \"\\u043c\\u0430\\u043b\\u044c\\u0447\\u0438\\u043a\", \"\\u043c\\u0430\\u043b\\u044c\\u0447\\u0438\\u043a\", \"\\u043c\\u0430\\u043b\\u044c\\u0447\\u0438\\u043a\", \"\\u043c\\u0430\\u043b\\u044c\\u0447\\u0438\\u043a\", \"\\u043c\\u0430\\u043c\\u0430\", \"\\u043c\\u0430\\u043c\\u0430\", \"\\u043c\\u0430\\u043c\\u0430\", \"\\u043c\\u0430\\u043c\\u0430\", \"\\u043c\\u0430\\u043c\\u0430\", \"\\u043c\\u0430\\u043d\\u0434\\u0435\\u043b\\u044b\\u0439\", \"\\u043c\\u0430\\u043d\\u0434\\u0435\\u043b\\u044b\\u0439\", \"\\u043c\\u0430\\u043d\\u0434\\u0435\\u043b\\u044b\\u0439\", \"\\u043c\\u0430\\u043d\\u0434\\u0435\\u043b\\u044b\\u0439\", \"\\u043c\\u0435\\u0441\\u0442\\u043e\", \"\\u043c\\u0435\\u0441\\u0442\\u043e\", \"\\u043c\\u0435\\u0441\\u0442\\u043e\", \"\\u043c\\u0435\\u0441\\u0442\\u043e\", \"\\u043c\\u0435\\u0441\\u0442\\u043e\", \"\\u043c\\u0435\\u0441\\u044f\\u0446\", \"\\u043c\\u0435\\u0441\\u044f\\u0446\", \"\\u043c\\u0435\\u0441\\u044f\\u0446\", \"\\u043c\\u0435\\u0441\\u044f\\u0446\", \"\\u043c\\u0435\\u0442\\u0440\\u043e\", \"\\u043c\\u0435\\u0442\\u0440\\u043e\", \"\\u043c\\u0435\\u0442\\u0440\\u043e\", \"\\u043c\\u0435\\u0442\\u0440\\u043e\", \"\\u043c\\u0438\\u043b\\u043e\", \"\\u043c\\u0438\\u043b\\u043e\", \"\\u043c\\u0438\\u043b\\u043e\", \"\\u043c\\u0438\\u043b\\u043e\", \"\\u043c\\u0438\\u043b\\u044b\\u0439\", \"\\u043c\\u0438\\u043b\\u044b\\u0439\", \"\\u043c\\u0438\\u043b\\u044b\\u0439\", \"\\u043c\\u0438\\u043b\\u044b\\u0439\", \"\\u043c\\u0438\\u0441\\u043a\\u0430\", \"\\u043c\\u0438\\u0441\\u043a\\u0430\", \"\\u043c\\u0438\\u0441\\u043a\\u0430\", \"\\u043c\\u0438\\u0441\\u043a\\u0430\", \"\\u043c\\u043d\\u0435\\u043d\\u0438\\u0435\", \"\\u043c\\u043d\\u0435\\u043d\\u0438\\u0435\", \"\\u043c\\u043d\\u0435\\u043d\\u0438\\u0435\", \"\\u043c\\u043d\\u0435\\u043d\\u0438\\u0435\", \"\\u043c\\u043e\\u043b\\u043e\\u0434\\u0435\\u0446\", \"\\u043c\\u043e\\u043b\\u043e\\u0434\\u0435\\u0446\", \"\\u043c\\u043e\\u043b\\u043e\\u0434\\u0435\\u0446\", \"\\u043c\\u043e\\u043b\\u043e\\u0434\\u0435\\u0446\", \"\\u043c\\u043e\\u043b\\u043e\\u0434\\u043e\\u0439\", \"\\u043c\\u043e\\u043b\\u043e\\u0434\\u043e\\u0439\", \"\\u043c\\u043e\\u043b\\u043e\\u0434\\u043e\\u0439\", \"\\u043c\\u043e\\u043b\\u043e\\u0434\\u043e\\u0439\", \"\\u043c\\u043e\\u043b\\u043e\\u0434\\u0451\\u0436\\u043a\\u0430\", \"\\u043c\\u043e\\u043b\\u043e\\u0434\\u0451\\u0436\\u043a\\u0430\", \"\\u043c\\u043e\\u043b\\u043e\\u0434\\u0451\\u0436\\u043a\\u0430\", \"\\u043c\\u043e\\u043b\\u043e\\u0434\\u0451\\u0436\\u043a\\u0430\", \"\\u043c\\u043e\\u0441\\u043a\\u0432\\u0430\", \"\\u043c\\u043e\\u0441\\u043a\\u0432\\u0430\", \"\\u043c\\u043e\\u0441\\u043a\\u0432\\u0430\", \"\\u043c\\u043e\\u0441\\u043a\\u0432\\u0430\", \"\\u043c\\u043e\\u0447\\u044c\", \"\\u043c\\u043e\\u0447\\u044c\", \"\\u043c\\u043e\\u0447\\u044c\", \"\\u043c\\u043e\\u0447\\u044c\", \"\\u043c\\u043e\\u0447\\u044c\", \"\\u043c\\u0443\\u0436\", \"\\u043c\\u0443\\u0436\", \"\\u043c\\u0443\\u0436\", \"\\u043c\\u0443\\u0436\", \"\\u043c\\u0443\\u0436\\u0447\\u0438\\u043d\\u0430\", \"\\u043c\\u0443\\u0436\\u0447\\u0438\\u043d\\u0430\", \"\\u043c\\u0443\\u0436\\u0447\\u0438\\u043d\\u0430\", \"\\u043c\\u0443\\u0436\\u0447\\u0438\\u043d\\u0430\", \"\\u043c\\u0443\\u0436\\u0447\\u0438\\u043d\\u0430\", \"\\u043c\\u0443\\u0437\\u044b\\u043a\\u0430\", \"\\u043c\\u0443\\u0437\\u044b\\u043a\\u0430\", \"\\u043c\\u0443\\u0437\\u044b\\u043a\\u0430\", \"\\u043c\\u0443\\u0437\\u044b\\u043a\\u0430\", \"\\u043d\\u0430\\u0431\\u043b\\u044e\\u0434\\u0430\\u0442\\u044c\", \"\\u043d\\u0430\\u0431\\u043b\\u044e\\u0434\\u0430\\u0442\\u044c\", \"\\u043d\\u0430\\u0431\\u043b\\u044e\\u0434\\u0430\\u0442\\u044c\", \"\\u043d\\u0430\\u0431\\u043b\\u044e\\u0434\\u0430\\u0442\\u044c\", \"\\u043d\\u0430\\u0431\\u043b\\u044e\\u0434\\u0430\\u0442\\u044c\", \"\\u043d\\u0430\\u0432\\u0435\\u0440\\u043d\\u043e\\u0435\", \"\\u043d\\u0430\\u0432\\u0435\\u0440\\u043d\\u043e\\u0435\", \"\\u043d\\u0430\\u0432\\u0435\\u0440\\u043d\\u043e\\u0435\", \"\\u043d\\u0430\\u0432\\u0435\\u0440\\u043d\\u043e\\u0435\", \"\\u043d\\u0430\\u0432\\u0435\\u0440\\u043d\\u043e\\u0435\", \"\\u043d\\u0430\\u0434\\u0435\\u044f\\u0442\\u044c\\u0441\\u044f\", \"\\u043d\\u0430\\u0434\\u0435\\u044f\\u0442\\u044c\\u0441\\u044f\", \"\\u043d\\u0430\\u0434\\u0435\\u044f\\u0442\\u044c\\u0441\\u044f\", \"\\u043d\\u0430\\u0434\\u0435\\u044f\\u0442\\u044c\\u0441\\u044f\", \"\\u043d\\u0430\\u0437\\u0430\\u0434\", \"\\u043d\\u0430\\u0437\\u0430\\u0434\", \"\\u043d\\u0430\\u0437\\u0430\\u0434\", \"\\u043d\\u0430\\u0437\\u0430\\u0434\", \"\\u043d\\u0430\\u0439\\u0442\\u0438\", \"\\u043d\\u0430\\u0439\\u0442\\u0438\", \"\\u043d\\u0430\\u0439\\u0442\\u0438\", \"\\u043d\\u0430\\u0439\\u0442\\u0438\", \"\\u043d\\u0430\\u0439\\u0442\\u0438\", \"\\u043d\\u0430\\u043e\\u0431\\u043e\\u0440\\u043e\\u0442\", \"\\u043d\\u0430\\u043e\\u0431\\u043e\\u0440\\u043e\\u0442\", \"\\u043d\\u0430\\u043e\\u0431\\u043e\\u0440\\u043e\\u0442\", \"\\u043d\\u0430\\u043e\\u0431\\u043e\\u0440\\u043e\\u0442\", \"\\u043d\\u0430\\u043e\\u0431\\u043e\\u0440\\u043e\\u0442\", \"\\u043d\\u0430\\u043f\\u0438\\u0441\\u0430\\u0442\\u044c\", \"\\u043d\\u0430\\u043f\\u0438\\u0441\\u0430\\u0442\\u044c\", \"\\u043d\\u0430\\u043f\\u0438\\u0441\\u0430\\u0442\\u044c\", \"\\u043d\\u0430\\u043f\\u0438\\u0441\\u0430\\u0442\\u044c\", \"\\u043d\\u0430\\u0441\\u0442\\u0440\\u043e\\u0435\\u043d\\u0438\\u0435\", \"\\u043d\\u0430\\u0441\\u0442\\u0440\\u043e\\u0435\\u043d\\u0438\\u0435\", \"\\u043d\\u0430\\u0441\\u0442\\u0440\\u043e\\u0435\\u043d\\u0438\\u0435\", \"\\u043d\\u0430\\u0441\\u0442\\u0440\\u043e\\u0435\\u043d\\u0438\\u0435\", \"\\u043d\\u0430\\u0447\\u0430\\u043b\\u043e\", \"\\u043d\\u0430\\u0447\\u0430\\u043b\\u043e\", \"\\u043d\\u0430\\u0447\\u0430\\u043b\\u043e\", \"\\u043d\\u0430\\u0447\\u0430\\u043b\\u043e\", \"\\u043d\\u0430\\u0447\\u0430\\u0442\\u044c\", \"\\u043d\\u0430\\u0447\\u0430\\u0442\\u044c\", \"\\u043d\\u0430\\u0447\\u0430\\u0442\\u044c\", \"\\u043d\\u0430\\u0447\\u0430\\u0442\\u044c\", \"\\u043d\\u0430\\u0448\", \"\\u043d\\u0430\\u0448\", \"\\u043d\\u0430\\u0448\", \"\\u043d\\u0430\\u0448\", \"\\u043d\\u0430\\u0448\", \"\\u043d\\u0435\\u0432\\u043e\\u0437\\u043c\\u043e\\u0436\\u043d\\u043e\\u0441\\u0442\\u044c\", \"\\u043d\\u0435\\u0432\\u043e\\u0437\\u043c\\u043e\\u0436\\u043d\\u043e\\u0441\\u0442\\u044c\", \"\\u043d\\u0435\\u0432\\u043e\\u0437\\u043c\\u043e\\u0436\\u043d\\u043e\\u0441\\u0442\\u044c\", \"\\u043d\\u0435\\u0432\\u043e\\u0437\\u043c\\u043e\\u0436\\u043d\\u043e\\u0441\\u0442\\u044c\", \"\\u043d\\u0435\\u0434\\u0435\\u043b\\u044f\", \"\\u043d\\u0435\\u0434\\u0435\\u043b\\u044f\", \"\\u043d\\u0435\\u0434\\u0435\\u043b\\u044f\", \"\\u043d\\u0435\\u0434\\u0435\\u043b\\u044f\", \"\\u043d\\u0435\\u0434\\u0435\\u043b\\u044f\", \"\\u043d\\u0435\\u0437\\u0430\\u043c\\u0435\\u0442\\u043d\\u043e\", \"\\u043d\\u0435\\u0437\\u0430\\u043c\\u0435\\u0442\\u043d\\u043e\", \"\\u043d\\u0435\\u0437\\u0430\\u043c\\u0435\\u0442\\u043d\\u043e\", \"\\u043d\\u0435\\u0437\\u0430\\u043c\\u0435\\u0442\\u043d\\u043e\", \"\\u043d\\u0435\\u043b\\u044c\\u0441\\u043e\\u043d\", \"\\u043d\\u0435\\u043b\\u044c\\u0441\\u043e\\u043d\", \"\\u043d\\u0435\\u043b\\u044c\\u0441\\u043e\\u043d\", \"\\u043d\\u0435\\u043b\\u044c\\u0441\\u043e\\u043d\", \"\\u043d\\u0435\\u043c\\u043d\\u043e\\u0433\\u043e\", \"\\u043d\\u0435\\u043c\\u043d\\u043e\\u0433\\u043e\", \"\\u043d\\u0435\\u043c\\u043d\\u043e\\u0433\\u043e\", \"\\u043d\\u0435\\u043c\\u043d\\u043e\\u0433\\u043e\", \"\\u043d\\u0435\\u043c\\u043d\\u043e\\u0433\\u043e\", \"\\u043d\\u0438\\u0431\\u044b\\u0442\\u044c\", \"\\u043d\\u0438\\u0431\\u044b\\u0442\\u044c\", \"\\u043d\\u0438\\u0431\\u044b\\u0442\\u044c\", \"\\u043d\\u0438\\u0431\\u044b\\u0442\\u044c\", \"\\u043d\\u0438\\u043a\\u0442\\u043e\", \"\\u043d\\u0438\\u043a\\u0442\\u043e\", \"\\u043d\\u0438\\u043a\\u0442\\u043e\", \"\\u043d\\u0438\\u043a\\u0442\\u043e\", \"\\u043d\\u0438\\u043a\\u0442\\u043e\", \"\\u043d\\u043e\\u0432\\u043e\\u0433\\u043e\\u0434\\u043d\\u0438\\u0439\", \"\\u043d\\u043e\\u0432\\u043e\\u0433\\u043e\\u0434\\u043d\\u0438\\u0439\", \"\\u043d\\u043e\\u0432\\u043e\\u0433\\u043e\\u0434\\u043d\\u0438\\u0439\", \"\\u043d\\u043e\\u0432\\u043e\\u0433\\u043e\\u0434\\u043d\\u0438\\u0439\", \"\\u043d\\u043e\\u0432\\u044b\\u0439\", \"\\u043d\\u043e\\u0432\\u044b\\u0439\", \"\\u043d\\u043e\\u0432\\u044b\\u0439\", \"\\u043d\\u043e\\u0432\\u044b\\u0439\", \"\\u043d\\u043e\\u0432\\u044b\\u0439\", \"\\u043d\\u043e\\u0436\\u043a\\u0430\", \"\\u043d\\u043e\\u0436\\u043a\\u0430\", \"\\u043d\\u043e\\u0436\\u043a\\u0430\", \"\\u043d\\u043e\\u0436\\u043a\\u0430\", \"\\u043d\\u043e\\u0440\\u043c\\u0430\", \"\\u043d\\u043e\\u0440\\u043c\\u0430\", \"\\u043d\\u043e\\u0440\\u043c\\u0430\", \"\\u043d\\u043e\\u0440\\u043c\\u0430\", \"\\u043d\\u043e\\u0447\\u043d\\u043e\\u0439\", \"\\u043d\\u043e\\u0447\\u043d\\u043e\\u0439\", \"\\u043d\\u043e\\u0447\\u043d\\u043e\\u0439\", \"\\u043d\\u043e\\u0447\\u043d\\u043e\\u0439\", \"\\u043d\\u043e\\u0447\\u044c\", \"\\u043d\\u043e\\u0447\\u044c\", \"\\u043d\\u043e\\u0447\\u044c\", \"\\u043d\\u043e\\u0447\\u044c\", \"\\u043d\\u043e\\u0447\\u044c\", \"\\u043d\\u0440\\u0430\\u0432\\u0438\\u0442\\u044c\\u0441\\u044f\", \"\\u043d\\u0440\\u0430\\u0432\\u0438\\u0442\\u044c\\u0441\\u044f\", \"\\u043d\\u0440\\u0430\\u0432\\u0438\\u0442\\u044c\\u0441\\u044f\", \"\\u043d\\u0440\\u0430\\u0432\\u0438\\u0442\\u044c\\u0441\\u044f\", \"\\u043d\\u0440\\u0430\\u0432\\u0438\\u0442\\u044c\\u0441\\u044f\", \"\\u043d\\u0443\\u0430\\u0448\\u0442\\u044b\\u0439\", \"\\u043d\\u0443\\u0430\\u0448\\u0442\\u044b\\u0439\", \"\\u043d\\u0443\\u0430\\u0448\\u0442\\u044b\\u0439\", \"\\u043d\\u0443\\u0430\\u0448\\u0442\\u044b\\u0439\", \"\\u043d\\u0443\\u0436\\u043d\\u043e\", \"\\u043d\\u0443\\u0436\\u043d\\u043e\", \"\\u043d\\u0443\\u0436\\u043d\\u043e\", \"\\u043d\\u0443\\u0436\\u043d\\u043e\", \"\\u043d\\u0443\\u0436\\u043d\\u044b\\u0439\", \"\\u043d\\u0443\\u0436\\u043d\\u044b\\u0439\", \"\\u043d\\u0443\\u0436\\u043d\\u044b\\u0439\", \"\\u043d\\u0443\\u0436\\u043d\\u044b\\u0439\", \"\\u043e\\u0431\\u043d\\u043e\\u0432\\u0438\\u0442\\u044c\", \"\\u043e\\u0431\\u043d\\u043e\\u0432\\u0438\\u0442\\u044c\", \"\\u043e\\u0431\\u043d\\u043e\\u0432\\u0438\\u0442\\u044c\", \"\\u043e\\u0431\\u043d\\u043e\\u0432\\u0438\\u0442\\u044c\", \"\\u043e\\u0431\\u0440\\u0430\\u0442\\u043d\\u043e\", \"\\u043e\\u0431\\u0440\\u0430\\u0442\\u043d\\u043e\", \"\\u043e\\u0431\\u0440\\u0430\\u0442\\u043d\\u043e\", \"\\u043e\\u0431\\u0440\\u0430\\u0442\\u043d\\u043e\", \"\\u043e\\u0431\\u0449\\u0430\\u0442\\u044c\\u0441\\u044f\", \"\\u043e\\u0431\\u0449\\u0430\\u0442\\u044c\\u0441\\u044f\", \"\\u043e\\u0431\\u0449\\u0430\\u0442\\u044c\\u0441\\u044f\", \"\\u043e\\u0431\\u0449\\u0430\\u0442\\u044c\\u0441\\u044f\", \"\\u043e\\u0431\\u0449\\u0430\\u0442\\u044c\\u0441\\u044f\", \"\\u043e\\u0431\\u0449\\u0435\\u0441\\u0442\\u0432\\u043e\", \"\\u043e\\u0431\\u0449\\u0435\\u0441\\u0442\\u0432\\u043e\", \"\\u043e\\u0431\\u0449\\u0435\\u0441\\u0442\\u0432\\u043e\", \"\\u043e\\u0431\\u0449\\u0435\\u0441\\u0442\\u0432\\u043e\", \"\\u043e\\u0431\\u044a\\u044f\\u0432\\u0438\\u0442\\u044c\\u0441\\u044f\", \"\\u043e\\u0431\\u044a\\u044f\\u0432\\u0438\\u0442\\u044c\\u0441\\u044f\", \"\\u043e\\u0431\\u044a\\u044f\\u0432\\u0438\\u0442\\u044c\\u0441\\u044f\", \"\\u043e\\u0431\\u044a\\u044f\\u0432\\u0438\\u0442\\u044c\\u0441\\u044f\", \"\\u043e\\u0431\\u044b\\u0447\\u043d\\u043e\", \"\\u043e\\u0431\\u044b\\u0447\\u043d\\u043e\", \"\\u043e\\u0431\\u044b\\u0447\\u043d\\u043e\", \"\\u043e\\u0431\\u044b\\u0447\\u043d\\u043e\", \"\\u043e\\u0431\\u044f\\u0437\\u0430\\u0442\\u0435\\u043b\\u044c\\u043d\\u043e\\u0440\\u0435\\u0442\\u0432\\u0438\\u0442\\u043d\\u044f\", \"\\u043e\\u0431\\u044f\\u0437\\u0430\\u0442\\u0435\\u043b\\u044c\\u043d\\u043e\\u0440\\u0435\\u0442\\u0432\\u0438\\u0442\\u043d\\u044f\", \"\\u043e\\u0431\\u044f\\u0437\\u0430\\u0442\\u0435\\u043b\\u044c\\u043d\\u043e\\u0440\\u0435\\u0442\\u0432\\u0438\\u0442\\u043d\\u044f\", \"\\u043e\\u0431\\u044f\\u0437\\u0430\\u0442\\u0435\\u043b\\u044c\\u043d\\u043e\\u0440\\u0435\\u0442\\u0432\\u0438\\u0442\\u043d\\u044f\", \"\\u043e\\u0433\\u043e\\u043d\\u044c\", \"\\u043e\\u0433\\u043e\\u043d\\u044c\", \"\\u043e\\u0433\\u043e\\u043d\\u044c\", \"\\u043e\\u0433\\u043e\\u043d\\u044c\", \"\\u043e\\u0436\\u0438\\u0434\\u0430\\u0442\\u044c\\u0441\\u044f\", \"\\u043e\\u0436\\u0438\\u0434\\u0430\\u0442\\u044c\\u0441\\u044f\", \"\\u043e\\u0436\\u0438\\u0434\\u0430\\u0442\\u044c\\u0441\\u044f\", \"\\u043e\\u0436\\u0438\\u0434\\u0430\\u0442\\u044c\\u0441\\u044f\", \"\\u043e\\u043a\\u043d\\u043e\", \"\\u043e\\u043a\\u043d\\u043e\", \"\\u043e\\u043a\\u043d\\u043e\", \"\\u043e\\u043a\\u043d\\u043e\", \"\\u043e\\u043b\\u044f\", \"\\u043e\\u043b\\u044f\", \"\\u043e\\u043b\\u044f\", \"\\u043e\\u043b\\u044f\", \"\\u043e\\u043b\\u044f\", \"\\u043e\\u043f\\u043b\\u0430\\u0447\\u0438\\u0432\\u0430\\u0442\\u044c\", \"\\u043e\\u043f\\u043b\\u0430\\u0447\\u0438\\u0432\\u0430\\u0442\\u044c\", \"\\u043e\\u043f\\u043b\\u0430\\u0447\\u0438\\u0432\\u0430\\u0442\\u044c\", \"\\u043e\\u043f\\u043b\\u0430\\u0447\\u0438\\u0432\\u0430\\u0442\\u044c\", \"\\u043e\\u0440\\u0430\\u0442\\u044c\", \"\\u043e\\u0440\\u0430\\u0442\\u044c\", \"\\u043e\\u0440\\u0430\\u0442\\u044c\", \"\\u043e\\u0440\\u0430\\u0442\\u044c\", \"\\u043e\\u0441\\u0442\\u0430\\u043b\\u044c\\u043d\\u043e\\u0439\", \"\\u043e\\u0441\\u0442\\u0430\\u043b\\u044c\\u043d\\u043e\\u0439\", \"\\u043e\\u0441\\u0442\\u0430\\u043b\\u044c\\u043d\\u043e\\u0439\", \"\\u043e\\u0441\\u0442\\u0430\\u043b\\u044c\\u043d\\u043e\\u0439\", \"\\u043e\\u0441\\u0442\\u0430\\u043b\\u044c\\u043d\\u043e\\u0439\", \"\\u043e\\u0441\\u0442\\u0430\\u043d\\u043e\\u0432\\u043a\\u0430\", \"\\u043e\\u0441\\u0442\\u0430\\u043d\\u043e\\u0432\\u043a\\u0430\", \"\\u043e\\u0441\\u0442\\u0430\\u043d\\u043e\\u0432\\u043a\\u0430\", \"\\u043e\\u0441\\u0442\\u0430\\u043d\\u043e\\u0432\\u043a\\u0430\", \"\\u043e\\u0441\\u0442\\u0430\\u0442\\u044c\\u0441\\u044f\", \"\\u043e\\u0441\\u0442\\u0430\\u0442\\u044c\\u0441\\u044f\", \"\\u043e\\u0441\\u0442\\u0430\\u0442\\u044c\\u0441\\u044f\", \"\\u043e\\u0441\\u0442\\u0430\\u0442\\u044c\\u0441\\u044f\", \"\\u043e\\u0441\\u0442\\u043e\\u0440\\u043e\\u0436\\u043d\\u043e\", \"\\u043e\\u0441\\u0442\\u043e\\u0440\\u043e\\u0436\\u043d\\u043e\", \"\\u043e\\u0441\\u0442\\u043e\\u0440\\u043e\\u0436\\u043d\\u043e\", \"\\u043e\\u0441\\u0442\\u043e\\u0440\\u043e\\u0436\\u043d\\u043e\", \"\\u043e\\u0442\\u0432\\u0435\\u0442\", \"\\u043e\\u0442\\u0432\\u0435\\u0442\", \"\\u043e\\u0442\\u0432\\u0435\\u0442\", \"\\u043e\\u0442\\u0432\\u0435\\u0442\", \"\\u043e\\u0442\\u043b\\u0438\\u0447\\u043d\\u043e\", \"\\u043e\\u0442\\u043b\\u0438\\u0447\\u043d\\u043e\", \"\\u043e\\u0442\\u043b\\u0438\\u0447\\u043d\\u043e\", \"\\u043e\\u0442\\u043b\\u0438\\u0447\\u043d\\u043e\", \"\\u043e\\u0442\\u043b\\u0438\\u0447\\u043d\\u044b\\u0439\", \"\\u043e\\u0442\\u043b\\u0438\\u0447\\u043d\\u044b\\u0439\", \"\\u043e\\u0442\\u043b\\u0438\\u0447\\u043d\\u044b\\u0439\", \"\\u043e\\u0442\\u043b\\u0438\\u0447\\u043d\\u044b\\u0439\", \"\\u043e\\u0442\\u043f\\u0440\\u0430\\u0437\\u0434\\u043d\\u043e\\u0432\\u0430\\u0442\\u044c\", \"\\u043e\\u0442\\u043f\\u0440\\u0430\\u0437\\u0434\\u043d\\u043e\\u0432\\u0430\\u0442\\u044c\", \"\\u043e\\u0442\\u043f\\u0440\\u0430\\u0437\\u0434\\u043d\\u043e\\u0432\\u0430\\u0442\\u044c\", \"\\u043e\\u0442\\u043f\\u0440\\u0430\\u0437\\u0434\\u043d\\u043e\\u0432\\u0430\\u0442\\u044c\", \"\\u043e\\u0444\\u0438\\u0433\\u0435\\u043d\\u043d\\u044b\\u0439\", \"\\u043e\\u0444\\u0438\\u0433\\u0435\\u043d\\u043d\\u044b\\u0439\", \"\\u043e\\u0444\\u0438\\u0433\\u0435\\u043d\\u043d\\u044b\\u0439\", \"\\u043e\\u0444\\u0438\\u0433\\u0435\\u043d\\u043d\\u044b\\u0439\", \"\\u043e\\u0447\\u0435\\u043d\\u044c\", \"\\u043e\\u0447\\u0435\\u043d\\u044c\", \"\\u043e\\u0447\\u0435\\u043d\\u044c\", \"\\u043e\\u0447\\u0435\\u043d\\u044c\", \"\\u043e\\u0447\\u0435\\u043d\\u044c\", \"\\u043e\\u0449\\u0443\\u0449\\u0435\\u043d\\u0438\\u0435\", \"\\u043e\\u0449\\u0443\\u0449\\u0435\\u043d\\u0438\\u0435\", \"\\u043e\\u0449\\u0443\\u0449\\u0435\\u043d\\u0438\\u0435\", \"\\u043e\\u0449\\u0443\\u0449\\u0435\\u043d\\u0438\\u0435\", \"\\u043e\\u0449\\u0443\\u0449\\u0435\\u043d\\u0438\\u0435\", \"\\u043f\\u0430\\u043b\\u0435\\u0445\\u0447\", \"\\u043f\\u0430\\u043b\\u0435\\u0445\\u0447\", \"\\u043f\\u0430\\u043b\\u0435\\u0445\\u0447\", \"\\u043f\\u0430\\u043b\\u0435\\u0445\\u0447\", \"\\u043f\\u0430\\u043f\\u0430\", \"\\u043f\\u0430\\u043f\\u0430\", \"\\u043f\\u0430\\u043f\\u0430\", \"\\u043f\\u0430\\u043f\\u0430\", \"\\u043f\\u0430\\u043f\\u0430\", \"\\u043f\\u0430\\u0440\\u0430\", \"\\u043f\\u0430\\u0440\\u0430\", \"\\u043f\\u0430\\u0440\\u0430\", \"\\u043f\\u0430\\u0440\\u0430\", \"\\u043f\\u0430\\u0440\\u0435\\u043d\\u044c\", \"\\u043f\\u0430\\u0440\\u0435\\u043d\\u044c\", \"\\u043f\\u0430\\u0440\\u0435\\u043d\\u044c\", \"\\u043f\\u0430\\u0440\\u0435\\u043d\\u044c\", \"\\u043f\\u0435\\u0440\\u0432\\u044b\\u0439\", \"\\u043f\\u0435\\u0440\\u0432\\u044b\\u0439\", \"\\u043f\\u0435\\u0440\\u0432\\u044b\\u0439\", \"\\u043f\\u0435\\u0440\\u0432\\u044b\\u0439\", \"\\u043f\\u0435\\u0440\\u0432\\u044b\\u0439\", \"\\u043f\\u0435\\u0440\\u0435\\u0441\\u0442\\u0430\\u0442\\u044c\", \"\\u043f\\u0435\\u0440\\u0435\\u0441\\u0442\\u0430\\u0442\\u044c\", \"\\u043f\\u0435\\u0440\\u0435\\u0441\\u0442\\u0430\\u0442\\u044c\", \"\\u043f\\u0435\\u0440\\u0435\\u0441\\u0442\\u0430\\u0442\\u044c\", \"\\u043f\\u0435\\u0441\\u0435\\u043d\\u043a\\u0430\", \"\\u043f\\u0435\\u0441\\u0435\\u043d\\u043a\\u0430\", \"\\u043f\\u0435\\u0441\\u0435\\u043d\\u043a\\u0430\", \"\\u043f\\u0435\\u0441\\u0435\\u043d\\u043a\\u0430\", \"\\u043f\\u0435\\u0441\\u043d\\u044f\", \"\\u043f\\u0435\\u0441\\u043d\\u044f\", \"\\u043f\\u0435\\u0441\\u043d\\u044f\", \"\\u043f\\u0435\\u0441\\u043d\\u044f\", \"\\u043f\\u0438\\u0434\\u0440\\u0430\", \"\\u043f\\u0438\\u0434\\u0440\\u0430\", \"\\u043f\\u0438\\u0434\\u0440\\u0430\", \"\\u043f\\u0438\\u0434\\u0440\\u0430\", \"\\u043f\\u0438\\u0437\\u0434\\u0435\\u0446\", \"\\u043f\\u0438\\u0437\\u0434\\u0435\\u0446\", \"\\u043f\\u0438\\u0437\\u0434\\u0435\\u0446\", \"\\u043f\\u0438\\u0437\\u0434\\u0435\\u0446\", \"\\u043f\\u0438\\u0437\\u0434\\u0435\\u0446\", \"\\u043f\\u0438\\u0441\\u0430\\u0442\\u044c\", \"\\u043f\\u0438\\u0441\\u0430\\u0442\\u044c\", \"\\u043f\\u0438\\u0441\\u0430\\u0442\\u044c\", \"\\u043f\\u0438\\u0441\\u0430\\u0442\\u044c\", \"\\u043f\\u0438\\u0441\\u0430\\u0442\\u044c\", \"\\u043f\\u0438\\u0442\\u0435\\u0440\", \"\\u043f\\u0438\\u0442\\u0435\\u0440\", \"\\u043f\\u0438\\u0442\\u0435\\u0440\", \"\\u043f\\u0438\\u0442\\u0435\\u0440\", \"\\u043f\\u043b\\u0430\\u0442\\u044c\\u0435\", \"\\u043f\\u043b\\u0430\\u0442\\u044c\\u0435\", \"\\u043f\\u043b\\u0430\\u0442\\u044c\\u0435\", \"\\u043f\\u043b\\u0430\\u0442\\u044c\\u0435\", \"\\u043f\\u043b\\u043e\\u0445\\u043e\\u0439\", \"\\u043f\\u043b\\u043e\\u0445\\u043e\\u0439\", \"\\u043f\\u043b\\u043e\\u0445\\u043e\\u0439\", \"\\u043f\\u043b\\u043e\\u0445\\u043e\\u0439\", \"\\u043f\\u043d\\u0443\\u0442\\u044c\", \"\\u043f\\u043d\\u0443\\u0442\\u044c\", \"\\u043f\\u043d\\u0443\\u0442\\u044c\", \"\\u043f\\u043d\\u0443\\u0442\\u044c\", \"\\u043f\\u043e\\u0432\\u0435\\u0437\\u0442\\u0438\", \"\\u043f\\u043e\\u0432\\u0435\\u0437\\u0442\\u0438\", \"\\u043f\\u043e\\u0432\\u0435\\u0437\\u0442\\u0438\", \"\\u043f\\u043e\\u0432\\u0435\\u0437\\u0442\\u0438\", \"\\u043f\\u043e\\u0432\\u0435\\u0440\\u044c\", \"\\u043f\\u043e\\u0432\\u0435\\u0440\\u044c\", \"\\u043f\\u043e\\u0432\\u0435\\u0440\\u044c\", \"\\u043f\\u043e\\u0432\\u0435\\u0440\\u044c\", \"\\u043f\\u043e\\u0432\\u043e\\u0434\", \"\\u043f\\u043e\\u0432\\u043e\\u0434\", \"\\u043f\\u043e\\u0432\\u043e\\u0434\", \"\\u043f\\u043e\\u0432\\u043e\\u0434\", \"\\u043f\\u043e\\u0432\\u043e\\u0434\", \"\\u043f\\u043e\\u0433\\u043e\\u0434\\u0430\", \"\\u043f\\u043e\\u0433\\u043e\\u0434\\u0430\", \"\\u043f\\u043e\\u0433\\u043e\\u0434\\u0430\", \"\\u043f\\u043e\\u0433\\u043e\\u0434\\u0430\", \"\\u043f\\u043e\\u0434\\u0430\\u0440\\u0438\\u0442\\u044c\", \"\\u043f\\u043e\\u0434\\u0430\\u0440\\u0438\\u0442\\u044c\", \"\\u043f\\u043e\\u0434\\u0430\\u0440\\u0438\\u0442\\u044c\", \"\\u043f\\u043e\\u0434\\u0430\\u0440\\u0438\\u0442\\u044c\", \"\\u043f\\u043e\\u0434\\u0434\\u0435\\u0440\\u0436\\u0438\\u0432\\u0430\\u0442\\u044c\", \"\\u043f\\u043e\\u0434\\u0434\\u0435\\u0440\\u0436\\u0438\\u0432\\u0430\\u0442\\u044c\", \"\\u043f\\u043e\\u0434\\u0434\\u0435\\u0440\\u0436\\u0438\\u0432\\u0430\\u0442\\u044c\", \"\\u043f\\u043e\\u0434\\u0434\\u0435\\u0440\\u0436\\u0438\\u0432\\u0430\\u0442\\u044c\", \"\\u043f\\u043e\\u0434\\u0434\\u0435\\u0440\\u0436\\u043a\\u0430\", \"\\u043f\\u043e\\u0434\\u0434\\u0435\\u0440\\u0436\\u043a\\u0430\", \"\\u043f\\u043e\\u0434\\u0434\\u0435\\u0440\\u0436\\u043a\\u0430\", \"\\u043f\\u043e\\u0434\\u0434\\u0435\\u0440\\u0436\\u043a\\u0430\", \"\\u043f\\u043e\\u0434\\u043e\\u0439\\u0442\\u0438\", \"\\u043f\\u043e\\u0434\\u043e\\u0439\\u0442\\u0438\", \"\\u043f\\u043e\\u0434\\u043e\\u0439\\u0442\\u0438\", \"\\u043f\\u043e\\u0434\\u043e\\u0439\\u0442\\u0438\", \"\\u043f\\u043e\\u0434\\u0440\\u044f\\u0434\", \"\\u043f\\u043e\\u0434\\u0440\\u044f\\u0434\", \"\\u043f\\u043e\\u0434\\u0440\\u044f\\u0434\", \"\\u043f\\u043e\\u0434\\u0440\\u044f\\u0434\", \"\\u043f\\u043e\\u0434\\u0440\\u044f\\u0434\", \"\\u043f\\u043e\\u0434\\u0441\\u0442\\u0440\\u0430\\u0438\\u0432\\u0430\\u0442\\u044c\\u0441\\u044f\", \"\\u043f\\u043e\\u0434\\u0441\\u0442\\u0440\\u0430\\u0438\\u0432\\u0430\\u0442\\u044c\\u0441\\u044f\", \"\\u043f\\u043e\\u0434\\u0441\\u0442\\u0440\\u0430\\u0438\\u0432\\u0430\\u0442\\u044c\\u0441\\u044f\", \"\\u043f\\u043e\\u0434\\u0441\\u0442\\u0440\\u0430\\u0438\\u0432\\u0430\\u0442\\u044c\\u0441\\u044f\", \"\\u043f\\u043e\\u0437\\u0432\\u043e\\u043d\\u0438\\u0442\\u044c\", \"\\u043f\\u043e\\u0437\\u0432\\u043e\\u043d\\u0438\\u0442\\u044c\", \"\\u043f\\u043e\\u0437\\u0432\\u043e\\u043d\\u0438\\u0442\\u044c\", \"\\u043f\\u043e\\u0437\\u0432\\u043e\\u043d\\u0438\\u0442\\u044c\", \"\\u043f\\u043e\\u0437\\u0434\\u043d\\u0438\\u0439\", \"\\u043f\\u043e\\u0437\\u0434\\u043d\\u0438\\u0439\", \"\\u043f\\u043e\\u0437\\u0434\\u043d\\u0438\\u0439\", \"\\u043f\\u043e\\u0437\\u0434\\u043d\\u0438\\u0439\", \"\\u043f\\u043e\\u0437\\u0434\\u0440\\u0430\\u0432\\u043b\\u044f\\u0442\\u044c\", \"\\u043f\\u043e\\u0437\\u0434\\u0440\\u0430\\u0432\\u043b\\u044f\\u0442\\u044c\", \"\\u043f\\u043e\\u0437\\u0434\\u0440\\u0430\\u0432\\u043b\\u044f\\u0442\\u044c\", \"\\u043f\\u043e\\u0437\\u0434\\u0440\\u0430\\u0432\\u043b\\u044f\\u0442\\u044c\", \"\\u043f\\u043e\\u0437\\u043e\\u0440\\u043d\\u044b\\u0439\", \"\\u043f\\u043e\\u0437\\u043e\\u0440\\u043d\\u044b\\u0439\", \"\\u043f\\u043e\\u0437\\u043e\\u0440\\u043d\\u044b\\u0439\", \"\\u043f\\u043e\\u0437\\u043e\\u0440\\u043d\\u044b\\u0439\", \"\\u043f\\u043e\\u0439\\u0442\\u0438\", \"\\u043f\\u043e\\u0439\\u0442\\u0438\", \"\\u043f\\u043e\\u0439\\u0442\\u0438\", \"\\u043f\\u043e\\u0439\\u0442\\u0438\", \"\\u043f\\u043e\\u043a\\u0430\", \"\\u043f\\u043e\\u043a\\u0430\", \"\\u043f\\u043e\\u043a\\u0430\", \"\\u043f\\u043e\\u043a\\u0430\", \"\\u043f\\u043e\\u043a\\u0430\\u0442\\u0430\\u0442\\u044c\", \"\\u043f\\u043e\\u043a\\u0430\\u0442\\u0430\\u0442\\u044c\", \"\\u043f\\u043e\\u043a\\u0430\\u0442\\u0430\\u0442\\u044c\", \"\\u043f\\u043e\\u043a\\u0430\\u0442\\u0430\\u0442\\u044c\", \"\\u043f\\u043e\\u043b\", \"\\u043f\\u043e\\u043b\", \"\\u043f\\u043e\\u043b\", \"\\u043f\\u043e\\u043b\", \"\\u043f\\u043e\\u043b\\u043d\\u044b\\u0439\", \"\\u043f\\u043e\\u043b\\u043d\\u044b\\u0439\", \"\\u043f\\u043e\\u043b\\u043d\\u044b\\u0439\", \"\\u043f\\u043e\\u043b\\u043d\\u044b\\u0439\", \"\\u043f\\u043e\\u043b\\u043d\\u044b\\u0439\", \"\\u043f\\u043e\\u043b\\u0443\\u0447\\u0430\\u0442\\u044c\\u0441\\u044f\", \"\\u043f\\u043e\\u043b\\u0443\\u0447\\u0430\\u0442\\u044c\\u0441\\u044f\", \"\\u043f\\u043e\\u043b\\u0443\\u0447\\u0430\\u0442\\u044c\\u0441\\u044f\", \"\\u043f\\u043e\\u043b\\u0443\\u0447\\u0430\\u0442\\u044c\\u0441\\u044f\", \"\\u043f\\u043e\\u043b\\u0443\\u0447\\u0430\\u0442\\u044c\\u0441\\u044f\", \"\\u043f\\u043e\\u043b\\u0443\\u0447\\u0438\\u0442\\u044c\", \"\\u043f\\u043e\\u043b\\u0443\\u0447\\u0438\\u0442\\u044c\", \"\\u043f\\u043e\\u043b\\u0443\\u0447\\u0438\\u0442\\u044c\", \"\\u043f\\u043e\\u043b\\u0443\\u0447\\u0438\\u0442\\u044c\", \"\\u043f\\u043e\\u043c\\u043d\\u0438\\u0442\\u044c\", \"\\u043f\\u043e\\u043c\\u043d\\u0438\\u0442\\u044c\", \"\\u043f\\u043e\\u043c\\u043d\\u0438\\u0442\\u044c\", \"\\u043f\\u043e\\u043c\\u043d\\u0438\\u0442\\u044c\", \"\\u043f\\u043e\\u043c\\u043e\\u0447\\u044c\", \"\\u043f\\u043e\\u043c\\u043e\\u0447\\u044c\", \"\\u043f\\u043e\\u043c\\u043e\\u0447\\u044c\", \"\\u043f\\u043e\\u043c\\u043e\\u0447\\u044c\", \"\\u043f\\u043e\\u043d\\u0438\\u043c\\u0430\\u0442\\u044c\", \"\\u043f\\u043e\\u043d\\u0438\\u043c\\u0430\\u0442\\u044c\", \"\\u043f\\u043e\\u043d\\u0438\\u043c\\u0430\\u0442\\u044c\", \"\\u043f\\u043e\\u043d\\u0438\\u043c\\u0430\\u0442\\u044c\", \"\\u043f\\u043e\\u043d\\u0440\\u0430\\u0432\\u0438\\u0442\\u044c\\u0441\\u044f\", \"\\u043f\\u043e\\u043d\\u0440\\u0430\\u0432\\u0438\\u0442\\u044c\\u0441\\u044f\", \"\\u043f\\u043e\\u043d\\u0440\\u0430\\u0432\\u0438\\u0442\\u044c\\u0441\\u044f\", \"\\u043f\\u043e\\u043d\\u0440\\u0430\\u0432\\u0438\\u0442\\u044c\\u0441\\u044f\", \"\\u043f\\u043e\\u043d\\u0447\\u0438\\u043a\", \"\\u043f\\u043e\\u043d\\u0447\\u0438\\u043a\", \"\\u043f\\u043e\\u043d\\u0447\\u0438\\u043a\", \"\\u043f\\u043e\\u043d\\u0447\\u0438\\u043a\", \"\\u043f\\u043e\\u043d\\u044f\\u0442\\u044c\", \"\\u043f\\u043e\\u043d\\u044f\\u0442\\u044c\", \"\\u043f\\u043e\\u043d\\u044f\\u0442\\u044c\", \"\\u043f\\u043e\\u043d\\u044f\\u0442\\u044c\", \"\\u043f\\u043e\\u043d\\u044f\\u0442\\u044c\", \"\\u043f\\u043e\\u043f\\u0430\\u0441\\u0442\\u044c\", \"\\u043f\\u043e\\u043f\\u0430\\u0441\\u0442\\u044c\", \"\\u043f\\u043e\\u043f\\u0430\\u0441\\u0442\\u044c\", \"\\u043f\\u043e\\u043f\\u0430\\u0441\\u0442\\u044c\", \"\\u043f\\u043e\\u043f\\u0430\\u0441\\u0442\\u044c\", \"\\u043f\\u043e\\u043f\\u0435\\u0446\", \"\\u043f\\u043e\\u043f\\u0435\\u0446\", \"\\u043f\\u043e\\u043f\\u0435\\u0446\", \"\\u043f\\u043e\\u043f\\u0435\\u0446\", \"\\u043f\\u043e\\u0440\\u0430\", \"\\u043f\\u043e\\u0440\\u0430\", \"\\u043f\\u043e\\u0440\\u0430\", \"\\u043f\\u043e\\u0440\\u0430\", \"\\u043f\\u043e\\u0440\\u0430\\u0434\\u043e\\u0432\\u0430\\u0442\\u044c\", \"\\u043f\\u043e\\u0440\\u0430\\u0434\\u043e\\u0432\\u0430\\u0442\\u044c\", \"\\u043f\\u043e\\u0440\\u0430\\u0434\\u043e\\u0432\\u0430\\u0442\\u044c\", \"\\u043f\\u043e\\u0440\\u0430\\u0434\\u043e\\u0432\\u0430\\u0442\\u044c\", \"\\u043f\\u043e\\u0440\\u0442\\u0444\\u0435\\u043b\\u044c\", \"\\u043f\\u043e\\u0440\\u0442\\u0444\\u0435\\u043b\\u044c\", \"\\u043f\\u043e\\u0440\\u0442\\u0444\\u0435\\u043b\\u044c\", \"\\u043f\\u043e\\u0440\\u0442\\u0444\\u0435\\u043b\\u044c\", \"\\u043f\\u043e\\u0440\\u0446\\u0438\\u044f\", \"\\u043f\\u043e\\u0440\\u0446\\u0438\\u044f\", \"\\u043f\\u043e\\u0440\\u0446\\u0438\\u044f\", \"\\u043f\\u043e\\u0440\\u0446\\u0438\\u044f\", \"\\u043f\\u043e\\u0441\\u043b\\u0430\\u043d\\u0438\\u0435\", \"\\u043f\\u043e\\u0441\\u043b\\u0430\\u043d\\u0438\\u0435\", \"\\u043f\\u043e\\u0441\\u043b\\u0430\\u043d\\u0438\\u0435\", \"\\u043f\\u043e\\u0441\\u043b\\u0430\\u043d\\u0438\\u0435\", \"\\u043f\\u043e\\u0441\\u043b\\u0430\\u0442\\u044c\", \"\\u043f\\u043e\\u0441\\u043b\\u0430\\u0442\\u044c\", \"\\u043f\\u043e\\u0441\\u043b\\u0430\\u0442\\u044c\", \"\\u043f\\u043e\\u0441\\u043b\\u0430\\u0442\\u044c\", \"\\u043f\\u043e\\u0441\\u043b\\u0435\\u0434\\u043d\\u0438\\u0439\", \"\\u043f\\u043e\\u0441\\u043b\\u0435\\u0434\\u043d\\u0438\\u0439\", \"\\u043f\\u043e\\u0441\\u043b\\u0435\\u0434\\u043d\\u0438\\u0439\", \"\\u043f\\u043e\\u0441\\u043b\\u0435\\u0434\\u043d\\u0438\\u0439\", \"\\u043f\\u043e\\u0441\\u043c\\u043e\\u0442\\u0440\\u0435\\u0442\\u044c\", \"\\u043f\\u043e\\u0441\\u043c\\u043e\\u0442\\u0440\\u0435\\u0442\\u044c\", \"\\u043f\\u043e\\u0441\\u043c\\u043e\\u0442\\u0440\\u0435\\u0442\\u044c\", \"\\u043f\\u043e\\u0441\\u043c\\u043e\\u0442\\u0440\\u0435\\u0442\\u044c\", \"\\u043f\\u043e\\u0441\\u043c\\u043e\\u0442\\u0440\\u0435\\u0442\\u044c\", \"\\u043f\\u043e\\u0441\\u0442\", \"\\u043f\\u043e\\u0441\\u0442\", \"\\u043f\\u043e\\u0441\\u0442\", \"\\u043f\\u043e\\u0441\\u0442\", \"\\u043f\\u043e\\u0445\\u043e\\u0436\\u0438\\u0439\", \"\\u043f\\u043e\\u0445\\u043e\\u0436\\u0438\\u0439\", \"\\u043f\\u043e\\u0445\\u043e\\u0436\\u0438\\u0439\", \"\\u043f\\u043e\\u0445\\u043e\\u0436\\u0438\\u0439\", \"\\u043f\\u043e\\u0445\\u043e\\u0436\\u0438\\u0439\", \"\\u043f\\u043e\\u0447\\u0435\\u043c\\u0443\", \"\\u043f\\u043e\\u0447\\u0435\\u043c\\u0443\", \"\\u043f\\u043e\\u0447\\u0435\\u043c\\u0443\", \"\\u043f\\u043e\\u0447\\u0435\\u043c\\u0443\", \"\\u043f\\u043e\\u0447\\u0435\\u043c\\u0443\", \"\\u043f\\u043e\\u044d\\u0442\\u043e\\u043c\\u0443\", \"\\u043f\\u043e\\u044d\\u0442\\u043e\\u043c\\u0443\", \"\\u043f\\u043e\\u044d\\u0442\\u043e\\u043c\\u0443\", \"\\u043f\\u043e\\u044d\\u0442\\u043e\\u043c\\u0443\", \"\\u043f\\u043e\\u044d\\u0442\\u043e\\u043c\\u0443\", \"\\u043f\\u043e\\u044f\\u0432\\u0438\\u0442\\u044c\\u0441\\u044f\", \"\\u043f\\u043e\\u044f\\u0432\\u0438\\u0442\\u044c\\u0441\\u044f\", \"\\u043f\\u043e\\u044f\\u0432\\u0438\\u0442\\u044c\\u0441\\u044f\", \"\\u043f\\u043e\\u044f\\u0432\\u0438\\u0442\\u044c\\u0441\\u044f\", \"\\u043f\\u0440\\u0430\\u0432\\u0438\\u043b\\u043e\", \"\\u043f\\u0440\\u0430\\u0432\\u0438\\u043b\\u043e\", \"\\u043f\\u0440\\u0430\\u0432\\u0438\\u043b\\u043e\", \"\\u043f\\u0440\\u0430\\u0432\\u0438\\u043b\\u043e\", \"\\u043f\\u0440\\u0430\\u0437\\u0434\\u043d\\u0438\\u043a\", \"\\u043f\\u0440\\u0430\\u0437\\u0434\\u043d\\u0438\\u043a\", \"\\u043f\\u0440\\u0430\\u0437\\u0434\\u043d\\u0438\\u043a\", \"\\u043f\\u0440\\u0430\\u0437\\u0434\\u043d\\u0438\\u043a\", \"\\u043f\\u0440\\u0435\\u0432\\u044b\\u0448\\u0430\\u0442\\u044c\", \"\\u043f\\u0440\\u0435\\u0432\\u044b\\u0448\\u0430\\u0442\\u044c\", \"\\u043f\\u0440\\u0435\\u0432\\u044b\\u0448\\u0430\\u0442\\u044c\", \"\\u043f\\u0440\\u0435\\u0432\\u044b\\u0448\\u0430\\u0442\\u044c\", \"\\u043f\\u0440\\u0435\\u0434\\u043c\\u0435\\u0442\", \"\\u043f\\u0440\\u0435\\u0434\\u043c\\u0435\\u0442\", \"\\u043f\\u0440\\u0435\\u0434\\u043c\\u0435\\u0442\", \"\\u043f\\u0440\\u0435\\u0434\\u043c\\u0435\\u0442\", \"\\u043f\\u0440\\u0435\\u0434\\u043d\\u043e\\u0432\\u043e\\u0433\\u043e\\u0434\\u043d\\u0438\\u0435\\u043e\\u0431\\u043d\\u0438\\u043c\\u0430\\u0448\\u043a\\u0430\", \"\\u043f\\u0440\\u0435\\u0434\\u043d\\u043e\\u0432\\u043e\\u0433\\u043e\\u0434\\u043d\\u0438\\u0435\\u043e\\u0431\\u043d\\u0438\\u043c\\u0430\\u0448\\u043a\\u0430\", \"\\u043f\\u0440\\u0435\\u0434\\u043d\\u043e\\u0432\\u043e\\u0433\\u043e\\u0434\\u043d\\u0438\\u0435\\u043e\\u0431\\u043d\\u0438\\u043c\\u0430\\u0448\\u043a\\u0430\", \"\\u043f\\u0440\\u0435\\u0434\\u043d\\u043e\\u0432\\u043e\\u0433\\u043e\\u0434\\u043d\\u0438\\u0435\\u043e\\u0431\\u043d\\u0438\\u043c\\u0430\\u0448\\u043a\\u0430\", \"\\u043f\\u0440\\u0435\\u0434\\u0441\\u0442\\u0430\\u0432\\u0438\\u0442\\u044c\", \"\\u043f\\u0440\\u0435\\u0434\\u0441\\u0442\\u0430\\u0432\\u0438\\u0442\\u044c\", \"\\u043f\\u0440\\u0435\\u0434\\u0441\\u0442\\u0430\\u0432\\u0438\\u0442\\u044c\", \"\\u043f\\u0440\\u0435\\u0434\\u0441\\u0442\\u0430\\u0432\\u0438\\u0442\\u044c\", \"\\u043f\\u0440\\u0435\\u043a\\u0440\\u0430\\u0441\\u043d\\u044b\\u0439\", \"\\u043f\\u0440\\u0435\\u043a\\u0440\\u0430\\u0441\\u043d\\u044b\\u0439\", \"\\u043f\\u0440\\u0435\\u043a\\u0440\\u0430\\u0441\\u043d\\u044b\\u0439\", \"\\u043f\\u0440\\u0435\\u043a\\u0440\\u0430\\u0441\\u043d\\u044b\\u0439\", \"\\u043f\\u0440\\u0435\\u043a\\u0440\\u0430\\u0441\\u043d\\u044b\\u0439\", \"\\u043f\\u0440\\u0438\\u0432\\u0435\\u0442\", \"\\u043f\\u0440\\u0438\\u0432\\u0435\\u0442\", \"\\u043f\\u0440\\u0438\\u0432\\u0435\\u0442\", \"\\u043f\\u0440\\u0438\\u0432\\u0435\\u0442\", \"\\u043f\\u0440\\u0438\\u0434\\u0443\\u0440\\u043e\\u043a\", \"\\u043f\\u0440\\u0438\\u0434\\u0443\\u0440\\u043e\\u043a\", \"\\u043f\\u0440\\u0438\\u0434\\u0443\\u0440\\u043e\\u043a\", \"\\u043f\\u0440\\u0438\\u0434\\u0443\\u0440\\u043e\\u043a\", \"\\u043f\\u0440\\u0438\\u0435\\u0445\\u0430\\u0442\\u044c\", \"\\u043f\\u0440\\u0438\\u0435\\u0445\\u0430\\u0442\\u044c\", \"\\u043f\\u0440\\u0438\\u0435\\u0445\\u0430\\u0442\\u044c\", \"\\u043f\\u0440\\u0438\\u0435\\u0445\\u0430\\u0442\\u044c\", \"\\u043f\\u0440\\u0438\\u0439\\u0442\\u0438\", \"\\u043f\\u0440\\u0438\\u0439\\u0442\\u0438\", \"\\u043f\\u0440\\u0438\\u0439\\u0442\\u0438\", \"\\u043f\\u0440\\u0438\\u0439\\u0442\\u0438\", \"\\u043f\\u0440\\u0438\\u0439\\u0442\\u0438\", \"\\u043f\\u0440\\u0438\\u043a\\u043e\\u043b\\u044c\\u043d\\u044b\\u0439\", \"\\u043f\\u0440\\u0438\\u043a\\u043e\\u043b\\u044c\\u043d\\u044b\\u0439\", \"\\u043f\\u0440\\u0438\\u043a\\u043e\\u043b\\u044c\\u043d\\u044b\\u0439\", \"\\u043f\\u0440\\u0438\\u043a\\u043e\\u043b\\u044c\\u043d\\u044b\\u0439\", \"\\u043f\\u0440\\u0438\\u043b\\u043e\\u0436\\u0435\\u043d\\u0438\\u0435\", \"\\u043f\\u0440\\u0438\\u043b\\u043e\\u0436\\u0435\\u043d\\u0438\\u0435\", \"\\u043f\\u0440\\u0438\\u043b\\u043e\\u0436\\u0435\\u043d\\u0438\\u0435\", \"\\u043f\\u0440\\u0438\\u043b\\u043e\\u0436\\u0435\\u043d\\u0438\\u0435\", \"\\u043f\\u0440\\u0438\\u0441\\u043b\\u0430\\u0442\\u044c\", \"\\u043f\\u0440\\u0438\\u0441\\u043b\\u0430\\u0442\\u044c\", \"\\u043f\\u0440\\u0438\\u0441\\u043b\\u0430\\u0442\\u044c\", \"\\u043f\\u0440\\u0438\\u0441\\u043b\\u0430\\u0442\\u044c\", \"\\u043f\\u0440\\u0438\\u0445\\u043e\\u0434\\u0438\\u0442\\u044c\", \"\\u043f\\u0440\\u0438\\u0445\\u043e\\u0434\\u0438\\u0442\\u044c\", \"\\u043f\\u0440\\u0438\\u0445\\u043e\\u0434\\u0438\\u0442\\u044c\", \"\\u043f\\u0440\\u0438\\u0445\\u043e\\u0434\\u0438\\u0442\\u044c\", \"\\u043f\\u0440\\u0438\\u0447\\u0451\\u0441\\u043a\\u0430\", \"\\u043f\\u0440\\u0438\\u0447\\u0451\\u0441\\u043a\\u0430\", \"\\u043f\\u0440\\u0438\\u0447\\u0451\\u0441\\u043a\\u0430\", \"\\u043f\\u0440\\u0438\\u0447\\u0451\\u0441\\u043a\\u0430\", \"\\u043f\\u0440\\u0438\\u044f\\u0442\\u043d\\u043e\", \"\\u043f\\u0440\\u0438\\u044f\\u0442\\u043d\\u043e\", \"\\u043f\\u0440\\u0438\\u044f\\u0442\\u043d\\u043e\", \"\\u043f\\u0440\\u0438\\u044f\\u0442\\u043d\\u043e\", \"\\u043f\\u0440\\u043e\\u0431\\u043a\\u0430\", \"\\u043f\\u0440\\u043e\\u0431\\u043a\\u0430\", \"\\u043f\\u0440\\u043e\\u0431\\u043a\\u0430\", \"\\u043f\\u0440\\u043e\\u0431\\u043a\\u0430\", \"\\u043f\\u0440\\u043e\\u0435\\u043a\\u0442\", \"\\u043f\\u0440\\u043e\\u0435\\u043a\\u0442\", \"\\u043f\\u0440\\u043e\\u0435\\u043a\\u0442\", \"\\u043f\\u0440\\u043e\\u0435\\u043a\\u0442\", \"\\u043f\\u0440\\u043e\\u0439\\u0442\\u0438\", \"\\u043f\\u0440\\u043e\\u0439\\u0442\\u0438\", \"\\u043f\\u0440\\u043e\\u0439\\u0442\\u0438\", \"\\u043f\\u0440\\u043e\\u0439\\u0442\\u0438\", \"\\u043f\\u0440\\u043e\\u043b\\u0435\\u0442\\u0435\\u0442\\u044c\", \"\\u043f\\u0440\\u043e\\u043b\\u0435\\u0442\\u0435\\u0442\\u044c\", \"\\u043f\\u0440\\u043e\\u043b\\u0435\\u0442\\u0435\\u0442\\u044c\", \"\\u043f\\u0440\\u043e\\u043b\\u0435\\u0442\\u0435\\u0442\\u044c\", \"\\u043f\\u0440\\u043e\\u043f\\u0430\\u0434\\u0430\\u0442\\u044c\", \"\\u043f\\u0440\\u043e\\u043f\\u0430\\u0434\\u0430\\u0442\\u044c\", \"\\u043f\\u0440\\u043e\\u043f\\u0430\\u0434\\u0430\\u0442\\u044c\", \"\\u043f\\u0440\\u043e\\u043f\\u0430\\u0434\\u0430\\u0442\\u044c\", \"\\u043f\\u0440\\u043e\\u0441\\u0438\\u0442\\u044c\\u0441\\u044f\", \"\\u043f\\u0440\\u043e\\u0441\\u0438\\u0442\\u044c\\u0441\\u044f\", \"\\u043f\\u0440\\u043e\\u0441\\u0438\\u0442\\u044c\\u0441\\u044f\", \"\\u043f\\u0440\\u043e\\u0441\\u0438\\u0442\\u044c\\u0441\\u044f\", \"\\u043f\\u0440\\u043e\\u0441\\u043d\\u0443\\u0442\\u044c\\u0441\\u044f\", \"\\u043f\\u0440\\u043e\\u0441\\u043d\\u0443\\u0442\\u044c\\u0441\\u044f\", \"\\u043f\\u0440\\u043e\\u0441\\u043d\\u0443\\u0442\\u044c\\u0441\\u044f\", \"\\u043f\\u0440\\u043e\\u0441\\u043d\\u0443\\u0442\\u044c\\u0441\\u044f\", \"\\u043f\\u0440\\u043e\\u0441\\u0442\\u043e\", \"\\u043f\\u0440\\u043e\\u0441\\u0442\\u043e\", \"\\u043f\\u0440\\u043e\\u0441\\u0442\\u043e\", \"\\u043f\\u0440\\u043e\\u0441\\u0442\\u043e\", \"\\u043f\\u0440\\u043e\\u0441\\u0442\\u043e\", \"\\u043f\\u0440\\u043e\\u0442\\u0438\\u0432\", \"\\u043f\\u0440\\u043e\\u0442\\u0438\\u0432\", \"\\u043f\\u0440\\u043e\\u0442\\u0438\\u0432\", \"\\u043f\\u0440\\u043e\\u0442\\u0438\\u0432\", \"\\u043f\\u0440\\u043e\\u0444\\u0435\\u0441\\u0441\\u0438\\u044f\", \"\\u043f\\u0440\\u043e\\u0444\\u0435\\u0441\\u0441\\u0438\\u044f\", \"\\u043f\\u0440\\u043e\\u0444\\u0435\\u0441\\u0441\\u0438\\u044f\", \"\\u043f\\u0440\\u043e\\u0444\\u0435\\u0441\\u0441\\u0438\\u044f\", \"\\u043f\\u0440\\u043e\\u0448\\u043b\\u044b\\u0439\", \"\\u043f\\u0440\\u043e\\u0448\\u043b\\u044b\\u0439\", \"\\u043f\\u0440\\u043e\\u0448\\u043b\\u044b\\u0439\", \"\\u043f\\u0440\\u043e\\u0448\\u043b\\u044b\\u0439\", \"\\u043f\\u0440\\u044f\\u043c\", \"\\u043f\\u0440\\u044f\\u043c\", \"\\u043f\\u0440\\u044f\\u043c\", \"\\u043f\\u0440\\u044f\\u043c\", \"\\u043f\\u0440\\u044f\\u043c\", \"\\u043f\\u0443\\u0442\\u0430\\u0442\\u044c\", \"\\u043f\\u0443\\u0442\\u0430\\u0442\\u044c\", \"\\u043f\\u0443\\u0442\\u0430\\u0442\\u044c\", \"\\u043f\\u0443\\u0442\\u0430\\u0442\\u044c\", \"\\u043f\\u044c\\u044f\\u043d\\u044b\\u0439\", \"\\u043f\\u044c\\u044f\\u043d\\u044b\\u0439\", \"\\u043f\\u044c\\u044f\\u043d\\u044b\\u0439\", \"\\u043f\\u044c\\u044f\\u043d\\u044b\\u0439\", \"\\u043f\\u044f\\u0442\\u043d\\u0438\\u0446\\u0430\", \"\\u043f\\u044f\\u0442\\u043d\\u0438\\u0446\\u0430\", \"\\u043f\\u044f\\u0442\\u043d\\u0438\\u0446\\u0430\", \"\\u043f\\u044f\\u0442\\u043d\\u0438\\u0446\\u0430\", \"\\u0440\\u0430\\u0431\\u043e\\u0442\\u0430\", \"\\u0440\\u0430\\u0431\\u043e\\u0442\\u0430\", \"\\u0440\\u0430\\u0431\\u043e\\u0442\\u0430\", \"\\u0440\\u0430\\u0431\\u043e\\u0442\\u0430\", \"\\u0440\\u0430\\u0431\\u043e\\u0442\\u0430\", \"\\u0440\\u0430\\u0431\\u043e\\u0442\\u0430\\u0442\\u044c\", \"\\u0440\\u0430\\u0431\\u043e\\u0442\\u0430\\u0442\\u044c\", \"\\u0440\\u0430\\u0431\\u043e\\u0442\\u0430\\u0442\\u044c\", \"\\u0440\\u0430\\u0431\\u043e\\u0442\\u0430\\u0442\\u044c\", \"\\u0440\\u0430\\u0431\\u043e\\u0442\\u0430\\u0442\\u044c\", \"\\u0440\\u0430\\u0431\\u043e\\u0447\\u0438\\u0439\", \"\\u0440\\u0430\\u0431\\u043e\\u0447\\u0438\\u0439\", \"\\u0440\\u0430\\u0431\\u043e\\u0447\\u0438\\u0439\", \"\\u0440\\u0430\\u0431\\u043e\\u0447\\u0438\\u0439\", \"\\u0440\\u0430\\u0432\\u043d\\u043e\", \"\\u0440\\u0430\\u0432\\u043d\\u043e\", \"\\u0440\\u0430\\u0432\\u043d\\u043e\", \"\\u0440\\u0430\\u0432\\u043d\\u043e\", \"\\u0440\\u0430\\u0432\\u043d\\u043e\", \"\\u0440\\u0430\\u0434\", \"\\u0440\\u0430\\u0434\", \"\\u0440\\u0430\\u0434\", \"\\u0440\\u0430\\u0434\", \"\\u0440\\u0430\\u0434\\u0430\", \"\\u0440\\u0430\\u0434\\u0430\", \"\\u0440\\u0430\\u0434\\u0430\", \"\\u0440\\u0430\\u0434\\u0430\", \"\\u0440\\u0430\\u0434\\u0430\", \"\\u0440\\u0430\\u0434\\u043e\\u0432\\u0430\\u0442\\u044c\", \"\\u0440\\u0430\\u0434\\u043e\\u0432\\u0430\\u0442\\u044c\", \"\\u0440\\u0430\\u0434\\u043e\\u0432\\u0430\\u0442\\u044c\", \"\\u0440\\u0430\\u0434\\u043e\\u0432\\u0430\\u0442\\u044c\", \"\\u0440\\u0430\\u0434\\u043e\\u0432\\u0430\\u0442\\u044c\", \"\\u0440\\u0430\\u043d\\u043d\\u0438\\u0439\", \"\\u0440\\u0430\\u043d\\u043d\\u0438\\u0439\", \"\\u0440\\u0430\\u043d\\u043d\\u0438\\u0439\", \"\\u0440\\u0430\\u043d\\u043d\\u0438\\u0439\", \"\\u0440\\u0430\\u0441\\u0441\\u043a\\u0430\\u0437\\u0430\\u0442\\u044c\", \"\\u0440\\u0430\\u0441\\u0441\\u043a\\u0430\\u0437\\u0430\\u0442\\u044c\", \"\\u0440\\u0430\\u0441\\u0441\\u043a\\u0430\\u0437\\u0430\\u0442\\u044c\", \"\\u0440\\u0430\\u0441\\u0441\\u043a\\u0430\\u0437\\u0430\\u0442\\u044c\", \"\\u0440\\u0430\\u0441\\u0441\\u043a\\u0430\\u0437\\u0430\\u0442\\u044c\", \"\\u0440\\u0430\\u0441\\u0441\\u0442\\u0440\\u043e\\u0438\\u0442\\u044c\", \"\\u0440\\u0430\\u0441\\u0441\\u0442\\u0440\\u043e\\u0438\\u0442\\u044c\", \"\\u0440\\u0430\\u0441\\u0441\\u0442\\u0440\\u043e\\u0438\\u0442\\u044c\", \"\\u0440\\u0430\\u0441\\u0441\\u0442\\u0440\\u043e\\u0438\\u0442\\u044c\", \"\\u0440\\u0435\\u0431\\u044f\\u0442\\u0430\", \"\\u0440\\u0435\\u0431\\u044f\\u0442\\u0430\", \"\\u0440\\u0435\\u0431\\u044f\\u0442\\u0430\", \"\\u0440\\u0435\\u0431\\u044f\\u0442\\u0430\", \"\\u0440\\u0438\\u0433\\u0430\", \"\\u0440\\u0438\\u0433\\u0430\", \"\\u0440\\u0438\\u0433\\u0430\", \"\\u0440\\u0438\\u0433\\u0430\", \"\\u0440\\u043e\\u0434\\u0438\\u0442\\u0435\\u043b\\u044c\", \"\\u0440\\u043e\\u0434\\u0438\\u0442\\u0435\\u043b\\u044c\", \"\\u0440\\u043e\\u0434\\u0438\\u0442\\u0435\\u043b\\u044c\", \"\\u0440\\u043e\\u0434\\u0438\\u0442\\u0435\\u043b\\u044c\", \"\\u0440\\u043e\\u0434\\u043d\\u044b\\u0439\", \"\\u0440\\u043e\\u0434\\u043d\\u044b\\u0439\", \"\\u0440\\u043e\\u0434\\u043d\\u044b\\u0439\", \"\\u0440\\u043e\\u0434\\u043d\\u044b\\u0439\", \"\\u0440\\u043e\\u0436\\u0434\\u0435\\u043d\\u0438\\u0435\", \"\\u0440\\u043e\\u0436\\u0434\\u0435\\u043d\\u0438\\u0435\", \"\\u0440\\u043e\\u0436\\u0434\\u0435\\u043d\\u0438\\u0435\", \"\\u0440\\u043e\\u0436\\u0434\\u0435\\u043d\\u0438\\u0435\", \"\\u0440\\u043e\\u0441\\u0441\\u0438\\u0439\\u0441\\u043a\\u0438\\u0439\", \"\\u0440\\u043e\\u0441\\u0441\\u0438\\u0439\\u0441\\u043a\\u0438\\u0439\", \"\\u0440\\u043e\\u0441\\u0441\\u0438\\u0439\\u0441\\u043a\\u0438\\u0439\", \"\\u0440\\u043e\\u0441\\u0441\\u0438\\u0439\\u0441\\u043a\\u0438\\u0439\", \"\\u0440\\u0443\\u0433\\u0430\\u0442\\u044c\\u0441\\u044f\", \"\\u0440\\u0443\\u0433\\u0430\\u0442\\u044c\\u0441\\u044f\", \"\\u0440\\u0443\\u0433\\u0430\\u0442\\u044c\\u0441\\u044f\", \"\\u0440\\u0443\\u0433\\u0430\\u0442\\u044c\\u0441\\u044f\", \"\\u0440\\u0443\\u043a\\u0430\", \"\\u0440\\u0443\\u043a\\u0430\", \"\\u0440\\u0443\\u043a\\u0430\", \"\\u0440\\u0443\\u043a\\u0430\", \"\\u0440\\u0443\\u0441\\u0441\\u043a\\u0438\\u0439\", \"\\u0440\\u0443\\u0441\\u0441\\u043a\\u0438\\u0439\", \"\\u0440\\u0443\\u0441\\u0441\\u043a\\u0438\\u0439\", \"\\u0440\\u0443\\u0441\\u0441\\u043a\\u0438\\u0439\", \"\\u0440\\u0443\\u0441\\u0441\\u043a\\u0438\\u0439\", \"\\u0440\\u044f\\u0434\\u043e\\u043c\", \"\\u0440\\u044f\\u0434\\u043e\\u043c\", \"\\u0440\\u044f\\u0434\\u043e\\u043c\", \"\\u0440\\u044f\\u0434\\u043e\\u043c\", \"\\u0441\\u0430\\u043c\\u044b\\u0439\", \"\\u0441\\u0430\\u043c\\u044b\\u0439\", \"\\u0441\\u0430\\u043c\\u044b\\u0439\", \"\\u0441\\u0430\\u043c\\u044b\\u0439\", \"\\u0441\\u0430\\u043c\\u044b\\u0439\", \"\\u0441\\u0432\\u0430\\u0434\\u044c\\u0431\\u0430\", \"\\u0441\\u0432\\u0430\\u0434\\u044c\\u0431\\u0430\", \"\\u0441\\u0432\\u0430\\u0434\\u044c\\u0431\\u0430\", \"\\u0441\\u0432\\u0430\\u0434\\u044c\\u0431\\u0430\", \"\\u0441\\u0432\\u0435\\u043a\\u0440\\u043e\\u0432\\u044c\", \"\\u0441\\u0432\\u0435\\u043a\\u0440\\u043e\\u0432\\u044c\", \"\\u0441\\u0432\\u0435\\u043a\\u0440\\u043e\\u0432\\u044c\", \"\\u0441\\u0432\\u0435\\u043a\\u0440\\u043e\\u0432\\u044c\", \"\\u0441\\u0432\\u0435\\u0442\", \"\\u0441\\u0432\\u0435\\u0442\", \"\\u0441\\u0432\\u0435\\u0442\", \"\\u0441\\u0432\\u0435\\u0442\", \"\\u0441\\u0432\\u043e\\u0439\", \"\\u0441\\u0432\\u043e\\u0439\", \"\\u0441\\u0432\\u043e\\u0439\", \"\\u0441\\u0432\\u043e\\u0439\", \"\\u0441\\u0432\\u043e\\u0439\", \"\\u0441\\u0434\\u0430\\u0442\\u044c\", \"\\u0441\\u0434\\u0430\\u0442\\u044c\", \"\\u0441\\u0434\\u0430\\u0442\\u044c\", \"\\u0441\\u0434\\u0430\\u0442\\u044c\", \"\\u0441\\u0434\\u0435\\u043b\\u0430\\u0442\\u044c\", \"\\u0441\\u0434\\u0435\\u043b\\u0430\\u0442\\u044c\", \"\\u0441\\u0434\\u0435\\u043b\\u0430\\u0442\\u044c\", \"\\u0441\\u0434\\u0435\\u043b\\u0430\\u0442\\u044c\", \"\\u0441\\u0435\\u0433\\u043e\\u0434\\u043d\\u044f\", \"\\u0441\\u0435\\u0433\\u043e\\u0434\\u043d\\u044f\", \"\\u0441\\u0435\\u0433\\u043e\\u0434\\u043d\\u044f\", \"\\u0441\\u0435\\u0433\\u043e\\u0434\\u043d\\u044f\", \"\\u0441\\u0435\\u0433\\u043e\\u0434\\u043d\\u044f\", \"\\u0441\\u0435\\u0437\\u043e\\u043d\", \"\\u0441\\u0435\\u0437\\u043e\\u043d\", \"\\u0441\\u0435\\u0437\\u043e\\u043d\", \"\\u0441\\u0435\\u0437\\u043e\\u043d\", \"\\u0441\\u0435\\u0439\", \"\\u0441\\u0435\\u0439\", \"\\u0441\\u0435\\u0439\", \"\\u0441\\u0435\\u0439\", \"\\u0441\\u0435\\u043c\\u044c\\u044f\", \"\\u0441\\u0435\\u043c\\u044c\\u044f\", \"\\u0441\\u0435\\u043c\\u044c\\u044f\", \"\\u0441\\u0435\\u043c\\u044c\\u044f\", \"\\u0441\\u0435\\u0440\\u0438\\u0430\\u043b\", \"\\u0441\\u0435\\u0440\\u0438\\u0430\\u043b\", \"\\u0441\\u0435\\u0440\\u0438\\u0430\\u043b\", \"\\u0441\\u0435\\u0440\\u0438\\u0430\\u043b\", \"\\u0441\\u0435\\u0440\\u0438\\u0430\\u043b\", \"\\u0441\\u0435\\u0440\\u0438\\u044f\", \"\\u0441\\u0435\\u0440\\u0438\\u044f\", \"\\u0441\\u0435\\u0440\\u0438\\u044f\", \"\\u0441\\u0435\\u0440\\u0438\\u044f\", \"\\u0441\\u0435\\u0440\\u0438\\u044f\", \"\\u0441\\u0435\\u0441\\u0441\\u0438\\u044f\", \"\\u0441\\u0435\\u0441\\u0441\\u0438\\u044f\", \"\\u0441\\u0435\\u0441\\u0441\\u0438\\u044f\", \"\\u0441\\u0435\\u0441\\u0441\\u0438\\u044f\", \"\\u0441\\u0435\\u0442\\u044c\", \"\\u0441\\u0435\\u0442\\u044c\", \"\\u0441\\u0435\\u0442\\u044c\", \"\\u0441\\u0435\\u0442\\u044c\", \"\\u0441\\u0438\\u0434\\u0435\\u0442\\u044c\", \"\\u0441\\u0438\\u0434\\u0435\\u0442\\u044c\", \"\\u0441\\u0438\\u0434\\u0435\\u0442\\u044c\", \"\\u0441\\u0438\\u0434\\u0435\\u0442\\u044c\", \"\\u0441\\u0438\\u0434\\u0435\\u0442\\u044c\", \"\\u0441\\u0438\\u043b\\u0430\", \"\\u0441\\u0438\\u043b\\u0430\", \"\\u0441\\u0438\\u043b\\u0430\", \"\\u0441\\u0438\\u043b\\u0430\", \"\\u0441\\u0438\\u043b\\u044c\\u043d\\u043e\", \"\\u0441\\u0438\\u043b\\u044c\\u043d\\u043e\", \"\\u0441\\u0438\\u043b\\u044c\\u043d\\u043e\", \"\\u0441\\u0438\\u043b\\u044c\\u043d\\u043e\", \"\\u0441\\u0438\\u043b\\u044c\\u043d\\u043e\", \"\\u0441\\u0438\\u0441\\u044c\\u043a\\u0430\", \"\\u0441\\u0438\\u0441\\u044c\\u043a\\u0430\", \"\\u0441\\u0438\\u0441\\u044c\\u043a\\u0430\", \"\\u0441\\u0438\\u0441\\u044c\\u043a\\u0430\", \"\\u0441\\u043a\\u0430\\u0437\\u0430\\u0442\\u044c\", \"\\u0441\\u043a\\u0430\\u0437\\u0430\\u0442\\u044c\", \"\\u0441\\u043a\\u0430\\u0437\\u0430\\u0442\\u044c\", \"\\u0441\\u043a\\u0430\\u0437\\u0430\\u0442\\u044c\", \"\\u0441\\u043a\\u0430\\u0437\\u0430\\u0442\\u044c\", \"\\u0441\\u043a\\u0438\\u043d\\u0443\\u0442\\u044c\", \"\\u0441\\u043a\\u0438\\u043d\\u0443\\u0442\\u044c\", \"\\u0441\\u043a\\u0438\\u043d\\u0443\\u0442\\u044c\", \"\\u0441\\u043a\\u0438\\u043d\\u0443\\u0442\\u044c\", \"\\u0441\\u043a\\u043e\\u043b\\u044c\\u043a\\u043e\", \"\\u0441\\u043a\\u043e\\u043b\\u044c\\u043a\\u043e\", \"\\u0441\\u043a\\u043e\\u043b\\u044c\\u043a\\u043e\", \"\\u0441\\u043a\\u043e\\u043b\\u044c\\u043a\\u043e\", \"\\u0441\\u043a\\u043e\\u0440\\u0435\\u0435\", \"\\u0441\\u043a\\u043e\\u0440\\u0435\\u0435\", \"\\u0441\\u043a\\u043e\\u0440\\u0435\\u0435\", \"\\u0441\\u043a\\u043e\\u0440\\u0435\\u0435\", \"\\u0441\\u043a\\u043e\\u0440\\u043e\", \"\\u0441\\u043a\\u043e\\u0440\\u043e\", \"\\u0441\\u043a\\u043e\\u0440\\u043e\", \"\\u0441\\u043a\\u043e\\u0440\\u043e\", \"\\u0441\\u043a\\u043e\\u0440\\u043e\\u0441\\u0442\\u044c\", \"\\u0441\\u043a\\u043e\\u0440\\u043e\\u0441\\u0442\\u044c\", \"\\u0441\\u043a\\u043e\\u0440\\u043e\\u0441\\u0442\\u044c\", \"\\u0441\\u043a\\u043e\\u0440\\u043e\\u0441\\u0442\\u044c\", \"\\u0441\\u043a\\u0443\\u0447\\u0430\\u0442\\u044c\", \"\\u0441\\u043a\\u0443\\u0447\\u0430\\u0442\\u044c\", \"\\u0441\\u043a\\u0443\\u0447\\u0430\\u0442\\u044c\", \"\\u0441\\u043a\\u0443\\u0447\\u0430\\u0442\\u044c\", \"\\u0441\\u043b\\u0430\\u0432\\u0430\", \"\\u0441\\u043b\\u0430\\u0432\\u0430\", \"\\u0441\\u043b\\u0430\\u0432\\u0430\", \"\\u0441\\u043b\\u0430\\u0432\\u0430\", \"\\u0441\\u043b\\u0430\\u0434\\u043a\\u0438\\u0439\", \"\\u0441\\u043b\\u0430\\u0434\\u043a\\u0438\\u0439\", \"\\u0441\\u043b\\u0430\\u0434\\u043a\\u0438\\u0439\", \"\\u0441\\u043b\\u0430\\u0434\\u043a\\u0438\\u0439\", \"\\u0441\\u043b\\u0435\\u0434\\u0443\\u044e\\u0449\\u0438\\u0439\", \"\\u0441\\u043b\\u0435\\u0434\\u0443\\u044e\\u0449\\u0438\\u0439\", \"\\u0441\\u043b\\u0435\\u0434\\u0443\\u044e\\u0449\\u0438\\u0439\", \"\\u0441\\u043b\\u0435\\u0434\\u0443\\u044e\\u0449\\u0438\\u0439\", \"\\u0441\\u043b\\u043e\\u0432\\u043e\", \"\\u0441\\u043b\\u043e\\u0432\\u043e\", \"\\u0441\\u043b\\u043e\\u0432\\u043e\", \"\\u0441\\u043b\\u043e\\u0432\\u043e\", \"\\u0441\\u043b\\u0443\\u0447\\u0430\\u0439\\u043d\\u043e\", \"\\u0441\\u043b\\u0443\\u0447\\u0430\\u0439\\u043d\\u043e\", \"\\u0441\\u043b\\u0443\\u0447\\u0430\\u0439\\u043d\\u043e\", \"\\u0441\\u043b\\u0443\\u0447\\u0430\\u0439\\u043d\\u043e\", \"\\u0441\\u043b\\u0443\\u0447\\u0430\\u0439\\u043d\\u043e\", \"\\u0441\\u043b\\u0443\\u0448\\u0430\\u0442\\u044c\", \"\\u0441\\u043b\\u0443\\u0448\\u0430\\u0442\\u044c\", \"\\u0441\\u043b\\u0443\\u0448\\u0430\\u0442\\u044c\", \"\\u0441\\u043b\\u0443\\u0448\\u0430\\u0442\\u044c\", \"\\u0441\\u043b\\u0443\\u0448\\u0430\\u0442\\u044c\", \"\\u0441\\u043c\\u0430\\u0440\\u0442\", \"\\u0441\\u043c\\u0430\\u0440\\u0442\", \"\\u0441\\u043c\\u0430\\u0440\\u0442\", \"\\u0441\\u043c\\u0430\\u0440\\u0442\", \"\\u0441\\u043c\\u0435\\u0448\\u043d\\u043e\", \"\\u0441\\u043c\\u0435\\u0448\\u043d\\u043e\", \"\\u0441\\u043c\\u0435\\u0448\\u043d\\u043e\", \"\\u0441\\u043c\\u0435\\u0448\\u043d\\u043e\", \"\\u0441\\u043c\\u043e\\u0442\\u0440\\u0435\\u0442\\u044c\", \"\\u0441\\u043c\\u043e\\u0442\\u0440\\u0435\\u0442\\u044c\", \"\\u0441\\u043c\\u043e\\u0442\\u0440\\u0435\\u0442\\u044c\", \"\\u0441\\u043c\\u043e\\u0442\\u0440\\u0435\\u0442\\u044c\", \"\\u0441\\u043c\\u043e\\u0442\\u0440\\u0435\\u0442\\u044c\", \"\\u0441\\u043d\\u0430\\u0447\\u0430\\u043b\\u0430\", \"\\u0441\\u043d\\u0430\\u0447\\u0430\\u043b\\u0430\", \"\\u0441\\u043d\\u0430\\u0447\\u0430\\u043b\\u0430\", \"\\u0441\\u043d\\u0430\\u0447\\u0430\\u043b\\u0430\", \"\\u0441\\u043d\\u0435\\u0433\", \"\\u0441\\u043d\\u0435\\u0433\", \"\\u0441\\u043d\\u0435\\u0433\", \"\\u0441\\u043d\\u0435\\u0433\", \"\\u0441\\u043d\\u043e\\u0432\\u0430\", \"\\u0441\\u043d\\u043e\\u0432\\u0430\", \"\\u0441\\u043d\\u043e\\u0432\\u0430\", \"\\u0441\\u043d\\u043e\\u0432\\u0430\", \"\\u0441\\u043e\\u0439\\u0442\\u0438\", \"\\u0441\\u043e\\u0439\\u0442\\u0438\", \"\\u0441\\u043e\\u0439\\u0442\\u0438\", \"\\u0441\\u043e\\u0439\\u0442\\u0438\", \"\\u0441\\u043e\\u0439\\u0442\\u0438\", \"\\u0441\\u043e\\u043a\\u043e\\u043b\\u043e\\u0432\\u0441\\u043a\\u0438\\u0439\\u044f\\u0445\\u043e\\u0447\\u0443\\u0442\\u0435\\u0441\\u0442\\u0438\", \"\\u0441\\u043e\\u043a\\u043e\\u043b\\u043e\\u0432\\u0441\\u043a\\u0438\\u0439\\u044f\\u0445\\u043e\\u0447\\u0443\\u0442\\u0435\\u0441\\u0442\\u0438\", \"\\u0441\\u043e\\u043a\\u043e\\u043b\\u043e\\u0432\\u0441\\u043a\\u0438\\u0439\\u044f\\u0445\\u043e\\u0447\\u0443\\u0442\\u0435\\u0441\\u0442\\u0438\", \"\\u0441\\u043e\\u043a\\u043e\\u043b\\u043e\\u0432\\u0441\\u043a\\u0438\\u0439\\u044f\\u0445\\u043e\\u0447\\u0443\\u0442\\u0435\\u0441\\u0442\\u0438\", \"\\u0441\\u043e\\u043b\", \"\\u0441\\u043e\\u043b\", \"\\u0441\\u043e\\u043b\", \"\\u0441\\u043e\\u043b\", \"\\u0441\\u043e\\u043b\\u043d\\u0446\\u0435\", \"\\u0441\\u043e\\u043b\\u043d\\u0446\\u0435\", \"\\u0441\\u043e\\u043b\\u043d\\u0446\\u0435\", \"\\u0441\\u043e\\u043b\\u043d\\u0446\\u0435\", \"\\u0441\\u043e\\u043d\", \"\\u0441\\u043e\\u043d\", \"\\u0441\\u043e\\u043d\", \"\\u0441\\u043e\\u043d\", \"\\u0441\\u043e\\u043d\", \"\\u0441\\u043f\\u0430\\u0441\\u0438\\u0431\\u043e\", \"\\u0441\\u043f\\u0430\\u0441\\u0438\\u0431\\u043e\", \"\\u0441\\u043f\\u0430\\u0441\\u0438\\u0431\\u043e\", \"\\u0441\\u043f\\u0430\\u0441\\u0438\\u0431\\u043e\", \"\\u0441\\u043f\\u0430\\u0441\\u0438\\u0431\\u043e\", \"\\u0441\\u043f\\u0430\\u0442\\u044c\", \"\\u0441\\u043f\\u0430\\u0442\\u044c\", \"\\u0441\\u043f\\u0430\\u0442\\u044c\", \"\\u0441\\u043f\\u0430\\u0442\\u044c\", \"\\u0441\\u043f\\u043e\\u043a\\u043e\\u0439\\u043d\\u044b\\u0439\", \"\\u0441\\u043f\\u043e\\u043a\\u043e\\u0439\\u043d\\u044b\\u0439\", \"\\u0441\\u043f\\u043e\\u043a\\u043e\\u0439\\u043d\\u044b\\u0439\", \"\\u0441\\u043f\\u043e\\u043a\\u043e\\u0439\\u043d\\u044b\\u0439\", \"\\u0441\\u043f\\u043e\\u043a\\u043e\\u0439\\u0441\\u0442\\u0432\\u0438\\u0435\", \"\\u0441\\u043f\\u043e\\u043a\\u043e\\u0439\\u0441\\u0442\\u0432\\u0438\\u0435\", \"\\u0441\\u043f\\u043e\\u043a\\u043e\\u0439\\u0441\\u0442\\u0432\\u0438\\u0435\", \"\\u0441\\u043f\\u043e\\u043a\\u043e\\u0439\\u0441\\u0442\\u0432\\u0438\\u0435\", \"\\u0441\\u043f\\u0440\\u043e\\u0441\\u0438\\u0442\\u044c\", \"\\u0441\\u043f\\u0440\\u043e\\u0441\\u0438\\u0442\\u044c\", \"\\u0441\\u043f\\u0440\\u043e\\u0441\\u0438\\u0442\\u044c\", \"\\u0441\\u043f\\u0440\\u043e\\u0441\\u0438\\u0442\\u044c\", \"\\u0441\\u0440\\u0430\\u0437\\u0443\", \"\\u0441\\u0440\\u0430\\u0437\\u0443\", \"\\u0441\\u0440\\u0430\\u0437\\u0443\", \"\\u0441\\u0440\\u0430\\u0437\\u0443\", \"\\u0441\\u0440\\u043e\\u043a\", \"\\u0441\\u0440\\u043e\\u043a\", \"\\u0441\\u0440\\u043e\\u043a\", \"\\u0441\\u0440\\u043e\\u043a\", \"\\u0441\\u0440\\u043e\\u0447\\u043d\\u043e\", \"\\u0441\\u0440\\u043e\\u0447\\u043d\\u043e\", \"\\u0441\\u0440\\u043e\\u0447\\u043d\\u043e\", \"\\u0441\\u0440\\u043e\\u0447\\u043d\\u043e\", \"\\u0441\\u0442\\u0430\\u0440\\u044b\\u0439\", \"\\u0441\\u0442\\u0430\\u0440\\u044b\\u0439\", \"\\u0441\\u0442\\u0430\\u0440\\u044b\\u0439\", \"\\u0441\\u0442\\u0430\\u0440\\u044b\\u0439\", \"\\u0441\\u0442\\u0430\\u0442\\u044c\", \"\\u0441\\u0442\\u0430\\u0442\\u044c\", \"\\u0441\\u0442\\u0430\\u0442\\u044c\", \"\\u0441\\u0442\\u0430\\u0442\\u044c\", \"\\u0441\\u0442\\u043e\\u0438\\u0442\\u044c\", \"\\u0441\\u0442\\u043e\\u0438\\u0442\\u044c\", \"\\u0441\\u0442\\u043e\\u0438\\u0442\\u044c\", \"\\u0441\\u0442\\u043e\\u0438\\u0442\\u044c\", \"\\u0441\\u0442\\u043e\\u043b\", \"\\u0441\\u0442\\u043e\\u043b\", \"\\u0441\\u0442\\u043e\\u043b\", \"\\u0441\\u0442\\u043e\\u043b\", \"\\u0441\\u0442\\u043e\\u043b\\u044c\\u043a\\u043e\", \"\\u0441\\u0442\\u043e\\u043b\\u044c\\u043a\\u043e\", \"\\u0441\\u0442\\u043e\\u043b\\u044c\\u043a\\u043e\", \"\\u0441\\u0442\\u043e\\u043b\\u044c\\u043a\\u043e\", \"\\u0441\\u0442\\u043e\\u043b\\u044c\\u043a\\u043e\", \"\\u0441\\u0442\\u043e\\u044f\\u0442\\u044c\", \"\\u0441\\u0442\\u043e\\u044f\\u0442\\u044c\", \"\\u0441\\u0442\\u043e\\u044f\\u0442\\u044c\", \"\\u0441\\u0442\\u043e\\u044f\\u0442\\u044c\", \"\\u0441\\u0442\\u0440\\u0430\\u0448\\u043d\\u043e\", \"\\u0441\\u0442\\u0440\\u0430\\u0448\\u043d\\u043e\", \"\\u0441\\u0442\\u0440\\u0430\\u0448\\u043d\\u043e\", \"\\u0441\\u0442\\u0440\\u0430\\u0448\\u043d\\u043e\", \"\\u0441\\u0442\\u0440\\u0430\\u0448\\u043d\\u043e\", \"\\u0441\\u0442\\u0440\\u043e\\u0433\\u0438\\u0439\", \"\\u0441\\u0442\\u0440\\u043e\\u0433\\u0438\\u0439\", \"\\u0441\\u0442\\u0440\\u043e\\u0433\\u0438\\u0439\", \"\\u0441\\u0442\\u0440\\u043e\\u0433\\u0438\\u0439\", \"\\u0441\\u0443\\u0431\\u0431\\u043e\\u0442\\u0430\", \"\\u0441\\u0443\\u0431\\u0431\\u043e\\u0442\\u0430\", \"\\u0441\\u0443\\u0431\\u0431\\u043e\\u0442\\u0430\", \"\\u0441\\u0443\\u0431\\u0431\\u043e\\u0442\\u0430\", \"\\u0441\\u0443\\u043f\\u0435\\u0440\", \"\\u0441\\u0443\\u043f\\u0435\\u0440\", \"\\u0441\\u0443\\u043f\\u0435\\u0440\", \"\\u0441\\u0443\\u043f\\u0435\\u0440\", \"\\u0441\\u0443\\u043f\\u0435\\u0440\", \"\\u0441\\u0443\\u0447\\u043a\\u0430\", \"\\u0441\\u0443\\u0447\\u043a\\u0430\", \"\\u0441\\u0443\\u0447\\u043a\\u0430\", \"\\u0441\\u0443\\u0447\\u043a\\u0430\", \"\\u0441\\u0443\\u0447\\u043a\\u0430\", \"\\u0441\\u0447\\u0430\\u0441\\u0442\\u0438\\u0435\", \"\\u0441\\u0447\\u0430\\u0441\\u0442\\u0438\\u0435\", \"\\u0441\\u0447\\u0430\\u0441\\u0442\\u0438\\u0435\", \"\\u0441\\u0447\\u0430\\u0441\\u0442\\u0438\\u0435\", \"\\u0441\\u0447\\u0430\\u0441\\u0442\\u043b\\u0438\\u0432\\u044b\\u0439\", \"\\u0441\\u0447\\u0430\\u0441\\u0442\\u043b\\u0438\\u0432\\u044b\\u0439\", \"\\u0441\\u0447\\u0430\\u0441\\u0442\\u043b\\u0438\\u0432\\u044b\\u0439\", \"\\u0441\\u0447\\u0430\\u0441\\u0442\\u043b\\u0438\\u0432\\u044b\\u0439\", \"\\u0441\\u0447\\u0451\\u0442\", \"\\u0441\\u0447\\u0451\\u0442\", \"\\u0441\\u0447\\u0451\\u0442\", \"\\u0441\\u0447\\u0451\\u0442\", \"\\u0442\\u0430\\u043a\\u0438\", \"\\u0442\\u0430\\u043a\\u0438\", \"\\u0442\\u0430\\u043a\\u0438\", \"\\u0442\\u0430\\u043a\\u0438\", \"\\u0442\\u0430\\u043a\\u0438\", \"\\u0442\\u0430\\u043a\\u0441\\u0438\\u0441\\u0442\", \"\\u0442\\u0430\\u043a\\u0441\\u0438\\u0441\\u0442\", \"\\u0442\\u0430\\u043a\\u0441\\u0438\\u0441\\u0442\", \"\\u0442\\u0430\\u043a\\u0441\\u0438\\u0441\\u0442\", \"\\u0442\\u0430\\u043d\\u0435\\u0446\", \"\\u0442\\u0430\\u043d\\u0435\\u0446\", \"\\u0442\\u0430\\u043d\\u0435\\u0446\", \"\\u0442\\u0430\\u043d\\u0435\\u0446\", \"\\u0442\\u0432\\u0438\", \"\\u0442\\u0432\\u0438\", \"\\u0442\\u0432\\u0438\", \"\\u0442\\u0432\\u0438\", \"\\u0442\\u0432\\u0438\\u0442\", \"\\u0442\\u0432\\u0438\\u0442\", \"\\u0442\\u0432\\u0438\\u0442\", \"\\u0442\\u0432\\u0438\\u0442\", \"\\u0442\\u0432\\u0438\\u0442\\u0442\\u0435\\u0440\", \"\\u0442\\u0432\\u0438\\u0442\\u0442\\u0435\\u0440\", \"\\u0442\\u0432\\u0438\\u0442\\u0442\\u0435\\u0440\", \"\\u0442\\u0432\\u0438\\u0442\\u0442\\u0435\\u0440\", \"\\u0442\\u0432\\u043e\\u0439\", \"\\u0442\\u0432\\u043e\\u0439\", \"\\u0442\\u0432\\u043e\\u0439\", \"\\u0442\\u0432\\u043e\\u0439\", \"\\u0442\\u0435\\u043b\\u0435\\u0444\\u043e\\u043d\", \"\\u0442\\u0435\\u043b\\u0435\\u0444\\u043e\\u043d\", \"\\u0442\\u0435\\u043b\\u0435\\u0444\\u043e\\u043d\", \"\\u0442\\u0435\\u043b\\u0435\\u0444\\u043e\\u043d\", \"\\u0442\\u0435\\u043c\\u0430\", \"\\u0442\\u0435\\u043c\\u0430\", \"\\u0442\\u0435\\u043c\\u0430\", \"\\u0442\\u0435\\u043c\\u0430\", \"\\u0442\\u0435\\u043c\\u0430\", \"\\u0442\\u0435\\u043f\\u043b\\u043e\", \"\\u0442\\u0435\\u043f\\u043b\\u043e\", \"\\u0442\\u0435\\u043f\\u043b\\u043e\", \"\\u0442\\u0435\\u043f\\u043b\\u043e\", \"\\u0442\\u0435\\u0440\\u0440\\u0438\\u0442\\u043e\\u0440\\u0438\\u044f\", \"\\u0442\\u0435\\u0440\\u0440\\u0438\\u0442\\u043e\\u0440\\u0438\\u044f\", \"\\u0442\\u0435\\u0440\\u0440\\u0438\\u0442\\u043e\\u0440\\u0438\\u044f\", \"\\u0442\\u0435\\u0440\\u0440\\u0438\\u0442\\u043e\\u0440\\u0438\\u044f\", \"\\u0442\\u0438\\u0431\\u0438\\u0442\\u044c\", \"\\u0442\\u0438\\u0431\\u0438\\u0442\\u044c\", \"\\u0442\\u0438\\u0431\\u0438\\u0442\\u044c\", \"\\u0442\\u0438\\u0431\\u0438\\u0442\\u044c\", \"\\u0442\\u0438\\u043f\", \"\\u0442\\u0438\\u043f\", \"\\u0442\\u0438\\u043f\", \"\\u0442\\u0438\\u043f\", \"\\u0442\\u043e\\u043f\\u0438\\u043a\\u0430\", \"\\u0442\\u043e\\u043f\\u0438\\u043a\\u0430\", \"\\u0442\\u043e\\u043f\\u0438\\u043a\\u0430\", \"\\u0442\\u043e\\u043f\\u0438\\u043a\\u0430\", \"\\u0442\\u0440\\u0430\\u0434\\u0438\\u0446\\u0438\\u044f\", \"\\u0442\\u0440\\u0430\\u0434\\u0438\\u0446\\u0438\\u044f\", \"\\u0442\\u0440\\u0430\\u0434\\u0438\\u0446\\u0438\\u044f\", \"\\u0442\\u0440\\u0430\\u0434\\u0438\\u0446\\u0438\\u044f\", \"\\u0442\\u0440\\u0438\\u043d\\u0430\\u0434\\u0446\\u0430\\u0442\\u044b\\u0439\", \"\\u0442\\u0440\\u0438\\u043d\\u0430\\u0434\\u0446\\u0430\\u0442\\u044b\\u0439\", \"\\u0442\\u0440\\u0438\\u043d\\u0430\\u0434\\u0446\\u0430\\u0442\\u044b\\u0439\", \"\\u0442\\u0440\\u0438\\u043d\\u0430\\u0434\\u0446\\u0430\\u0442\\u044b\\u0439\", \"\\u0442\\u044b\\u0441\\u044f\\u0447\\u0430\", \"\\u0442\\u044b\\u0441\\u044f\\u0447\\u0430\", \"\\u0442\\u044b\\u0441\\u044f\\u0447\\u0430\", \"\\u0442\\u044b\\u0441\\u044f\\u0447\\u0430\", \"\\u0442\\u0451\\u043c\\u0430\", \"\\u0442\\u0451\\u043c\\u0430\", \"\\u0442\\u0451\\u043c\\u0430\", \"\\u0442\\u0451\\u043c\\u0430\", \"\\u0443\\u0432\\u0438\\u0434\\u0435\\u0442\\u044c\", \"\\u0443\\u0432\\u0438\\u0434\\u0435\\u0442\\u044c\", \"\\u0443\\u0432\\u0438\\u0434\\u0435\\u0442\\u044c\", \"\\u0443\\u0432\\u0438\\u0434\\u0435\\u0442\\u044c\", \"\\u0443\\u0433\\u0430\\u0434\\u0430\\u0442\\u044c\", \"\\u0443\\u0433\\u0430\\u0434\\u0430\\u0442\\u044c\", \"\\u0443\\u0433\\u0430\\u0434\\u0430\\u0442\\u044c\", \"\\u0443\\u0433\\u0430\\u0434\\u0430\\u0442\\u044c\", \"\\u0443\\u0433\\u043e\\u043b\", \"\\u0443\\u0433\\u043e\\u043b\", \"\\u0443\\u0433\\u043e\\u043b\", \"\\u0443\\u0433\\u043e\\u043b\", \"\\u0443\\u0433\\u043e\\u043c\\u043e\\u043d\\u0438\\u0442\\u044c\\u0441\\u044f\", \"\\u0443\\u0433\\u043e\\u043c\\u043e\\u043d\\u0438\\u0442\\u044c\\u0441\\u044f\", \"\\u0443\\u0433\\u043e\\u043c\\u043e\\u043d\\u0438\\u0442\\u044c\\u0441\\u044f\", \"\\u0443\\u0433\\u043e\\u043c\\u043e\\u043d\\u0438\\u0442\\u044c\\u0441\\u044f\", \"\\u0443\\u0434\\u0430\\u0447\\u0430\", \"\\u0443\\u0434\\u0430\\u0447\\u0430\", \"\\u0443\\u0434\\u0430\\u0447\\u0430\", \"\\u0443\\u0434\\u0430\\u0447\\u0430\", \"\\u0443\\u0436\\u0430\\u0441\\u043d\\u043e\", \"\\u0443\\u0436\\u0430\\u0441\\u043d\\u043e\", \"\\u0443\\u0436\\u0430\\u0441\\u043d\\u043e\", \"\\u0443\\u0436\\u0430\\u0441\\u043d\\u043e\", \"\\u0443\\u0437\\u043d\\u0430\\u0442\\u044c\", \"\\u0443\\u0437\\u043d\\u0430\\u0442\\u044c\", \"\\u0443\\u0437\\u043d\\u0430\\u0442\\u044c\", \"\\u0443\\u0437\\u043d\\u0430\\u0442\\u044c\", \"\\u0443\\u0439\\u0442\\u0438\", \"\\u0443\\u0439\\u0442\\u0438\", \"\\u0443\\u0439\\u0442\\u0438\", \"\\u0443\\u0439\\u0442\\u0438\", \"\\u0443\\u043b\\u0438\\u0446\\u0430\", \"\\u0443\\u043b\\u0438\\u0446\\u0430\", \"\\u0443\\u043b\\u0438\\u0446\\u0430\", \"\\u0443\\u043b\\u0438\\u0446\\u0430\", \"\\u0443\\u043b\\u044b\\u0431\\u043d\\u0443\\u0442\\u044c\", \"\\u0443\\u043b\\u044b\\u0431\\u043d\\u0443\\u0442\\u044c\", \"\\u0443\\u043b\\u044b\\u0431\\u043d\\u0443\\u0442\\u044c\", \"\\u0443\\u043b\\u044b\\u0431\\u043d\\u0443\\u0442\\u044c\", \"\\u0443\\u043c\", \"\\u0443\\u043c\", \"\\u0443\\u043c\", \"\\u0443\\u043c\", \"\\u0443\\u043c\", \"\\u0443\\u043c\\u0435\\u0442\\u044c\", \"\\u0443\\u043c\\u0435\\u0442\\u044c\", \"\\u0443\\u043c\\u0435\\u0442\\u044c\", \"\\u0443\\u043c\\u0435\\u0442\\u044c\", \"\\u0443\\u043d\\u0438\\u0432\\u0435\\u0440\\u0441\\u0438\\u0442\\u0435\\u0442\", \"\\u0443\\u043d\\u0438\\u0432\\u0435\\u0440\\u0441\\u0438\\u0442\\u0435\\u0442\", \"\\u0443\\u043d\\u0438\\u0432\\u0435\\u0440\\u0441\\u0438\\u0442\\u0435\\u0442\", \"\\u0443\\u043d\\u0438\\u0432\\u0435\\u0440\\u0441\\u0438\\u0442\\u0435\\u0442\", \"\\u0443\\u0440\\u043e\\u043a\", \"\\u0443\\u0440\\u043e\\u043a\", \"\\u0443\\u0440\\u043e\\u043a\", \"\\u0443\\u0440\\u043e\\u043a\", \"\\u0443\\u0442\\u0440\\u043e\", \"\\u0443\\u0442\\u0440\\u043e\", \"\\u0443\\u0442\\u0440\\u043e\", \"\\u0443\\u0442\\u0440\\u043e\", \"\\u0443\\u0442\\u0440\\u043e\\u043c\", \"\\u0443\\u0442\\u0440\\u043e\\u043c\", \"\\u0443\\u0442\\u0440\\u043e\\u043c\", \"\\u0443\\u0442\\u0440\\u043e\\u043c\", \"\\u0443\\u0442\\u0440\\u043e\\u043c\", \"\\u0443\\u0445\\u043e\", \"\\u0443\\u0445\\u043e\", \"\\u0443\\u0445\\u043e\", \"\\u0443\\u0445\\u043e\", \"\\u0443\\u0445\\u043e\", \"\\u0443\\u0445\\u043e\\u0434\\u0438\\u0442\\u044c\", \"\\u0443\\u0445\\u043e\\u0434\\u0438\\u0442\\u044c\", \"\\u0443\\u0445\\u043e\\u0434\\u0438\\u0442\\u044c\", \"\\u0443\\u0445\\u043e\\u0434\\u0438\\u0442\\u044c\", \"\\u0444\\u0430\\u043a\\u0442\", \"\\u0444\\u0430\\u043a\\u0442\", \"\\u0444\\u0430\\u043a\\u0442\", \"\\u0444\\u0430\\u043a\\u0442\", \"\\u0444\\u0430\\u043a\\u0442\", \"\\u0444\\u0438\\u043b\\u044c\\u043c\", \"\\u0444\\u0438\\u043b\\u044c\\u043c\", \"\\u0444\\u0438\\u043b\\u044c\\u043c\", \"\\u0444\\u0438\\u043b\\u044c\\u043c\", \"\\u0444\\u0438\\u043b\\u044c\\u043c\", \"\\u0444\\u043e\\u0442\\u043a\\u0430\", \"\\u0444\\u043e\\u0442\\u043a\\u0430\", \"\\u0444\\u043e\\u0442\\u043a\\u0430\", \"\\u0444\\u043e\\u0442\\u043a\\u0430\", \"\\u0444\\u043e\\u0442\\u043e\", \"\\u0444\\u043e\\u0442\\u043e\", \"\\u0444\\u043e\\u0442\\u043e\", \"\\u0444\\u043e\\u0442\\u043e\", \"\\u0444\\u043e\\u0442\\u043e\\u0433\\u0440\\u0430\\u0444\\u0438\\u044f\", \"\\u0444\\u043e\\u0442\\u043e\\u0433\\u0440\\u0430\\u0444\\u0438\\u044f\", \"\\u0444\\u043e\\u0442\\u043e\\u0433\\u0440\\u0430\\u0444\\u0438\\u044f\", \"\\u0444\\u043e\\u0442\\u043e\\u0433\\u0440\\u0430\\u0444\\u0438\\u044f\", \"\\u0444\\u0443\\u0442\\u0431\\u043e\\u043b\", \"\\u0444\\u0443\\u0442\\u0431\\u043e\\u043b\", \"\\u0444\\u0443\\u0442\\u0431\\u043e\\u043b\", \"\\u0444\\u0443\\u0442\\u0431\\u043e\\u043b\", \"\\u0445\\u0430\", \"\\u0445\\u0430\", \"\\u0445\\u0430\", \"\\u0445\\u0430\", \"\\u0445\\u0430\\u0431\\u0440\\u0430\", \"\\u0445\\u0430\\u0431\\u0440\\u0430\", \"\\u0445\\u0430\\u0431\\u0440\\u0430\", \"\\u0445\\u0430\\u0431\\u0440\\u0430\", \"\\u0445\\u0430\\u0445\", \"\\u0445\\u0430\\u0445\", \"\\u0445\\u0430\\u0445\", \"\\u0445\\u0430\\u0445\", \"\\u0445\\u043e\\u0434\\u0438\\u0442\\u044c\", \"\\u0445\\u043e\\u0434\\u0438\\u0442\\u044c\", \"\\u0445\\u043e\\u0434\\u0438\\u0442\\u044c\", \"\\u0445\\u043e\\u0434\\u0438\\u0442\\u044c\", \"\\u0445\\u043e\\u043b\\u043e\\u0434\\u043d\\u043e\", \"\\u0445\\u043e\\u043b\\u043e\\u0434\\u043d\\u043e\", \"\\u0445\\u043e\\u043b\\u043e\\u0434\\u043d\\u043e\", \"\\u0445\\u043e\\u043b\\u043e\\u0434\\u043d\\u043e\", \"\\u0445\\u043e\\u043c\\u0430\", \"\\u0445\\u043e\\u043c\\u0430\", \"\\u0445\\u043e\\u043c\\u0430\", \"\\u0445\\u043e\\u043c\\u0430\", \"\\u0445\\u043e\\u0440\\u043e\\u0448\\u0438\\u0439\", \"\\u0445\\u043e\\u0440\\u043e\\u0448\\u0438\\u0439\", \"\\u0445\\u043e\\u0440\\u043e\\u0448\\u0438\\u0439\", \"\\u0445\\u043e\\u0440\\u043e\\u0448\\u0438\\u0439\", \"\\u0445\\u043e\\u0440\\u043e\\u0448\\u0438\\u0439\", \"\\u0445\\u043e\\u0442\\u0435\\u0442\\u044c\", \"\\u0445\\u043e\\u0442\\u0435\\u0442\\u044c\", \"\\u0445\\u043e\\u0442\\u0435\\u0442\\u044c\", \"\\u0445\\u043e\\u0442\\u0435\\u0442\\u044c\", \"\\u0445\\u043e\\u0442\\u0435\\u0442\\u044c\", \"\\u0445\\u043e\\u0442\\u0435\\u0442\\u044c\\u0441\\u044f\", \"\\u0445\\u043e\\u0442\\u0435\\u0442\\u044c\\u0441\\u044f\", \"\\u0445\\u043e\\u0442\\u0435\\u0442\\u044c\\u0441\\u044f\", \"\\u0445\\u043e\\u0442\\u0435\\u0442\\u044c\\u0441\\u044f\", \"\\u0445\\u043e\\u0442\\u0435\\u0442\\u044c\\u0441\\u044f\", \"\\u0445\\u043e\\u0442\\u044f\", \"\\u0445\\u043e\\u0442\\u044f\", \"\\u0445\\u043e\\u0442\\u044f\", \"\\u0445\\u043e\\u0442\\u044f\", \"\\u0445\\u043e\\u0442\\u044f\", \"\\u0445\\u0443\\u0439\\u043d\\u044f\", \"\\u0445\\u0443\\u0439\\u043d\\u044f\", \"\\u0445\\u0443\\u0439\\u043d\\u044f\", \"\\u0445\\u0443\\u0439\\u043d\\u044f\", \"\\u0445\\u0443\\u0439\\u043d\\u044f\", \"\\u0446\\u0435\\u043b\\u044b\\u0439\", \"\\u0446\\u0435\\u043b\\u044b\\u0439\", \"\\u0446\\u0435\\u043b\\u044b\\u0439\", \"\\u0446\\u0435\\u043b\\u044b\\u0439\", \"\\u0447\\u0430\\u0439\", \"\\u0447\\u0430\\u0439\", \"\\u0447\\u0430\\u0439\", \"\\u0447\\u0430\\u0439\", \"\\u0447\\u0430\\u0441\", \"\\u0447\\u0430\\u0441\", \"\\u0447\\u0430\\u0441\", \"\\u0447\\u0430\\u0441\", \"\\u0447\\u0430\\u0441\\u0442\\u044c\", \"\\u0447\\u0430\\u0441\\u0442\\u044c\", \"\\u0447\\u0430\\u0441\\u0442\\u044c\", \"\\u0447\\u0430\\u0441\\u0442\\u044c\", \"\\u0447\\u0430\\u0441\\u0442\\u044c\", \"\\u0447\\u0435\\u043b\\u043e\\u0432\\u0435\\u043a\", \"\\u0447\\u0435\\u043b\\u043e\\u0432\\u0435\\u043a\", \"\\u0447\\u0435\\u043b\\u043e\\u0432\\u0435\\u043a\", \"\\u0447\\u0435\\u043b\\u043e\\u0432\\u0435\\u043a\", \"\\u0447\\u0435\\u043b\\u043e\\u0432\\u0435\\u043a\", \"\\u0447\\u0435\\u0442\\u044b\\u0440\\u0435\", \"\\u0447\\u0435\\u0442\\u044b\\u0440\\u0435\", \"\\u0447\\u0435\\u0442\\u044b\\u0440\\u0435\", \"\\u0447\\u0435\\u0442\\u044b\\u0440\\u0435\", \"\\u0447\\u0438\\u0442\\u0430\\u0442\\u0435\\u043b\\u044c\", \"\\u0447\\u0438\\u0442\\u0430\\u0442\\u0435\\u043b\\u044c\", \"\\u0447\\u0438\\u0442\\u0430\\u0442\\u0435\\u043b\\u044c\", \"\\u0447\\u0438\\u0442\\u0430\\u0442\\u0435\\u043b\\u044c\", \"\\u0447\\u0438\\u0442\\u0430\\u0442\\u0435\\u043b\\u044c\", \"\\u0447\\u0438\\u0442\\u0430\\u0442\\u044c\", \"\\u0447\\u0438\\u0442\\u0430\\u0442\\u044c\", \"\\u0447\\u0438\\u0442\\u0430\\u0442\\u044c\", \"\\u0447\\u0438\\u0442\\u0430\\u0442\\u044c\", \"\\u0447\\u0443\\u0432\\u0441\\u0442\\u0432\\u043e\\u0432\\u0430\\u0442\\u044c\", \"\\u0447\\u0443\\u0432\\u0441\\u0442\\u0432\\u043e\\u0432\\u0430\\u0442\\u044c\", \"\\u0447\\u0443\\u0432\\u0441\\u0442\\u0432\\u043e\\u0432\\u0430\\u0442\\u044c\", \"\\u0447\\u0443\\u0432\\u0441\\u0442\\u0432\\u043e\\u0432\\u0430\\u0442\\u044c\", \"\\u0448\\u043a\\u043e\\u043b\\u0430\", \"\\u0448\\u043a\\u043e\\u043b\\u0430\", \"\\u0448\\u043a\\u043e\\u043b\\u0430\", \"\\u0448\\u043a\\u043e\\u043b\\u0430\", \"\\u0448\\u043a\\u043e\\u043b\\u0430\", \"\\u0448\\u043a\\u043e\\u043b\\u043e\\u0442\\u044b\\u0439\", \"\\u0448\\u043a\\u043e\\u043b\\u043e\\u0442\\u044b\\u0439\", \"\\u0448\\u043a\\u043e\\u043b\\u043e\\u0442\\u044b\\u0439\", \"\\u0448\\u043a\\u043e\\u043b\\u043e\\u0442\\u044b\\u0439\", \"\\u0448\\u0442\\u0440\\u0430\\u0444\", \"\\u0448\\u0442\\u0440\\u0430\\u0444\", \"\\u0448\\u0442\\u0440\\u0430\\u0444\", \"\\u0448\\u0442\\u0440\\u0430\\u0444\", \"\\u0448\\u0443\\u0442\\u0438\\u0442\\u044c\", \"\\u0448\\u0443\\u0442\\u0438\\u0442\\u044c\", \"\\u0448\\u0443\\u0442\\u0438\\u0442\\u044c\", \"\\u0448\\u0443\\u0442\\u0438\\u0442\\u044c\", \"\\u0448\\u0443\\u0442\\u0438\\u0442\\u044c\", \"\\u044d\\u043a\\u043e\\u043d\\u043e\\u043c\\u0438\\u043a\\u0430\", \"\\u044d\\u043a\\u043e\\u043d\\u043e\\u043c\\u0438\\u043a\\u0430\", \"\\u044d\\u043a\\u043e\\u043d\\u043e\\u043c\\u0438\\u043a\\u0430\", \"\\u044d\\u043a\\u043e\\u043d\\u043e\\u043c\\u0438\\u043a\\u0430\", \"\\u044d\\u0442\\u043e\", \"\\u044d\\u0442\\u043e\", \"\\u044d\\u0442\\u043e\", \"\\u044d\\u0442\\u043e\", \"\\u044d\\u0442\\u043e\", \"\\u044e\\u0440\\u0438\\u0441\\u0442\", \"\\u044e\\u0440\\u0438\\u0441\\u0442\", \"\\u044e\\u0440\\u0438\\u0441\\u0442\", \"\\u044e\\u0440\\u0438\\u0441\\u0442\"]}, \"R\": 30, \"lambda.step\": 0.01, \"plot.opts\": {\"xlab\": \"PC1\", \"ylab\": \"PC2\"}, \"topic.order\": [3, 16, 5, 2, 1, 17, 8, 12, 10, 18, 4, 14, 11, 7, 13, 15, 6, 9, 19, 20]};\n",
              "\n",
              "function LDAvis_load_lib(url, callback){\n",
              "  var s = document.createElement('script');\n",
              "  s.src = url;\n",
              "  s.async = true;\n",
              "  s.onreadystatechange = s.onload = callback;\n",
              "  s.onerror = function(){console.warn(\"failed to load library \" + url);};\n",
              "  document.getElementsByTagName(\"head\")[0].appendChild(s);\n",
              "}\n",
              "\n",
              "if(typeof(LDAvis) !== \"undefined\"){\n",
              "   // already loaded: just create the visualization\n",
              "   !function(LDAvis){\n",
              "       new LDAvis(\"#\" + \"ldavis_el591404382272940328025377697\", ldavis_el591404382272940328025377697_data);\n",
              "   }(LDAvis);\n",
              "}else if(typeof define === \"function\" && define.amd){\n",
              "   // require.js is available: use it to load d3/LDAvis\n",
              "   require.config({paths: {d3: \"https://d3js.org/d3.v5\"}});\n",
              "   require([\"d3\"], function(d3){\n",
              "      window.d3 = d3;\n",
              "      LDAvis_load_lib(\"https://cdn.jsdelivr.net/gh/bmabey/pyLDAvis@3.3.1/pyLDAvis/js/ldavis.v3.0.0.js\", function(){\n",
              "        new LDAvis(\"#\" + \"ldavis_el591404382272940328025377697\", ldavis_el591404382272940328025377697_data);\n",
              "      });\n",
              "    });\n",
              "}else{\n",
              "    // require.js not available: dynamically load d3 & LDAvis\n",
              "    LDAvis_load_lib(\"https://d3js.org/d3.v5.js\", function(){\n",
              "         LDAvis_load_lib(\"https://cdn.jsdelivr.net/gh/bmabey/pyLDAvis@3.3.1/pyLDAvis/js/ldavis.v3.0.0.js\", function(){\n",
              "                 new LDAvis(\"#\" + \"ldavis_el591404382272940328025377697\", ldavis_el591404382272940328025377697_data);\n",
              "            })\n",
              "         });\n",
              "}\n",
              "</script>"
            ]
          },
          "metadata": {},
          "execution_count": 29
        }
      ],
      "source": [
        "import pyLDAvis\n",
        "import pyLDAvis.gensim_models as gensimvis\n",
        "pyLDAvis.enable_notebook()\n",
        "\n",
        "%time vis_data = gensimvis.prepare(lda, corpus, dictionary, mds='mmds')\n",
        "pyLDAvis.display(vis_data)"
      ]
    },
    {
      "cell_type": "markdown",
      "metadata": {
        "id": "N1_QuVBaf6Mr"
      },
      "source": [
        "Посмотрим на метрики качества получившейся модели: перплексию и среднюю когерентность:"
      ]
    },
    {
      "cell_type": "code",
      "execution_count": 30,
      "metadata": {
        "colab": {
          "base_uri": "https://localhost:8080/"
        },
        "id": "ZotOH4d6f6Mr",
        "outputId": "cd26154d-2e00-4f6f-d284-9c951c6f8aa5"
      },
      "outputs": [
        {
          "output_type": "stream",
          "name": "stdout",
          "text": [
            "-27.512967762707163\n"
          ]
        }
      ],
      "source": [
        "print(lda.log_perplexity(corpus))\n"
      ]
    },
    {
      "cell_type": "code",
      "execution_count": 31,
      "metadata": {
        "colab": {
          "base_uri": "https://localhost:8080/"
        },
        "id": "VqyxqodWf6Mr",
        "outputId": "1e8aec02-8c1c-4dcd-d3be-603a6ca01f6d"
      },
      "outputs": [
        {
          "output_type": "stream",
          "name": "stdout",
          "text": [
            "Персплексия:  1.125304148193274e-12\n"
          ]
        }
      ],
      "source": [
        "print('Персплексия: ', np.exp(lda.log_perplexity(corpus)))"
      ]
    },
    {
      "cell_type": "code",
      "execution_count": 32,
      "metadata": {
        "colab": {
          "base_uri": "https://localhost:8080/"
        },
        "id": "agpzf-CVf6Mr",
        "outputId": "829eb908-1666-45e3-8dad-4d1119079698"
      },
      "outputs": [
        {
          "output_type": "stream",
          "name": "stdout",
          "text": [
            "Средняя когерентность:  -8.478334543914897\n"
          ]
        }
      ],
      "source": [
        "coherence_model_lda = CoherenceModel(model=lda, texts=df[3], dictionary=dictionary, coherence='u_mass')\n",
        "coherence_lda = coherence_model_lda.get_coherence()\n",
        "print('Средняя когерентность: ', coherence_lda)"
      ]
    },
    {
      "cell_type": "markdown",
      "metadata": {
        "id": "QscCr17Zf6Mr"
      },
      "source": [
        "Теперь можно подобрать оптимальное количество тем, опираясь на значение метрик:"
      ]
    },
    {
      "cell_type": "code",
      "execution_count": 33,
      "metadata": {
        "id": "UZBPpBxYf6Mr"
      },
      "outputs": [],
      "source": [
        "import matplotlib.pyplot as plt\n",
        "%matplotlib inline"
      ]
    },
    {
      "cell_type": "code",
      "execution_count": 34,
      "metadata": {
        "colab": {
          "base_uri": "https://localhost:8080/",
          "height": 311,
          "referenced_widgets": [
            "f912b59d47094b4a90c7cfe83916ce6b",
            "0c4eca47d201422b93227f7478ea393c",
            "bff1379f554144b38a15011f16ba2fe9",
            "41097899226f4c9bb4d110cba4e9162d",
            "d7dd85c93cc3465da09e6a137f71b85c",
            "7f44107a99c04e42893630fe91cff374",
            "8b665ded9651448ea2dadd0fe3f4628f",
            "da2382bf6a0147e5b2131b5fe6aaa0f1",
            "4476abce387249bcad2c288eed25de51",
            "6036ecdebb624cbbaab4d67dffa026a1",
            "321aa879a67946078ca778cfb6f8e5bd"
          ]
        },
        "id": "q7dUj8ClSOvg",
        "outputId": "1f85b655-ce9a-4a28-82f3-ba90aee23c05"
      },
      "outputs": [
        {
          "output_type": "display_data",
          "data": {
            "text/plain": [
              "  0%|          | 0/5 [00:00<?, ?it/s]"
            ],
            "application/vnd.jupyter.widget-view+json": {
              "version_major": 2,
              "version_minor": 0,
              "model_id": "f912b59d47094b4a90c7cfe83916ce6b"
            }
          },
          "metadata": {}
        },
        {
          "output_type": "display_data",
          "data": {
            "text/plain": [
              "<Figure size 432x288 with 1 Axes>"
            ],
            "image/png": "[encoded data removed]"
          },
          "metadata": {
            "needs_background": "light"
          }
        }
      ],
      "source": [
        "topics_list = [5, 10, 15, 20, 25]\n",
        "coherences = []\n",
        "\n",
        "for num in tqdm(topics_list):\n",
        "    lda = ldamodel.LdaModel(corpus, id2word=dictionary, num_topics=num, chunksize=50, update_every=1, passes=2)\n",
        "    coherences.append(CoherenceModel(model=lda, texts=df[3], dictionary=dictionary, coherence='u_mass').get_coherence())\n",
        "\n",
        "plt.plot(topics_list, coherences)\n",
        "plt.xlabel(\"Число тем\")\n",
        "plt.ylabel(\"Средняя когерентность\")\n",
        "plt.show()"
      ]
    },
    {
      "cell_type": "markdown",
      "source": [
        "Достаточно сложно интерпритировать тематики, из-за ограниченной длины сообщений в твиттере. В целом я бы выделил - планы, отзывы, настроение, новости."
      ],
      "metadata": {
        "id": "B9W1OoS4hxuU"
      }
    }
  ],
  "metadata": {
    "colab": {
      "collapsed_sections": [],
      "name": "HW_4.ipynb",
      "provenance": [],
      "include_colab_link": true
    },
    "kernelspec": {
      "display_name": "Python 3",
      "language": "python",
      "name": "python3"
    },
    "language_info": {
      "codemirror_mode": {
        "name": "ipython",
        "version": 3
      },
      "file_extension": ".py",
      "mimetype": "text/x-python",
      "name": "python",
      "nbconvert_exporter": "python",
      "pygments_lexer": "ipython3",
      "version": "3.7.5"
    },
    "widgets": {
      "application/vnd.jupyter.widget-state+json": {
        "e263763171ce42f9a323c2fcca7624a5": {
          "model_module": "@jupyter-widgets/controls",
          "model_name": "HBoxModel",
          "model_module_version": "1.5.0",
          "state": {
            "_dom_classes": [],
            "_model_module": "@jupyter-widgets/controls",
            "_model_module_version": "1.5.0",
            "_model_name": "HBoxModel",
            "_view_count": null,
            "_view_module": "@jupyter-widgets/controls",
            "_view_module_version": "1.5.0",
            "_view_name": "HBoxView",
            "box_style": "",
            "children": [
              "IPY_MODEL_7372b004ba234313a89489ded76d7881",
              "IPY_MODEL_1940b2a2ebcb4b5c94dc0193eeddafef",
              "IPY_MODEL_73bea5a4f55346579b9a8e52b20776d9"
            ],
            "layout": "IPY_MODEL_3e194224ca2f4084841f82c509b82f23"
          }
        },
        "7372b004ba234313a89489ded76d7881": {
          "model_module": "@jupyter-widgets/controls",
          "model_name": "HTMLModel",
          "model_module_version": "1.5.0",
          "state": {
            "_dom_classes": [],
            "_model_module": "@jupyter-widgets/controls",
            "_model_module_version": "1.5.0",
            "_model_name": "HTMLModel",
            "_view_count": null,
            "_view_module": "@jupyter-widgets/controls",
            "_view_module_version": "1.5.0",
            "_view_name": "HTMLView",
            "description": "",
            "description_tooltip": null,
            "layout": "IPY_MODEL_35410b21a38f47e6a2121dc3b8ac2ea8",
            "placeholder": "​",
            "style": "IPY_MODEL_edba0b45e7184f4a9c74cec4b2c256b7",
            "value": ""
          }
        },
        "1940b2a2ebcb4b5c94dc0193eeddafef": {
          "model_module": "@jupyter-widgets/controls",
          "model_name": "FloatProgressModel",
          "model_module_version": "1.5.0",
          "state": {
            "_dom_classes": [],
            "_model_module": "@jupyter-widgets/controls",
            "_model_module_version": "1.5.0",
            "_model_name": "FloatProgressModel",
            "_view_count": null,
            "_view_module": "@jupyter-widgets/controls",
            "_view_module_version": "1.5.0",
            "_view_name": "ProgressView",
            "bar_style": "success",
            "description": "",
            "description_tooltip": null,
            "layout": "IPY_MODEL_cca047d1016a449195b3fc3fbe66ef6d",
            "max": 1,
            "min": 0,
            "orientation": "horizontal",
            "style": "IPY_MODEL_ef8bea0c27dd4cbfbd2aa229eb9a5b60",
            "value": 1
          }
        },
        "73bea5a4f55346579b9a8e52b20776d9": {
          "model_module": "@jupyter-widgets/controls",
          "model_name": "HTMLModel",
          "model_module_version": "1.5.0",
          "state": {
            "_dom_classes": [],
            "_model_module": "@jupyter-widgets/controls",
            "_model_module_version": "1.5.0",
            "_model_name": "HTMLModel",
            "_view_count": null,
            "_view_module": "@jupyter-widgets/controls",
            "_view_module_version": "1.5.0",
            "_view_name": "HTMLView",
            "description": "",
            "description_tooltip": null,
            "layout": "IPY_MODEL_843ad59c49454c51b2b703af110c3644",
            "placeholder": "​",
            "style": "IPY_MODEL_c6b8c5b56a3d41de9a23fee7abe4f043",
            "value": " 229822/? [07:18&lt;00:00, 568.97it/s]"
          }
        },
        "3e194224ca2f4084841f82c509b82f23": {
          "model_module": "@jupyter-widgets/base",
          "model_name": "LayoutModel",
          "model_module_version": "1.2.0",
          "state": {
            "_model_module": "@jupyter-widgets/base",
            "_model_module_version": "1.2.0",
            "_model_name": "LayoutModel",
            "_view_count": null,
            "_view_module": "@jupyter-widgets/base",
            "_view_module_version": "1.2.0",
            "_view_name": "LayoutView",
            "align_content": null,
            "align_items": null,
            "align_self": null,
            "border": null,
            "bottom": null,
            "display": null,
            "flex": null,
            "flex_flow": null,
            "grid_area": null,
            "grid_auto_columns": null,
            "grid_auto_flow": null,
            "grid_auto_rows": null,
            "grid_column": null,
            "grid_gap": null,
            "grid_row": null,
            "grid_template_areas": null,
            "grid_template_columns": null,
            "grid_template_rows": null,
            "height": null,
            "justify_content": null,
            "justify_items": null,
            "left": null,
            "margin": null,
            "max_height": null,
            "max_width": null,
            "min_height": null,
            "min_width": null,
            "object_fit": null,
            "object_position": null,
            "order": null,
            "overflow": null,
            "overflow_x": null,
            "overflow_y": null,
            "padding": null,
            "right": null,
            "top": null,
            "visibility": null,
            "width": null
          }
        },
        "35410b21a38f47e6a2121dc3b8ac2ea8": {
          "model_module": "@jupyter-widgets/base",
          "model_name": "LayoutModel",
          "model_module_version": "1.2.0",
          "state": {
            "_model_module": "@jupyter-widgets/base",
            "_model_module_version": "1.2.0",
            "_model_name": "LayoutModel",
            "_view_count": null,
            "_view_module": "@jupyter-widgets/base",
            "_view_module_version": "1.2.0",
            "_view_name": "LayoutView",
            "align_content": null,
            "align_items": null,
            "align_self": null,
            "border": null,
            "bottom": null,
            "display": null,
            "flex": null,
            "flex_flow": null,
            "grid_area": null,
            "grid_auto_columns": null,
            "grid_auto_flow": null,
            "grid_auto_rows": null,
            "grid_column": null,
            "grid_gap": null,
            "grid_row": null,
            "grid_template_areas": null,
            "grid_template_columns": null,
            "grid_template_rows": null,
            "height": null,
            "justify_content": null,
            "justify_items": null,
            "left": null,
            "margin": null,
            "max_height": null,
            "max_width": null,
            "min_height": null,
            "min_width": null,
            "object_fit": null,
            "object_position": null,
            "order": null,
            "overflow": null,
            "overflow_x": null,
            "overflow_y": null,
            "padding": null,
            "right": null,
            "top": null,
            "visibility": null,
            "width": null
          }
        },
        "edba0b45e7184f4a9c74cec4b2c256b7": {
          "model_module": "@jupyter-widgets/controls",
          "model_name": "DescriptionStyleModel",
          "model_module_version": "1.5.0",
          "state": {
            "_model_module": "@jupyter-widgets/controls",
            "_model_module_version": "1.5.0",
            "_model_name": "DescriptionStyleModel",
            "_view_count": null,
            "_view_module": "@jupyter-widgets/base",
            "_view_module_version": "1.2.0",
            "_view_name": "StyleView",
            "description_width": ""
          }
        },
        "cca047d1016a449195b3fc3fbe66ef6d": {
          "model_module": "@jupyter-widgets/base",
          "model_name": "LayoutModel",
          "model_module_version": "1.2.0",
          "state": {
            "_model_module": "@jupyter-widgets/base",
            "_model_module_version": "1.2.0",
            "_model_name": "LayoutModel",
            "_view_count": null,
            "_view_module": "@jupyter-widgets/base",
            "_view_module_version": "1.2.0",
            "_view_name": "LayoutView",
            "align_content": null,
            "align_items": null,
            "align_self": null,
            "border": null,
            "bottom": null,
            "display": null,
            "flex": null,
            "flex_flow": null,
            "grid_area": null,
            "grid_auto_columns": null,
            "grid_auto_flow": null,
            "grid_auto_rows": null,
            "grid_column": null,
            "grid_gap": null,
            "grid_row": null,
            "grid_template_areas": null,
            "grid_template_columns": null,
            "grid_template_rows": null,
            "height": null,
            "justify_content": null,
            "justify_items": null,
            "left": null,
            "margin": null,
            "max_height": null,
            "max_width": null,
            "min_height": null,
            "min_width": null,
            "object_fit": null,
            "object_position": null,
            "order": null,
            "overflow": null,
            "overflow_x": null,
            "overflow_y": null,
            "padding": null,
            "right": null,
            "top": null,
            "visibility": null,
            "width": "20px"
          }
        },
        "ef8bea0c27dd4cbfbd2aa229eb9a5b60": {
          "model_module": "@jupyter-widgets/controls",
          "model_name": "ProgressStyleModel",
          "model_module_version": "1.5.0",
          "state": {
            "_model_module": "@jupyter-widgets/controls",
            "_model_module_version": "1.5.0",
            "_model_name": "ProgressStyleModel",
            "_view_count": null,
            "_view_module": "@jupyter-widgets/base",
            "_view_module_version": "1.2.0",
            "_view_name": "StyleView",
            "bar_color": null,
            "description_width": ""
          }
        },
        "843ad59c49454c51b2b703af110c3644": {
          "model_module": "@jupyter-widgets/base",
          "model_name": "LayoutModel",
          "model_module_version": "1.2.0",
          "state": {
            "_model_module": "@jupyter-widgets/base",
            "_model_module_version": "1.2.0",
            "_model_name": "LayoutModel",
            "_view_count": null,
            "_view_module": "@jupyter-widgets/base",
            "_view_module_version": "1.2.0",
            "_view_name": "LayoutView",
            "align_content": null,
            "align_items": null,
            "align_self": null,
            "border": null,
            "bottom": null,
            "display": null,
            "flex": null,
            "flex_flow": null,
            "grid_area": null,
            "grid_auto_columns": null,
            "grid_auto_flow": null,
            "grid_auto_rows": null,
            "grid_column": null,
            "grid_gap": null,
            "grid_row": null,
            "grid_template_areas": null,
            "grid_template_columns": null,
            "grid_template_rows": null,
            "height": null,
            "justify_content": null,
            "justify_items": null,
            "left": null,
            "margin": null,
            "max_height": null,
            "max_width": null,
            "min_height": null,
            "min_width": null,
            "object_fit": null,
            "object_position": null,
            "order": null,
            "overflow": null,
            "overflow_x": null,
            "overflow_y": null,
            "padding": null,
            "right": null,
            "top": null,
            "visibility": null,
            "width": null
          }
        },
        "c6b8c5b56a3d41de9a23fee7abe4f043": {
          "model_module": "@jupyter-widgets/controls",
          "model_name": "DescriptionStyleModel",
          "model_module_version": "1.5.0",
          "state": {
            "_model_module": "@jupyter-widgets/controls",
            "_model_module_version": "1.5.0",
            "_model_name": "DescriptionStyleModel",
            "_view_count": null,
            "_view_module": "@jupyter-widgets/base",
            "_view_module_version": "1.2.0",
            "_view_name": "StyleView",
            "description_width": ""
          }
        },
        "f912b59d47094b4a90c7cfe83916ce6b": {
          "model_module": "@jupyter-widgets/controls",
          "model_name": "HBoxModel",
          "model_module_version": "1.5.0",
          "state": {
            "_dom_classes": [],
            "_model_module": "@jupyter-widgets/controls",
            "_model_module_version": "1.5.0",
            "_model_name": "HBoxModel",
            "_view_count": null,
            "_view_module": "@jupyter-widgets/controls",
            "_view_module_version": "1.5.0",
            "_view_name": "HBoxView",
            "box_style": "",
            "children": [
              "IPY_MODEL_0c4eca47d201422b93227f7478ea393c",
              "IPY_MODEL_bff1379f554144b38a15011f16ba2fe9",
              "IPY_MODEL_41097899226f4c9bb4d110cba4e9162d"
            ],
            "layout": "IPY_MODEL_d7dd85c93cc3465da09e6a137f71b85c"
          }
        },
        "0c4eca47d201422b93227f7478ea393c": {
          "model_module": "@jupyter-widgets/controls",
          "model_name": "HTMLModel",
          "model_module_version": "1.5.0",
          "state": {
            "_dom_classes": [],
            "_model_module": "@jupyter-widgets/controls",
            "_model_module_version": "1.5.0",
            "_model_name": "HTMLModel",
            "_view_count": null,
            "_view_module": "@jupyter-widgets/controls",
            "_view_module_version": "1.5.0",
            "_view_name": "HTMLView",
            "description": "",
            "description_tooltip": null,
            "layout": "IPY_MODEL_7f44107a99c04e42893630fe91cff374",
            "placeholder": "​",
            "style": "IPY_MODEL_8b665ded9651448ea2dadd0fe3f4628f",
            "value": "100%"
          }
        },
        "bff1379f554144b38a15011f16ba2fe9": {
          "model_module": "@jupyter-widgets/controls",
          "model_name": "FloatProgressModel",
          "model_module_version": "1.5.0",
          "state": {
            "_dom_classes": [],
            "_model_module": "@jupyter-widgets/controls",
            "_model_module_version": "1.5.0",
            "_model_name": "FloatProgressModel",
            "_view_count": null,
            "_view_module": "@jupyter-widgets/controls",
            "_view_module_version": "1.5.0",
            "_view_name": "ProgressView",
            "bar_style": "success",
            "description": "",
            "description_tooltip": null,
            "layout": "IPY_MODEL_da2382bf6a0147e5b2131b5fe6aaa0f1",
            "max": 5,
            "min": 0,
            "orientation": "horizontal",
            "style": "IPY_MODEL_4476abce387249bcad2c288eed25de51",
            "value": 5
          }
        },
        "41097899226f4c9bb4d110cba4e9162d": {
          "model_module": "@jupyter-widgets/controls",
          "model_name": "HTMLModel",
          "model_module_version": "1.5.0",
          "state": {
            "_dom_classes": [],
            "_model_module": "@jupyter-widgets/controls",
            "_model_module_version": "1.5.0",
            "_model_name": "HTMLModel",
            "_view_count": null,
            "_view_module": "@jupyter-widgets/controls",
            "_view_module_version": "1.5.0",
            "_view_name": "HTMLView",
            "description": "",
            "description_tooltip": null,
            "layout": "IPY_MODEL_6036ecdebb624cbbaab4d67dffa026a1",
            "placeholder": "​",
            "style": "IPY_MODEL_321aa879a67946078ca778cfb6f8e5bd",
            "value": " 5/5 [23:50&lt;00:00, 332.46s/it]"
          }
        },
        "d7dd85c93cc3465da09e6a137f71b85c": {
          "model_module": "@jupyter-widgets/base",
          "model_name": "LayoutModel",
          "model_module_version": "1.2.0",
          "state": {
            "_model_module": "@jupyter-widgets/base",
            "_model_module_version": "1.2.0",
            "_model_name": "LayoutModel",
            "_view_count": null,
            "_view_module": "@jupyter-widgets/base",
            "_view_module_version": "1.2.0",
            "_view_name": "LayoutView",
            "align_content": null,
            "align_items": null,
            "align_self": null,
            "border": null,
            "bottom": null,
            "display": null,
            "flex": null,
            "flex_flow": null,
            "grid_area": null,
            "grid_auto_columns": null,
            "grid_auto_flow": null,
            "grid_auto_rows": null,
            "grid_column": null,
            "grid_gap": null,
            "grid_row": null,
            "grid_template_areas": null,
            "grid_template_columns": null,
            "grid_template_rows": null,
            "height": null,
            "justify_content": null,
            "justify_items": null,
            "left": null,
            "margin": null,
            "max_height": null,
            "max_width": null,
            "min_height": null,
            "min_width": null,
            "object_fit": null,
            "object_position": null,
            "order": null,
            "overflow": null,
            "overflow_x": null,
            "overflow_y": null,
            "padding": null,
            "right": null,
            "top": null,
            "visibility": null,
            "width": null
          }
        },
        "7f44107a99c04e42893630fe91cff374": {
          "model_module": "@jupyter-widgets/base",
          "model_name": "LayoutModel",
          "model_module_version": "1.2.0",
          "state": {
            "_model_module": "@jupyter-widgets/base",
            "_model_module_version": "1.2.0",
            "_model_name": "LayoutModel",
            "_view_count": null,
            "_view_module": "@jupyter-widgets/base",
            "_view_module_version": "1.2.0",
            "_view_name": "LayoutView",
            "align_content": null,
            "align_items": null,
            "align_self": null,
            "border": null,
            "bottom": null,
            "display": null,
            "flex": null,
            "flex_flow": null,
            "grid_area": null,
            "grid_auto_columns": null,
            "grid_auto_flow": null,
            "grid_auto_rows": null,
            "grid_column": null,
            "grid_gap": null,
            "grid_row": null,
            "grid_template_areas": null,
            "grid_template_columns": null,
            "grid_template_rows": null,
            "height": null,
            "justify_content": null,
            "justify_items": null,
            "left": null,
            "margin": null,
            "max_height": null,
            "max_width": null,
            "min_height": null,
            "min_width": null,
            "object_fit": null,
            "object_position": null,
            "order": null,
            "overflow": null,
            "overflow_x": null,
            "overflow_y": null,
            "padding": null,
            "right": null,
            "top": null,
            "visibility": null,
            "width": null
          }
        },
        "8b665ded9651448ea2dadd0fe3f4628f": {
          "model_module": "@jupyter-widgets/controls",
          "model_name": "DescriptionStyleModel",
          "model_module_version": "1.5.0",
          "state": {
            "_model_module": "@jupyter-widgets/controls",
            "_model_module_version": "1.5.0",
            "_model_name": "DescriptionStyleModel",
            "_view_count": null,
            "_view_module": "@jupyter-widgets/base",
            "_view_module_version": "1.2.0",
            "_view_name": "StyleView",
            "description_width": ""
          }
        },
        "da2382bf6a0147e5b2131b5fe6aaa0f1": {
          "model_module": "@jupyter-widgets/base",
          "model_name": "LayoutModel",
          "model_module_version": "1.2.0",
          "state": {
            "_model_module": "@jupyter-widgets/base",
            "_model_module_version": "1.2.0",
            "_model_name": "LayoutModel",
            "_view_count": null,
            "_view_module": "@jupyter-widgets/base",
            "_view_module_version": "1.2.0",
            "_view_name": "LayoutView",
            "align_content": null,
            "align_items": null,
            "align_self": null,
            "border": null,
            "bottom": null,
            "display": null,
            "flex": null,
            "flex_flow": null,
            "grid_area": null,
            "grid_auto_columns": null,
            "grid_auto_flow": null,
            "grid_auto_rows": null,
            "grid_column": null,
            "grid_gap": null,
            "grid_row": null,
            "grid_template_areas": null,
            "grid_template_columns": null,
            "grid_template_rows": null,
            "height": null,
            "justify_content": null,
            "justify_items": null,
            "left": null,
            "margin": null,
            "max_height": null,
            "max_width": null,
            "min_height": null,
            "min_width": null,
            "object_fit": null,
            "object_position": null,
            "order": null,
            "overflow": null,
            "overflow_x": null,
            "overflow_y": null,
            "padding": null,
            "right": null,
            "top": null,
            "visibility": null,
            "width": null
          }
        },
        "4476abce387249bcad2c288eed25de51": {
          "model_module": "@jupyter-widgets/controls",
          "model_name": "ProgressStyleModel",
          "model_module_version": "1.5.0",
          "state": {
            "_model_module": "@jupyter-widgets/controls",
            "_model_module_version": "1.5.0",
            "_model_name": "ProgressStyleModel",
            "_view_count": null,
            "_view_module": "@jupyter-widgets/base",
            "_view_module_version": "1.2.0",
            "_view_name": "StyleView",
            "bar_color": null,
            "description_width": ""
          }
        },
        "6036ecdebb624cbbaab4d67dffa026a1": {
          "model_module": "@jupyter-widgets/base",
          "model_name": "LayoutModel",
          "model_module_version": "1.2.0",
          "state": {
            "_model_module": "@jupyter-widgets/base",
            "_model_module_version": "1.2.0",
            "_model_name": "LayoutModel",
            "_view_count": null,
            "_view_module": "@jupyter-widgets/base",
            "_view_module_version": "1.2.0",
            "_view_name": "LayoutView",
            "align_content": null,
            "align_items": null,
            "align_self": null,
            "border": null,
            "bottom": null,
            "display": null,
            "flex": null,
            "flex_flow": null,
            "grid_area": null,
            "grid_auto_columns": null,
            "grid_auto_flow": null,
            "grid_auto_rows": null,
            "grid_column": null,
            "grid_gap": null,
            "grid_row": null,
            "grid_template_areas": null,
            "grid_template_columns": null,
            "grid_template_rows": null,
            "height": null,
            "justify_content": null,
            "justify_items": null,
            "left": null,
            "margin": null,
            "max_height": null,
            "max_width": null,
            "min_height": null,
            "min_width": null,
            "object_fit": null,
            "object_position": null,
            "order": null,
            "overflow": null,
            "overflow_x": null,
            "overflow_y": null,
            "padding": null,
            "right": null,
            "top": null,
            "visibility": null,
            "width": null
          }
        },
        "321aa879a67946078ca778cfb6f8e5bd": {
          "model_module": "@jupyter-widgets/controls",
          "model_name": "DescriptionStyleModel",
          "model_module_version": "1.5.0",
          "state": {
            "_model_module": "@jupyter-widgets/controls",
            "_model_module_version": "1.5.0",
            "_model_name": "DescriptionStyleModel",
            "_view_count": null,
            "_view_module": "@jupyter-widgets/base",
            "_view_module_version": "1.2.0",
            "_view_name": "StyleView",
            "description_width": ""
          }
        }
      }
    }
  },
  "nbformat": 4,
  "nbformat_minor": 0
}
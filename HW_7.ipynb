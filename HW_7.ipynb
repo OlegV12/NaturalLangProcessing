{
  "nbformat": 4,
  "nbformat_minor": 0,
  "metadata": {
    "colab": {
      "name": "HW_7.ipynb",
      "provenance": [],
      "collapsed_sections": [],
      "authorship_tag": "ABX9TyMyOlbYF+RLXTFXZEL1Ih54",
      "include_colab_link": true
    },
    "kernelspec": {
      "name": "python3",
      "display_name": "Python 3"
    },
    "language_info": {
      "name": "python"
    }
  },
  "cells": [
    {
      "cell_type": "markdown",
      "metadata": {
        "id": "view-in-github",
        "colab_type": "text"
      },
      "source": [
        "<a href=\"https://colab.research.google.com/github/OlegV12/NaturalLangProcessing/blob/Lesson_7/HW_7.ipynb\" target=\"_parent\"><img src=\"https://colab.research.google.com/assets/colab-badge.svg\" alt=\"Open In Colab\"/></a>"
      ]
    },
    {
      "cell_type": "code",
      "source": [
        "!pip install pymorphy2"
      ],
      "metadata": {
        "colab": {
          "base_uri": "https://localhost:8080/"
        },
        "id": "Dzljs6HRrsCx",
        "outputId": "b64be050-a965-4561-a81a-e05dbced9963"
      },
      "execution_count": 28,
      "outputs": [
        {
          "output_type": "stream",
          "name": "stdout",
          "text": [
            "Looking in indexes: https://pypi.org/simple, https://us-python.pkg.dev/colab-wheels/public/simple/\n",
            "Collecting pymorphy2\n",
            "  Downloading pymorphy2-0.9.1-py3-none-any.whl (55 kB)\n",
            "\u001b[K     |████████████████████████████████| 55 kB 4.1 MB/s \n",
            "\u001b[?25hRequirement already satisfied: docopt>=0.6 in /usr/local/lib/python3.7/dist-packages (from pymorphy2) (0.6.2)\n",
            "Collecting dawg-python>=0.7.1\n",
            "  Downloading DAWG_Python-0.7.2-py2.py3-none-any.whl (11 kB)\n",
            "Collecting pymorphy2-dicts-ru<3.0,>=2.4\n",
            "  Downloading pymorphy2_dicts_ru-2.4.417127.4579844-py2.py3-none-any.whl (8.2 MB)\n",
            "\u001b[K     |████████████████████████████████| 8.2 MB 38.5 MB/s \n",
            "\u001b[?25hInstalling collected packages: pymorphy2-dicts-ru, dawg-python, pymorphy2\n",
            "Successfully installed dawg-python-0.7.2 pymorphy2-0.9.1 pymorphy2-dicts-ru-2.4.417127.4579844\n"
          ]
        }
      ]
    },
    {
      "cell_type": "code",
      "source": [
        "!pip install stop_words"
      ],
      "metadata": {
        "colab": {
          "base_uri": "https://localhost:8080/"
        },
        "id": "MbsVilP9rvz7",
        "outputId": "1d8a0070-e9b5-4351-f620-bc1d4b9ac1f7"
      },
      "execution_count": 31,
      "outputs": [
        {
          "output_type": "stream",
          "name": "stdout",
          "text": [
            "Looking in indexes: https://pypi.org/simple, https://us-python.pkg.dev/colab-wheels/public/simple/\n",
            "Collecting stop_words\n",
            "  Downloading stop-words-2018.7.23.tar.gz (31 kB)\n",
            "Building wheels for collected packages: stop-words\n",
            "  Building wheel for stop-words (setup.py) ... \u001b[?25l\u001b[?25hdone\n",
            "  Created wheel for stop-words: filename=stop_words-2018.7.23-py3-none-any.whl size=32911 sha256=0868069ce7cdfea9d43edf25fee4c50008397afa42cbc1f4ff4f84306fe762ad\n",
            "  Stored in directory: /root/.cache/pip/wheels/fb/86/b2/277b10b1ce9f73ce15059bf6975d4547cc4ec3feeb651978e9\n",
            "Successfully built stop-words\n",
            "Installing collected packages: stop-words\n",
            "Successfully installed stop-words-2018.7.23\n"
          ]
        }
      ]
    },
    {
      "cell_type": "code",
      "source": [
        "import numpy as np # linear algebra\n",
        "import pandas as pd # data processing, CSV file I/O (e.g. pd.read_csv)\n",
        "import torch\n",
        "from string import punctuation\n",
        "from stop_words import get_stop_words\n",
        "import re\n",
        "import torch\n",
        "import torch.nn as nn\n",
        "import torch.nn.functional as F\n",
        "from torch.utils.data import DataLoader, Dataset\n",
        "from sklearn.model_selection import train_test_split\n",
        "from nltk import WordNetLemmatizer\n",
        "import matplotlib.pyplot as plt\n",
        "from pymorphy2 import MorphAnalyzer"
      ],
      "metadata": {
        "id": "i-zx2n6MoTIw"
      },
      "execution_count": 32,
      "outputs": []
    },
    {
      "cell_type": "code",
      "source": [
        "!pip install pandas"
      ],
      "metadata": {
        "colab": {
          "base_uri": "https://localhost:8080/"
        },
        "id": "9zC5O_D6pGwB",
        "outputId": "a5a97cba-0815-460d-d89c-7381c326bf91"
      },
      "execution_count": 33,
      "outputs": [
        {
          "output_type": "stream",
          "name": "stdout",
          "text": [
            "Looking in indexes: https://pypi.org/simple, https://us-python.pkg.dev/colab-wheels/public/simple/\n",
            "Requirement already satisfied: pandas in /usr/local/lib/python3.7/dist-packages (1.3.5)\n",
            "Requirement already satisfied: pytz>=2017.3 in /usr/local/lib/python3.7/dist-packages (from pandas) (2022.1)\n",
            "Requirement already satisfied: python-dateutil>=2.7.3 in /usr/local/lib/python3.7/dist-packages (from pandas) (2.8.2)\n",
            "Requirement already satisfied: numpy>=1.17.3 in /usr/local/lib/python3.7/dist-packages (from pandas) (1.21.6)\n",
            "Requirement already satisfied: six>=1.5 in /usr/local/lib/python3.7/dist-packages (from python-dateutil>=2.7.3->pandas) (1.15.0)\n"
          ]
        }
      ]
    },
    {
      "cell_type": "code",
      "source": [
        "!pip install --upgrade xlrd"
      ],
      "metadata": {
        "colab": {
          "base_uri": "https://localhost:8080/"
        },
        "id": "5EdsEBHgoY9J",
        "outputId": "407d6bbe-0bce-4abb-fd23-31cc3d3975d3"
      },
      "execution_count": 2,
      "outputs": [
        {
          "output_type": "stream",
          "name": "stdout",
          "text": [
            "Looking in indexes: https://pypi.org/simple, https://us-python.pkg.dev/colab-wheels/public/simple/\n",
            "Requirement already satisfied: xlrd in /usr/local/lib/python3.7/dist-packages (2.0.1)\n"
          ]
        }
      ]
    },
    {
      "cell_type": "code",
      "source": [
        "import nltk\n",
        "nltk.download('wordnet')"
      ],
      "metadata": {
        "colab": {
          "base_uri": "https://localhost:8080/"
        },
        "id": "3hzjSPfJsrRm",
        "outputId": "de856519-f90b-480b-f01f-f2b3c11901ea"
      },
      "execution_count": 40,
      "outputs": [
        {
          "output_type": "stream",
          "name": "stderr",
          "text": [
            "[nltk_data] Downloading package wordnet to /root/nltk_data...\n"
          ]
        },
        {
          "output_type": "execute_result",
          "data": {
            "text/plain": [
              "True"
            ]
          },
          "metadata": {},
          "execution_count": 40
        }
      ]
    },
    {
      "cell_type": "code",
      "source": [
        "\n",
        "nltk.download('omw-1.4')"
      ],
      "metadata": {
        "colab": {
          "base_uri": "https://localhost:8080/"
        },
        "id": "fC8-oLJasxMF",
        "outputId": "b2298942-ed15-4a2c-dabf-31b051b7e854"
      },
      "execution_count": 42,
      "outputs": [
        {
          "output_type": "stream",
          "name": "stderr",
          "text": [
            "[nltk_data] Downloading package omw-1.4 to /root/nltk_data...\n"
          ]
        },
        {
          "output_type": "execute_result",
          "data": {
            "text/plain": [
              "True"
            ]
          },
          "metadata": {},
          "execution_count": 42
        }
      ]
    },
    {
      "cell_type": "code",
      "execution_count": 3,
      "metadata": {
        "colab": {
          "base_uri": "https://localhost:8080/"
        },
        "id": "yVzpx9Tvn66w",
        "outputId": "fdc619b9-e2be-45a2-bade-7fd6a60ee1f7"
      },
      "outputs": [
        {
          "output_type": "stream",
          "name": "stdout",
          "text": [
            "Drive already mounted at /gdrive; to attempt to forcibly remount, call drive.mount(\"/gdrive\", force_remount=True).\n"
          ]
        }
      ],
      "source": [
        "from google.colab import drive\n",
        "drive.mount('/gdrive')"
      ]
    },
    {
      "cell_type": "code",
      "source": [
        "df = pd.read_excel('/gdrive/MyDrive/Colab Notebooks/NLP/data.xls')"
      ],
      "metadata": {
        "id": "4lp63mOcoZ84"
      },
      "execution_count": 161,
      "outputs": []
    },
    {
      "cell_type": "code",
      "source": [
        "df['Rating'].value_counts()"
      ],
      "metadata": {
        "colab": {
          "base_uri": "https://localhost:8080/"
        },
        "id": "vam3dnmyo03B",
        "outputId": "17b1e268-a927-4d2d-d898-2520dcac69f5"
      },
      "execution_count": 162,
      "outputs": [
        {
          "output_type": "execute_result",
          "data": {
            "text/plain": [
              "5    14586\n",
              "1     2276\n",
              "4     2138\n",
              "3      911\n",
              "2      748\n",
              "Name: Rating, dtype: int64"
            ]
          },
          "metadata": {},
          "execution_count": 162
        }
      ]
    },
    {
      "cell_type": "code",
      "source": [
        "my_dict = {1:0, 2:0, 4:1, 5:1}"
      ],
      "metadata": {
        "id": "9mCdsqcqp7aY"
      },
      "execution_count": 163,
      "outputs": []
    },
    {
      "cell_type": "code",
      "source": [
        "df['label'] = df['Rating'].map(my_dict)"
      ],
      "metadata": {
        "id": "n-sGaZSgqL7g"
      },
      "execution_count": 164,
      "outputs": []
    },
    {
      "cell_type": "code",
      "source": [
        "df.drop(df.loc[df['Rating']==3].index, inplace=True)"
      ],
      "metadata": {
        "id": "4vwwgi5pqron"
      },
      "execution_count": 165,
      "outputs": []
    },
    {
      "cell_type": "code",
      "source": [
        "df.reset_index(inplace=True, drop=True)\n"
      ],
      "metadata": {
        "id": "lVaOLZNi2nsL"
      },
      "execution_count": 166,
      "outputs": []
    },
    {
      "cell_type": "code",
      "source": [
        "df = df[['Content', 'label']]"
      ],
      "metadata": {
        "id": "T1Q8aWPyrZ3-"
      },
      "execution_count": 169,
      "outputs": []
    },
    {
      "cell_type": "code",
      "source": [
        "df['label'].value_counts()"
      ],
      "metadata": {
        "colab": {
          "base_uri": "https://localhost:8080/"
        },
        "id": "eySIMbBBriQ-",
        "outputId": "6361f38d-2349-473d-a7c7-bb22b03551ba"
      },
      "execution_count": 170,
      "outputs": [
        {
          "output_type": "execute_result",
          "data": {
            "text/plain": [
              "1.0    16724\n",
              "0.0     3024\n",
              "Name: label, dtype: int64"
            ]
          },
          "metadata": {},
          "execution_count": 170
        }
      ]
    },
    {
      "cell_type": "code",
      "source": [
        "# variables\n",
        "max_words = 3000\n",
        "max_len = 20\n",
        "num_classes = 1\n",
        "\n",
        "# Training\n",
        "epochs = 32\n",
        "batch_size = 128\n",
        "print_batch_n = 100"
      ],
      "metadata": {
        "id": "40w4gHIur700"
      },
      "execution_count": 171,
      "outputs": []
    },
    {
      "cell_type": "code",
      "source": [
        "sw = set(get_stop_words(\"ru\"))\n",
        "puncts = set(punctuation)"
      ],
      "metadata": {
        "id": "Iy8l4anssIh2"
      },
      "execution_count": 172,
      "outputs": []
    },
    {
      "cell_type": "code",
      "source": [
        "morpher = MorphAnalyzer()\n",
        "lemmatizer = WordNetLemmatizer()\n",
        "\n",
        "def preprocess_text(txt):\n",
        "    txt = str(txt)\n",
        "    txt = \"\".join(c for c in txt if c not in puncts)\n",
        "    txt = txt.lower()\n",
        "    txt = re.sub(\"not\\s\", \"no\", txt)\n",
        "#     txt = [morpher.parse(word)[0].normal_form for word in txt.split() if word not in sw]\n",
        "    txt = [lemmatizer.lemmatize(word) for word in txt.split() if word not in sw]\n",
        "    return \" \".join(txt)"
      ],
      "metadata": {
        "id": "wRgRdRY1sPv0"
      },
      "execution_count": 173,
      "outputs": []
    },
    {
      "cell_type": "code",
      "source": [
        "from tqdm import tqdm \n",
        "tqdm.pandas()\n",
        "\n",
        "df['feedback'] = df['Content'].progress_apply(preprocess_text)\n"
      ],
      "metadata": {
        "colab": {
          "base_uri": "https://localhost:8080/"
        },
        "id": "9rTEW4kTsSpZ",
        "outputId": "fa5baa8d-5795-40aa-dfca-02b4c038a7e5"
      },
      "execution_count": 174,
      "outputs": [
        {
          "output_type": "stream",
          "name": "stderr",
          "text": [
            "100%|██████████| 19748/19748 [00:00<00:00, 28545.95it/s]\n",
            "/usr/local/lib/python3.7/dist-packages/ipykernel_launcher.py:4: SettingWithCopyWarning: \n",
            "A value is trying to be set on a copy of a slice from a DataFrame.\n",
            "Try using .loc[row_indexer,col_indexer] = value instead\n",
            "\n",
            "See the caveats in the documentation: https://pandas.pydata.org/pandas-docs/stable/user_guide/indexing.html#returning-a-view-versus-a-copy\n",
            "  after removing the cwd from sys.path.\n"
          ]
        }
      ]
    },
    {
      "cell_type": "code",
      "source": [
        "df.head()"
      ],
      "metadata": {
        "colab": {
          "base_uri": "https://localhost:8080/",
          "height": 204
        },
        "id": "188bTgFIs0wY",
        "outputId": "fbc38634-4e96-4c3b-b48c-72075b78b114"
      },
      "execution_count": 175,
      "outputs": [
        {
          "output_type": "execute_result",
          "data": {
            "text/plain": [
              "                                             Content  label  \\\n",
              "0                                     It just works!    1.0   \n",
              "1  В целом удобноное приложение...из минусов хотя...    1.0   \n",
              "2                                        Отлично все    1.0   \n",
              "3  Стал зависать на 1% работы антивируса. Дальше ...    1.0   \n",
              "4                     Очень удобно, работает быстро.    1.0   \n",
              "\n",
              "                                            feedback  \n",
              "0                                       it just work  \n",
              "1  целом удобноное приложениеиз минусов хотят бол...  \n",
              "2                                            отлично  \n",
              "3  зависать 1 работы антивируса ранее пользовался...  \n",
              "4                             удобно работает быстро  "
            ],
            "text/html": [
              "\n",
              "  <div id=\"df-741df2e0-ab0a-4ef1-a701-d7f265c33e81\">\n",
              "    <div class=\"colab-df-container\">\n",
              "      <div>\n",
              "<style scoped>\n",
              "    .dataframe tbody tr th:only-of-type {\n",
              "        vertical-align: middle;\n",
              "    }\n",
              "\n",
              "    .dataframe tbody tr th {\n",
              "        vertical-align: top;\n",
              "    }\n",
              "\n",
              "    .dataframe thead th {\n",
              "        text-align: right;\n",
              "    }\n",
              "</style>\n",
              "<table border=\"1\" class=\"dataframe\">\n",
              "  <thead>\n",
              "    <tr style=\"text-align: right;\">\n",
              "      <th></th>\n",
              "      <th>Content</th>\n",
              "      <th>label</th>\n",
              "      <th>feedback</th>\n",
              "    </tr>\n",
              "  </thead>\n",
              "  <tbody>\n",
              "    <tr>\n",
              "      <th>0</th>\n",
              "      <td>It just works!</td>\n",
              "      <td>1.0</td>\n",
              "      <td>it just work</td>\n",
              "    </tr>\n",
              "    <tr>\n",
              "      <th>1</th>\n",
              "      <td>В целом удобноное приложение...из минусов хотя...</td>\n",
              "      <td>1.0</td>\n",
              "      <td>целом удобноное приложениеиз минусов хотят бол...</td>\n",
              "    </tr>\n",
              "    <tr>\n",
              "      <th>2</th>\n",
              "      <td>Отлично все</td>\n",
              "      <td>1.0</td>\n",
              "      <td>отлично</td>\n",
              "    </tr>\n",
              "    <tr>\n",
              "      <th>3</th>\n",
              "      <td>Стал зависать на 1% работы антивируса. Дальше ...</td>\n",
              "      <td>1.0</td>\n",
              "      <td>зависать 1 работы антивируса ранее пользовался...</td>\n",
              "    </tr>\n",
              "    <tr>\n",
              "      <th>4</th>\n",
              "      <td>Очень удобно, работает быстро.</td>\n",
              "      <td>1.0</td>\n",
              "      <td>удобно работает быстро</td>\n",
              "    </tr>\n",
              "  </tbody>\n",
              "</table>\n",
              "</div>\n",
              "      <button class=\"colab-df-convert\" onclick=\"convertToInteractive('df-741df2e0-ab0a-4ef1-a701-d7f265c33e81')\"\n",
              "              title=\"Convert this dataframe to an interactive table.\"\n",
              "              style=\"display:none;\">\n",
              "        \n",
              "  <svg xmlns=\"http://www.w3.org/2000/svg\" height=\"24px\"viewBox=\"0 0 24 24\"\n",
              "       width=\"24px\">\n",
              "    <path d=\"M0 0h24v24H0V0z\" fill=\"none\"/>\n",
              "    <path d=\"M18.56 5.44l.94 2.06.94-2.06 2.06-.94-2.06-.94-.94-2.06-.94 2.06-2.06.94zm-11 1L8.5 8.5l.94-2.06 2.06-.94-2.06-.94L8.5 2.5l-.94 2.06-2.06.94zm10 10l.94 2.06.94-2.06 2.06-.94-2.06-.94-.94-2.06-.94 2.06-2.06.94z\"/><path d=\"M17.41 7.96l-1.37-1.37c-.4-.4-.92-.59-1.43-.59-.52 0-1.04.2-1.43.59L10.3 9.45l-7.72 7.72c-.78.78-.78 2.05 0 2.83L4 21.41c.39.39.9.59 1.41.59.51 0 1.02-.2 1.41-.59l7.78-7.78 2.81-2.81c.8-.78.8-2.07 0-2.86zM5.41 20L4 18.59l7.72-7.72 1.47 1.35L5.41 20z\"/>\n",
              "  </svg>\n",
              "      </button>\n",
              "      \n",
              "  <style>\n",
              "    .colab-df-container {\n",
              "      display:flex;\n",
              "      flex-wrap:wrap;\n",
              "      gap: 12px;\n",
              "    }\n",
              "\n",
              "    .colab-df-convert {\n",
              "      background-color: #E8F0FE;\n",
              "      border: none;\n",
              "      border-radius: 50%;\n",
              "      cursor: pointer;\n",
              "      display: none;\n",
              "      fill: #1967D2;\n",
              "      height: 32px;\n",
              "      padding: 0 0 0 0;\n",
              "      width: 32px;\n",
              "    }\n",
              "\n",
              "    .colab-df-convert:hover {\n",
              "      background-color: #E2EBFA;\n",
              "      box-shadow: 0px 1px 2px rgba(60, 64, 67, 0.3), 0px 1px 3px 1px rgba(60, 64, 67, 0.15);\n",
              "      fill: #174EA6;\n",
              "    }\n",
              "\n",
              "    [theme=dark] .colab-df-convert {\n",
              "      background-color: #3B4455;\n",
              "      fill: #D2E3FC;\n",
              "    }\n",
              "\n",
              "    [theme=dark] .colab-df-convert:hover {\n",
              "      background-color: #434B5C;\n",
              "      box-shadow: 0px 1px 3px 1px rgba(0, 0, 0, 0.15);\n",
              "      filter: drop-shadow(0px 1px 2px rgba(0, 0, 0, 0.3));\n",
              "      fill: #FFFFFF;\n",
              "    }\n",
              "  </style>\n",
              "\n",
              "      <script>\n",
              "        const buttonEl =\n",
              "          document.querySelector('#df-741df2e0-ab0a-4ef1-a701-d7f265c33e81 button.colab-df-convert');\n",
              "        buttonEl.style.display =\n",
              "          google.colab.kernel.accessAllowed ? 'block' : 'none';\n",
              "\n",
              "        async function convertToInteractive(key) {\n",
              "          const element = document.querySelector('#df-741df2e0-ab0a-4ef1-a701-d7f265c33e81');\n",
              "          const dataTable =\n",
              "            await google.colab.kernel.invokeFunction('convertToInteractive',\n",
              "                                                     [key], {});\n",
              "          if (!dataTable) return;\n",
              "\n",
              "          const docLinkHtml = 'Like what you see? Visit the ' +\n",
              "            '<a target=\"_blank\" href=https://colab.research.google.com/notebooks/data_table.ipynb>data table notebook</a>'\n",
              "            + ' to learn more about interactive tables.';\n",
              "          element.innerHTML = '';\n",
              "          dataTable['output_type'] = 'display_data';\n",
              "          await google.colab.output.renderOutput(dataTable, element);\n",
              "          const docLink = document.createElement('div');\n",
              "          docLink.innerHTML = docLinkHtml;\n",
              "          element.appendChild(docLink);\n",
              "        }\n",
              "      </script>\n",
              "    </div>\n",
              "  </div>\n",
              "  "
            ]
          },
          "metadata": {},
          "execution_count": 175
        }
      ]
    },
    {
      "cell_type": "code",
      "source": [
        "train_corpus = \" \".join(df[\"feedback\"])\n",
        "train_corpus = train_corpus.lower()"
      ],
      "metadata": {
        "id": "q4R2fbbns_BU"
      },
      "execution_count": 176,
      "outputs": []
    },
    {
      "cell_type": "code",
      "source": [
        "import nltk\n",
        "from nltk.tokenize import word_tokenize\n",
        "nltk.download(\"punkt\")\n",
        "\n",
        "tokens = word_tokenize(train_corpus)\n",
        "tokens[:5]"
      ],
      "metadata": {
        "colab": {
          "base_uri": "https://localhost:8080/"
        },
        "id": "DuLKgbOTtCs8",
        "outputId": "b824935c-4f00-45de-d630-e3a67abd5eb6"
      },
      "execution_count": 177,
      "outputs": [
        {
          "output_type": "stream",
          "name": "stderr",
          "text": [
            "[nltk_data] Downloading package punkt to /root/nltk_data...\n",
            "[nltk_data]   Package punkt is already up-to-date!\n"
          ]
        },
        {
          "output_type": "execute_result",
          "data": {
            "text/plain": [
              "['it', 'just', 'work', 'целом', 'удобноное']"
            ]
          },
          "metadata": {},
          "execution_count": 177
        }
      ]
    },
    {
      "cell_type": "code",
      "source": [
        "tokens_filtered = [word for word in tokens if word.isalnum()]"
      ],
      "metadata": {
        "id": "fDeNenRDtQMM"
      },
      "execution_count": 178,
      "outputs": []
    },
    {
      "cell_type": "code",
      "source": [
        "from nltk.probability import FreqDist\n",
        "\n",
        "dist = FreqDist(tokens_filtered)\n",
        "tokens_filtered_top = [pair[0] for pair in dist.most_common(max_words-1)]  # вычитание 1 для padding\n",
        "len(tokens_filtered_top)"
      ],
      "metadata": {
        "colab": {
          "base_uri": "https://localhost:8080/"
        },
        "id": "7YBwuFhxtU3e",
        "outputId": "a2fb1436-83a6-48bf-834a-4cf02307a0f6"
      },
      "execution_count": 179,
      "outputs": [
        {
          "output_type": "execute_result",
          "data": {
            "text/plain": [
              "2999"
            ]
          },
          "metadata": {},
          "execution_count": 179
        }
      ]
    },
    {
      "cell_type": "code",
      "source": [
        "tokens_filtered_top[:10]"
      ],
      "metadata": {
        "colab": {
          "base_uri": "https://localhost:8080/"
        },
        "id": "GgIzrJCBtYy8",
        "outputId": "5e920dfc-ed22-42ac-9f54-e654d5ec124d"
      },
      "execution_count": 180,
      "outputs": [
        {
          "output_type": "execute_result",
          "data": {
            "text/plain": [
              "['приложение',\n",
              " 'удобно',\n",
              " 'работает',\n",
              " 'удобное',\n",
              " 'отлично',\n",
              " 'нравится',\n",
              " 'отличное',\n",
              " 'супер',\n",
              " 'быстро',\n",
              " 'хорошее']"
            ]
          },
          "metadata": {},
          "execution_count": 180
        }
      ]
    },
    {
      "cell_type": "code",
      "source": [
        "vocabulary = {v: k for k, v in dict(enumerate(tokens_filtered_top, 1)).items()}\n",
        "len(vocabulary)"
      ],
      "metadata": {
        "colab": {
          "base_uri": "https://localhost:8080/"
        },
        "id": "CatrC9SctaWK",
        "outputId": "61527145-f0d9-44aa-b67b-eaa7e8c8fb72"
      },
      "execution_count": 181,
      "outputs": [
        {
          "output_type": "execute_result",
          "data": {
            "text/plain": [
              "2999"
            ]
          },
          "metadata": {},
          "execution_count": 181
        }
      ]
    },
    {
      "cell_type": "code",
      "source": [
        "def text_to_sequence(text, maxlen):\n",
        "    result = []\n",
        "    tokens = word_tokenize(text.lower())\n",
        "    tokens_filtered = [word for word in tokens if word.isalnum()]\n",
        "    for word in tokens_filtered:\n",
        "        if word in vocabulary:\n",
        "            result.append(vocabulary[word])\n",
        "\n",
        "    padding = [0] * (maxlen-len(result))\n",
        "    return result[-maxlen:] + padding"
      ],
      "metadata": {
        "id": "CowTBJ8ntg6p"
      },
      "execution_count": 182,
      "outputs": []
    },
    {
      "cell_type": "code",
      "source": [
        "%%time\n",
        "df_train = np.asarray([text_to_sequence(text, max_len) for text in df[\"feedback\"]])"
      ],
      "metadata": {
        "colab": {
          "base_uri": "https://localhost:8080/"
        },
        "id": "LeJjWIXavOMa",
        "outputId": "945467ad-2f48-44ac-bf0d-3de3a1403f92"
      },
      "execution_count": 183,
      "outputs": [
        {
          "output_type": "stream",
          "name": "stdout",
          "text": [
            "CPU times: user 2.7 s, sys: 6.75 ms, total: 2.71 s\n",
            "Wall time: 3.08 s\n"
          ]
        }
      ]
    },
    {
      "cell_type": "code",
      "source": [
        "x_train, x_test, y_train, y_test = train_test_split(df_train, df['label'], random_state=42, train_size=0.8, stratify=df['label'])"
      ],
      "metadata": {
        "id": "-S1Mri8StogA"
      },
      "execution_count": 184,
      "outputs": []
    },
    {
      "cell_type": "code",
      "source": [
        "def weighted_binary_cross_entropy(output, target, weights=(1, 0.18)):\n",
        "        \n",
        "    if weights is not None:\n",
        "        assert len(weights) == 2\n",
        "        \n",
        "        loss = weights[1] * (target * torch.log(output)) + \\\n",
        "               weights[0] * ((1 - target) * torch.log(1 - output + np.finfo(float).eps))\n",
        "    else:\n",
        "        loss = target * torch.log(output) + (1 - target) * torch.log(1 - output)\n",
        "\n",
        "    return torch.neg(torch.mean(loss))"
      ],
      "metadata": {
        "id": "wcns6XVEyOsN"
      },
      "execution_count": 207,
      "outputs": []
    },
    {
      "cell_type": "code",
      "source": [
        "class DataWrapper(Dataset):\n",
        "    def __init__(self, data, target, transform=None):\n",
        "        self.data = torch.from_numpy(data).long()\n",
        "        self.target = torch.from_numpy(target).long()\n",
        "        self.transform = transform\n",
        "        \n",
        "    def __getitem__(self, index):\n",
        "        x = self.data[index]\n",
        "        y = self.target[index]\n",
        "        \n",
        "        if self.transform:\n",
        "            x = self.transform(x)\n",
        "            \n",
        "        return x, y\n",
        "    \n",
        "    def __len__(self):\n",
        "        return len(self.data)"
      ],
      "metadata": {
        "id": "1FKsqC_-y4DN"
      },
      "execution_count": 186,
      "outputs": []
    },
    {
      "cell_type": "code",
      "source": [
        "def my_train(model, th=0.5):\n",
        "    \n",
        "    model = model.to(device)\n",
        "    model.train()\n",
        "    th = 0.5\n",
        "\n",
        "    train_loss_history = []\n",
        "    test_loss_history = []\n",
        "\n",
        "\n",
        "    for epoch in range(epochs):  \n",
        "        running_items, running_right,  train_target_true, train_target_pred = 0.0, 0.0, 0.0, 0.0\n",
        "        for i, data in enumerate(train_loader, 0):\n",
        "            inputs, labels = data[0].to(device), data[1].to(device)\n",
        "\n",
        "            # обнуляем градиент\n",
        "            optimizer.zero_grad()\n",
        "            outputs = model(inputs)\n",
        "\n",
        "            loss = weighted_binary_cross_entropy(outputs, labels.float().view(-1, 1), (1, 0.18))\n",
        "            loss.backward()\n",
        "            optimizer.step()\n",
        "\n",
        "            # подсчет ошибки на обучении\n",
        "            loss = loss.item()\n",
        "            running_items += len(labels)\n",
        "            # подсчет метрики на обучении\n",
        "            pred_labels = torch.squeeze((outputs > th).int())\n",
        "            running_right += (labels == pred_labels).sum()\n",
        "            \n",
        "            train_target_true += torch.sum(labels == 1).float()\n",
        "            train_target_pred += ((labels == 1) & (pred_labels==1)).sum()\n",
        "\n",
        "        # выводим статистику о процессе обучения\n",
        "        model.eval()\n",
        "\n",
        "        print(f'Epoch [{epoch + 1}/{epochs}]. ' \\\n",
        "                f'Step [{i + 1}/{len(train_loader)}]. ' \\\n",
        "                f'Loss: {loss:.3f}. ' \\\n",
        "                f'Recall: {train_target_pred/train_target_true:.3f}. ' \\\n",
        "                f'Acc: {running_right / running_items:.3f}', end='. ')\n",
        "        running_loss, running_items, running_right = 0.0, 0.0, 0.0\n",
        "        train_loss_history.append(loss)\n",
        "\n",
        "            # выводим статистику на тестовых данных\n",
        "        test_running_right, test_running_total, test_loss,  = 0.0, 0.0, 0.0, \n",
        "        target_true, target_pred, train_target_true, train_target_pred = 0.0, 0.0, 0.0, 0.0\n",
        "        for j, data in enumerate(val_loader):\n",
        "\n",
        "            test_labels = data[1].to(device)\n",
        "            test_outputs = model(data[0].to(device))\n",
        "\n",
        "            target_true += torch.sum(test_labels == 1).float()\n",
        "\n",
        "\n",
        "            # подсчет ошибки на тесте\n",
        "            test_loss = weighted_binary_cross_entropy(test_outputs, test_labels.float().view(-1, 1), (1, 0.18))\n",
        "            # подсчет метрики на тесте\n",
        "            test_running_total += len(data[1])\n",
        "            pred_test_labels = torch.squeeze((test_outputs > th).int())\n",
        "            target_pred += ((test_labels==1) & (pred_test_labels==1)).sum()\n",
        "            test_running_right += (test_labels == pred_test_labels).sum()\n",
        "\n",
        "        test_loss_history.append(test_loss.item())\n",
        "        print(f'Test loss: {test_loss:.3f}. Test acc: {test_running_right / test_running_total:.3f}. Test recall {target_pred/target_true:.3f}')\n",
        "#         target_true, target_pred, test_running_right = 0.0, 0.0, 0.0\n",
        "        model.train()\n",
        "\n",
        "    print('Training is finished!')\n",
        "\n",
        "\n",
        "    plt.title('Loss history')\n",
        "    plt.grid(True)\n",
        "    plt.ylabel('Loss')\n",
        "    plt.xlabel('Epoch')\n",
        "    plt.plot(train_loss_history, label='train')\n",
        "    plt.plot(test_loss_history, label='test')\n",
        "    plt.legend();"
      ],
      "metadata": {
        "id": "CH4CyJLPyPt3"
      },
      "execution_count": 209,
      "outputs": []
    },
    {
      "cell_type": "code",
      "source": [
        "class Net(nn.Module):\n",
        "    def __init__(self, vocab_size=3000, embedding_dim=128, out_channel=128, num_classes=1):\n",
        "        super().__init__()\n",
        "        self.embedding = nn.Embedding(vocab_size, embedding_dim)\n",
        "        self.conv_1 = nn.Conv1d(embedding_dim, out_channel, kernel_size=2)\n",
        "        self.conv_2 = nn.Conv1d(embedding_dim, out_channel, kernel_size=3)\n",
        "        self.pool = nn.MaxPool1d(2)\n",
        "        self.relu = nn.ReLU()\n",
        "        self.linear_1 = nn.Linear(out_channel, out_channel // 2)\n",
        "        self.linear_2 = nn.Linear(out_channel // 2, num_classes)\n",
        "        \n",
        "    def forward(self, x):        \n",
        "        output = self.embedding(x)      \n",
        "        output = output.permute(0, 2, 1)\n",
        "        output = self.conv_1(output)\n",
        "        output = self.relu(output)\n",
        "        output = self.pool(output)\n",
        "\n",
        "        output = self.conv_2(output)\n",
        "        output = self.relu(output)\n",
        "        output = self.pool(output)\n",
        "        output = torch.max(output, axis=2).values\n",
        "        output = self.linear_1(output)\n",
        "        output = self.relu(output)\n",
        "        output = self.linear_2(output)\n",
        "        output = F.sigmoid(output)\n",
        "        return output"
      ],
      "metadata": {
        "id": "CVAR7GBkyUGq"
      },
      "execution_count": 201,
      "outputs": []
    },
    {
      "cell_type": "code",
      "source": [
        "train_dataset = DataWrapper(x_train, y_train.values)\n",
        "train_loader = DataLoader(train_dataset, batch_size=batch_size, shuffle=True)\n",
        "\n",
        "\n",
        "\n",
        "\n",
        "val_dataset = DataWrapper(x_test, y_test.values)\n",
        "val_loader = DataLoader(val_dataset, batch_size=batch_size, shuffle=True)"
      ],
      "metadata": {
        "id": "Q5dPKgyFyp_Y"
      },
      "execution_count": 202,
      "outputs": []
    },
    {
      "cell_type": "code",
      "source": [
        "for x, l in train_loader:\n",
        "    print(x.shape)\n",
        "    print(l.shape)\n",
        "    print(l[0])\n",
        "    break"
      ],
      "metadata": {
        "colab": {
          "base_uri": "https://localhost:8080/"
        },
        "id": "gzZ4-BJz0k10",
        "outputId": "e9f3f706-184c-47b8-d53d-19636beaecb8"
      },
      "execution_count": 203,
      "outputs": [
        {
          "output_type": "stream",
          "name": "stdout",
          "text": [
            "torch.Size([128, 20])\n",
            "torch.Size([128])\n",
            "tensor(1)\n"
          ]
        }
      ]
    },
    {
      "cell_type": "code",
      "source": [
        "model = Net()"
      ],
      "metadata": {
        "id": "RFRjntsa0rqF"
      },
      "execution_count": 210,
      "outputs": []
    },
    {
      "cell_type": "code",
      "source": [
        "device = 'cpu'"
      ],
      "metadata": {
        "id": "exnaQrVE1USl"
      },
      "execution_count": 211,
      "outputs": []
    },
    {
      "cell_type": "code",
      "source": [
        "optimizer = torch.optim.Adam(model.parameters(), lr=0.0001)\n",
        "my_train(model)"
      ],
      "metadata": {
        "colab": {
          "base_uri": "https://localhost:8080/",
          "height": 910
        },
        "id": "fsjZNqWQ0_yR",
        "outputId": "2b4650f8-999e-4cc4-ec2f-3ef847cf6aa9"
      },
      "execution_count": 212,
      "outputs": [
        {
          "output_type": "stream",
          "name": "stderr",
          "text": [
            "/usr/local/lib/python3.7/dist-packages/torch/nn/functional.py:1960: UserWarning: nn.functional.sigmoid is deprecated. Use torch.sigmoid instead.\n",
            "  warnings.warn(\"nn.functional.sigmoid is deprecated. Use torch.sigmoid instead.\")\n"
          ]
        },
        {
          "output_type": "stream",
          "name": "stdout",
          "text": [
            "Epoch [1/32]. Step [124/124]. Loss: 0.138. Recall: 0.825. Acc: 0.806. Test loss: 0.147. Test acc: 0.809. Test recall 0.819\n",
            "Epoch [2/32]. Step [124/124]. Loss: 0.167. Recall: 0.819. Acc: 0.818. Test loss: 0.150. Test acc: 0.787. Test recall 0.776\n",
            "Epoch [3/32]. Step [124/124]. Loss: 0.094. Recall: 0.827. Acc: 0.831. Test loss: 0.103. Test acc: 0.818. Test recall 0.813\n",
            "Epoch [4/32]. Step [124/124]. Loss: 0.088. Recall: 0.848. Acc: 0.852. Test loss: 0.081. Test acc: 0.855. Test recall 0.859\n",
            "Epoch [5/32]. Step [124/124]. Loss: 0.096. Recall: 0.862. Acc: 0.867. Test loss: 0.075. Test acc: 0.863. Test recall 0.865\n",
            "Epoch [6/32]. Step [124/124]. Loss: 0.057. Recall: 0.875. Acc: 0.879. Test loss: 0.077. Test acc: 0.856. Test recall 0.854\n",
            "Epoch [7/32]. Step [124/124]. Loss: 0.082. Recall: 0.883. Acc: 0.888. Test loss: 0.082. Test acc: 0.871. Test recall 0.874\n",
            "Epoch [8/32]. Step [124/124]. Loss: 0.071. Recall: 0.887. Acc: 0.892. Test loss: 0.103. Test acc: 0.888. Test recall 0.900\n",
            "Epoch [9/32]. Step [124/124]. Loss: 0.057. Recall: 0.899. Acc: 0.902. Test loss: 0.127. Test acc: 0.873. Test recall 0.873\n",
            "Epoch [10/32]. Step [124/124]. Loss: 0.073. Recall: 0.908. Acc: 0.911. Test loss: 0.092. Test acc: 0.885. Test recall 0.893\n",
            "Epoch [11/32]. Step [124/124]. Loss: 0.031. Recall: 0.915. Acc: 0.918. Test loss: 0.049. Test acc: 0.892. Test recall 0.903\n",
            "Epoch [12/32]. Step [124/124]. Loss: 0.073. Recall: 0.921. Acc: 0.924. Test loss: 0.080. Test acc: 0.871. Test recall 0.870\n",
            "Epoch [13/32]. Step [124/124]. Loss: 0.060. Recall: 0.926. Acc: 0.929. Test loss: 0.099. Test acc: 0.889. Test recall 0.897\n",
            "Epoch [14/32]. Step [124/124]. Loss: 0.050. Recall: 0.931. Acc: 0.934. Test loss: 0.121. Test acc: 0.888. Test recall 0.899\n",
            "Epoch [15/32]. Step [124/124]. Loss: 0.050. Recall: 0.939. Acc: 0.942. Test loss: 0.100. Test acc: 0.876. Test recall 0.885\n",
            "Epoch [16/32]. Step [124/124]. Loss: 0.027. Recall: 0.942. Acc: 0.945. Test loss: 0.152. Test acc: 0.894. Test recall 0.912\n",
            "Epoch [17/32]. Step [124/124]. Loss: 0.026. Recall: 0.948. Acc: 0.950. Test loss: 0.179. Test acc: 0.895. Test recall 0.915\n",
            "Epoch [18/32]. Step [124/124]. Loss: 0.037. Recall: 0.954. Acc: 0.955. Test loss: 0.218. Test acc: 0.889. Test recall 0.908\n",
            "Epoch [19/32]. Step [124/124]. Loss: 0.030. Recall: 0.959. Acc: 0.960. Test loss: 0.089. Test acc: 0.895. Test recall 0.926\n",
            "Epoch [20/32]. Step [124/124]. Loss: 0.015. Recall: 0.965. Acc: 0.965. Test loss: 0.057. Test acc: 0.886. Test recall 0.899\n",
            "Epoch [21/32]. Step [124/124]. Loss: 0.076. Recall: 0.967. Acc: 0.967. Test loss: 0.186. Test acc: 0.899. Test recall 0.937\n",
            "Epoch [22/32]. Step [124/124]. Loss: 0.020. Recall: 0.970. Acc: 0.970. Test loss: 0.155. Test acc: 0.879. Test recall 0.901\n",
            "Epoch [23/32]. Step [124/124]. Loss: 0.015. Recall: 0.975. Acc: 0.974. Test loss: 0.087. Test acc: 0.898. Test recall 0.932\n",
            "Epoch [24/32]. Step [124/124]. Loss: 0.010. Recall: 0.978. Acc: 0.976. Test loss: 0.165. Test acc: 0.894. Test recall 0.931\n",
            "Epoch [25/32]. Step [124/124]. Loss: 0.026. Recall: 0.981. Acc: 0.979. Test loss: 0.194. Test acc: 0.896. Test recall 0.927\n",
            "Epoch [26/32]. Step [124/124]. Loss: 0.019. Recall: 0.981. Acc: 0.979. Test loss: 0.118. Test acc: 0.882. Test recall 0.914\n",
            "Epoch [27/32]. Step [124/124]. Loss: 0.008. Recall: 0.983. Acc: 0.981. Test loss: 0.058. Test acc: 0.876. Test recall 0.901\n",
            "Epoch [28/32]. Step [124/124]. Loss: 0.009. Recall: 0.984. Acc: 0.982. Test loss: 0.135. Test acc: 0.890. Test recall 0.920\n",
            "Epoch [29/32]. Step [124/124]. Loss: 0.013. Recall: 0.985. Acc: 0.982. Test loss: 0.136. Test acc: 0.893. Test recall 0.930\n",
            "Epoch [30/32]. Step [124/124]. Loss: 0.048. Recall: 0.988. Acc: 0.985. Test loss: 0.179. Test acc: 0.888. Test recall 0.924\n",
            "Epoch [31/32]. Step [124/124]. Loss: 0.006. Recall: 0.987. Acc: 0.984. Test loss: 0.112. Test acc: 0.894. Test recall 0.934\n",
            "Epoch [32/32]. Step [124/124]. Loss: 0.005. Recall: 0.990. Acc: 0.987. Test loss: 0.094. Test acc: 0.890. Test recall 0.926\n",
            "Training is finished!\n"
          ]
        },
        {
          "output_type": "display_data",
          "data": {
            "text/plain": [
              "<Figure size 432x288 with 1 Axes>"
            ],
            "image/png": "[encoded data removed]"
          },
          "metadata": {
            "needs_background": "light"
          }
        }
      ]
    },
    {
      "cell_type": "code",
      "source": [
        "model_1 = gensim.models.KeyedVectors.load_word2vec_format('ruscorpora_1_300_10.bin.gz', binary=True)\n",
        "for n in model.most_similar(positive=[u'пожар_NOUN']):\n",
        "    print n[0], n[1]"
      ],
      "metadata": {
        "id": "UMy0jAmM7H14"
      },
      "execution_count": null,
      "outputs": []
    },
    {
      "cell_type": "code",
      "source": [
        "import gensim"
      ],
      "metadata": {
        "id": "fKPbsZrJ_pX6"
      },
      "execution_count": 213,
      "outputs": []
    },
    {
      "cell_type": "code",
      "source": [
        "\n",
        "model_gen = gensim.models.KeyedVectors.load_word2vec_format('/gdrive/MyDrive/Colab Notebooks/NLP/model.txt')\n",
        "weights = torch.FloatTensor(model_gen.vectors) "
      ],
      "metadata": {
        "id": "NX6Dv0PM_uSl"
      },
      "execution_count": 214,
      "outputs": []
    },
    {
      "cell_type": "code",
      "source": [
        "# model_bin = gensim.models.KeyedVectors.load_word2vec_format('/gdrive/MyDrive/Colab Notebooks/NLP/model.bin', binary=True)"
      ],
      "metadata": {
        "id": "-WNgKiTD_8Ke"
      },
      "execution_count": 215,
      "outputs": []
    },
    {
      "cell_type": "code",
      "source": [
        "embedding = nn.Embedding.from_pretrained(weights)"
      ],
      "metadata": {
        "id": "DrGs2aKfDWrA"
      },
      "execution_count": 216,
      "outputs": []
    },
    {
      "cell_type": "code",
      "source": [
        "class Pretrained_Net(nn.Module):\n",
        "    def __init__(self, vocab_size=3000, embedding_dim=300, out_channel=300, num_classes=1):\n",
        "        super().__init__()\n",
        "        self.embedding = nn.Embedding.from_pretrained(weights)\n",
        "        self.conv_1 = nn.Conv1d(embedding_dim, out_channel, kernel_size=2)\n",
        "        self.conv_2 = nn.Conv1d(embedding_dim, out_channel, kernel_size=3)\n",
        "        self.pool = nn.MaxPool1d(2)\n",
        "        self.relu = nn.ReLU()\n",
        "        self.linear_1 = nn.Linear(out_channel, out_channel // 2)\n",
        "        self.linear_2 = nn.Linear(out_channel // 2, num_classes)\n",
        "        \n",
        "    def forward(self, x):        \n",
        "        output = self.embedding(x)      \n",
        "        output = output.permute(0, 2, 1)\n",
        "        output = self.conv_1(output)\n",
        "        output = self.relu(output)\n",
        "        output = self.pool(output)\n",
        "\n",
        "        output = self.conv_2(output)\n",
        "        output = self.relu(output)\n",
        "        output = self.pool(output)\n",
        "        output = torch.max(output, axis=2).values\n",
        "        output = self.linear_1(output)\n",
        "        output = self.relu(output)\n",
        "        output = self.linear_2(output)\n",
        "        output = F.sigmoid(output)\n",
        "        return output"
      ],
      "metadata": {
        "id": "QBqNQxasDqgz"
      },
      "execution_count": 229,
      "outputs": []
    },
    {
      "cell_type": "code",
      "source": [
        "pretraind_model = Pretrained_Net()"
      ],
      "metadata": {
        "id": "a_Ey9rkXEBtV"
      },
      "execution_count": 230,
      "outputs": []
    },
    {
      "cell_type": "code",
      "source": [
        "pretraind_model.embedding.weight.requires_grad = False"
      ],
      "metadata": {
        "id": "149RhQaiGAiq"
      },
      "execution_count": 231,
      "outputs": []
    },
    {
      "cell_type": "code",
      "source": [
        "optimizer = torch.optim.Adam(filter(lambda p: p.requires_grad, pretraind_model.parameters()), lr=0.0001)\n",
        "my_train(pretraind_model)"
      ],
      "metadata": {
        "colab": {
          "base_uri": "https://localhost:8080/",
          "height": 910
        },
        "id": "DkOG7UudEGHK",
        "outputId": "8bf905ff-0ea2-4d02-d037-15e78348e543"
      },
      "execution_count": 232,
      "outputs": [
        {
          "output_type": "stream",
          "name": "stderr",
          "text": [
            "/usr/local/lib/python3.7/dist-packages/torch/nn/functional.py:1960: UserWarning: nn.functional.sigmoid is deprecated. Use torch.sigmoid instead.\n",
            "  warnings.warn(\"nn.functional.sigmoid is deprecated. Use torch.sigmoid instead.\")\n"
          ]
        },
        {
          "output_type": "stream",
          "name": "stdout",
          "text": [
            "Epoch [1/32]. Step [124/124]. Loss: 0.128. Recall: 0.818. Acc: 0.809. Test loss: 0.112. Test acc: 0.791. Test recall 0.782\n",
            "Epoch [2/32]. Step [124/124]. Loss: 0.056. Recall: 0.837. Acc: 0.841. Test loss: 0.103. Test acc: 0.848. Test recall 0.845\n",
            "Epoch [3/32]. Step [124/124]. Loss: 0.056. Recall: 0.869. Acc: 0.873. Test loss: 0.102. Test acc: 0.871. Test recall 0.871\n",
            "Epoch [4/32]. Step [124/124]. Loss: 0.088. Recall: 0.895. Acc: 0.899. Test loss: 0.132. Test acc: 0.874. Test recall 0.876\n",
            "Epoch [5/32]. Step [124/124]. Loss: 0.030. Recall: 0.913. Acc: 0.916. Test loss: 0.071. Test acc: 0.888. Test recall 0.901\n",
            "Epoch [6/32]. Step [124/124]. Loss: 0.047. Recall: 0.927. Acc: 0.929. Test loss: 0.105. Test acc: 0.877. Test recall 0.880\n",
            "Epoch [7/32]. Step [124/124]. Loss: 0.034. Recall: 0.937. Acc: 0.939. Test loss: 0.094. Test acc: 0.890. Test recall 0.906\n",
            "Epoch [8/32]. Step [124/124]. Loss: 0.036. Recall: 0.953. Acc: 0.954. Test loss: 0.060. Test acc: 0.882. Test recall 0.889\n",
            "Epoch [9/32]. Step [124/124]. Loss: 0.011. Recall: 0.961. Acc: 0.961. Test loss: 0.108. Test acc: 0.892. Test recall 0.920\n",
            "Epoch [10/32]. Step [124/124]. Loss: 0.012. Recall: 0.970. Acc: 0.969. Test loss: 0.072. Test acc: 0.893. Test recall 0.918\n",
            "Epoch [11/32]. Step [124/124]. Loss: 0.012. Recall: 0.978. Acc: 0.976. Test loss: 0.095. Test acc: 0.896. Test recall 0.932\n",
            "Epoch [12/32]. Step [124/124]. Loss: 0.014. Recall: 0.982. Acc: 0.979. Test loss: 0.255. Test acc: 0.895. Test recall 0.936\n",
            "Epoch [13/32]. Step [124/124]. Loss: 0.046. Recall: 0.986. Acc: 0.983. Test loss: 0.137. Test acc: 0.896. Test recall 0.936\n",
            "Epoch [14/32]. Step [124/124]. Loss: 0.021. Recall: 0.987. Acc: 0.984. Test loss: 0.197. Test acc: 0.891. Test recall 0.929\n",
            "Epoch [15/32]. Step [124/124]. Loss: 0.008. Recall: 0.990. Acc: 0.987. Test loss: 0.228. Test acc: 0.888. Test recall 0.923\n",
            "Epoch [16/32]. Step [124/124]. Loss: 0.005. Recall: 0.991. Acc: 0.987. Test loss: 0.101. Test acc: 0.892. Test recall 0.931\n",
            "Epoch [17/32]. Step [124/124]. Loss: 0.009. Recall: 0.990. Acc: 0.987. Test loss: 0.178. Test acc: 0.889. Test recall 0.924\n",
            "Epoch [18/32]. Step [124/124]. Loss: 0.068. Recall: 0.992. Acc: 0.988. Test loss: 0.169. Test acc: 0.889. Test recall 0.915\n",
            "Epoch [19/32]. Step [124/124]. Loss: 0.007. Recall: 0.991. Acc: 0.988. Test loss: 0.140. Test acc: 0.890. Test recall 0.921\n",
            "Epoch [20/32]. Step [124/124]. Loss: 0.044. Recall: 0.991. Acc: 0.988. Test loss: 0.166. Test acc: 0.885. Test recall 0.916\n",
            "Epoch [21/32]. Step [124/124]. Loss: 0.006. Recall: 0.991. Acc: 0.988. Test loss: 0.424. Test acc: 0.881. Test recall 0.912\n",
            "Epoch [22/32]. Step [124/124]. Loss: 0.135. Recall: 0.990. Acc: 0.987. Test loss: 0.177. Test acc: 0.890. Test recall 0.921\n",
            "Epoch [23/32]. Step [124/124]. Loss: 0.005. Recall: 0.990. Acc: 0.987. Test loss: 0.271. Test acc: 0.897. Test recall 0.947\n",
            "Epoch [24/32]. Step [124/124]. Loss: 0.007. Recall: 0.991. Acc: 0.987. Test loss: 0.277. Test acc: 0.894. Test recall 0.932\n",
            "Epoch [25/32]. Step [124/124]. Loss: 0.006. Recall: 0.991. Acc: 0.988. Test loss: 0.372. Test acc: 0.890. Test recall 0.925\n",
            "Epoch [26/32]. Step [124/124]. Loss: 0.030. Recall: 0.992. Acc: 0.988. Test loss: 0.124. Test acc: 0.894. Test recall 0.931\n",
            "Epoch [27/32]. Step [124/124]. Loss: 0.006. Recall: 0.993. Acc: 0.989. Test loss: 0.258. Test acc: 0.893. Test recall 0.941\n",
            "Epoch [28/32]. Step [124/124]. Loss: 0.040. Recall: 0.993. Acc: 0.989. Test loss: 0.389. Test acc: 0.885. Test recall 0.920\n",
            "Epoch [29/32]. Step [124/124]. Loss: 0.023. Recall: 0.991. Acc: 0.987. Test loss: 0.377. Test acc: 0.893. Test recall 0.929\n",
            "Epoch [30/32]. Step [124/124]. Loss: 0.024. Recall: 0.990. Acc: 0.987. Test loss: 0.349. Test acc: 0.891. Test recall 0.922\n",
            "Epoch [31/32]. Step [124/124]. Loss: 0.006. Recall: 0.992. Acc: 0.989. Test loss: 0.295. Test acc: 0.888. Test recall 0.920\n",
            "Epoch [32/32]. Step [124/124]. Loss: 0.013. Recall: 0.993. Acc: 0.989. Test loss: 0.843. Test acc: 0.887. Test recall 0.940\n",
            "Training is finished!\n"
          ]
        },
        {
          "output_type": "display_data",
          "data": {
            "text/plain": [
              "<Figure size 432x288 with 1 Axes>"
            ],
            "image/png": "[encoded data removed]"
          },
          "metadata": {
            "needs_background": "light"
          }
        }
      ]
    },
    {
      "cell_type": "markdown",
      "source": [
        "Достаточно сложено судить о качестве моделей из-зи большого дисбаланса классов. На графиках видно, что модель с предобученным эмбедингом в конце \"разошлась\". Модель без предобучения более стабильна. "
      ],
      "metadata": {
        "id": "VN-oguBhJJ_D"
      }
    }
  ]
}
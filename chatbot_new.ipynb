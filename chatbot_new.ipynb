{
  "nbformat": 4,
  "nbformat_minor": 0,
  "metadata": {
    "colab": {
      "name": "chatbot_new.ipynb",
      "provenance": [],
      "collapsed_sections": [],
      "authorship_tag": "ABX9TyPDnY+bRUxynnv3g+Sppbz8",
      "include_colab_link": true
    },
    "kernelspec": {
      "name": "python3",
      "display_name": "Python 3"
    },
    "language_info": {
      "name": "python"
    }
  },
  "cells": [
    {
      "cell_type": "markdown",
      "metadata": {
        "id": "view-in-github",
        "colab_type": "text"
      },
      "source": [
        "<a href=\"https://colab.research.google.com/github/OlegV12/NaturalLangProcessing/blob/Lesson_16/chatbot_new.ipynb\" target=\"_parent\"><img src=\"https://colab.research.google.com/assets/colab-badge.svg\" alt=\"Open In Colab\"/></a>"
      ]
    },
    {
      "cell_type": "code",
      "source": [
        "!pip install transformers"
      ],
      "metadata": {
        "colab": {
          "base_uri": "https://localhost:8080/"
        },
        "id": "-JMxOuNT2ewC",
        "outputId": "44716a55-8043-4f95-958c-cd3cea8451a8"
      },
      "execution_count": 2,
      "outputs": [
        {
          "output_type": "stream",
          "name": "stdout",
          "text": [
            "Looking in indexes: https://pypi.org/simple, https://us-python.pkg.dev/colab-wheels/public/simple/\n",
            "Requirement already satisfied: transformers in /usr/local/lib/python3.7/dist-packages (4.21.2)\n",
            "Requirement already satisfied: regex!=2019.12.17 in /usr/local/lib/python3.7/dist-packages (from transformers) (2022.6.2)\n",
            "Requirement already satisfied: packaging>=20.0 in /usr/local/lib/python3.7/dist-packages (from transformers) (21.3)\n",
            "Requirement already satisfied: pyyaml>=5.1 in /usr/local/lib/python3.7/dist-packages (from transformers) (6.0)\n",
            "Requirement already satisfied: numpy>=1.17 in /usr/local/lib/python3.7/dist-packages (from transformers) (1.21.6)\n",
            "Requirement already satisfied: requests in /usr/local/lib/python3.7/dist-packages (from transformers) (2.23.0)\n",
            "Requirement already satisfied: tokenizers!=0.11.3,<0.13,>=0.11.1 in /usr/local/lib/python3.7/dist-packages (from transformers) (0.12.1)\n",
            "Requirement already satisfied: tqdm>=4.27 in /usr/local/lib/python3.7/dist-packages (from transformers) (4.64.0)\n",
            "Requirement already satisfied: filelock in /usr/local/lib/python3.7/dist-packages (from transformers) (3.8.0)\n",
            "Requirement already satisfied: huggingface-hub<1.0,>=0.1.0 in /usr/local/lib/python3.7/dist-packages (from transformers) (0.9.1)\n",
            "Requirement already satisfied: importlib-metadata in /usr/local/lib/python3.7/dist-packages (from transformers) (4.12.0)\n",
            "Requirement already satisfied: typing-extensions>=3.7.4.3 in /usr/local/lib/python3.7/dist-packages (from huggingface-hub<1.0,>=0.1.0->transformers) (4.1.1)\n",
            "Requirement already satisfied: pyparsing!=3.0.5,>=2.0.2 in /usr/local/lib/python3.7/dist-packages (from packaging>=20.0->transformers) (3.0.9)\n",
            "Requirement already satisfied: zipp>=0.5 in /usr/local/lib/python3.7/dist-packages (from importlib-metadata->transformers) (3.8.1)\n",
            "Requirement already satisfied: idna<3,>=2.5 in /usr/local/lib/python3.7/dist-packages (from requests->transformers) (2.10)\n",
            "Requirement already satisfied: chardet<4,>=3.0.2 in /usr/local/lib/python3.7/dist-packages (from requests->transformers) (3.0.4)\n",
            "Requirement already satisfied: certifi>=2017.4.17 in /usr/local/lib/python3.7/dist-packages (from requests->transformers) (2022.6.15)\n",
            "Requirement already satisfied: urllib3!=1.25.0,!=1.25.1,<1.26,>=1.21.1 in /usr/local/lib/python3.7/dist-packages (from requests->transformers) (1.24.3)\n"
          ]
        }
      ]
    },
    {
      "cell_type": "code",
      "source": [
        "!pip install pytz"
      ],
      "metadata": {
        "colab": {
          "base_uri": "https://localhost:8080/"
        },
        "id": "y2-MTlnDYtez",
        "outputId": "931ce568-eb08-46c6-dcfe-6aa642efacc3"
      },
      "execution_count": 3,
      "outputs": [
        {
          "output_type": "stream",
          "name": "stdout",
          "text": [
            "Looking in indexes: https://pypi.org/simple, https://us-python.pkg.dev/colab-wheels/public/simple/\n",
            "Requirement already satisfied: pytz in /usr/local/lib/python3.7/dist-packages (2022.2.1)\n"
          ]
        }
      ]
    },
    {
      "cell_type": "code",
      "source": [
        "import torch\n",
        "import json \n",
        "import requests\n",
        "import time\n",
        "import urllib \n",
        "import logging\n",
        "import signal\n",
        "import sys\n",
        "from babel.dates import format_date, format_datetime, format_time\n",
        "import datetime\n",
        "from datetime import datetime\n",
        "import babel\n",
        "import os\n",
        "from collections import defaultdict\n",
        "from datetime import datetime\n",
        "from urllib.request import urlretrieve, urljoin\n",
        "# from urlparse import urljoin\n",
        "from zipfile  import ZipFile\n",
        "\n",
        "import pytz # pip install pytz\n"
      ],
      "metadata": {
        "id": "H5x4s7zt2uk0"
      },
      "execution_count": 4,
      "outputs": []
    },
    {
      "cell_type": "code",
      "source": [
        "geonames_url = 'http://download.geonames.org/export/dump/'\n",
        "basename = 'cities15000' # all cities with a population > 15000 or capitals\n",
        "filename = basename + '.zip'\n",
        "\n",
        "# get file\n",
        "if not os.path.exists(filename):\n",
        "    urlretrieve(urljoin(geonames_url, filename), filename)\n",
        "\n",
        "# parse it\n",
        "city2tz = defaultdict(set)\n",
        "with ZipFile(filename) as zf, zf.open(basename + '.txt') as file:\n",
        "    for line in file:\n",
        "        fields = line.split(b'\\t')\n",
        "        if fields: # geoname table http://download.geonames.org/export/dump/\n",
        "            name, asciiname, alternatenames = fields[1:4]\n",
        "            timezone = fields[-2].decode('utf-8').strip()\n",
        "            if timezone:\n",
        "                for city in [name, asciiname] + alternatenames.split(b','):\n",
        "                    city = city.decode('utf-8').strip()\n",
        "                    if city:\n",
        "                        city2tz[city].add(timezone)\n",
        "\n",
        "# print(\"Number of available city names (with aliases): %d\" % len(city2tz))"
      ],
      "metadata": {
        "id": "v5EuFkLBAV1I"
      },
      "execution_count": 5,
      "outputs": []
    },
    {
      "cell_type": "code",
      "source": [
        "from google.colab import drive\n",
        "drive.mount('/gdrive')"
      ],
      "metadata": {
        "colab": {
          "base_uri": "https://localhost:8080/"
        },
        "id": "iTGIWPlxx9tw",
        "outputId": "1c12ffa6-0c09-4d7a-f741-aee059568d8a"
      },
      "execution_count": 6,
      "outputs": [
        {
          "output_type": "stream",
          "name": "stdout",
          "text": [
            "Drive already mounted at /gdrive; to attempt to forcibly remount, call drive.mount(\"/gdrive\", force_remount=True).\n"
          ]
        }
      ]
    },
    {
      "cell_type": "code",
      "source": [
        "with open('/gdrive/My Drive/Colab Notebooks/NLP/token.txt', 'r') as f:\n",
        "  token = f.read()\n",
        "  token = token.replace('\\n', '')"
      ],
      "metadata": {
        "id": "GGa1kVupTsko"
      },
      "execution_count": 7,
      "outputs": []
    },
    {
      "cell_type": "code",
      "source": [
        "with open('/gdrive/My Drive/Colab Notebooks/NLP/weather_token.txt', 'r') as f:\n",
        "  w_token = f.read()\n",
        "  w_token = w_token.replace('\\n', '')"
      ],
      "metadata": {
        "id": "cHbQtl4PV-De"
      },
      "execution_count": 8,
      "outputs": []
    },
    {
      "cell_type": "code",
      "execution_count": 10,
      "metadata": {
        "colab": {
          "base_uri": "https://localhost:8080/"
        },
        "id": "pArPtudq2VAu",
        "outputId": "a6720b99-c962-46ab-a193-9c757827b9b4"
      },
      "outputs": [
        {
          "output_type": "stream",
          "name": "stderr",
          "text": [
            "/usr/local/lib/python3.7/dist-packages/transformers/models/auto/modeling_auto.py:1002: FutureWarning: The class `AutoModelWithLMHead` is deprecated and will be removed in a future version. Please use `AutoModelForCausalLM` for causal language models, `AutoModelForMaskedLM` for masked language models and `AutoModelForSeq2SeqLM` for encoder-decoder models.\n",
            "  FutureWarning,\n"
          ]
        }
      ],
      "source": [
        "from transformers import AutoTokenizer, AutoModelWithLMHead\n",
        "  \n",
        "tokenizer = AutoTokenizer.from_pretrained(\"deepparag/Aeona\")\n",
        "model = AutoModelWithLMHead.from_pretrained(\"deepparag/Aeona\")\n",
        "\n",
        "\n",
        "def get_response(text):\n",
        "\n",
        "    step = 0\n",
        "    new_user_input_ids = tokenizer.encode(text + tokenizer.eos_token, return_tensors='pt')\n",
        "\n",
        "    bot_input_ids = torch.cat([chat_history_ids, new_user_input_ids], dim=-1) if step > 0 else new_user_input_ids\n",
        "\n",
        "    chat_history_ids = model.generate(\n",
        "        bot_input_ids, max_length=200,\n",
        "        pad_token_id=tokenizer.eos_token_id,  \n",
        "        no_repeat_ngram_size=4,       \n",
        "        do_sample=True, \n",
        "        top_k=100, \n",
        "        top_p=0.7,\n",
        "        temperature=0.7\n",
        "\n",
        "    )\n",
        "    step += 1\n",
        "\n",
        "    return (tokenizer.decode(chat_history_ids[:, bot_input_ids.shape[-1]:][0], skip_special_tokens=True))\n",
        "\n",
        "\n"
      ]
    },
    {
      "cell_type": "code",
      "source": [
        "\n",
        "!pip uninstall python-telegram-bot\n",
        "!pip cache purge\n",
        "!pip install python-telegram-bot"
      ],
      "metadata": {
        "colab": {
          "base_uri": "https://localhost:8080/"
        },
        "id": "cCpUFHz58AkV",
        "outputId": "a649b534-4670-44be-a5ff-42c8abb53a36"
      },
      "execution_count": 9,
      "outputs": [
        {
          "output_type": "stream",
          "name": "stdout",
          "text": [
            "Found existing installation: python-telegram-bot 13.13\n",
            "Uninstalling python-telegram-bot-13.13:\n",
            "  Would remove:\n",
            "    /usr/local/lib/python3.7/dist-packages/python_telegram_bot-13.13.dist-info/*\n",
            "    /usr/local/lib/python3.7/dist-packages/telegram/*\n",
            "Proceed (y/n)? y\n",
            "  Successfully uninstalled python-telegram-bot-13.13\n",
            "Files removed: 2\n",
            "Looking in indexes: https://pypi.org/simple, https://us-python.pkg.dev/colab-wheels/public/simple/\n",
            "Collecting python-telegram-bot\n",
            "  Downloading python_telegram_bot-13.13-py3-none-any.whl (513 kB)\n",
            "\u001b[K     |████████████████████████████████| 513 kB 5.0 MB/s \n",
            "\u001b[?25hRequirement already satisfied: tornado>=6.1 in /usr/local/lib/python3.7/dist-packages (from python-telegram-bot) (6.2)\n",
            "Requirement already satisfied: certifi in /usr/local/lib/python3.7/dist-packages (from python-telegram-bot) (2022.6.15)\n",
            "Requirement already satisfied: pytz>=2018.6 in /usr/local/lib/python3.7/dist-packages (from python-telegram-bot) (2022.2.1)\n",
            "Requirement already satisfied: APScheduler==3.6.3 in /usr/local/lib/python3.7/dist-packages (from python-telegram-bot) (3.6.3)\n",
            "Requirement already satisfied: cachetools==4.2.2 in /usr/local/lib/python3.7/dist-packages (from python-telegram-bot) (4.2.2)\n",
            "Requirement already satisfied: six>=1.4.0 in /usr/local/lib/python3.7/dist-packages (from APScheduler==3.6.3->python-telegram-bot) (1.15.0)\n",
            "Requirement already satisfied: tzlocal>=1.2 in /usr/local/lib/python3.7/dist-packages (from APScheduler==3.6.3->python-telegram-bot) (1.5.1)\n",
            "Requirement already satisfied: setuptools>=0.7 in /usr/local/lib/python3.7/dist-packages (from APScheduler==3.6.3->python-telegram-bot) (57.4.0)\n",
            "Installing collected packages: python-telegram-bot\n",
            "Successfully installed python-telegram-bot-13.13\n"
          ]
        }
      ]
    },
    {
      "cell_type": "code",
      "source": [
        "URL_OWM = \"http://api.openweathermap.org/data/2.5/weather?appid={}&units=metric\".format(w_token)"
      ],
      "metadata": {
        "id": "auo20lGITLwF"
      },
      "execution_count": 15,
      "outputs": []
    },
    {
      "cell_type": "code",
      "source": [
        "# Query OWM for the weather for place or coords\n",
        "def makeRequest(url):\n",
        "\n",
        "    r = requests.get(url)\n",
        "    resp = json.loads(r.content.decode(\"utf8\"))\n",
        "    return resp\n",
        "\n",
        "\n",
        "\n",
        "def getWeather(place):\n",
        "\n",
        "        url = URL_OWM + \"&q={}\".format(place)\n",
        "\n",
        "        js = makeRequest(url)\n",
        "\n",
        "        return f\"{js['name']}, temperature: {js['main']['temp']}, humidity: {js['main']['humidity']}, clouds: {js['weather'][0]['description']}\"\n"
      ],
      "metadata": {
        "id": "ZVDXTYn6SVr-"
      },
      "execution_count": 16,
      "outputs": []
    },
    {
      "cell_type": "code",
      "source": [
        "from telegram.replykeyboardmarkup import ReplyKeyboardMarkup\n",
        "from telegram.keyboardbutton import KeyboardButton\n",
        "from telegram.ext import Updater, CommandHandler, MessageHandler, Filters\n",
        "from telegram import Update\n",
        "from telegram import *\n",
        "from telegram.ext import * \n",
        "from requests import *\n",
        "\n",
        "\n",
        "\n",
        "updater = Updater(token, \n",
        "                  use_context=True)\n",
        "  \n",
        "# Get the dispatcher to register handlers\n",
        "dp = updater.dispatcher\n",
        "condition = 0\n",
        "time_button = \"Time\"\n",
        "weather_button = \"Weather\"\n",
        "\n",
        "\n",
        "def startCommand(update: Update, context: CallbackContext):\n",
        "    buttons = [[KeyboardButton(time_button)], [KeyboardButton(weather_button)]]\n",
        "    context.bot.send_message(chat_id=update.effective_chat.id, text=\"Welcome!\", \n",
        "                             reply_markup=ReplyKeyboardMarkup(buttons))\n",
        "\n",
        "\n",
        "def response(update, context):\n",
        "    update.message.reply_text((update.message.text))\n",
        "\n",
        "\n",
        "def messageHandler(update, context):\n",
        "\n",
        "    global condition\n",
        "\n",
        "    if condition == 'time':\n",
        "      context.bot.send_message(chat_id=update.effective_chat.id, \n",
        "                               text=babel.dates.format_datetime(datetime.utcnow(), \n",
        "                               locale='en', \n",
        "                               tzinfo=list(city2tz[update.message.text])[0]))  \n",
        "      condition = 0\n",
        "      return\n",
        "\n",
        "\n",
        "    if condition == 'weather':\n",
        "      context.bot.send_message(chat_id=update.effective_chat.id, \n",
        "                               text=getWeather(update.message.text))\n",
        "      condition = 0\n",
        "      return\n",
        "\n",
        "\n",
        "    if time_button == update.message.text:\n",
        "      context.bot.send_message(chat_id=update.effective_chat.id, \n",
        "                               text=\"Please name location\")\n",
        "      condition = 'time'\n",
        "\n",
        "\n",
        "    elif weather_button == update.message.text:\n",
        "      context.bot.send_message(chat_id=update.effective_chat.id, \n",
        "                               text=\"Please name location\")\n",
        "      condition = 'weather'\n",
        "\n",
        "\n",
        "    else:\n",
        "      if condition != 1:\n",
        "        update.message.reply_text(get_response(update.message.text))\n",
        "    \n",
        "\n",
        "dp.add_handler(CommandHandler(\"start\", startCommand))\n",
        "dp.add_handler(MessageHandler(Filters.text, messageHandler))\n",
        "\n",
        "\n",
        "updater.start_polling()\n",
        "updater.idle()"
      ],
      "metadata": {
        "id": "DCwbBOZJ2dvd"
      },
      "execution_count": 17,
      "outputs": []
    }
  ]
}